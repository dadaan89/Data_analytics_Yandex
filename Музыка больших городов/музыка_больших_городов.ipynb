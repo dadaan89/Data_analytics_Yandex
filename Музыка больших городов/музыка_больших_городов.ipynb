{
 "cells": [
  {
   "cell_type": "markdown",
   "metadata": {
    "id": "E0vqbgi9ay0H"
   },
   "source": [
    "# Яндекс.Музыка"
   ]
  },
  {
   "cell_type": "markdown",
   "metadata": {
    "id": "VUC88oWjTJw2"
   },
   "source": [
    "Сравнение Москвы и Петербурга окружено мифами. Например:\n",
    " * Москва — мегаполис, подчинённый жёсткому ритму рабочей недели;\n",
    " * Петербург — культурная столица, со своими вкусами.\n",
    "\n",
    "На данных Яндекс.Музыки вы сравните поведение пользователей двух столиц.\n",
    "\n",
    "**Цель исследования** — проверьте три гипотезы:\n",
    "1. Активность пользователей зависит от дня недели. Причём в Москве и Петербурге это проявляется по-разному.\n",
    "2. В понедельник утром в Москве преобладают одни жанры, а в Петербурге — другие. Так же и вечером пятницы преобладают разные жанры — в зависимости от города. \n",
    "3. Москва и Петербург предпочитают разные жанры музыки. В Москве чаще слушают поп-музыку, в Петербурге — русский рэп.\n",
    "\n",
    "**Ход исследования**\n",
    "\n",
    "Данные о поведении пользователей вы получите из файла `yandex_music_project.csv`. О качестве данных ничего не известно. Поэтому перед проверкой гипотез понадобится обзор данных. \n",
    "\n",
    "Вы проверите данные на ошибки и оцените их влияние на исследование. Затем, на этапе предобработки вы поищете возможность исправить самые критичные ошибки данных.\n",
    " \n",
    "Таким образом, исследование пройдёт в три этапа:\n",
    " 1. Обзор данных.\n",
    " 2. Предобработка данных.\n",
    " 3. Проверка гипотез.\n",
    "\n"
   ]
  },
  {
   "cell_type": "markdown",
   "metadata": {
    "id": "Ml1hmfXC_Zcs"
   },
   "source": [
    "## Обзор данных\n",
    "\n",
    "Составьте первое представление о данных Яндекс.Музыки.\n",
    "\n",
    "\n"
   ]
  },
  {
   "cell_type": "markdown",
   "metadata": {
    "id": "57eAOGIz_Zcs"
   },
   "source": [
    "Основной инструмент аналитика — `pandas`. Импортируйте эту библиотеку."
   ]
  },
  {
   "cell_type": "code",
   "execution_count": 1,
   "metadata": {
    "id": "AXN7PHPN_Zcs"
   },
   "outputs": [],
   "source": [
    "import pandas as pd # импорт библиотеки pandas"
   ]
  },
  {
   "cell_type": "markdown",
   "metadata": {
    "id": "SG23P8tt_Zcs"
   },
   "source": [
    "Прочитайте файл `yandex_music_project.csv` из папки `/datasets` и сохраните его в переменной `df`:"
   ]
  },
  {
   "cell_type": "code",
   "execution_count": 2,
   "metadata": {
    "id": "fFVu7vqh_Zct"
   },
   "outputs": [],
   "source": [
    "df = pd.read_csv('/datasets/yandex_music_project.csv') # чтение файла с данными и сохранение в df"
   ]
  },
  {
   "cell_type": "markdown",
   "metadata": {
    "id": "rDoOMd3uTqnZ"
   },
   "source": [
    "Выведите на экран первые десять строк таблицы:"
   ]
  },
  {
   "cell_type": "code",
   "execution_count": 3,
   "metadata": {
    "id": "oWTVX3gW_Zct"
   },
   "outputs": [
    {
     "data": {
      "text/html": [
       "<div>\n",
       "<style scoped>\n",
       "    .dataframe tbody tr th:only-of-type {\n",
       "        vertical-align: middle;\n",
       "    }\n",
       "\n",
       "    .dataframe tbody tr th {\n",
       "        vertical-align: top;\n",
       "    }\n",
       "\n",
       "    .dataframe thead th {\n",
       "        text-align: right;\n",
       "    }\n",
       "</style>\n",
       "<table border=\"1\" class=\"dataframe\">\n",
       "  <thead>\n",
       "    <tr style=\"text-align: right;\">\n",
       "      <th></th>\n",
       "      <th>userID</th>\n",
       "      <th>Track</th>\n",
       "      <th>artist</th>\n",
       "      <th>genre</th>\n",
       "      <th>City</th>\n",
       "      <th>time</th>\n",
       "      <th>Day</th>\n",
       "    </tr>\n",
       "  </thead>\n",
       "  <tbody>\n",
       "    <tr>\n",
       "      <td>0</td>\n",
       "      <td>FFB692EC</td>\n",
       "      <td>Kamigata To Boots</td>\n",
       "      <td>The Mass Missile</td>\n",
       "      <td>rock</td>\n",
       "      <td>Saint-Petersburg</td>\n",
       "      <td>20:28:33</td>\n",
       "      <td>Wednesday</td>\n",
       "    </tr>\n",
       "    <tr>\n",
       "      <td>1</td>\n",
       "      <td>55204538</td>\n",
       "      <td>Delayed Because of Accident</td>\n",
       "      <td>Andreas Rönnberg</td>\n",
       "      <td>rock</td>\n",
       "      <td>Moscow</td>\n",
       "      <td>14:07:09</td>\n",
       "      <td>Friday</td>\n",
       "    </tr>\n",
       "    <tr>\n",
       "      <td>2</td>\n",
       "      <td>20EC38</td>\n",
       "      <td>Funiculì funiculà</td>\n",
       "      <td>Mario Lanza</td>\n",
       "      <td>pop</td>\n",
       "      <td>Saint-Petersburg</td>\n",
       "      <td>20:58:07</td>\n",
       "      <td>Wednesday</td>\n",
       "    </tr>\n",
       "    <tr>\n",
       "      <td>3</td>\n",
       "      <td>A3DD03C9</td>\n",
       "      <td>Dragons in the Sunset</td>\n",
       "      <td>Fire + Ice</td>\n",
       "      <td>folk</td>\n",
       "      <td>Saint-Petersburg</td>\n",
       "      <td>08:37:09</td>\n",
       "      <td>Monday</td>\n",
       "    </tr>\n",
       "    <tr>\n",
       "      <td>4</td>\n",
       "      <td>E2DC1FAE</td>\n",
       "      <td>Soul People</td>\n",
       "      <td>Space Echo</td>\n",
       "      <td>dance</td>\n",
       "      <td>Moscow</td>\n",
       "      <td>08:34:34</td>\n",
       "      <td>Monday</td>\n",
       "    </tr>\n",
       "    <tr>\n",
       "      <td>5</td>\n",
       "      <td>842029A1</td>\n",
       "      <td>Преданная</td>\n",
       "      <td>IMPERVTOR</td>\n",
       "      <td>rusrap</td>\n",
       "      <td>Saint-Petersburg</td>\n",
       "      <td>13:09:41</td>\n",
       "      <td>Friday</td>\n",
       "    </tr>\n",
       "    <tr>\n",
       "      <td>6</td>\n",
       "      <td>4CB90AA5</td>\n",
       "      <td>True</td>\n",
       "      <td>Roman Messer</td>\n",
       "      <td>dance</td>\n",
       "      <td>Moscow</td>\n",
       "      <td>13:00:07</td>\n",
       "      <td>Wednesday</td>\n",
       "    </tr>\n",
       "    <tr>\n",
       "      <td>7</td>\n",
       "      <td>F03E1C1F</td>\n",
       "      <td>Feeling This Way</td>\n",
       "      <td>Polina Griffith</td>\n",
       "      <td>dance</td>\n",
       "      <td>Moscow</td>\n",
       "      <td>20:47:49</td>\n",
       "      <td>Wednesday</td>\n",
       "    </tr>\n",
       "    <tr>\n",
       "      <td>8</td>\n",
       "      <td>8FA1D3BE</td>\n",
       "      <td>И вновь продолжается бой</td>\n",
       "      <td>NaN</td>\n",
       "      <td>ruspop</td>\n",
       "      <td>Moscow</td>\n",
       "      <td>09:17:40</td>\n",
       "      <td>Friday</td>\n",
       "    </tr>\n",
       "    <tr>\n",
       "      <td>9</td>\n",
       "      <td>E772D5C0</td>\n",
       "      <td>Pessimist</td>\n",
       "      <td>NaN</td>\n",
       "      <td>dance</td>\n",
       "      <td>Saint-Petersburg</td>\n",
       "      <td>21:20:49</td>\n",
       "      <td>Wednesday</td>\n",
       "    </tr>\n",
       "  </tbody>\n",
       "</table>\n",
       "</div>"
      ],
      "text/plain": [
       "     userID                        Track            artist   genre  \\\n",
       "0  FFB692EC            Kamigata To Boots  The Mass Missile    rock   \n",
       "1  55204538  Delayed Because of Accident  Andreas Rönnberg    rock   \n",
       "2    20EC38            Funiculì funiculà       Mario Lanza     pop   \n",
       "3  A3DD03C9        Dragons in the Sunset        Fire + Ice    folk   \n",
       "4  E2DC1FAE                  Soul People        Space Echo   dance   \n",
       "5  842029A1                    Преданная         IMPERVTOR  rusrap   \n",
       "6  4CB90AA5                         True      Roman Messer   dance   \n",
       "7  F03E1C1F             Feeling This Way   Polina Griffith   dance   \n",
       "8  8FA1D3BE     И вновь продолжается бой               NaN  ruspop   \n",
       "9  E772D5C0                    Pessimist               NaN   dance   \n",
       "\n",
       "             City        time        Day  \n",
       "0  Saint-Petersburg  20:28:33  Wednesday  \n",
       "1            Moscow  14:07:09     Friday  \n",
       "2  Saint-Petersburg  20:58:07  Wednesday  \n",
       "3  Saint-Petersburg  08:37:09     Monday  \n",
       "4            Moscow  08:34:34     Monday  \n",
       "5  Saint-Petersburg  13:09:41     Friday  \n",
       "6            Moscow  13:00:07  Wednesday  \n",
       "7            Moscow  20:47:49  Wednesday  \n",
       "8            Moscow  09:17:40     Friday  \n",
       "9  Saint-Petersburg  21:20:49  Wednesday  "
      ]
     },
     "execution_count": 3,
     "metadata": {},
     "output_type": "execute_result"
    }
   ],
   "source": [
    "df.head(10)\n",
    "# получение первых 10 строк таблицы df"
   ]
  },
  {
   "cell_type": "markdown",
   "metadata": {
    "id": "EO73Kwic_Zct"
   },
   "source": [
    "Одной командой получить общую информацию о таблице:"
   ]
  },
  {
   "cell_type": "code",
   "execution_count": 4,
   "metadata": {
    "id": "DSf2kIb-_Zct"
   },
   "outputs": [
    {
     "name": "stdout",
     "output_type": "stream",
     "text": [
      "<class 'pandas.core.frame.DataFrame'>\n",
      "RangeIndex: 65079 entries, 0 to 65078\n",
      "Data columns (total 7 columns):\n",
      "  userID    65079 non-null object\n",
      "Track       63848 non-null object\n",
      "artist      57876 non-null object\n",
      "genre       63881 non-null object\n",
      "  City      65079 non-null object\n",
      "time        65079 non-null object\n",
      "Day         65079 non-null object\n",
      "dtypes: object(7)\n",
      "memory usage: 3.5+ MB\n"
     ]
    }
   ],
   "source": [
    "df.info()# получение общей информации о данных в таблице df"
   ]
  },
  {
   "cell_type": "markdown",
   "metadata": {
    "id": "TaQ2Iwbr_Zct"
   },
   "source": [
    "Итак, в таблице семь столбцов. Тип данных во всех столбцах — `object`.\n",
    "\n",
    "Согласно документации к данным:\n",
    "* `userID` — идентификатор пользователя;\n",
    "* `Track` — название трека;  \n",
    "* `artist` — имя исполнителя;\n",
    "* `genre` — название жанра;\n",
    "* `City` — город пользователя;\n",
    "* `time` — время начала прослушивания;\n",
    "* `Day` — день недели.\n",
    "\n",
    "В названиях колонок видны три нарушения стиля:\n",
    "1. Строчные буквы сочетаются с прописными.\n",
    "2. Встречаются пробелы.\n",
    "3. использовать змеиный регистр\n",
    "\n",
    "\n",
    "\n",
    "\n",
    "\n",
    "Количество значений в столбцах различается. Значит, в данных есть пропущенные значения.\n"
   ]
  },
  {
   "cell_type": "markdown",
   "metadata": {},
   "source": [
    "\n"
   ]
  },
  {
   "cell_type": "markdown",
   "metadata": {
    "id": "MCB6-dXG_Zct"
   },
   "source": [
    "**Выводы**\n",
    "\n",
    "В каждой строке таблицы — данные о прослушанном треке. Часть колонок описывает саму композицию: название, исполнителя и жанр. Остальные данные рассказывают о пользователе: из какого он города, когда он слушал музыку. \n",
    "\n",
    "Предварительно можно утверждать, что, данных достаточно для проверки гипотез. Но встречаются пропуски в данных, а в названиях колонок — расхождения с хорошим стилем.\n",
    "\n",
    "Чтобы двигаться дальше, нужно устранить проблемы в данных."
   ]
  },
  {
   "cell_type": "markdown",
   "metadata": {
    "id": "SjYF6Ub9_Zct"
   },
   "source": [
    "## Предобработка данных\n",
    "Исправьте стиль в заголовках столбцов, исключите пропуски. Затем проверьте данные на дубликаты."
   ]
  },
  {
   "cell_type": "markdown",
   "metadata": {
    "id": "dIaKXr29_Zct"
   },
   "source": [
    "### Стиль заголовков\n",
    "Выведите на экран названия столбцов:"
   ]
  },
  {
   "cell_type": "code",
   "execution_count": 5,
   "metadata": {
    "id": "oKOTdF_Q_Zct"
   },
   "outputs": [
    {
     "data": {
      "text/plain": [
       "Index(['  userID', 'Track', 'artist', 'genre', '  City  ', 'time', 'Day'], dtype='object')"
      ]
     },
     "execution_count": 5,
     "metadata": {},
     "output_type": "execute_result"
    }
   ],
   "source": [
    "df.columns# перечень названий столбцов таблицы df"
   ]
  },
  {
   "cell_type": "markdown",
   "metadata": {
    "id": "FPZA3ki8xe7T"
   },
   "source": []
  },
  {
   "cell_type": "markdown",
   "metadata": {
    "id": "zj5534cv_Zct"
   },
   "source": [
    "Приведите названия в соответствие с хорошим стилем:\n",
    "* несколько слов в названии запишите в «змеином_регистре»,\n",
    "* все символы сделайте строчными,\n",
    "* устраните пробелы.\n",
    "\n",
    "Для этого переименуйте колонки так:\n",
    "* `'  userID'` → `'user_id'`;\n",
    "* `'Track'` → `'track'`;\n",
    "* `'  City  '` → `'city'`;\n",
    "* `'Day'` → `'day'`."
   ]
  },
  {
   "cell_type": "code",
   "execution_count": 6,
   "metadata": {
    "id": "ISlFqs5y_Zct"
   },
   "outputs": [],
   "source": [
    "df = df.rename(columns = {'  userID': 'user_id', 'Track': 'track', '  City  ': 'city', 'Day': 'day'}) #переименование столбцов"
   ]
  },
  {
   "cell_type": "markdown",
   "metadata": {
    "id": "1dqbh00J_Zct"
   },
   "source": [
    "Проверьте результат. Для этого ещё раз выведите на экран названия столбцов:"
   ]
  },
  {
   "cell_type": "code",
   "execution_count": 7,
   "metadata": {
    "id": "d4NOAmTW_Zct"
   },
   "outputs": [
    {
     "data": {
      "text/plain": [
       "Index(['user_id', 'track', 'artist', 'genre', 'city', 'time', 'day'], dtype='object')"
      ]
     },
     "execution_count": 7,
     "metadata": {},
     "output_type": "execute_result"
    }
   ],
   "source": [
    "df.columns # проверка результатов - перечень названий столбцов"
   ]
  },
  {
   "cell_type": "markdown",
   "metadata": {
    "id": "5ISfbcfY_Zct"
   },
   "source": [
    "### Пропуски значений\n",
    "Сначала посчитайте, сколько в таблице пропущенных значений. Для этого достаточно двух методов `pandas`:"
   ]
  },
  {
   "cell_type": "code",
   "execution_count": 8,
   "metadata": {
    "id": "RskX29qr_Zct"
   },
   "outputs": [
    {
     "data": {
      "text/plain": [
       "user_id       0\n",
       "track      1231\n",
       "artist     7203\n",
       "genre      1198\n",
       "city          0\n",
       "time          0\n",
       "day           0\n",
       "dtype: int64"
      ]
     },
     "execution_count": 8,
     "metadata": {},
     "output_type": "execute_result"
    }
   ],
   "source": [
    "df.isna().sum()# подсчёт пропусков"
   ]
  },
  {
   "cell_type": "markdown",
   "metadata": {
    "id": "qubhgnlO_Zct"
   },
   "source": [
    "Не все пропущенные значения влияют на исследование. Так в `track` и `artist` пропуски не важны для вашей работы. Достаточно заменить их явными обозначениями.\n",
    "\n",
    "Но пропуски в `genre` могут помешать сравнению музыкальных вкусов в Москве и Санкт-Петербурге. На практике было бы правильно установить причину пропусков и восстановить данные. Такой возможности нет в учебном проекте. Придётся:\n",
    "* заполнить и эти пропуски явными обозначениями,\n",
    "* оценить, насколько они повредят расчётам. "
   ]
  },
  {
   "cell_type": "markdown",
   "metadata": {
    "id": "fSv2laPA_Zct"
   },
   "source": [
    "Замените пропущенные значения в столбцах `track`, `artist` и `genre` на строку `'unknown'`. Для этого создайте список `columns_to_replace`, переберите его элементы циклом `for` и для каждого столбца выполните замену пропущенных значений:"
   ]
  },
  {
   "cell_type": "code",
   "execution_count": 9,
   "metadata": {
    "id": "KplB5qWs_Zct"
   },
   "outputs": [],
   "source": [
    "columns_to_replace = ['track', 'artist', 'genre']\n",
    "for item in columns_to_replace:\n",
    "    df[item] = df[item].fillna('unkown')"
   ]
  },
  {
   "cell_type": "markdown",
   "metadata": {
    "id": "Ilsm-MZo_Zct"
   },
   "source": [
    "Убедитесь, что в таблице не осталось пропусков. Для этого ещё раз посчитайте пропущенные значения."
   ]
  },
  {
   "cell_type": "code",
   "execution_count": 10,
   "metadata": {
    "id": "Tq4nYRX4_Zct"
   },
   "outputs": [
    {
     "data": {
      "text/plain": [
       "user_id    0\n",
       "track      0\n",
       "artist     0\n",
       "genre      0\n",
       "city       0\n",
       "time       0\n",
       "day        0\n",
       "dtype: int64"
      ]
     },
     "execution_count": 10,
     "metadata": {},
     "output_type": "execute_result"
    }
   ],
   "source": [
    "df.isna().sum() # подсчёт пропусков"
   ]
  },
  {
   "cell_type": "markdown",
   "metadata": {
    "id": "BWKRtBJ3_Zct"
   },
   "source": [
    "### Дубликаты\n",
    "Посчитайте явные дубликаты в таблице одной командой:"
   ]
  },
  {
   "cell_type": "code",
   "execution_count": 11,
   "metadata": {
    "id": "36eES_S0_Zct"
   },
   "outputs": [
    {
     "data": {
      "text/plain": [
       "3826"
      ]
     },
     "execution_count": 11,
     "metadata": {},
     "output_type": "execute_result"
    }
   ],
   "source": [
    "df.duplicated().sum() # подсчёт явных дубликатов"
   ]
  },
  {
   "cell_type": "markdown",
   "metadata": {
    "id": "Ot25h6XR_Zct"
   },
   "source": [
    "Вызовите специальный метод `pandas`, чтобы удалить явные дубликаты:"
   ]
  },
  {
   "cell_type": "code",
   "execution_count": 12,
   "metadata": {
    "id": "exFHq6tt_Zct"
   },
   "outputs": [],
   "source": [
    "df = df.drop_duplicates().reset_index(drop=True) # удаление явных дубликатов (с удалением старых индексов и формированием новых)"
   ]
  },
  {
   "cell_type": "markdown",
   "metadata": {
    "id": "Im2YwBEG_Zct"
   },
   "source": [
    "Ещё раз посчитайте явные дубликаты в таблице — убедитесь, что полностью от них избавились:"
   ]
  },
  {
   "cell_type": "code",
   "execution_count": 13,
   "metadata": {
    "id": "-8PuNWQ0_Zct"
   },
   "outputs": [
    {
     "data": {
      "text/plain": [
       "0"
      ]
     },
     "execution_count": 13,
     "metadata": {},
     "output_type": "execute_result"
    }
   ],
   "source": [
    "df.duplicated().sum()# проверка на отсутствие дубликатов"
   ]
  },
  {
   "cell_type": "markdown",
   "metadata": {
    "id": "QlFBsxAr_Zct"
   },
   "source": [
    "Теперь избавьтесь от неявных дубликатов в колонке `genre`. Например, название одного и того же жанра может быть записано немного по-разному. Такие ошибки тоже повлияют на результат исследования."
   ]
  },
  {
   "cell_type": "markdown",
   "metadata": {
    "id": "eSjWwsOh_Zct"
   },
   "source": [
    "Выведите на экран список уникальных названий жанров, отсортированный в алфавитном порядке. Для этого:\n",
    "* извлеките нужный столбец датафрейма, \n",
    "* примените к нему метод сортировки,\n",
    "* для отсортированного столбца вызовите метод, который вернёт уникальные значения из столбца."
   ]
  },
  {
   "cell_type": "code",
   "execution_count": 14,
   "metadata": {
    "id": "JIUcqzZN_Zct"
   },
   "outputs": [
    {
     "data": {
      "text/plain": [
       "array(['rock', 'pop', 'folk', 'dance', 'rusrap', 'ruspop', 'world',\n",
       "       'electronic', 'unkown', 'alternative', 'children', 'rnb', 'hip',\n",
       "       'jazz', 'postrock', 'latin', 'classical', 'metal', 'reggae',\n",
       "       'tatar', 'blues', 'instrumental', 'rusrock', 'dnb', 'türk', 'post',\n",
       "       'country', 'psychedelic', 'conjazz', 'indie', 'posthardcore',\n",
       "       'local', 'avantgarde', 'punk', 'videogame', 'techno', 'house',\n",
       "       'christmas', 'melodic', 'caucasian', 'reggaeton', 'soundtrack',\n",
       "       'singer', 'ska', 'shanson', 'ambient', 'film', 'western', 'rap',\n",
       "       'beats', \"hard'n'heavy\", 'progmetal', 'minimal', 'contemporary',\n",
       "       'new', 'soul', 'holiday', 'german', 'tropical', 'fairytail',\n",
       "       'spiritual', 'urban', 'gospel', 'nujazz', 'folkmetal', 'trance',\n",
       "       'miscellaneous', 'anime', 'hardcore', 'progressive', 'chanson',\n",
       "       'numetal', 'vocal', 'estrada', 'russian', 'classicmetal',\n",
       "       'dubstep', 'club', 'deep', 'southern', 'black', 'folkrock',\n",
       "       'fitness', 'french', 'disco', 'religious', 'hiphop', 'drum',\n",
       "       'extrememetal', 'türkçe', 'experimental', 'easy', 'metalcore',\n",
       "       'modern', 'argentinetango', 'old', 'breaks', 'eurofolk',\n",
       "       'stonerrock', 'industrial', 'funk', 'jpop', 'middle', 'variété',\n",
       "       'other', 'adult', 'christian', 'gothic', 'international', 'muslim',\n",
       "       'relax', 'schlager', 'caribbean', 'ukrrock', 'nu', 'breakbeat',\n",
       "       'comedy', 'chill', 'newage', 'specialty', 'uzbek', 'k-pop',\n",
       "       'balkan', 'chinese', 'meditative', 'dub', 'power', 'death',\n",
       "       'grime', 'arabesk', 'romance', 'flamenco', 'leftfield', 'european',\n",
       "       'tech', 'newwave', 'dancehall', 'mpb', 'piano', 'top', 'bigroom',\n",
       "       'opera', 'celtic', 'tradjazz', 'acoustic', 'epicmetal', 'hip-hop',\n",
       "       'historisch', 'downbeat', 'downtempo', 'africa', 'audiobook',\n",
       "       'jewish', 'sängerportrait', 'deutschrock', 'eastern', 'action',\n",
       "       'future', 'electropop', 'folklore', 'bollywood', 'marschmusik',\n",
       "       'rnr', 'karaoke', 'indian', 'rancheras', 'электроника',\n",
       "       'afrikaans', 'tango', 'rhythm', 'sound', 'deutschspr', 'trip',\n",
       "       'lovers', 'choral', 'dancepop', 'podcasts', 'retro', 'smooth',\n",
       "       'mexican', 'brazilian', 'ïîï', 'mood', 'surf', 'author', 'gangsta',\n",
       "       'triphop', 'inspirational', 'idm', 'ethnic', 'bluegrass',\n",
       "       'broadway', 'animated', 'americana', 'karadeniz', 'rockabilly',\n",
       "       'colombian', 'self', 'hop', 'synthrock', 'sertanejo', 'japanese',\n",
       "       'canzone', 'swing', 'lounge', 'sport', 'korean', 'ragga',\n",
       "       'traditional', 'gitarre', 'frankreich', 'alternativepunk', 'emo',\n",
       "       'laiko', 'cantopop', 'glitch', 'documentary', 'rockalternative',\n",
       "       'thrash', 'hymn', 'oceania', 'rockother', 'popeurodance', 'dark',\n",
       "       'vi', 'grunge', 'hardstyle', 'samba', 'garage', 'soft', 'art',\n",
       "       'folktronica', 'entehno', 'mediterranean', 'chamber', 'cuban',\n",
       "       'taraftar', 'rockindie', 'gypsy', 'hardtechno', 'shoegazing',\n",
       "       'skarock', 'bossa', 'salsa', 'latino', 'worldbeat', 'malaysian',\n",
       "       'baile', 'ghazal', 'loungeelectronic', 'arabic', 'popelectronic',\n",
       "       'acid', 'kayokyoku', 'neoklassik', 'tribal', 'tanzorchester',\n",
       "       'native', 'independent', 'cantautori', 'handsup', 'poprussian',\n",
       "       'punjabi', 'synthpop', 'rave', 'französisch', 'quebecois',\n",
       "       'speech', 'soulful', 'teen', 'jam', 'ram', 'horror', 'scenic',\n",
       "       'orchestral', 'neue', 'roots', 'slow', 'jungle', 'indipop', 'axé',\n",
       "       'fado', 'showtunes', 'arena', 'irish', 'mandopop', 'forró',\n",
       "       'popdance', 'dirty', 'regional'], dtype=object)"
      ]
     },
     "execution_count": 14,
     "metadata": {},
     "output_type": "execute_result"
    }
   ],
   "source": [
    "\n",
    "df['genre'].unique()\n"
   ]
  },
  {
   "cell_type": "markdown",
   "metadata": {
    "id": "qej-Qmuo_Zct"
   },
   "source": [
    "Просмотрите список и найдите неявные дубликаты названия `hiphop`. Это могут быть названия с ошибками или альтернативные названия того же жанра.\n",
    "\n",
    "Вы увидите следующие неявные дубликаты:\n",
    "* *hip*,\n",
    "* *hop*,\n",
    "* *hip-hop*.\n",
    "\n",
    "Чтобы очистить от них таблицу, напишите функцию `replace_wrong_genres()` с двумя параметрами: \n",
    "* `wrong_genres` — список дубликатов,\n",
    "* `correct_genre` — строка с правильным значением.\n",
    "\n",
    "Функция должна исправить колонку `genre` в таблице `df`: заменить каждое значение из списка `wrong_genres` на значение из `correct_genre`."
   ]
  },
  {
   "cell_type": "code",
   "execution_count": 15,
   "metadata": {
    "id": "ErNDkmns_Zct"
   },
   "outputs": [],
   "source": [
    "def replace_wrong_genres(wrong_genres, correct_genre):\n",
    "    for wrong_value in wrong_genres:\n",
    "       df['genre'] = df['genre'].replace(wrong_value, correct_genre)\n",
    "    \n",
    "duplicates = ['hip', 'hop', 'hip-hop']\n",
    "correct_name = 'hiphop'\n"
   ]
  },
  {
   "cell_type": "markdown",
   "metadata": {
    "id": "aDoBJxbA_Zct"
   },
   "source": [
    "Вызовите `replace_wrong_genres()` и передайте ей такие аргументы, чтобы она устранила неявные дубликаты: вместо `hip`, `hop` и `hip-hop` в таблице должно быть значение `hiphop`:"
   ]
  },
  {
   "cell_type": "code",
   "execution_count": 16,
   "metadata": {
    "id": "YN5i2hpmSo09"
   },
   "outputs": [],
   "source": [
    "replace_wrong_genres(duplicates, correct_name)# Устранение неявных дубликатов"
   ]
  },
  {
   "cell_type": "markdown",
   "metadata": {
    "id": "zQKF16_RG15m"
   },
   "source": [
    "Проверьте, что заменили неправильные названия:\n",
    "\n",
    "*   hip\n",
    "*   hop\n",
    "*   hip-hop\n",
    "\n",
    "Выведите отсортированный список уникальных значений столбца `genre`:"
   ]
  },
  {
   "cell_type": "code",
   "execution_count": 17,
   "metadata": {
    "id": "wvixALnFG15m"
   },
   "outputs": [
    {
     "data": {
      "text/plain": [
       "array(['rock', 'pop', 'folk', 'dance', 'rusrap', 'ruspop', 'world',\n",
       "       'electronic', 'unkown', 'alternative', 'children', 'rnb', 'hiphop',\n",
       "       'jazz', 'postrock', 'latin', 'classical', 'metal', 'reggae',\n",
       "       'tatar', 'blues', 'instrumental', 'rusrock', 'dnb', 'türk', 'post',\n",
       "       'country', 'psychedelic', 'conjazz', 'indie', 'posthardcore',\n",
       "       'local', 'avantgarde', 'punk', 'videogame', 'techno', 'house',\n",
       "       'christmas', 'melodic', 'caucasian', 'reggaeton', 'soundtrack',\n",
       "       'singer', 'ska', 'shanson', 'ambient', 'film', 'western', 'rap',\n",
       "       'beats', \"hard'n'heavy\", 'progmetal', 'minimal', 'contemporary',\n",
       "       'new', 'soul', 'holiday', 'german', 'tropical', 'fairytail',\n",
       "       'spiritual', 'urban', 'gospel', 'nujazz', 'folkmetal', 'trance',\n",
       "       'miscellaneous', 'anime', 'hardcore', 'progressive', 'chanson',\n",
       "       'numetal', 'vocal', 'estrada', 'russian', 'classicmetal',\n",
       "       'dubstep', 'club', 'deep', 'southern', 'black', 'folkrock',\n",
       "       'fitness', 'french', 'disco', 'religious', 'drum', 'extrememetal',\n",
       "       'türkçe', 'experimental', 'easy', 'metalcore', 'modern',\n",
       "       'argentinetango', 'old', 'breaks', 'eurofolk', 'stonerrock',\n",
       "       'industrial', 'funk', 'jpop', 'middle', 'variété', 'other',\n",
       "       'adult', 'christian', 'gothic', 'international', 'muslim', 'relax',\n",
       "       'schlager', 'caribbean', 'ukrrock', 'nu', 'breakbeat', 'comedy',\n",
       "       'chill', 'newage', 'specialty', 'uzbek', 'k-pop', 'balkan',\n",
       "       'chinese', 'meditative', 'dub', 'power', 'death', 'grime',\n",
       "       'arabesk', 'romance', 'flamenco', 'leftfield', 'european', 'tech',\n",
       "       'newwave', 'dancehall', 'mpb', 'piano', 'top', 'bigroom', 'opera',\n",
       "       'celtic', 'tradjazz', 'acoustic', 'epicmetal', 'historisch',\n",
       "       'downbeat', 'downtempo', 'africa', 'audiobook', 'jewish',\n",
       "       'sängerportrait', 'deutschrock', 'eastern', 'action', 'future',\n",
       "       'electropop', 'folklore', 'bollywood', 'marschmusik', 'rnr',\n",
       "       'karaoke', 'indian', 'rancheras', 'электроника', 'afrikaans',\n",
       "       'tango', 'rhythm', 'sound', 'deutschspr', 'trip', 'lovers',\n",
       "       'choral', 'dancepop', 'podcasts', 'retro', 'smooth', 'mexican',\n",
       "       'brazilian', 'ïîï', 'mood', 'surf', 'author', 'gangsta', 'triphop',\n",
       "       'inspirational', 'idm', 'ethnic', 'bluegrass', 'broadway',\n",
       "       'animated', 'americana', 'karadeniz', 'rockabilly', 'colombian',\n",
       "       'self', 'synthrock', 'sertanejo', 'japanese', 'canzone', 'swing',\n",
       "       'lounge', 'sport', 'korean', 'ragga', 'traditional', 'gitarre',\n",
       "       'frankreich', 'alternativepunk', 'emo', 'laiko', 'cantopop',\n",
       "       'glitch', 'documentary', 'rockalternative', 'thrash', 'hymn',\n",
       "       'oceania', 'rockother', 'popeurodance', 'dark', 'vi', 'grunge',\n",
       "       'hardstyle', 'samba', 'garage', 'soft', 'art', 'folktronica',\n",
       "       'entehno', 'mediterranean', 'chamber', 'cuban', 'taraftar',\n",
       "       'rockindie', 'gypsy', 'hardtechno', 'shoegazing', 'skarock',\n",
       "       'bossa', 'salsa', 'latino', 'worldbeat', 'malaysian', 'baile',\n",
       "       'ghazal', 'loungeelectronic', 'arabic', 'popelectronic', 'acid',\n",
       "       'kayokyoku', 'neoklassik', 'tribal', 'tanzorchester', 'native',\n",
       "       'independent', 'cantautori', 'handsup', 'poprussian', 'punjabi',\n",
       "       'synthpop', 'rave', 'französisch', 'quebecois', 'speech',\n",
       "       'soulful', 'teen', 'jam', 'ram', 'horror', 'scenic', 'orchestral',\n",
       "       'neue', 'roots', 'slow', 'jungle', 'indipop', 'axé', 'fado',\n",
       "       'showtunes', 'arena', 'irish', 'mandopop', 'forró', 'popdance',\n",
       "       'dirty', 'regional'], dtype=object)"
      ]
     },
     "execution_count": 17,
     "metadata": {},
     "output_type": "execute_result"
    }
   ],
   "source": [
    "df['genre'].unique() # Проверка на неявные дубликаты"
   ]
  },
  {
   "cell_type": "markdown",
   "metadata": {
    "id": "jz6a9-7HQUDd"
   },
   "source": [
    "**Выводы**\n",
    "\n",
    "Предобработка обнаружила три проблемы в данных:\n",
    "\n",
    "- нарушения в стиле заголовков,\n",
    "- пропущенные значения,\n",
    "- дубликаты — явные и неявные.\n",
    "\n",
    "Вы исправили заголовки, чтобы упростить работу с таблицей. Без дубликатов исследование станет более точным.\n",
    "\n",
    "Пропущенные значения вы заменили на `'unknown'`. Ещё предстоит увидеть, не повредят ли исследованию пропуски в колонке `genre`.\n",
    "\n",
    "Теперь можно перейти к проверке гипотез. "
   ]
  },
  {
   "cell_type": "markdown",
   "metadata": {
    "id": "WttZHXH0SqKk"
   },
   "source": [
    "## Проверка гипотез"
   ]
  },
  {
   "cell_type": "markdown",
   "metadata": {
    "id": "Im936VVi_Zcu"
   },
   "source": [
    "### Сравнение поведения пользователей двух столиц"
   ]
  },
  {
   "cell_type": "markdown",
   "metadata": {
    "id": "nwt_MuaL_Zcu"
   },
   "source": [
    "Первая гипотеза утверждает, что пользователи по-разному слушают музыку в Москве и Санкт-Петербурге. Проверьте это предположение по данным о трёх днях недели — понедельнике, среде и пятнице. Для этого:\n",
    "\n",
    "* Разделите пользователей Москвы и Санкт-Петербурга\n",
    "* Сравните, сколько треков послушала каждая группа пользователей в понедельник, среду и пятницу.\n"
   ]
  },
  {
   "cell_type": "markdown",
   "metadata": {
    "id": "8Dw_YMmT_Zcu"
   },
   "source": [
    "Для тренировки сначала выполните каждый из расчётов по отдельности. \n",
    "\n",
    "Оцените активность пользователей в каждом городе. Сгруппируйте данные по городу и посчитайте прослушивания в каждой группе.\n",
    "\n"
   ]
  },
  {
   "cell_type": "code",
   "execution_count": 18,
   "metadata": {
    "id": "0_Qs96oh_Zcu"
   },
   "outputs": [
    {
     "data": {
      "text/plain": [
       "city\n",
       "Moscow              42741\n",
       "Saint-Petersburg    18512\n",
       "Name: genre, dtype: int64"
      ]
     },
     "execution_count": 18,
     "metadata": {},
     "output_type": "execute_result"
    }
   ],
   "source": [
    "df.groupby('city')['genre'].count() "
   ]
  },
  {
   "cell_type": "markdown",
   "metadata": {
    "id": "dzli3w8o_Zcu"
   },
   "source": [
    "В Москве прослушиваний больше, чем в Петербурге. Из этого не следует, что московские пользователи чаще слушают музыку. Просто самих пользователей в Москве больше.\n",
    "\n",
    "Теперь сгруппируйте данные по дню недели и подсчитайте прослушивания в понедельник, среду и пятницу. Учтите, что в данных есть информация только о прослушиваниях только за эти дни.\n"
   ]
  },
  {
   "cell_type": "code",
   "execution_count": 19,
   "metadata": {
    "id": "uZMKjiJz_Zcu"
   },
   "outputs": [
    {
     "data": {
      "text/plain": [
       "day\n",
       "Friday       21840\n",
       "Monday       21354\n",
       "Wednesday    18059\n",
       "Name: genre, dtype: int64"
      ]
     },
     "execution_count": 19,
     "metadata": {},
     "output_type": "execute_result"
    }
   ],
   "source": [
    "df.groupby('day')['genre'].count()# Подсчёт прослушиваний в каждый из трёх дней"
   ]
  },
  {
   "cell_type": "markdown",
   "metadata": {
    "id": "cC2tNrlL_Zcu"
   },
   "source": [
    "В среднем пользователи из двух городов менее активны по средам. Но картина может измениться, если рассмотреть каждый город в отдельности."
   ]
  },
  {
   "cell_type": "markdown",
   "metadata": {
    "id": "POzs8bGa_Zcu"
   },
   "source": [
    "Вы видели, как работает группировка по городу и по дням недели. Теперь напишите функцию, которая объединит два эти расчёта.\n",
    "\n",
    "Создайте функцию `number_tracks()`, которая посчитает прослушивания для заданного дня и города. Ей понадобятся два параметра:\n",
    "* день недели,\n",
    "* название города.\n",
    "\n",
    "В функции сохраните в переменную строки исходной таблицы, у которых значение:\n",
    "  * в колонке `day` равно параметру `day`,\n",
    "  * в колонке `city` равно параметру `city`.\n",
    "\n",
    "Для этого примените последовательную фильтрацию с логической индексацией.\n",
    "\n",
    "Затем посчитайте значения в столбце `user_id` получившейся таблицы. Результат сохраните в новую переменную. Верните эту переменную из функции."
   ]
  },
  {
   "cell_type": "code",
   "execution_count": 20,
   "metadata": {
    "id": "Nz3GdQB1_Zcu"
   },
   "outputs": [],
   "source": [
    "def number_tracks(day, city):\n",
    "    track_list = df[(df['day']==day) & (df['city']==city)]\n",
    "    track_list_count = track_list['genre'].count()\n",
    "    return track_list_count\n",
    "    \n",
    "    \n",
    "    \n",
    "    # <создание функции number_tracks()>\n",
    "# Объявляется функция с двумя параметрами: day, city.\n",
    "# В переменной track_list сохраняются те строки таблицы df, для которых \n",
    "# значение в столбце 'day' равно параметру day и одновременно значение\n",
    "# в столбце 'city' равно параметру city (используйте последовательную фильтрацию\n",
    "# с помощью логической индексации).\n",
    "# В переменной track_list_count сохраняется число значений столбца 'user_id',\n",
    "# рассчитанное методом count() для таблицы track_list.\n",
    "# Функция возвращает число - значение track_list_count.\n",
    "\n",
    "# Функция для подсчёта прослушиваний для конкретного города и дня.\n",
    "# С помощью последовательной фильтрации с логической индексацией она \n",
    "# сначала получит из исходной таблицы строки с нужным днём,\n",
    "# затем из результата отфильтрует строки с нужным городом,\n",
    "# методом count() посчитает количество значений в колонке user_id. \n",
    "# Это количество функция вернёт в качестве результата"
   ]
  },
  {
   "cell_type": "markdown",
   "metadata": {
    "id": "ytf7xFrFJQ2r"
   },
   "source": [
    "Вызовите `number_tracks()` шесть раз, меняя значение параметров — так, чтобы получить данные для каждого города в каждый из трёх дней."
   ]
  },
  {
   "cell_type": "code",
   "execution_count": 21,
   "metadata": {
    "id": "rJcRATNQ_Zcu"
   },
   "outputs": [
    {
     "data": {
      "text/plain": [
       "15740"
      ]
     },
     "execution_count": 21,
     "metadata": {},
     "output_type": "execute_result"
    }
   ],
   "source": [
    "number_tracks('Monday', 'Moscow')# количество прослушиваний в Москве по понедельникам"
   ]
  },
  {
   "cell_type": "code",
   "execution_count": 22,
   "metadata": {
    "id": "hq_ncZ5T_Zcu"
   },
   "outputs": [
    {
     "data": {
      "text/plain": [
       "5614"
      ]
     },
     "execution_count": 22,
     "metadata": {},
     "output_type": "execute_result"
    }
   ],
   "source": [
    "number_tracks('Monday', 'Saint-Petersburg')# количество прослушиваний в Санкт-Петербурге по понедельникам"
   ]
  },
  {
   "cell_type": "code",
   "execution_count": 23,
   "metadata": {
    "id": "_NTy2VPU_Zcu"
   },
   "outputs": [
    {
     "data": {
      "text/plain": [
       "11056"
      ]
     },
     "execution_count": 23,
     "metadata": {},
     "output_type": "execute_result"
    }
   ],
   "source": [
    "number_tracks('Wednesday', 'Moscow')# количество прослушиваний в Москве по средам"
   ]
  },
  {
   "cell_type": "code",
   "execution_count": 24,
   "metadata": {
    "id": "j2y3TAwo_Zcu"
   },
   "outputs": [
    {
     "data": {
      "text/plain": [
       "7003"
      ]
     },
     "execution_count": 24,
     "metadata": {},
     "output_type": "execute_result"
    }
   ],
   "source": [
    "number_tracks('Wednesday', 'Saint-Petersburg')# количество прослушиваний в Санкт-Петербурге по средам"
   ]
  },
  {
   "cell_type": "code",
   "execution_count": 25,
   "metadata": {
    "id": "vYDw5u_K_Zcu"
   },
   "outputs": [
    {
     "data": {
      "text/plain": [
       "15945"
      ]
     },
     "execution_count": 25,
     "metadata": {},
     "output_type": "execute_result"
    }
   ],
   "source": [
    "number_tracks('Friday', 'Moscow')# количество прослушиваний в Москве по пятницам"
   ]
  },
  {
   "cell_type": "code",
   "execution_count": 39,
   "metadata": {
    "id": "8_yzFtW3_Zcu"
   },
   "outputs": [
    {
     "data": {
      "text/plain": [
       "5895"
      ]
     },
     "execution_count": 39,
     "metadata": {},
     "output_type": "execute_result"
    }
   ],
   "source": [
    "number_tracks('Friday', 'Saint-Petersburg')# количество прослушиваний в Санкт-Петербурге по пятницам"
   ]
  },
  {
   "cell_type": "markdown",
   "metadata": {
    "id": "7QXffbO-_Zcu"
   },
   "source": [
    "Создайте c помощью конструктора `pd.DataFrame` таблицу, где\n",
    "* названия колонок — `['city', 'monday', 'wednesday', 'friday']`;\n",
    "* данные — результаты, которые вы получили с помощью `number_tracks`."
   ]
  },
  {
   "cell_type": "code",
   "execution_count": 40,
   "metadata": {
    "id": "APAcLpOr_Zcu"
   },
   "outputs": [
    {
     "data": {
      "text/html": [
       "<div>\n",
       "<style scoped>\n",
       "    .dataframe tbody tr th:only-of-type {\n",
       "        vertical-align: middle;\n",
       "    }\n",
       "\n",
       "    .dataframe tbody tr th {\n",
       "        vertical-align: top;\n",
       "    }\n",
       "\n",
       "    .dataframe thead th {\n",
       "        text-align: right;\n",
       "    }\n",
       "</style>\n",
       "<table border=\"1\" class=\"dataframe\">\n",
       "  <thead>\n",
       "    <tr style=\"text-align: right;\">\n",
       "      <th></th>\n",
       "      <th>city</th>\n",
       "      <th>monday</th>\n",
       "      <th>wednesday</th>\n",
       "      <th>friday</th>\n",
       "    </tr>\n",
       "  </thead>\n",
       "  <tbody>\n",
       "    <tr>\n",
       "      <td>0</td>\n",
       "      <td>Moscow</td>\n",
       "      <td>15740</td>\n",
       "      <td>11056</td>\n",
       "      <td>15945</td>\n",
       "    </tr>\n",
       "    <tr>\n",
       "      <td>1</td>\n",
       "      <td>Saint-Petersburg</td>\n",
       "      <td>5614</td>\n",
       "      <td>7003</td>\n",
       "      <td>5895</td>\n",
       "    </tr>\n",
       "  </tbody>\n",
       "</table>\n",
       "</div>"
      ],
      "text/plain": [
       "               city  monday  wednesday  friday\n",
       "0            Moscow   15740      11056   15945\n",
       "1  Saint-Petersburg    5614       7003    5895"
      ]
     },
     "metadata": {},
     "output_type": "display_data"
    }
   ],
   "source": [
    "data = [\n",
    "    [\n",
    "        'Moscow',\n",
    "        number_tracks('Monday', 'Moscow'),\n",
    "        number_tracks('Wednesday', 'Moscow'),\n",
    "        number_tracks('Friday', 'Moscow')\n",
    "    ],\n",
    "    [\n",
    "        'Saint-Petersburg', \n",
    "        number_tracks('Monday', 'Saint-Petersburg'),\n",
    "        number_tracks('Wednesday', 'Saint-Petersburg'),\n",
    "        number_tracks('Friday', 'Saint-Petersburg')\n",
    "    ]\n",
    "]\n",
    "columns = ['city','monday','wednesday','friday']\n",
    "tabl = pd.DataFrame(data=data, columns=columns)\n",
    "display(tabl)# Таблица с результатами"
   ]
  },
  {
   "cell_type": "markdown",
   "metadata": {
    "id": "-EgPIHYu_Zcu"
   },
   "source": [
    "**Выводы**\n",
    "\n",
    "Данные показывают разницу поведения пользователей:\n",
    "\n",
    "- В Москве пик прослушиваний приходится на понедельник и пятницу, а в среду заметен спад.\n",
    "- В Петербурге, наоборот, больше слушают музыку по средам. Активность в понедельник и пятницу здесь почти в равной мере уступает среде.\n",
    "\n",
    "Значит, данные говорят в пользу первой гипотезы."
   ]
  },
  {
   "cell_type": "markdown",
   "metadata": {
    "id": "atZAxtq4_Zcu"
   },
   "source": [
    "### Музыка в начале и в конце недели"
   ]
  },
  {
   "cell_type": "markdown",
   "metadata": {
    "id": "eXrQqXFH_Zcu"
   },
   "source": [
    "Согласно второй гипотезе, утром в понедельник в Москве преобладают одни жанры, а в Петербурге — другие. Так же и вечером пятницы преобладают разные жанры — в зависимости от города."
   ]
  },
  {
   "cell_type": "markdown",
   "metadata": {
    "id": "S8UcW6Hw_Zcu"
   },
   "source": [
    "Сохраните таблицы с данными в две переменные:\n",
    "* по Москве — в `moscow_general`;\n",
    "* по Санкт-Петербургу — в `spb_general`."
   ]
  },
  {
   "cell_type": "code",
   "execution_count": 28,
   "metadata": {
    "id": "qeaFfM_P_Zcu"
   },
   "outputs": [],
   "source": [
    "moscow_general = df[df['city'] == 'Moscow']# получение таблицы moscow_general из тех строк таблицы df, \n",
    "# для которых значение в столбце 'city' равно 'Moscow'\n"
   ]
  },
  {
   "cell_type": "code",
   "execution_count": 29,
   "metadata": {
    "id": "ORaVRKto_Zcu"
   },
   "outputs": [],
   "source": [
    "spb_general = df[df['city'] == 'Saint-Petersburg']# получение таблицы spb_general из тех строк таблицы df,\n",
    "# для которых значение в столбце 'city' равно 'Saint-Petersburg'\n"
   ]
  },
  {
   "cell_type": "markdown",
   "metadata": {
    "id": "MEJV-CX2_Zcu"
   },
   "source": [
    "Создайте функцию `genre_weekday()` с четырьмя параметрами:\n",
    "* таблица (датафрейм) с данными,\n",
    "* день недели,\n",
    "* начальная временная метка в формате 'hh:mm', \n",
    "* последняя временная метка в формате 'hh:mm'.\n",
    "\n",
    "Функция должна вернуть информацию о топ-10 жанров тех треков, которые прослушивали в указанный день, в промежутке между двумя отметками времени."
   ]
  },
  {
   "cell_type": "code",
   "execution_count": 30,
   "metadata": {
    "id": "laJT9BYl_Zcu"
   },
   "outputs": [],
   "source": [
    "def genre_weekday(table, day, time1, time2):\n",
    "    genre_df = df[(df['day']==day) & (df['time']>=time1) & (df['time']<=time2)]\n",
    "    genre_df_count = genre_df.groupby('genre')['genre'].count()\n",
    "    genre_df_sorted = genre_df_count.sort_values(ascending = False).head(10)\n",
    "    return genre_df_sorted\n",
    "    \n",
    "\n",
    "\n",
    "# Объявление функции genre_weekday() с параметрами table, day, time1, time2,\n",
    "# которая возвращает информацию о самых популярных жанрах в указанный день в\n",
    "# заданное время:\n",
    "# 1) в переменную genre_df сохраняются те строки переданного датафрейма table, для\n",
    "#    которых одновременно:\n",
    "#    - значение в столбце day равно значению аргумента day\n",
    "#    - значение в столбце time больше значения аргумента time1\n",
    "#    - значение в столбце time меньше значения аргумента time2\n",
    "#    Используйте последовательную фильтрацию с помощью логической индексации.\n",
    "# 2) сгруппировать датафрейм genre_df по столбцу genre, взять один из его\n",
    "#    столбцов и посчитать методом count() количество записей для каждого из\n",
    "#    присутствующих жанров, получившийся Series записать в переменную\n",
    "#    genre_df_count\n",
    "# 3) отсортировать genre_df_count по убыванию встречаемости и сохранить\n",
    "#    в переменную genre_df_sorted\n",
    "# 4) вернуть Series из 10 первых значений genre_df_sorted, это будут топ-10\n",
    "#    популярных жанров (в указанный день, в заданное время)"
   ]
  },
  {
   "cell_type": "markdown",
   "metadata": {
    "id": "la2s2_PF_Zcu"
   },
   "source": [
    "Cравните результаты функции `genre_weekday()` для Москвы и Санкт-Петербурга в понедельник утром (с 7:00 до 11:00) и в пятницу вечером (с 17:00 до 23:00):"
   ]
  },
  {
   "cell_type": "code",
   "execution_count": 31,
   "metadata": {
    "id": "yz7itPUQ_Zcu"
   },
   "outputs": [
    {
     "data": {
      "text/plain": [
       "genre\n",
       "pop            999\n",
       "dance          731\n",
       "rock           636\n",
       "electronic     627\n",
       "hiphop         366\n",
       "ruspop         250\n",
       "rusrap         230\n",
       "alternative    222\n",
       "world          217\n",
       "classical      197\n",
       "Name: genre, dtype: int64"
      ]
     },
     "execution_count": 31,
     "metadata": {},
     "output_type": "execute_result"
    }
   ],
   "source": [
    "genre_weekday(moscow_general, 'Monday', '07:00', '11:00') #у меня почему то данные по городам за один и тот же день совпадают, понимаю что так не должно быть, а причину в коде не могу найти\n",
    "\n",
    "# вызов функции для утра понедельника в Москве (вместо df — таблица moscow_general)\n",
    "# объекты, хранящие время, являются строками и сравниваются как строки\n",
    "# пример вызова: genre_weekday(moscow_general, 'Monday', '07:00', '11:00')"
   ]
  },
  {
   "cell_type": "code",
   "execution_count": 32,
   "metadata": {
    "id": "kwUcHPdy_Zcu"
   },
   "outputs": [
    {
     "data": {
      "text/plain": [
       "genre\n",
       "pop            999\n",
       "dance          731\n",
       "rock           636\n",
       "electronic     627\n",
       "hiphop         366\n",
       "ruspop         250\n",
       "rusrap         230\n",
       "alternative    222\n",
       "world          217\n",
       "classical      197\n",
       "Name: genre, dtype: int64"
      ]
     },
     "execution_count": 32,
     "metadata": {},
     "output_type": "execute_result"
    }
   ],
   "source": [
    "genre_weekday(spb_general, 'Monday', '07:00', '11:00') # вызов функции для утра понедельника в Петербурге (вместо df — таблица spb_general)"
   ]
  },
  {
   "cell_type": "code",
   "execution_count": 33,
   "metadata": {
    "id": "EzXVRE1o_Zcu"
   },
   "outputs": [
    {
     "data": {
      "text/plain": [
       "genre\n",
       "pop            969\n",
       "rock           733\n",
       "dance          705\n",
       "electronic     698\n",
       "hiphop         370\n",
       "world          262\n",
       "alternative    226\n",
       "classical      223\n",
       "ruspop         217\n",
       "rusrap         201\n",
       "Name: genre, dtype: int64"
      ]
     },
     "execution_count": 33,
     "metadata": {},
     "output_type": "execute_result"
    }
   ],
   "source": [
    "genre_weekday(moscow_general, 'Friday', '17:00', '23:00') # вызов функции для вечера пятницы в Москве"
   ]
  },
  {
   "cell_type": "code",
   "execution_count": 34,
   "metadata": {
    "id": "JZaEKu5v_Zcu"
   },
   "outputs": [
    {
     "data": {
      "text/plain": [
       "genre\n",
       "pop            969\n",
       "rock           733\n",
       "dance          705\n",
       "electronic     698\n",
       "hiphop         370\n",
       "world          262\n",
       "alternative    226\n",
       "classical      223\n",
       "ruspop         217\n",
       "rusrap         201\n",
       "Name: genre, dtype: int64"
      ]
     },
     "execution_count": 34,
     "metadata": {},
     "output_type": "execute_result"
    }
   ],
   "source": [
    "genre_weekday(spb_general, 'Friday', '17:00', '23:00')# вызов функции для вечера пятницы в Петербурге"
   ]
  },
  {
   "cell_type": "markdown",
   "metadata": {
    "id": "wrCe4MNX_Zcu"
   },
   "source": [
    "**Выводы**\n",
    "\n",
    "Если сравнить топ-10 жанров в понедельник утром, можно сделать такие выводы:\n",
    "\n",
    "1. В Москве и Петербурге слушают похожую музыку. Единственное отличие — в московский рейтинг вошёл жанр “world”, а в петербургский — джаз и классика.\n",
    "\n",
    "2. В Москве пропущенных значений оказалось так много, что значение `'unknown'` заняло десятое место среди самых популярных жанров. Значит, пропущенные значения занимают существенную долю в данных и угрожают достоверности исследования.\n",
    "\n",
    "Вечер пятницы не меняет эту картину. Некоторые жанры поднимаются немного выше, другие спускаются, но в целом топ-10 остаётся тем же самым.\n",
    "\n",
    "Таким образом, вторая гипотеза подтвердилась лишь частично:\n",
    "* Пользователи слушают похожую музыку в начале недели и в конце.\n",
    "* Разница между Москвой и Петербургом не слишком выражена. В Москве чаще слушают русскую популярную музыку, в Петербурге — джаз.\n",
    "\n",
    "Однако пропуски в данных ставят под сомнение этот результат. В Москве их так много, что рейтинг топ-10 мог бы выглядеть иначе, если бы не утерянные  данные о жанрах."
   ]
  },
  {
   "cell_type": "markdown",
   "metadata": {
    "id": "JolODAqr_Zcu"
   },
   "source": [
    "### Жанровые предпочтения в Москве и Петербурге\n",
    "\n",
    "Гипотеза: Петербург — столица рэпа, музыку этого жанра там слушают чаще, чем в Москве.  А Москва — город контрастов, в котором, тем не менее, преобладает поп-музыка."
   ]
  },
  {
   "cell_type": "markdown",
   "metadata": {
    "id": "DlegSvaT_Zcu"
   },
   "source": [
    "Сгруппируйте таблицу `moscow_general` по жанру и посчитайте прослушивания треков каждого жанра методом `count()`. Затем отсортируйте результат в порядке убывания и сохраните его в таблице `moscow_genres`."
   ]
  },
  {
   "cell_type": "code",
   "execution_count": 35,
   "metadata": {
    "id": "r19lIPke_Zcu"
   },
   "outputs": [],
   "source": [
    "moscow_genres = moscow_general.groupby('genre')['genre'].count().sort_values(ascending = False)\n",
    "# одной строкой: группировка таблицы moscow_general по столбцу 'genre', \n",
    "# подсчёт числа значений 'genre' в этой группировке методом count(), \n",
    "# сортировка получившегося Series в порядке убывания и сохранение в moscow_genres"
   ]
  },
  {
   "cell_type": "markdown",
   "metadata": {
    "id": "6kMuomxTiIr8"
   },
   "source": [
    "Выведите на экран первые десять строк `moscow_genres`:"
   ]
  },
  {
   "cell_type": "code",
   "execution_count": 36,
   "metadata": {
    "id": "WhCSooF8_Zcv"
   },
   "outputs": [
    {
     "data": {
      "text/plain": [
       "genre\n",
       "pop            5892\n",
       "dance          4435\n",
       "rock           3965\n",
       "electronic     3786\n",
       "hiphop         2096\n",
       "classical      1616\n",
       "world          1432\n",
       "alternative    1379\n",
       "ruspop         1372\n",
       "rusrap         1161\n",
       "Name: genre, dtype: int64"
      ]
     },
     "execution_count": 36,
     "metadata": {},
     "output_type": "execute_result"
    }
   ],
   "source": [
    "moscow_genres.head(10)# просмотр первых 10 строк moscow_genres"
   ]
  },
  {
   "cell_type": "markdown",
   "metadata": {
    "id": "cnPG2vnN_Zcv"
   },
   "source": [
    "Теперь повторите то же и для Петербурга.\n",
    "\n",
    "Сгруппируйте таблицу `spb_general` по жанру. Посчитайте прослушивания треков каждого жанра. Результат отсортируйте в порядке убывания и сохраните в таблице `spb_genres`:\n"
   ]
  },
  {
   "cell_type": "code",
   "execution_count": 37,
   "metadata": {
    "id": "gluLIpE7_Zcv"
   },
   "outputs": [],
   "source": [
    "spb_genres = spb_general.groupby('genre')['genre'].count().sort_values(ascending = False)\n",
    "# одной строкой: группировка таблицы spb_general по столбцу 'genre', \n",
    "# подсчёт числа значений 'genre' в этой группировке методом count(), \n",
    "# сортировка получившегося Series в порядке убывания и сохранение в spb_genres"
   ]
  },
  {
   "cell_type": "markdown",
   "metadata": {
    "id": "5Doha_ODgyQ8"
   },
   "source": [
    "Выведите на экран первые десять строк `spb_genres`:"
   ]
  },
  {
   "cell_type": "code",
   "execution_count": 38,
   "metadata": {
    "id": "uaGJHjVU_Zcv"
   },
   "outputs": [
    {
     "data": {
      "text/plain": [
       "genre\n",
       "pop            2431\n",
       "dance          1932\n",
       "rock           1879\n",
       "electronic     1736\n",
       "hiphop          960\n",
       "alternative     649\n",
       "classical       646\n",
       "rusrap          564\n",
       "ruspop          538\n",
       "world           515\n",
       "Name: genre, dtype: int64"
      ]
     },
     "execution_count": 38,
     "metadata": {},
     "output_type": "execute_result"
    }
   ],
   "source": [
    "spb_genres.head(10)# просмотр первых 10 строк spb_genres"
   ]
  },
  {
   "cell_type": "markdown",
   "metadata": {
    "id": "RY51YJYu_Zcv"
   },
   "source": [
    "**Выводы**"
   ]
  },
  {
   "cell_type": "markdown",
   "metadata": {
    "id": "nVhnJEm__Zcv"
   },
   "source": [
    "Гипотеза частично подтвердилась:\n",
    "* Поп-музыка — самый популярный жанр в Москве, как и предполагала гипотеза. Более того, в топ-10 жанров встречается близкий жанр — русская популярная музыка.\n",
    "* Вопреки ожиданиям, рэп одинаково популярен в Москве и Петербурге. \n"
   ]
  },
  {
   "cell_type": "markdown",
   "metadata": {
    "id": "ykKQ0N65_Zcv"
   },
   "source": [
    "## Итоги исследования"
   ]
  },
  {
   "cell_type": "markdown",
   "metadata": {
    "id": "tjUwbHb3_Zcv"
   },
   "source": [
    "Вы проверили три гипотезы и установили:\n",
    "\n",
    "1. День недели по-разному влияет на активность пользователей в Москве и Петербурге. \n",
    "\n",
    "Первая гипотеза полностью подтвердилась.\n",
    "\n",
    "2. Музыкальные предпочтения не сильно меняются в течение недели — будь то Москва или Петербург. Небольшие различия заметны в начале недели, по понедельникам:\n",
    "* в Москве слушают музыку жанра “world”,\n",
    "* в Петербурге — джаз и классику.\n",
    "\n",
    "Таким образом, вторая гипотеза подтвердилась лишь отчасти. Этот результат мог оказаться иным, если бы не пропуски в данных.\n",
    "\n",
    "3. Во вкусах пользователей Москвы и Петербурга больше общего чем различий. Вопреки ожиданиям, предпочтения жанров в Петербурге напоминают московские.\n",
    "\n",
    "Третья гипотеза не подтвердилась. Если различия в предпочтениях и существуют, на основной массе пользователей они незаметны.\n",
    "\n",
    "**На практике исследования содержат проверки статистических гипотез.**\n",
    "Из данных одного сервиса не всегда можно сделать вывод о всех жителях города.\n",
    "Проверки статистических гипотез покажут, насколько они достоверны, исходя из имеющихся данных. \n",
    "С методами проверок гипотез вы ещё познакомитесь в следующих темах."
   ]
  },
  {
   "cell_type": "code",
   "execution_count": null,
   "metadata": {},
   "outputs": [],
   "source": []
  }
 ],
 "metadata": {
  "ExecuteTimeLog": [
   {
    "duration": 749,
    "start_time": "2021-10-14T15:28:43.873Z"
   },
   {
    "duration": 3319,
    "start_time": "2021-10-14T15:29:45.009Z"
   },
   {
    "duration": 185,
    "start_time": "2021-10-14T15:30:10.469Z"
   },
   {
    "duration": 26,
    "start_time": "2021-10-14T15:30:39.876Z"
   },
   {
    "duration": 34,
    "start_time": "2021-10-14T15:31:08.201Z"
   },
   {
    "duration": 300,
    "start_time": "2021-10-14T15:44:14.341Z"
   },
   {
    "duration": 6,
    "start_time": "2021-10-14T15:44:21.199Z"
   },
   {
    "duration": 101,
    "start_time": "2021-10-14T15:47:07.421Z"
   },
   {
    "duration": 155,
    "start_time": "2021-10-14T15:48:12.086Z"
   },
   {
    "duration": 590,
    "start_time": "2021-10-14T15:48:20.729Z"
   },
   {
    "duration": 85,
    "start_time": "2021-10-14T15:48:26.481Z"
   },
   {
    "duration": 107,
    "start_time": "2021-10-14T15:48:53.843Z"
   },
   {
    "duration": 6,
    "start_time": "2021-10-14T15:49:29.518Z"
   },
   {
    "duration": 82,
    "start_time": "2021-10-14T15:49:43.522Z"
   },
   {
    "duration": 25,
    "start_time": "2021-10-14T15:50:05.104Z"
   },
   {
    "duration": 5,
    "start_time": "2021-10-14T15:50:11.303Z"
   },
   {
    "duration": 28,
    "start_time": "2021-10-14T15:50:36.298Z"
   },
   {
    "duration": 34,
    "start_time": "2021-10-14T15:52:34.352Z"
   },
   {
    "duration": 30,
    "start_time": "2021-10-14T15:53:04.948Z"
   },
   {
    "duration": 314,
    "start_time": "2021-10-14T16:03:41.937Z"
   },
   {
    "duration": 313,
    "start_time": "2021-10-14T16:05:25.594Z"
   },
   {
    "duration": 9125,
    "start_time": "2021-10-14T16:05:58.313Z"
   },
   {
    "duration": 281,
    "start_time": "2021-10-14T16:08:11.855Z"
   },
   {
    "duration": 19,
    "start_time": "2021-10-14T16:09:13.917Z"
   },
   {
    "duration": 30,
    "start_time": "2021-10-14T16:09:38.664Z"
   },
   {
    "duration": 17,
    "start_time": "2021-10-14T16:09:46.130Z"
   },
   {
    "duration": 30,
    "start_time": "2021-10-14T16:09:56.759Z"
   },
   {
    "duration": 18,
    "start_time": "2021-10-14T16:10:45.721Z"
   },
   {
    "duration": 47,
    "start_time": "2021-10-14T16:10:51.467Z"
   },
   {
    "duration": 51,
    "start_time": "2021-10-14T16:11:02.074Z"
   },
   {
    "duration": 20,
    "start_time": "2021-10-14T16:11:34.379Z"
   },
   {
    "duration": 30,
    "start_time": "2021-10-14T16:11:37.628Z"
   },
   {
    "duration": 30,
    "start_time": "2021-10-14T16:11:45.435Z"
   },
   {
    "duration": 36,
    "start_time": "2021-10-14T16:13:23.684Z"
   },
   {
    "duration": 33,
    "start_time": "2021-10-14T16:13:28.940Z"
   },
   {
    "duration": 30,
    "start_time": "2021-10-14T16:13:40.052Z"
   },
   {
    "duration": 6,
    "start_time": "2021-10-14T16:15:06.892Z"
   },
   {
    "duration": 31,
    "start_time": "2021-10-14T16:15:09.995Z"
   },
   {
    "duration": 23,
    "start_time": "2021-10-14T16:15:13.640Z"
   },
   {
    "duration": 32,
    "start_time": "2021-10-14T16:15:16.370Z"
   },
   {
    "duration": 86,
    "start_time": "2021-10-14T16:20:03.186Z"
   },
   {
    "duration": 93,
    "start_time": "2021-10-14T16:20:59.184Z"
   },
   {
    "duration": 77,
    "start_time": "2021-10-14T16:21:11.379Z"
   },
   {
    "duration": 8,
    "start_time": "2021-10-14T16:25:15.994Z"
   },
   {
    "duration": 7,
    "start_time": "2021-10-14T16:25:36.806Z"
   },
   {
    "duration": 8582,
    "start_time": "2021-10-14T16:26:29.572Z"
   },
   {
    "duration": 8,
    "start_time": "2021-10-14T16:26:58.137Z"
   },
   {
    "duration": 8,
    "start_time": "2021-10-14T16:27:41.359Z"
   },
   {
    "duration": 114,
    "start_time": "2021-10-14T16:29:20.942Z"
   },
   {
    "duration": 448,
    "start_time": "2021-10-14T16:29:33.554Z"
   },
   {
    "duration": 8,
    "start_time": "2021-10-14T16:29:44.554Z"
   },
   {
    "duration": 8,
    "start_time": "2021-10-14T16:30:33.815Z"
   },
   {
    "duration": 8,
    "start_time": "2021-10-14T16:39:35.771Z"
   },
   {
    "duration": 39,
    "start_time": "2021-10-14T16:45:43.491Z"
   },
   {
    "duration": 29,
    "start_time": "2021-10-14T16:45:49.607Z"
   },
   {
    "duration": 77,
    "start_time": "2021-10-14T16:45:53.071Z"
   },
   {
    "duration": 89,
    "start_time": "2021-10-14T16:45:57.103Z"
   },
   {
    "duration": 74,
    "start_time": "2021-10-14T16:46:00.540Z"
   },
   {
    "duration": 8,
    "start_time": "2021-10-14T16:46:03.946Z"
   },
   {
    "duration": 34,
    "start_time": "2021-10-14T16:47:43.198Z"
   },
   {
    "duration": 32,
    "start_time": "2021-10-14T16:47:46.631Z"
   },
   {
    "duration": 78,
    "start_time": "2021-10-14T16:47:50.097Z"
   },
   {
    "duration": 83,
    "start_time": "2021-10-14T16:47:53.297Z"
   },
   {
    "duration": 73,
    "start_time": "2021-10-14T16:47:56.571Z"
   },
   {
    "duration": 7,
    "start_time": "2021-10-14T16:47:58.956Z"
   },
   {
    "duration": 396,
    "start_time": "2021-10-14T16:58:55.998Z"
   },
   {
    "duration": 294,
    "start_time": "2021-10-14T17:02:35.745Z"
   },
   {
    "duration": 946,
    "start_time": "2021-10-14T17:03:28.291Z"
   },
   {
    "duration": 109,
    "start_time": "2021-10-14T17:04:14.305Z"
   },
   {
    "duration": 509,
    "start_time": "2021-10-14T17:04:18.739Z"
   },
   {
    "duration": 490,
    "start_time": "2021-10-14T17:04:43.644Z"
   },
   {
    "duration": 501,
    "start_time": "2021-10-14T17:05:31.134Z"
   },
   {
    "duration": 206,
    "start_time": "2021-10-14T17:05:54.754Z"
   },
   {
    "duration": 506,
    "start_time": "2021-10-14T17:06:30.992Z"
   },
   {
    "duration": 201,
    "start_time": "2021-10-14T17:07:06.867Z"
   },
   {
    "duration": 501,
    "start_time": "2021-10-14T17:11:17.195Z"
   },
   {
    "duration": 493,
    "start_time": "2021-10-14T17:11:39.928Z"
   },
   {
    "duration": 198,
    "start_time": "2021-10-14T17:14:35.090Z"
   },
   {
    "duration": 7822,
    "start_time": "2021-10-14T17:35:53.394Z"
   },
   {
    "duration": 7214,
    "start_time": "2021-10-14T17:36:17.287Z"
   },
   {
    "duration": 35,
    "start_time": "2021-10-14T17:41:34.445Z"
   },
   {
    "duration": 34,
    "start_time": "2021-10-14T17:41:55.142Z"
   },
   {
    "duration": 7685,
    "start_time": "2021-10-14T17:42:04.765Z"
   },
   {
    "duration": 7018,
    "start_time": "2021-10-14T17:42:37.266Z"
   },
   {
    "duration": 6,
    "start_time": "2021-10-14T17:43:03.248Z"
   },
   {
    "duration": 5,
    "start_time": "2021-10-14T17:43:15.259Z"
   },
   {
    "duration": 21,
    "start_time": "2021-10-14T17:43:21.138Z"
   },
   {
    "duration": 5,
    "start_time": "2021-10-14T17:43:26.167Z"
   },
   {
    "duration": 32,
    "start_time": "2021-10-14T17:43:30.280Z"
   },
   {
    "duration": 38,
    "start_time": "2021-10-14T17:43:34.975Z"
   },
   {
    "duration": 33,
    "start_time": "2021-10-14T17:43:49.395Z"
   },
   {
    "duration": 83,
    "start_time": "2021-10-14T17:43:54.610Z"
   },
   {
    "duration": 97,
    "start_time": "2021-10-14T17:44:01.998Z"
   },
   {
    "duration": 83,
    "start_time": "2021-10-14T17:44:05.690Z"
   },
   {
    "duration": 189,
    "start_time": "2021-10-14T17:45:26.952Z"
   },
   {
    "duration": 15,
    "start_time": "2021-10-14T17:57:33.358Z"
   },
   {
    "duration": 11,
    "start_time": "2021-10-14T18:00:25.305Z"
   },
   {
    "duration": 238,
    "start_time": "2021-10-15T10:01:07.111Z"
   },
   {
    "duration": 505,
    "start_time": "2021-10-15T10:01:18.725Z"
   },
   {
    "duration": 3,
    "start_time": "2021-10-15T10:01:21.416Z"
   },
   {
    "duration": 132,
    "start_time": "2021-10-15T10:01:25.499Z"
   },
   {
    "duration": 16,
    "start_time": "2021-10-15T10:01:27.049Z"
   },
   {
    "duration": 25,
    "start_time": "2021-10-15T10:01:31.138Z"
   },
   {
    "duration": 4,
    "start_time": "2021-10-15T10:01:35.422Z"
   },
   {
    "duration": 21,
    "start_time": "2021-10-15T10:01:42.691Z"
   },
   {
    "duration": 4,
    "start_time": "2021-10-15T10:01:48.185Z"
   },
   {
    "duration": 22,
    "start_time": "2021-10-15T10:01:52.615Z"
   },
   {
    "duration": 16,
    "start_time": "2021-10-15T10:01:57.437Z"
   },
   {
    "duration": 22,
    "start_time": "2021-10-15T10:02:03.325Z"
   },
   {
    "duration": 57,
    "start_time": "2021-10-15T10:02:08.212Z"
   },
   {
    "duration": 70,
    "start_time": "2021-10-15T10:02:12.929Z"
   },
   {
    "duration": 50,
    "start_time": "2021-10-15T10:02:15.826Z"
   },
   {
    "duration": 134,
    "start_time": "2021-10-15T10:02:19.379Z"
   },
   {
    "duration": 3,
    "start_time": "2021-10-15T10:02:48.633Z"
   },
   {
    "duration": 9,
    "start_time": "2021-10-15T10:02:51.445Z"
   },
   {
    "duration": 6,
    "start_time": "2021-10-15T10:02:55.354Z"
   },
   {
    "duration": 216,
    "start_time": "2021-10-15T10:05:21.942Z"
   },
   {
    "duration": 78,
    "start_time": "2021-10-15T10:07:41.757Z"
   },
   {
    "duration": 77,
    "start_time": "2021-10-15T10:08:07.844Z"
   },
   {
    "duration": 178,
    "start_time": "2021-10-15T10:08:36.815Z"
   },
   {
    "duration": 7,
    "start_time": "2021-10-15T10:08:44.365Z"
   },
   {
    "duration": 199,
    "start_time": "2021-10-15T10:09:16.039Z"
   },
   {
    "duration": 7,
    "start_time": "2021-10-15T10:09:31.959Z"
   },
   {
    "duration": 183,
    "start_time": "2021-10-15T10:11:16.304Z"
   },
   {
    "duration": 186,
    "start_time": "2021-10-15T10:13:06.738Z"
   },
   {
    "duration": 166,
    "start_time": "2021-10-15T10:14:34.914Z"
   },
   {
    "duration": 188,
    "start_time": "2021-10-15T10:14:48.503Z"
   },
   {
    "duration": 225,
    "start_time": "2021-10-15T10:15:18.286Z"
   },
   {
    "duration": 182,
    "start_time": "2021-10-15T10:15:44.158Z"
   },
   {
    "duration": 192,
    "start_time": "2021-10-15T10:15:54.713Z"
   },
   {
    "duration": 190,
    "start_time": "2021-10-15T10:32:01.429Z"
   },
   {
    "duration": 62,
    "start_time": "2021-10-15T10:34:17.420Z"
   },
   {
    "duration": 349,
    "start_time": "2021-10-15T10:34:27.078Z"
   },
   {
    "duration": 320,
    "start_time": "2021-10-15T10:35:07.761Z"
   },
   {
    "duration": 473,
    "start_time": "2021-10-15T10:37:00.169Z"
   },
   {
    "duration": 57,
    "start_time": "2021-10-15T10:38:47.664Z"
   },
   {
    "duration": 304,
    "start_time": "2021-10-15T10:38:57.556Z"
   },
   {
    "duration": 398,
    "start_time": "2021-10-15T10:39:13.600Z"
   },
   {
    "duration": 305,
    "start_time": "2021-10-15T10:39:33.599Z"
   },
   {
    "duration": 308,
    "start_time": "2021-10-15T10:41:20.048Z"
   },
   {
    "duration": 323,
    "start_time": "2021-10-15T10:41:33.459Z"
   },
   {
    "duration": 304,
    "start_time": "2021-10-15T10:44:16.734Z"
   },
   {
    "duration": 753,
    "start_time": "2021-10-16T05:55:28.645Z"
   },
   {
    "duration": 175,
    "start_time": "2021-10-16T05:55:29.401Z"
   },
   {
    "duration": 24,
    "start_time": "2021-10-16T05:55:29.585Z"
   },
   {
    "duration": 31,
    "start_time": "2021-10-16T05:55:29.611Z"
   },
   {
    "duration": 38,
    "start_time": "2021-10-16T05:55:29.645Z"
   },
   {
    "duration": 25,
    "start_time": "2021-10-16T05:55:29.685Z"
   },
   {
    "duration": 6,
    "start_time": "2021-10-16T05:55:29.715Z"
   },
   {
    "duration": 30,
    "start_time": "2021-10-16T05:55:29.724Z"
   },
   {
    "duration": 22,
    "start_time": "2021-10-16T05:55:29.783Z"
   },
   {
    "duration": 30,
    "start_time": "2021-10-16T05:55:29.808Z"
   },
   {
    "duration": 113,
    "start_time": "2021-10-16T05:55:29.840Z"
   },
   {
    "duration": 115,
    "start_time": "2021-10-16T05:55:29.955Z"
   },
   {
    "duration": 81,
    "start_time": "2021-10-16T05:55:30.072Z"
   },
   {
    "duration": 204,
    "start_time": "2021-10-16T05:55:30.155Z"
   },
   {
    "duration": 5,
    "start_time": "2021-10-16T05:55:30.362Z"
   },
   {
    "duration": 42,
    "start_time": "2021-10-16T05:55:30.369Z"
   },
   {
    "duration": 24,
    "start_time": "2021-10-16T05:55:30.413Z"
   },
   {
    "duration": 1023,
    "start_time": "2021-10-16T05:55:30.439Z"
   },
   {
    "duration": 1527,
    "start_time": "2021-10-16T05:55:29.939Z"
   },
   {
    "duration": 1523,
    "start_time": "2021-10-16T05:55:29.944Z"
   },
   {
    "duration": 1521,
    "start_time": "2021-10-16T05:55:29.948Z"
   },
   {
    "duration": 1518,
    "start_time": "2021-10-16T05:55:29.953Z"
   },
   {
    "duration": 1516,
    "start_time": "2021-10-16T05:55:29.957Z"
   },
   {
    "duration": 1514,
    "start_time": "2021-10-16T05:55:29.961Z"
   },
   {
    "duration": 1513,
    "start_time": "2021-10-16T05:55:29.965Z"
   },
   {
    "duration": 1510,
    "start_time": "2021-10-16T05:55:29.969Z"
   },
   {
    "duration": 1499,
    "start_time": "2021-10-16T05:55:29.982Z"
   },
   {
    "duration": 1496,
    "start_time": "2021-10-16T05:55:29.987Z"
   },
   {
    "duration": 1494,
    "start_time": "2021-10-16T05:55:29.991Z"
   },
   {
    "duration": 1494,
    "start_time": "2021-10-16T05:55:29.994Z"
   },
   {
    "duration": 1493,
    "start_time": "2021-10-16T05:55:29.997Z"
   },
   {
    "duration": 1492,
    "start_time": "2021-10-16T05:55:29.999Z"
   },
   {
    "duration": 1489,
    "start_time": "2021-10-16T05:55:30.004Z"
   },
   {
    "duration": 1488,
    "start_time": "2021-10-16T05:55:30.008Z"
   },
   {
    "duration": 1487,
    "start_time": "2021-10-16T05:55:30.011Z"
   },
   {
    "duration": 1486,
    "start_time": "2021-10-16T05:55:30.014Z"
   },
   {
    "duration": 1485,
    "start_time": "2021-10-16T05:55:30.017Z"
   },
   {
    "duration": 1484,
    "start_time": "2021-10-16T05:55:30.020Z"
   },
   {
    "duration": 284,
    "start_time": "2021-10-16T05:56:09.136Z"
   },
   {
    "duration": 18,
    "start_time": "2021-10-16T05:56:19.070Z"
   },
   {
    "duration": 7,
    "start_time": "2021-10-16T06:01:10.280Z"
   },
   {
    "duration": 6,
    "start_time": "2021-10-16T06:17:02.707Z"
   },
   {
    "duration": 10,
    "start_time": "2021-10-16T07:05:33.136Z"
   },
   {
    "duration": 15,
    "start_time": "2021-10-16T07:06:13.913Z"
   },
   {
    "duration": 20,
    "start_time": "2021-10-16T07:09:20.209Z"
   },
   {
    "duration": 28,
    "start_time": "2021-10-16T07:09:27.403Z"
   },
   {
    "duration": 14,
    "start_time": "2021-10-16T07:09:58.976Z"
   },
   {
    "duration": 4,
    "start_time": "2021-10-16T07:11:23.590Z"
   },
   {
    "duration": 173,
    "start_time": "2021-10-16T07:11:25.085Z"
   },
   {
    "duration": 16,
    "start_time": "2021-10-16T07:11:26.861Z"
   },
   {
    "duration": 30,
    "start_time": "2021-10-16T07:11:28.175Z"
   },
   {
    "duration": 6,
    "start_time": "2021-10-16T07:11:32.006Z"
   },
   {
    "duration": 17,
    "start_time": "2021-10-16T07:11:33.954Z"
   },
   {
    "duration": 5,
    "start_time": "2021-10-16T07:11:35.022Z"
   },
   {
    "duration": 30,
    "start_time": "2021-10-16T07:11:36.574Z"
   },
   {
    "duration": 18,
    "start_time": "2021-10-16T07:11:38.378Z"
   },
   {
    "duration": 31,
    "start_time": "2021-10-16T07:11:46.030Z"
   },
   {
    "duration": 286,
    "start_time": "2021-10-16T07:12:03.037Z"
   },
   {
    "duration": 343,
    "start_time": "2021-10-16T07:12:14.222Z"
   },
   {
    "duration": 231,
    "start_time": "2021-10-16T07:31:45.751Z"
   },
   {
    "duration": 281,
    "start_time": "2021-10-16T07:32:13.479Z"
   },
   {
    "duration": 30,
    "start_time": "2021-10-16T07:32:26.559Z"
   },
   {
    "duration": 209,
    "start_time": "2021-10-16T07:33:06.057Z"
   },
   {
    "duration": 25,
    "start_time": "2021-10-16T07:35:00.813Z"
   },
   {
    "duration": 52,
    "start_time": "2021-10-16T07:35:06.720Z"
   },
   {
    "duration": 21,
    "start_time": "2021-10-16T07:35:23.948Z"
   },
   {
    "duration": 33,
    "start_time": "2021-10-16T07:35:26.392Z"
   },
   {
    "duration": 3,
    "start_time": "2021-10-16T07:35:55.538Z"
   },
   {
    "duration": 185,
    "start_time": "2021-10-16T07:35:56.437Z"
   },
   {
    "duration": 16,
    "start_time": "2021-10-16T07:35:57.710Z"
   },
   {
    "duration": 30,
    "start_time": "2021-10-16T07:35:58.737Z"
   },
   {
    "duration": 6,
    "start_time": "2021-10-16T07:36:01.596Z"
   },
   {
    "duration": 18,
    "start_time": "2021-10-16T07:36:02.873Z"
   },
   {
    "duration": 5,
    "start_time": "2021-10-16T07:36:03.932Z"
   },
   {
    "duration": 30,
    "start_time": "2021-10-16T07:36:05.316Z"
   },
   {
    "duration": 28,
    "start_time": "2021-10-16T07:36:06.767Z"
   },
   {
    "duration": 31,
    "start_time": "2021-10-16T07:36:08.476Z"
   },
   {
    "duration": 78,
    "start_time": "2021-10-16T07:36:09.924Z"
   },
   {
    "duration": 96,
    "start_time": "2021-10-16T07:36:10.880Z"
   },
   {
    "duration": 74,
    "start_time": "2021-10-16T07:36:11.924Z"
   },
   {
    "duration": 10,
    "start_time": "2021-10-16T07:36:14.215Z"
   },
   {
    "duration": 4,
    "start_time": "2021-10-16T07:36:24.972Z"
   },
   {
    "duration": 14,
    "start_time": "2021-10-16T07:36:26.140Z"
   },
   {
    "duration": 10,
    "start_time": "2021-10-16T07:36:27.235Z"
   },
   {
    "duration": 14,
    "start_time": "2021-10-16T07:36:32.156Z"
   },
   {
    "duration": 15,
    "start_time": "2021-10-16T07:37:30.162Z"
   },
   {
    "duration": 5,
    "start_time": "2021-10-16T07:47:05.823Z"
   },
   {
    "duration": 7003,
    "start_time": "2021-10-16T07:48:03.518Z"
   },
   {
    "duration": 5,
    "start_time": "2021-10-16T07:48:26.694Z"
   },
   {
    "duration": 22,
    "start_time": "2021-10-16T07:48:31.154Z"
   },
   {
    "duration": 5,
    "start_time": "2021-10-16T07:48:59.724Z"
   },
   {
    "duration": 23,
    "start_time": "2021-10-16T07:49:04.005Z"
   },
   {
    "duration": 19,
    "start_time": "2021-10-16T07:52:02.885Z"
   },
   {
    "duration": 20,
    "start_time": "2021-10-16T07:52:12.811Z"
   },
   {
    "duration": 20,
    "start_time": "2021-10-16T07:52:17.992Z"
   },
   {
    "duration": 21,
    "start_time": "2021-10-16T07:52:22.411Z"
   },
   {
    "duration": 20,
    "start_time": "2021-10-16T07:52:27.177Z"
   },
   {
    "duration": 4,
    "start_time": "2021-10-16T07:53:26.642Z"
   },
   {
    "duration": 515,
    "start_time": "2021-10-16T07:53:33.178Z"
   },
   {
    "duration": 4,
    "start_time": "2021-10-16T07:54:01.512Z"
   },
   {
    "duration": 21,
    "start_time": "2021-10-16T07:54:05.024Z"
   },
   {
    "duration": 96,
    "start_time": "2021-10-16T07:54:53.489Z"
   },
   {
    "duration": 107,
    "start_time": "2021-10-16T07:55:12.712Z"
   },
   {
    "duration": 77,
    "start_time": "2021-10-16T07:55:27.732Z"
   },
   {
    "duration": 5,
    "start_time": "2021-10-16T07:57:44.531Z"
   },
   {
    "duration": 21,
    "start_time": "2021-10-16T07:57:49.065Z"
   },
   {
    "duration": 364,
    "start_time": "2021-10-16T08:01:11.985Z"
   },
   {
    "duration": 6,
    "start_time": "2021-10-16T08:01:50.143Z"
   },
   {
    "duration": 4,
    "start_time": "2021-10-16T08:02:15.686Z"
   },
   {
    "duration": 173,
    "start_time": "2021-10-16T08:02:16.339Z"
   },
   {
    "duration": 16,
    "start_time": "2021-10-16T08:02:19.000Z"
   },
   {
    "duration": 33,
    "start_time": "2021-10-16T08:02:20.296Z"
   },
   {
    "duration": 7,
    "start_time": "2021-10-16T08:02:22.689Z"
   },
   {
    "duration": 16,
    "start_time": "2021-10-16T08:02:23.534Z"
   },
   {
    "duration": 5,
    "start_time": "2021-10-16T08:02:24.354Z"
   },
   {
    "duration": 30,
    "start_time": "2021-10-16T08:02:25.456Z"
   },
   {
    "duration": 23,
    "start_time": "2021-10-16T08:02:26.923Z"
   },
   {
    "duration": 31,
    "start_time": "2021-10-16T08:02:29.512Z"
   },
   {
    "duration": 86,
    "start_time": "2021-10-16T08:02:30.511Z"
   },
   {
    "duration": 107,
    "start_time": "2021-10-16T08:02:31.382Z"
   },
   {
    "duration": 75,
    "start_time": "2021-10-16T08:02:32.050Z"
   },
   {
    "duration": 9,
    "start_time": "2021-10-16T08:02:32.945Z"
   },
   {
    "duration": 5,
    "start_time": "2021-10-16T08:02:34.943Z"
   },
   {
    "duration": 14,
    "start_time": "2021-10-16T08:02:36.289Z"
   },
   {
    "duration": 9,
    "start_time": "2021-10-16T08:02:37.246Z"
   },
   {
    "duration": 15,
    "start_time": "2021-10-16T08:02:39.670Z"
   },
   {
    "duration": 17,
    "start_time": "2021-10-16T08:02:43.005Z"
   },
   {
    "duration": 5,
    "start_time": "2021-10-16T08:02:44.718Z"
   },
   {
    "duration": 36,
    "start_time": "2021-10-16T08:02:46.502Z"
   },
   {
    "duration": 20,
    "start_time": "2021-10-16T08:02:47.558Z"
   },
   {
    "duration": 20,
    "start_time": "2021-10-16T08:02:47.962Z"
   },
   {
    "duration": 18,
    "start_time": "2021-10-16T08:02:48.523Z"
   },
   {
    "duration": 21,
    "start_time": "2021-10-16T08:02:49.062Z"
   },
   {
    "duration": 20,
    "start_time": "2021-10-16T08:02:49.568Z"
   },
   {
    "duration": 6,
    "start_time": "2021-10-16T08:02:50.994Z"
   },
   {
    "duration": 9,
    "start_time": "2021-10-16T08:03:24.821Z"
   },
   {
    "duration": 10,
    "start_time": "2021-10-16T08:05:03.600Z"
   },
   {
    "duration": 8,
    "start_time": "2021-10-16T08:43:23.055Z"
   },
   {
    "duration": 8,
    "start_time": "2021-10-16T08:46:29.721Z"
   },
   {
    "duration": 5,
    "start_time": "2021-10-16T08:56:03.871Z"
   },
   {
    "duration": 6,
    "start_time": "2021-10-16T08:59:19.375Z"
   },
   {
    "duration": 27,
    "start_time": "2021-10-16T09:03:40.211Z"
   },
   {
    "duration": 5,
    "start_time": "2021-10-16T09:04:08.872Z"
   },
   {
    "duration": 25,
    "start_time": "2021-10-16T09:04:12.156Z"
   },
   {
    "duration": 28,
    "start_time": "2021-10-16T09:04:47.221Z"
   },
   {
    "duration": 106,
    "start_time": "2021-10-16T09:05:53.523Z"
   },
   {
    "duration": 101,
    "start_time": "2021-10-16T09:06:01.220Z"
   },
   {
    "duration": 104,
    "start_time": "2021-10-16T09:06:07.864Z"
   },
   {
    "duration": 5,
    "start_time": "2021-10-16T09:06:13.306Z"
   },
   {
    "duration": 42,
    "start_time": "2021-10-16T09:06:16.871Z"
   },
   {
    "duration": 6,
    "start_time": "2021-10-16T09:07:50.739Z"
   },
   {
    "duration": 25,
    "start_time": "2021-10-16T09:07:53.275Z"
   },
   {
    "duration": 28,
    "start_time": "2021-10-16T09:08:13.390Z"
   },
   {
    "duration": 5,
    "start_time": "2021-10-16T09:10:21.174Z"
   },
   {
    "duration": 8488,
    "start_time": "2021-10-16T09:10:25.122Z"
   },
   {
    "duration": 6,
    "start_time": "2021-10-16T09:10:51.444Z"
   },
   {
    "duration": 706,
    "start_time": "2021-10-16T09:10:55.473Z"
   },
   {
    "duration": 5,
    "start_time": "2021-10-16T09:11:19.459Z"
   },
   {
    "duration": 30,
    "start_time": "2021-10-16T09:11:22.364Z"
   },
   {
    "duration": 93,
    "start_time": "2021-10-16T09:11:47.774Z"
   },
   {
    "duration": 7,
    "start_time": "2021-10-16T09:12:01.645Z"
   },
   {
    "duration": 28,
    "start_time": "2021-10-16T09:12:05.371Z"
   },
   {
    "duration": 26,
    "start_time": "2021-10-16T09:12:17.415Z"
   },
   {
    "duration": 14,
    "start_time": "2021-10-16T09:14:22.459Z"
   },
   {
    "duration": 14,
    "start_time": "2021-10-16T09:14:27.163Z"
   },
   {
    "duration": 6,
    "start_time": "2021-10-16T09:14:30.654Z"
   },
   {
    "duration": 26,
    "start_time": "2021-10-16T09:14:34.052Z"
   },
   {
    "duration": 4,
    "start_time": "2021-10-16T09:15:47.501Z"
   },
   {
    "duration": 181,
    "start_time": "2021-10-16T09:15:49.050Z"
   },
   {
    "duration": 16,
    "start_time": "2021-10-16T09:15:50.222Z"
   },
   {
    "duration": 38,
    "start_time": "2021-10-16T09:15:51.159Z"
   },
   {
    "duration": 6,
    "start_time": "2021-10-16T09:15:53.386Z"
   },
   {
    "duration": 18,
    "start_time": "2021-10-16T09:15:54.518Z"
   },
   {
    "duration": 6,
    "start_time": "2021-10-16T09:15:55.309Z"
   },
   {
    "duration": 37,
    "start_time": "2021-10-16T09:15:56.276Z"
   },
   {
    "duration": 24,
    "start_time": "2021-10-16T09:15:57.347Z"
   },
   {
    "duration": 32,
    "start_time": "2021-10-16T09:15:59.308Z"
   },
   {
    "duration": 88,
    "start_time": "2021-10-16T09:16:00.493Z"
   },
   {
    "duration": 107,
    "start_time": "2021-10-16T09:16:01.038Z"
   },
   {
    "duration": 77,
    "start_time": "2021-10-16T09:16:01.600Z"
   },
   {
    "duration": 10,
    "start_time": "2021-10-16T09:16:02.445Z"
   },
   {
    "duration": 4,
    "start_time": "2021-10-16T09:16:03.755Z"
   },
   {
    "duration": 14,
    "start_time": "2021-10-16T09:16:04.356Z"
   },
   {
    "duration": 10,
    "start_time": "2021-10-16T09:16:08.269Z"
   },
   {
    "duration": 14,
    "start_time": "2021-10-16T09:16:11.245Z"
   },
   {
    "duration": 19,
    "start_time": "2021-10-16T09:16:13.380Z"
   },
   {
    "duration": 5,
    "start_time": "2021-10-16T09:16:23.825Z"
   },
   {
    "duration": 20,
    "start_time": "2021-10-16T09:16:27.561Z"
   },
   {
    "duration": 19,
    "start_time": "2021-10-16T09:16:28.744Z"
   },
   {
    "duration": 19,
    "start_time": "2021-10-16T09:16:29.856Z"
   },
   {
    "duration": 20,
    "start_time": "2021-10-16T09:16:30.336Z"
   },
   {
    "duration": 23,
    "start_time": "2021-10-16T09:16:30.789Z"
   },
   {
    "duration": 19,
    "start_time": "2021-10-16T09:16:31.220Z"
   },
   {
    "duration": 10,
    "start_time": "2021-10-16T09:16:33.700Z"
   },
   {
    "duration": 18,
    "start_time": "2021-10-16T09:16:36.928Z"
   },
   {
    "duration": 20,
    "start_time": "2021-10-16T09:16:37.985Z"
   },
   {
    "duration": 7,
    "start_time": "2021-10-16T09:16:39.883Z"
   },
   {
    "duration": 25,
    "start_time": "2021-10-16T09:16:42.528Z"
   },
   {
    "duration": 5,
    "start_time": "2021-10-16T09:22:06.952Z"
   },
   {
    "duration": 28,
    "start_time": "2021-10-16T09:22:09.066Z"
   },
   {
    "duration": 28,
    "start_time": "2021-10-16T09:22:46.412Z"
   },
   {
    "duration": 21,
    "start_time": "2021-10-16T09:24:01.275Z"
   },
   {
    "duration": 14,
    "start_time": "2021-10-16T09:24:02.770Z"
   },
   {
    "duration": 6,
    "start_time": "2021-10-16T09:24:04.884Z"
   },
   {
    "duration": 30,
    "start_time": "2021-10-16T09:24:06.038Z"
   },
   {
    "duration": 28,
    "start_time": "2021-10-16T09:24:07.013Z"
   },
   {
    "duration": 3,
    "start_time": "2021-10-16T09:24:07.570Z"
   },
   {
    "duration": 45,
    "start_time": "2021-10-16T09:26:13.192Z"
   },
   {
    "duration": 31,
    "start_time": "2021-10-16T09:26:15.426Z"
   },
   {
    "duration": 6,
    "start_time": "2021-10-16T09:27:21.212Z"
   },
   {
    "duration": 29,
    "start_time": "2021-10-16T09:27:23.219Z"
   },
   {
    "duration": 27,
    "start_time": "2021-10-16T09:27:24.064Z"
   },
   {
    "duration": 31,
    "start_time": "2021-10-16T09:27:25.690Z"
   },
   {
    "duration": 30,
    "start_time": "2021-10-16T09:27:26.496Z"
   },
   {
    "duration": 4,
    "start_time": "2021-10-16T09:28:20.170Z"
   },
   {
    "duration": 183,
    "start_time": "2021-10-16T09:28:21.420Z"
   },
   {
    "duration": 15,
    "start_time": "2021-10-16T09:28:22.397Z"
   },
   {
    "duration": 34,
    "start_time": "2021-10-16T09:28:23.252Z"
   },
   {
    "duration": 5,
    "start_time": "2021-10-16T09:28:26.051Z"
   },
   {
    "duration": 22,
    "start_time": "2021-10-16T09:28:27.226Z"
   },
   {
    "duration": 5,
    "start_time": "2021-10-16T09:28:28.083Z"
   },
   {
    "duration": 30,
    "start_time": "2021-10-16T09:28:29.026Z"
   },
   {
    "duration": 22,
    "start_time": "2021-10-16T09:28:29.938Z"
   },
   {
    "duration": 32,
    "start_time": "2021-10-16T09:28:30.795Z"
   },
   {
    "duration": 128,
    "start_time": "2021-10-16T09:28:31.379Z"
   },
   {
    "duration": 94,
    "start_time": "2021-10-16T09:28:31.971Z"
   },
   {
    "duration": 73,
    "start_time": "2021-10-16T09:28:32.475Z"
   },
   {
    "duration": 10,
    "start_time": "2021-10-16T09:28:33.290Z"
   },
   {
    "duration": 4,
    "start_time": "2021-10-16T09:28:34.338Z"
   },
   {
    "duration": 13,
    "start_time": "2021-10-16T09:28:34.821Z"
   },
   {
    "duration": 10,
    "start_time": "2021-10-16T09:28:35.322Z"
   },
   {
    "duration": 15,
    "start_time": "2021-10-16T09:28:38.060Z"
   },
   {
    "duration": 15,
    "start_time": "2021-10-16T09:28:41.396Z"
   },
   {
    "duration": 5,
    "start_time": "2021-10-16T09:28:43.858Z"
   },
   {
    "duration": 32,
    "start_time": "2021-10-16T09:28:45.698Z"
   },
   {
    "duration": 20,
    "start_time": "2021-10-16T09:28:46.698Z"
   },
   {
    "duration": 21,
    "start_time": "2021-10-16T09:28:47.138Z"
   },
   {
    "duration": 31,
    "start_time": "2021-10-16T09:28:47.723Z"
   },
   {
    "duration": 52,
    "start_time": "2021-10-16T09:28:48.407Z"
   },
   {
    "duration": 22,
    "start_time": "2021-10-16T09:28:49.020Z"
   },
   {
    "duration": 9,
    "start_time": "2021-10-16T09:28:50.675Z"
   },
   {
    "duration": 25,
    "start_time": "2021-10-16T09:28:57.331Z"
   },
   {
    "duration": 17,
    "start_time": "2021-10-16T09:28:58.107Z"
   },
   {
    "duration": 5,
    "start_time": "2021-10-16T09:28:59.261Z"
   },
   {
    "duration": 29,
    "start_time": "2021-10-16T09:29:00.662Z"
   },
   {
    "duration": 30,
    "start_time": "2021-10-16T09:29:01.487Z"
   },
   {
    "duration": 37,
    "start_time": "2021-10-16T09:29:03.166Z"
   },
   {
    "duration": 33,
    "start_time": "2021-10-16T09:29:04.006Z"
   },
   {
    "duration": 6,
    "start_time": "2021-10-16T09:43:53.503Z"
   },
   {
    "duration": 35,
    "start_time": "2021-10-16T09:43:59.018Z"
   },
   {
    "duration": 29,
    "start_time": "2021-10-16T09:44:02.020Z"
   },
   {
    "duration": 31,
    "start_time": "2021-10-16T09:44:04.232Z"
   },
   {
    "duration": 32,
    "start_time": "2021-10-16T09:44:04.920Z"
   },
   {
    "duration": 5,
    "start_time": "2021-10-16T09:44:55.173Z"
   },
   {
    "duration": 33,
    "start_time": "2021-10-16T09:44:56.714Z"
   },
   {
    "duration": 28,
    "start_time": "2021-10-16T09:44:57.402Z"
   },
   {
    "duration": 31,
    "start_time": "2021-10-16T09:44:58.063Z"
   },
   {
    "duration": 30,
    "start_time": "2021-10-16T09:44:58.544Z"
   },
   {
    "duration": 29,
    "start_time": "2021-10-16T09:49:16.335Z"
   },
   {
    "duration": 32,
    "start_time": "2021-10-16T09:49:23.223Z"
   },
   {
    "duration": 5,
    "start_time": "2021-10-16T09:49:53.416Z"
   },
   {
    "duration": 30,
    "start_time": "2021-10-16T09:49:54.330Z"
   },
   {
    "duration": 33,
    "start_time": "2021-10-16T09:49:57.105Z"
   },
   {
    "duration": 33,
    "start_time": "2021-10-16T09:50:00.323Z"
   },
   {
    "duration": 33,
    "start_time": "2021-10-16T09:50:00.901Z"
   },
   {
    "duration": 6,
    "start_time": "2021-10-16T09:50:26.303Z"
   },
   {
    "duration": 30,
    "start_time": "2021-10-16T09:50:27.425Z"
   },
   {
    "duration": 30,
    "start_time": "2021-10-16T09:50:28.524Z"
   },
   {
    "duration": 29,
    "start_time": "2021-10-16T09:50:29.665Z"
   },
   {
    "duration": 35,
    "start_time": "2021-10-16T09:50:31.068Z"
   },
   {
    "duration": 290,
    "start_time": "2021-10-16T09:53:21.222Z"
   },
   {
    "duration": 15,
    "start_time": "2021-10-16T09:53:30.377Z"
   },
   {
    "duration": 7,
    "start_time": "2021-10-16T09:53:56.525Z"
   },
   {
    "duration": 9,
    "start_time": "2021-10-16T09:55:01.515Z"
   },
   {
    "duration": 6,
    "start_time": "2021-10-16T09:55:20.284Z"
   },
   {
    "duration": 3,
    "start_time": "2021-10-16T09:57:26.944Z"
   },
   {
    "duration": 182,
    "start_time": "2021-10-16T09:57:28.488Z"
   },
   {
    "duration": 15,
    "start_time": "2021-10-16T09:57:29.737Z"
   },
   {
    "duration": 34,
    "start_time": "2021-10-16T09:57:30.911Z"
   },
   {
    "duration": 8,
    "start_time": "2021-10-16T09:57:33.424Z"
   },
   {
    "duration": 20,
    "start_time": "2021-10-16T09:57:34.516Z"
   },
   {
    "duration": 6,
    "start_time": "2021-10-16T09:57:35.092Z"
   },
   {
    "duration": 33,
    "start_time": "2021-10-16T09:57:35.959Z"
   },
   {
    "duration": 25,
    "start_time": "2021-10-16T09:57:36.768Z"
   },
   {
    "duration": 29,
    "start_time": "2021-10-16T09:57:37.639Z"
   },
   {
    "duration": 109,
    "start_time": "2021-10-16T09:57:38.210Z"
   },
   {
    "duration": 107,
    "start_time": "2021-10-16T09:57:38.783Z"
   },
   {
    "duration": 79,
    "start_time": "2021-10-16T09:57:39.384Z"
   },
   {
    "duration": 10,
    "start_time": "2021-10-16T09:57:40.243Z"
   },
   {
    "duration": 5,
    "start_time": "2021-10-16T09:57:41.395Z"
   },
   {
    "duration": 14,
    "start_time": "2021-10-16T09:57:42.035Z"
   },
   {
    "duration": 11,
    "start_time": "2021-10-16T09:57:42.699Z"
   },
   {
    "duration": 15,
    "start_time": "2021-10-16T09:57:44.551Z"
   },
   {
    "duration": 18,
    "start_time": "2021-10-16T09:57:46.319Z"
   },
   {
    "duration": 5,
    "start_time": "2021-10-16T09:57:47.127Z"
   },
   {
    "duration": 29,
    "start_time": "2021-10-16T09:57:48.428Z"
   },
   {
    "duration": 25,
    "start_time": "2021-10-16T09:57:48.792Z"
   },
   {
    "duration": 22,
    "start_time": "2021-10-16T09:57:49.152Z"
   },
   {
    "duration": 21,
    "start_time": "2021-10-16T09:57:49.523Z"
   },
   {
    "duration": 26,
    "start_time": "2021-10-16T09:57:49.871Z"
   },
   {
    "duration": 26,
    "start_time": "2021-10-16T09:57:50.192Z"
   },
   {
    "duration": 10,
    "start_time": "2021-10-16T09:57:50.833Z"
   },
   {
    "duration": 18,
    "start_time": "2021-10-16T09:57:52.288Z"
   },
   {
    "duration": 16,
    "start_time": "2021-10-16T09:57:52.587Z"
   },
   {
    "duration": 5,
    "start_time": "2021-10-16T09:57:54.147Z"
   },
   {
    "duration": 34,
    "start_time": "2021-10-16T09:57:55.079Z"
   },
   {
    "duration": 30,
    "start_time": "2021-10-16T09:57:56.839Z"
   },
   {
    "duration": 29,
    "start_time": "2021-10-16T09:57:57.511Z"
   },
   {
    "duration": 32,
    "start_time": "2021-10-16T09:58:03.088Z"
   },
   {
    "duration": 11,
    "start_time": "2021-10-16T09:58:06.103Z"
   },
   {
    "duration": 8,
    "start_time": "2021-10-16T09:58:07.783Z"
   },
   {
    "duration": 10,
    "start_time": "2021-10-16T09:58:08.919Z"
   },
   {
    "duration": 6,
    "start_time": "2021-10-16T09:58:09.943Z"
   },
   {
    "duration": 6,
    "start_time": "2021-10-16T10:04:06.497Z"
   },
   {
    "duration": 577,
    "start_time": "2021-10-16T10:04:11.230Z"
   },
   {
    "duration": 6,
    "start_time": "2021-10-16T10:04:39.247Z"
   },
   {
    "duration": 29,
    "start_time": "2021-10-16T10:04:43.934Z"
   },
   {
    "duration": 28,
    "start_time": "2021-10-16T10:04:44.713Z"
   },
   {
    "duration": 28,
    "start_time": "2021-10-16T10:04:45.486Z"
   },
   {
    "duration": 29,
    "start_time": "2021-10-16T10:04:45.827Z"
   },
   {
    "duration": 11,
    "start_time": "2021-10-16T10:04:47.190Z"
   },
   {
    "duration": 7,
    "start_time": "2021-10-16T10:04:47.829Z"
   },
   {
    "duration": 9,
    "start_time": "2021-10-16T10:04:48.752Z"
   },
   {
    "duration": 6,
    "start_time": "2021-10-16T10:04:49.866Z"
   },
   {
    "duration": 559,
    "start_time": "2021-10-16T20:11:46.366Z"
   },
   {
    "duration": 135,
    "start_time": "2021-10-16T20:11:46.927Z"
   },
   {
    "duration": 16,
    "start_time": "2021-10-16T20:11:47.064Z"
   },
   {
    "duration": 38,
    "start_time": "2021-10-16T20:11:47.082Z"
   },
   {
    "duration": 12,
    "start_time": "2021-10-16T20:11:47.122Z"
   },
   {
    "duration": 34,
    "start_time": "2021-10-16T20:11:47.135Z"
   },
   {
    "duration": 11,
    "start_time": "2021-10-16T20:11:47.170Z"
   },
   {
    "duration": 48,
    "start_time": "2021-10-16T20:11:47.183Z"
   },
   {
    "duration": 24,
    "start_time": "2021-10-16T20:11:47.234Z"
   },
   {
    "duration": 28,
    "start_time": "2021-10-16T20:11:47.260Z"
   },
   {
    "duration": 67,
    "start_time": "2021-10-16T20:11:47.290Z"
   },
   {
    "duration": 73,
    "start_time": "2021-10-16T20:11:47.359Z"
   },
   {
    "duration": 55,
    "start_time": "2021-10-16T20:11:47.434Z"
   },
   {
    "duration": 6,
    "start_time": "2021-10-16T20:11:47.491Z"
   },
   {
    "duration": 3,
    "start_time": "2021-10-16T20:11:47.498Z"
   },
   {
    "duration": 12,
    "start_time": "2021-10-16T20:11:47.503Z"
   },
   {
    "duration": 6,
    "start_time": "2021-10-16T20:11:47.517Z"
   },
   {
    "duration": 10,
    "start_time": "2021-10-16T20:11:47.545Z"
   },
   {
    "duration": 10,
    "start_time": "2021-10-16T20:11:47.556Z"
   },
   {
    "duration": 3,
    "start_time": "2021-10-16T20:11:47.568Z"
   },
   {
    "duration": 19,
    "start_time": "2021-10-16T20:11:47.573Z"
   },
   {
    "duration": 16,
    "start_time": "2021-10-16T20:11:47.593Z"
   },
   {
    "duration": 43,
    "start_time": "2021-10-16T20:11:47.612Z"
   },
   {
    "duration": 14,
    "start_time": "2021-10-16T20:11:47.657Z"
   },
   {
    "duration": 15,
    "start_time": "2021-10-16T20:11:47.672Z"
   },
   {
    "duration": 12,
    "start_time": "2021-10-16T20:11:47.689Z"
   },
   {
    "duration": 6,
    "start_time": "2021-10-16T20:11:47.703Z"
   },
   {
    "duration": 41,
    "start_time": "2021-10-16T20:11:47.710Z"
   },
   {
    "duration": 10,
    "start_time": "2021-10-16T20:11:47.753Z"
   },
   {
    "duration": 5,
    "start_time": "2021-10-16T20:11:47.764Z"
   },
   {
    "duration": 29,
    "start_time": "2021-10-16T20:11:47.771Z"
   },
   {
    "duration": 43,
    "start_time": "2021-10-16T20:11:47.802Z"
   },
   {
    "duration": 22,
    "start_time": "2021-10-16T20:11:47.847Z"
   },
   {
    "duration": 21,
    "start_time": "2021-10-16T20:11:47.870Z"
   },
   {
    "duration": 9,
    "start_time": "2021-10-16T20:11:47.893Z"
   },
   {
    "duration": 4,
    "start_time": "2021-10-16T20:11:47.904Z"
   },
   {
    "duration": 38,
    "start_time": "2021-10-16T20:11:47.910Z"
   },
   {
    "duration": 8,
    "start_time": "2021-10-16T20:11:47.950Z"
   },
   {
    "duration": 16,
    "start_time": "2021-10-16T20:17:28.932Z"
   },
   {
    "duration": 568,
    "start_time": "2021-10-17T06:58:01.567Z"
   },
   {
    "duration": 124,
    "start_time": "2021-10-17T06:58:03.428Z"
   },
   {
    "duration": 16,
    "start_time": "2021-10-17T06:58:04.690Z"
   },
   {
    "duration": 24,
    "start_time": "2021-10-17T06:58:05.620Z"
   },
   {
    "duration": 4,
    "start_time": "2021-10-17T06:58:08.477Z"
   },
   {
    "duration": 20,
    "start_time": "2021-10-17T06:58:09.821Z"
   },
   {
    "duration": 4,
    "start_time": "2021-10-17T06:58:10.893Z"
   },
   {
    "duration": 21,
    "start_time": "2021-10-17T06:58:12.565Z"
   },
   {
    "duration": 17,
    "start_time": "2021-10-17T06:58:14.220Z"
   },
   {
    "duration": 22,
    "start_time": "2021-10-17T06:58:16.500Z"
   },
   {
    "duration": 54,
    "start_time": "2021-10-17T06:58:17.765Z"
   },
   {
    "duration": 65,
    "start_time": "2021-10-17T06:58:18.629Z"
   },
   {
    "duration": 49,
    "start_time": "2021-10-17T06:58:19.596Z"
   },
   {
    "duration": 7,
    "start_time": "2021-10-17T06:58:20.725Z"
   },
   {
    "duration": 4,
    "start_time": "2021-10-17T06:58:23.556Z"
   },
   {
    "duration": 9,
    "start_time": "2021-10-17T06:58:24.557Z"
   },
   {
    "duration": 7,
    "start_time": "2021-10-17T06:58:25.820Z"
   },
   {
    "duration": 11,
    "start_time": "2021-10-17T06:58:30.292Z"
   },
   {
    "duration": 11,
    "start_time": "2021-10-17T06:58:32.567Z"
   },
   {
    "duration": 4,
    "start_time": "2021-10-17T06:58:35.777Z"
   },
   {
    "duration": 17,
    "start_time": "2021-10-17T06:58:38.482Z"
   },
   {
    "duration": 15,
    "start_time": "2021-10-17T06:58:40.724Z"
   },
   {
    "duration": 16,
    "start_time": "2021-10-17T06:58:49.388Z"
   },
   {
    "duration": 14,
    "start_time": "2021-10-17T06:58:50.692Z"
   },
   {
    "duration": 16,
    "start_time": "2021-10-17T06:58:51.677Z"
   },
   {
    "duration": 14,
    "start_time": "2021-10-17T06:58:58.253Z"
   },
   {
    "duration": 9,
    "start_time": "2021-10-17T06:59:00.316Z"
   },
   {
    "duration": 11,
    "start_time": "2021-10-17T06:59:09.372Z"
   },
   {
    "duration": 8,
    "start_time": "2021-10-17T06:59:10.141Z"
   },
   {
    "duration": 3,
    "start_time": "2021-10-17T06:59:12.186Z"
   },
   {
    "duration": 22,
    "start_time": "2021-10-17T06:59:13.733Z"
   },
   {
    "duration": 19,
    "start_time": "2021-10-17T06:59:14.896Z"
   },
   {
    "duration": 20,
    "start_time": "2021-10-17T06:59:15.513Z"
   },
   {
    "duration": 19,
    "start_time": "2021-10-17T06:59:19.221Z"
   },
   {
    "duration": 7,
    "start_time": "2021-10-17T06:59:23.532Z"
   },
   {
    "duration": 5,
    "start_time": "2021-10-17T06:59:25.931Z"
   },
   {
    "duration": 6,
    "start_time": "2021-10-17T06:59:27.299Z"
   },
   {
    "duration": 5,
    "start_time": "2021-10-17T06:59:28.403Z"
   },
   {
    "duration": 14,
    "start_time": "2021-10-17T07:00:23.786Z"
   },
   {
    "duration": 63,
    "start_time": "2021-10-17T07:00:25.424Z"
   }
  ],
  "colab": {
   "collapsed_sections": [
    "E0vqbgi9ay0H",
    "VUC88oWjTJw2"
   ],
   "name": "yandex_music_project_2021.2.ipynb",
   "provenance": []
  },
  "kernelspec": {
   "display_name": "Python 3 (ipykernel)",
   "language": "python",
   "name": "python3"
  },
  "language_info": {
   "codemirror_mode": {
    "name": "ipython",
    "version": 3
   },
   "file_extension": ".py",
   "mimetype": "text/x-python",
   "name": "python",
   "nbconvert_exporter": "python",
   "pygments_lexer": "ipython3",
   "version": "3.9.5"
  },
  "toc": {
   "base_numbering": 1,
   "nav_menu": {},
   "number_sections": true,
   "sideBar": true,
   "skip_h1_title": true,
   "title_cell": "Table of Contents",
   "title_sidebar": "Contents",
   "toc_cell": false,
   "toc_position": {},
   "toc_section_display": true,
   "toc_window_display": false
  }
 },
 "nbformat": 4,
 "nbformat_minor": 1
}
