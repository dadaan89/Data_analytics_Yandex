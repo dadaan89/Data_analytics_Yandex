{
 "cells": [
  {
   "cell_type": "markdown",
   "metadata": {},
   "source": [
    "# Исследование надёжности заёмщиков\n",
    "\n",
    "Заказчик — кредитный отдел банка. Нужно разобраться, влияет ли семейное положение и количество детей клиента на факт погашения кредита в срок. Входные данные от банка — статистика о платёжеспособности клиентов.\n",
    "\n",
    "Результаты исследования будут учтены при построении модели **кредитного скоринга** — специальной системы, которая оценивает способность потенциального заёмщика вернуть кредит банку."
   ]
  },
  {
   "cell_type": "markdown",
   "metadata": {},
   "source": [
    "Описание данных:\n",
    "* children — количество детей в семье\n",
    "* days_employed — общий трудовой стаж в днях\n",
    "* dob_years — возраст клиента в годах\n",
    "* education — уровень образования клиента\n",
    "* education_id — идентификатор уровня образования\n",
    "* family_status — семейное положение\n",
    "* family_status_id — идентификатор семейного положения\n",
    "* gender — пол клиента\n",
    "* income_type — тип занятости\n",
    "* debt — имел ли задолженность по возврату кредитов\n",
    "* total_income — ежемесячный доход\n",
    "* purpose — цель получения кредита"
   ]
  },
  {
   "cell_type": "markdown",
   "metadata": {},
   "source": [
    "## Шаг 1. Откройте файл с данными и изучите общую информацию"
   ]
  },
  {
   "cell_type": "code",
   "execution_count": 1,
   "metadata": {},
   "outputs": [],
   "source": [
    "import pandas as pd\n",
    "from pymystem3 import Mystem\n",
    "m = Mystem()\n",
    "credit = pd.read_csv('/datasets/data.csv')\n"
   ]
  },
  {
   "cell_type": "code",
   "execution_count": 2,
   "metadata": {},
   "outputs": [
    {
     "data": {
      "text/html": [
       "<div>\n",
       "<style scoped>\n",
       "    .dataframe tbody tr th:only-of-type {\n",
       "        vertical-align: middle;\n",
       "    }\n",
       "\n",
       "    .dataframe tbody tr th {\n",
       "        vertical-align: top;\n",
       "    }\n",
       "\n",
       "    .dataframe thead th {\n",
       "        text-align: right;\n",
       "    }\n",
       "</style>\n",
       "<table border=\"1\" class=\"dataframe\">\n",
       "  <thead>\n",
       "    <tr style=\"text-align: right;\">\n",
       "      <th></th>\n",
       "      <th>children</th>\n",
       "      <th>days_employed</th>\n",
       "      <th>dob_years</th>\n",
       "      <th>education</th>\n",
       "      <th>education_id</th>\n",
       "      <th>family_status</th>\n",
       "      <th>family_status_id</th>\n",
       "      <th>gender</th>\n",
       "      <th>income_type</th>\n",
       "      <th>debt</th>\n",
       "      <th>total_income</th>\n",
       "      <th>purpose</th>\n",
       "    </tr>\n",
       "  </thead>\n",
       "  <tbody>\n",
       "    <tr>\n",
       "      <td>0</td>\n",
       "      <td>1</td>\n",
       "      <td>-8437.673028</td>\n",
       "      <td>42</td>\n",
       "      <td>высшее</td>\n",
       "      <td>0</td>\n",
       "      <td>женат / замужем</td>\n",
       "      <td>0</td>\n",
       "      <td>F</td>\n",
       "      <td>сотрудник</td>\n",
       "      <td>0</td>\n",
       "      <td>253875.639453</td>\n",
       "      <td>покупка жилья</td>\n",
       "    </tr>\n",
       "    <tr>\n",
       "      <td>1</td>\n",
       "      <td>1</td>\n",
       "      <td>-4024.803754</td>\n",
       "      <td>36</td>\n",
       "      <td>среднее</td>\n",
       "      <td>1</td>\n",
       "      <td>женат / замужем</td>\n",
       "      <td>0</td>\n",
       "      <td>F</td>\n",
       "      <td>сотрудник</td>\n",
       "      <td>0</td>\n",
       "      <td>112080.014102</td>\n",
       "      <td>приобретение автомобиля</td>\n",
       "    </tr>\n",
       "    <tr>\n",
       "      <td>2</td>\n",
       "      <td>0</td>\n",
       "      <td>-5623.422610</td>\n",
       "      <td>33</td>\n",
       "      <td>Среднее</td>\n",
       "      <td>1</td>\n",
       "      <td>женат / замужем</td>\n",
       "      <td>0</td>\n",
       "      <td>M</td>\n",
       "      <td>сотрудник</td>\n",
       "      <td>0</td>\n",
       "      <td>145885.952297</td>\n",
       "      <td>покупка жилья</td>\n",
       "    </tr>\n",
       "    <tr>\n",
       "      <td>3</td>\n",
       "      <td>3</td>\n",
       "      <td>-4124.747207</td>\n",
       "      <td>32</td>\n",
       "      <td>среднее</td>\n",
       "      <td>1</td>\n",
       "      <td>женат / замужем</td>\n",
       "      <td>0</td>\n",
       "      <td>M</td>\n",
       "      <td>сотрудник</td>\n",
       "      <td>0</td>\n",
       "      <td>267628.550329</td>\n",
       "      <td>дополнительное образование</td>\n",
       "    </tr>\n",
       "    <tr>\n",
       "      <td>4</td>\n",
       "      <td>0</td>\n",
       "      <td>340266.072047</td>\n",
       "      <td>53</td>\n",
       "      <td>среднее</td>\n",
       "      <td>1</td>\n",
       "      <td>гражданский брак</td>\n",
       "      <td>1</td>\n",
       "      <td>F</td>\n",
       "      <td>пенсионер</td>\n",
       "      <td>0</td>\n",
       "      <td>158616.077870</td>\n",
       "      <td>сыграть свадьбу</td>\n",
       "    </tr>\n",
       "    <tr>\n",
       "      <td>5</td>\n",
       "      <td>0</td>\n",
       "      <td>-926.185831</td>\n",
       "      <td>27</td>\n",
       "      <td>высшее</td>\n",
       "      <td>0</td>\n",
       "      <td>гражданский брак</td>\n",
       "      <td>1</td>\n",
       "      <td>M</td>\n",
       "      <td>компаньон</td>\n",
       "      <td>0</td>\n",
       "      <td>255763.565419</td>\n",
       "      <td>покупка жилья</td>\n",
       "    </tr>\n",
       "    <tr>\n",
       "      <td>6</td>\n",
       "      <td>0</td>\n",
       "      <td>-2879.202052</td>\n",
       "      <td>43</td>\n",
       "      <td>высшее</td>\n",
       "      <td>0</td>\n",
       "      <td>женат / замужем</td>\n",
       "      <td>0</td>\n",
       "      <td>F</td>\n",
       "      <td>компаньон</td>\n",
       "      <td>0</td>\n",
       "      <td>240525.971920</td>\n",
       "      <td>операции с жильем</td>\n",
       "    </tr>\n",
       "    <tr>\n",
       "      <td>7</td>\n",
       "      <td>0</td>\n",
       "      <td>-152.779569</td>\n",
       "      <td>50</td>\n",
       "      <td>СРЕДНЕЕ</td>\n",
       "      <td>1</td>\n",
       "      <td>женат / замужем</td>\n",
       "      <td>0</td>\n",
       "      <td>M</td>\n",
       "      <td>сотрудник</td>\n",
       "      <td>0</td>\n",
       "      <td>135823.934197</td>\n",
       "      <td>образование</td>\n",
       "    </tr>\n",
       "    <tr>\n",
       "      <td>8</td>\n",
       "      <td>2</td>\n",
       "      <td>-6929.865299</td>\n",
       "      <td>35</td>\n",
       "      <td>ВЫСШЕЕ</td>\n",
       "      <td>0</td>\n",
       "      <td>гражданский брак</td>\n",
       "      <td>1</td>\n",
       "      <td>F</td>\n",
       "      <td>сотрудник</td>\n",
       "      <td>0</td>\n",
       "      <td>95856.832424</td>\n",
       "      <td>на проведение свадьбы</td>\n",
       "    </tr>\n",
       "    <tr>\n",
       "      <td>9</td>\n",
       "      <td>0</td>\n",
       "      <td>-2188.756445</td>\n",
       "      <td>41</td>\n",
       "      <td>среднее</td>\n",
       "      <td>1</td>\n",
       "      <td>женат / замужем</td>\n",
       "      <td>0</td>\n",
       "      <td>M</td>\n",
       "      <td>сотрудник</td>\n",
       "      <td>0</td>\n",
       "      <td>144425.938277</td>\n",
       "      <td>покупка жилья для семьи</td>\n",
       "    </tr>\n",
       "    <tr>\n",
       "      <td>10</td>\n",
       "      <td>2</td>\n",
       "      <td>-4171.483647</td>\n",
       "      <td>36</td>\n",
       "      <td>высшее</td>\n",
       "      <td>0</td>\n",
       "      <td>женат / замужем</td>\n",
       "      <td>0</td>\n",
       "      <td>M</td>\n",
       "      <td>компаньон</td>\n",
       "      <td>0</td>\n",
       "      <td>113943.491460</td>\n",
       "      <td>покупка недвижимости</td>\n",
       "    </tr>\n",
       "    <tr>\n",
       "      <td>11</td>\n",
       "      <td>0</td>\n",
       "      <td>-792.701887</td>\n",
       "      <td>40</td>\n",
       "      <td>среднее</td>\n",
       "      <td>1</td>\n",
       "      <td>женат / замужем</td>\n",
       "      <td>0</td>\n",
       "      <td>F</td>\n",
       "      <td>сотрудник</td>\n",
       "      <td>0</td>\n",
       "      <td>77069.234271</td>\n",
       "      <td>покупка коммерческой недвижимости</td>\n",
       "    </tr>\n",
       "    <tr>\n",
       "      <td>12</td>\n",
       "      <td>0</td>\n",
       "      <td>NaN</td>\n",
       "      <td>65</td>\n",
       "      <td>среднее</td>\n",
       "      <td>1</td>\n",
       "      <td>гражданский брак</td>\n",
       "      <td>1</td>\n",
       "      <td>M</td>\n",
       "      <td>пенсионер</td>\n",
       "      <td>0</td>\n",
       "      <td>NaN</td>\n",
       "      <td>сыграть свадьбу</td>\n",
       "    </tr>\n",
       "    <tr>\n",
       "      <td>13</td>\n",
       "      <td>0</td>\n",
       "      <td>-1846.641941</td>\n",
       "      <td>54</td>\n",
       "      <td>неоконченное высшее</td>\n",
       "      <td>2</td>\n",
       "      <td>женат / замужем</td>\n",
       "      <td>0</td>\n",
       "      <td>F</td>\n",
       "      <td>сотрудник</td>\n",
       "      <td>0</td>\n",
       "      <td>130458.228857</td>\n",
       "      <td>приобретение автомобиля</td>\n",
       "    </tr>\n",
       "    <tr>\n",
       "      <td>14</td>\n",
       "      <td>0</td>\n",
       "      <td>-1844.956182</td>\n",
       "      <td>56</td>\n",
       "      <td>высшее</td>\n",
       "      <td>0</td>\n",
       "      <td>гражданский брак</td>\n",
       "      <td>1</td>\n",
       "      <td>F</td>\n",
       "      <td>компаньон</td>\n",
       "      <td>1</td>\n",
       "      <td>165127.911772</td>\n",
       "      <td>покупка жилой недвижимости</td>\n",
       "    </tr>\n",
       "  </tbody>\n",
       "</table>\n",
       "</div>"
      ],
      "text/plain": [
       "    children  days_employed  dob_years            education  education_id  \\\n",
       "0          1   -8437.673028         42               высшее             0   \n",
       "1          1   -4024.803754         36              среднее             1   \n",
       "2          0   -5623.422610         33              Среднее             1   \n",
       "3          3   -4124.747207         32              среднее             1   \n",
       "4          0  340266.072047         53              среднее             1   \n",
       "5          0    -926.185831         27               высшее             0   \n",
       "6          0   -2879.202052         43               высшее             0   \n",
       "7          0    -152.779569         50              СРЕДНЕЕ             1   \n",
       "8          2   -6929.865299         35               ВЫСШЕЕ             0   \n",
       "9          0   -2188.756445         41              среднее             1   \n",
       "10         2   -4171.483647         36               высшее             0   \n",
       "11         0    -792.701887         40              среднее             1   \n",
       "12         0            NaN         65              среднее             1   \n",
       "13         0   -1846.641941         54  неоконченное высшее             2   \n",
       "14         0   -1844.956182         56               высшее             0   \n",
       "\n",
       "       family_status  family_status_id gender income_type  debt  \\\n",
       "0    женат / замужем                 0      F   сотрудник     0   \n",
       "1    женат / замужем                 0      F   сотрудник     0   \n",
       "2    женат / замужем                 0      M   сотрудник     0   \n",
       "3    женат / замужем                 0      M   сотрудник     0   \n",
       "4   гражданский брак                 1      F   пенсионер     0   \n",
       "5   гражданский брак                 1      M   компаньон     0   \n",
       "6    женат / замужем                 0      F   компаньон     0   \n",
       "7    женат / замужем                 0      M   сотрудник     0   \n",
       "8   гражданский брак                 1      F   сотрудник     0   \n",
       "9    женат / замужем                 0      M   сотрудник     0   \n",
       "10   женат / замужем                 0      M   компаньон     0   \n",
       "11   женат / замужем                 0      F   сотрудник     0   \n",
       "12  гражданский брак                 1      M   пенсионер     0   \n",
       "13   женат / замужем                 0      F   сотрудник     0   \n",
       "14  гражданский брак                 1      F   компаньон     1   \n",
       "\n",
       "     total_income                            purpose  \n",
       "0   253875.639453                      покупка жилья  \n",
       "1   112080.014102            приобретение автомобиля  \n",
       "2   145885.952297                      покупка жилья  \n",
       "3   267628.550329         дополнительное образование  \n",
       "4   158616.077870                    сыграть свадьбу  \n",
       "5   255763.565419                      покупка жилья  \n",
       "6   240525.971920                  операции с жильем  \n",
       "7   135823.934197                        образование  \n",
       "8    95856.832424              на проведение свадьбы  \n",
       "9   144425.938277            покупка жилья для семьи  \n",
       "10  113943.491460               покупка недвижимости  \n",
       "11   77069.234271  покупка коммерческой недвижимости  \n",
       "12            NaN                    сыграть свадьбу  \n",
       "13  130458.228857            приобретение автомобиля  \n",
       "14  165127.911772         покупка жилой недвижимости  "
      ]
     },
     "execution_count": 2,
     "metadata": {},
     "output_type": "execute_result"
    }
   ],
   "source": [
    "credit.head(15)"
   ]
  },
  {
   "cell_type": "markdown",
   "metadata": {},
   "source": [
    "* *переименуем некоторые столбцы, для лучшего восприятия*\n",
    "столбцы days_employed, dob_years, income_type, total_income, family_status\t в\n",
    "\n",
    " day, years,\ttype, salary, family"
   ]
  },
  {
   "cell_type": "code",
   "execution_count": 3,
   "metadata": {},
   "outputs": [
    {
     "data": {
      "text/html": [
       "<div>\n",
       "<style scoped>\n",
       "    .dataframe tbody tr th:only-of-type {\n",
       "        vertical-align: middle;\n",
       "    }\n",
       "\n",
       "    .dataframe tbody tr th {\n",
       "        vertical-align: top;\n",
       "    }\n",
       "\n",
       "    .dataframe thead th {\n",
       "        text-align: right;\n",
       "    }\n",
       "</style>\n",
       "<table border=\"1\" class=\"dataframe\">\n",
       "  <thead>\n",
       "    <tr style=\"text-align: right;\">\n",
       "      <th></th>\n",
       "      <th>children</th>\n",
       "      <th>day</th>\n",
       "      <th>years</th>\n",
       "      <th>education</th>\n",
       "      <th>education_id</th>\n",
       "      <th>family</th>\n",
       "      <th>family_status_id</th>\n",
       "      <th>gender</th>\n",
       "      <th>type</th>\n",
       "      <th>debt</th>\n",
       "      <th>salary</th>\n",
       "      <th>purpose</th>\n",
       "    </tr>\n",
       "  </thead>\n",
       "  <tbody>\n",
       "    <tr>\n",
       "      <td>0</td>\n",
       "      <td>1</td>\n",
       "      <td>-8437.673028</td>\n",
       "      <td>42</td>\n",
       "      <td>высшее</td>\n",
       "      <td>0</td>\n",
       "      <td>женат / замужем</td>\n",
       "      <td>0</td>\n",
       "      <td>F</td>\n",
       "      <td>сотрудник</td>\n",
       "      <td>0</td>\n",
       "      <td>253875.639453</td>\n",
       "      <td>покупка жилья</td>\n",
       "    </tr>\n",
       "    <tr>\n",
       "      <td>1</td>\n",
       "      <td>1</td>\n",
       "      <td>-4024.803754</td>\n",
       "      <td>36</td>\n",
       "      <td>среднее</td>\n",
       "      <td>1</td>\n",
       "      <td>женат / замужем</td>\n",
       "      <td>0</td>\n",
       "      <td>F</td>\n",
       "      <td>сотрудник</td>\n",
       "      <td>0</td>\n",
       "      <td>112080.014102</td>\n",
       "      <td>приобретение автомобиля</td>\n",
       "    </tr>\n",
       "    <tr>\n",
       "      <td>2</td>\n",
       "      <td>0</td>\n",
       "      <td>-5623.422610</td>\n",
       "      <td>33</td>\n",
       "      <td>Среднее</td>\n",
       "      <td>1</td>\n",
       "      <td>женат / замужем</td>\n",
       "      <td>0</td>\n",
       "      <td>M</td>\n",
       "      <td>сотрудник</td>\n",
       "      <td>0</td>\n",
       "      <td>145885.952297</td>\n",
       "      <td>покупка жилья</td>\n",
       "    </tr>\n",
       "    <tr>\n",
       "      <td>3</td>\n",
       "      <td>3</td>\n",
       "      <td>-4124.747207</td>\n",
       "      <td>32</td>\n",
       "      <td>среднее</td>\n",
       "      <td>1</td>\n",
       "      <td>женат / замужем</td>\n",
       "      <td>0</td>\n",
       "      <td>M</td>\n",
       "      <td>сотрудник</td>\n",
       "      <td>0</td>\n",
       "      <td>267628.550329</td>\n",
       "      <td>дополнительное образование</td>\n",
       "    </tr>\n",
       "    <tr>\n",
       "      <td>4</td>\n",
       "      <td>0</td>\n",
       "      <td>340266.072047</td>\n",
       "      <td>53</td>\n",
       "      <td>среднее</td>\n",
       "      <td>1</td>\n",
       "      <td>гражданский брак</td>\n",
       "      <td>1</td>\n",
       "      <td>F</td>\n",
       "      <td>пенсионер</td>\n",
       "      <td>0</td>\n",
       "      <td>158616.077870</td>\n",
       "      <td>сыграть свадьбу</td>\n",
       "    </tr>\n",
       "    <tr>\n",
       "      <td>5</td>\n",
       "      <td>0</td>\n",
       "      <td>-926.185831</td>\n",
       "      <td>27</td>\n",
       "      <td>высшее</td>\n",
       "      <td>0</td>\n",
       "      <td>гражданский брак</td>\n",
       "      <td>1</td>\n",
       "      <td>M</td>\n",
       "      <td>компаньон</td>\n",
       "      <td>0</td>\n",
       "      <td>255763.565419</td>\n",
       "      <td>покупка жилья</td>\n",
       "    </tr>\n",
       "    <tr>\n",
       "      <td>6</td>\n",
       "      <td>0</td>\n",
       "      <td>-2879.202052</td>\n",
       "      <td>43</td>\n",
       "      <td>высшее</td>\n",
       "      <td>0</td>\n",
       "      <td>женат / замужем</td>\n",
       "      <td>0</td>\n",
       "      <td>F</td>\n",
       "      <td>компаньон</td>\n",
       "      <td>0</td>\n",
       "      <td>240525.971920</td>\n",
       "      <td>операции с жильем</td>\n",
       "    </tr>\n",
       "    <tr>\n",
       "      <td>7</td>\n",
       "      <td>0</td>\n",
       "      <td>-152.779569</td>\n",
       "      <td>50</td>\n",
       "      <td>СРЕДНЕЕ</td>\n",
       "      <td>1</td>\n",
       "      <td>женат / замужем</td>\n",
       "      <td>0</td>\n",
       "      <td>M</td>\n",
       "      <td>сотрудник</td>\n",
       "      <td>0</td>\n",
       "      <td>135823.934197</td>\n",
       "      <td>образование</td>\n",
       "    </tr>\n",
       "    <tr>\n",
       "      <td>8</td>\n",
       "      <td>2</td>\n",
       "      <td>-6929.865299</td>\n",
       "      <td>35</td>\n",
       "      <td>ВЫСШЕЕ</td>\n",
       "      <td>0</td>\n",
       "      <td>гражданский брак</td>\n",
       "      <td>1</td>\n",
       "      <td>F</td>\n",
       "      <td>сотрудник</td>\n",
       "      <td>0</td>\n",
       "      <td>95856.832424</td>\n",
       "      <td>на проведение свадьбы</td>\n",
       "    </tr>\n",
       "    <tr>\n",
       "      <td>9</td>\n",
       "      <td>0</td>\n",
       "      <td>-2188.756445</td>\n",
       "      <td>41</td>\n",
       "      <td>среднее</td>\n",
       "      <td>1</td>\n",
       "      <td>женат / замужем</td>\n",
       "      <td>0</td>\n",
       "      <td>M</td>\n",
       "      <td>сотрудник</td>\n",
       "      <td>0</td>\n",
       "      <td>144425.938277</td>\n",
       "      <td>покупка жилья для семьи</td>\n",
       "    </tr>\n",
       "    <tr>\n",
       "      <td>10</td>\n",
       "      <td>2</td>\n",
       "      <td>-4171.483647</td>\n",
       "      <td>36</td>\n",
       "      <td>высшее</td>\n",
       "      <td>0</td>\n",
       "      <td>женат / замужем</td>\n",
       "      <td>0</td>\n",
       "      <td>M</td>\n",
       "      <td>компаньон</td>\n",
       "      <td>0</td>\n",
       "      <td>113943.491460</td>\n",
       "      <td>покупка недвижимости</td>\n",
       "    </tr>\n",
       "    <tr>\n",
       "      <td>11</td>\n",
       "      <td>0</td>\n",
       "      <td>-792.701887</td>\n",
       "      <td>40</td>\n",
       "      <td>среднее</td>\n",
       "      <td>1</td>\n",
       "      <td>женат / замужем</td>\n",
       "      <td>0</td>\n",
       "      <td>F</td>\n",
       "      <td>сотрудник</td>\n",
       "      <td>0</td>\n",
       "      <td>77069.234271</td>\n",
       "      <td>покупка коммерческой недвижимости</td>\n",
       "    </tr>\n",
       "    <tr>\n",
       "      <td>12</td>\n",
       "      <td>0</td>\n",
       "      <td>NaN</td>\n",
       "      <td>65</td>\n",
       "      <td>среднее</td>\n",
       "      <td>1</td>\n",
       "      <td>гражданский брак</td>\n",
       "      <td>1</td>\n",
       "      <td>M</td>\n",
       "      <td>пенсионер</td>\n",
       "      <td>0</td>\n",
       "      <td>NaN</td>\n",
       "      <td>сыграть свадьбу</td>\n",
       "    </tr>\n",
       "    <tr>\n",
       "      <td>13</td>\n",
       "      <td>0</td>\n",
       "      <td>-1846.641941</td>\n",
       "      <td>54</td>\n",
       "      <td>неоконченное высшее</td>\n",
       "      <td>2</td>\n",
       "      <td>женат / замужем</td>\n",
       "      <td>0</td>\n",
       "      <td>F</td>\n",
       "      <td>сотрудник</td>\n",
       "      <td>0</td>\n",
       "      <td>130458.228857</td>\n",
       "      <td>приобретение автомобиля</td>\n",
       "    </tr>\n",
       "    <tr>\n",
       "      <td>14</td>\n",
       "      <td>0</td>\n",
       "      <td>-1844.956182</td>\n",
       "      <td>56</td>\n",
       "      <td>высшее</td>\n",
       "      <td>0</td>\n",
       "      <td>гражданский брак</td>\n",
       "      <td>1</td>\n",
       "      <td>F</td>\n",
       "      <td>компаньон</td>\n",
       "      <td>1</td>\n",
       "      <td>165127.911772</td>\n",
       "      <td>покупка жилой недвижимости</td>\n",
       "    </tr>\n",
       "  </tbody>\n",
       "</table>\n",
       "</div>"
      ],
      "text/plain": [
       "    children            day  years            education  education_id  \\\n",
       "0          1   -8437.673028     42               высшее             0   \n",
       "1          1   -4024.803754     36              среднее             1   \n",
       "2          0   -5623.422610     33              Среднее             1   \n",
       "3          3   -4124.747207     32              среднее             1   \n",
       "4          0  340266.072047     53              среднее             1   \n",
       "5          0    -926.185831     27               высшее             0   \n",
       "6          0   -2879.202052     43               высшее             0   \n",
       "7          0    -152.779569     50              СРЕДНЕЕ             1   \n",
       "8          2   -6929.865299     35               ВЫСШЕЕ             0   \n",
       "9          0   -2188.756445     41              среднее             1   \n",
       "10         2   -4171.483647     36               высшее             0   \n",
       "11         0    -792.701887     40              среднее             1   \n",
       "12         0            NaN     65              среднее             1   \n",
       "13         0   -1846.641941     54  неоконченное высшее             2   \n",
       "14         0   -1844.956182     56               высшее             0   \n",
       "\n",
       "              family  family_status_id gender       type  debt         salary  \\\n",
       "0    женат / замужем                 0      F  сотрудник     0  253875.639453   \n",
       "1    женат / замужем                 0      F  сотрудник     0  112080.014102   \n",
       "2    женат / замужем                 0      M  сотрудник     0  145885.952297   \n",
       "3    женат / замужем                 0      M  сотрудник     0  267628.550329   \n",
       "4   гражданский брак                 1      F  пенсионер     0  158616.077870   \n",
       "5   гражданский брак                 1      M  компаньон     0  255763.565419   \n",
       "6    женат / замужем                 0      F  компаньон     0  240525.971920   \n",
       "7    женат / замужем                 0      M  сотрудник     0  135823.934197   \n",
       "8   гражданский брак                 1      F  сотрудник     0   95856.832424   \n",
       "9    женат / замужем                 0      M  сотрудник     0  144425.938277   \n",
       "10   женат / замужем                 0      M  компаньон     0  113943.491460   \n",
       "11   женат / замужем                 0      F  сотрудник     0   77069.234271   \n",
       "12  гражданский брак                 1      M  пенсионер     0            NaN   \n",
       "13   женат / замужем                 0      F  сотрудник     0  130458.228857   \n",
       "14  гражданский брак                 1      F  компаньон     1  165127.911772   \n",
       "\n",
       "                              purpose  \n",
       "0                       покупка жилья  \n",
       "1             приобретение автомобиля  \n",
       "2                       покупка жилья  \n",
       "3          дополнительное образование  \n",
       "4                     сыграть свадьбу  \n",
       "5                       покупка жилья  \n",
       "6                   операции с жильем  \n",
       "7                         образование  \n",
       "8               на проведение свадьбы  \n",
       "9             покупка жилья для семьи  \n",
       "10               покупка недвижимости  \n",
       "11  покупка коммерческой недвижимости  \n",
       "12                    сыграть свадьбу  \n",
       "13            приобретение автомобиля  \n",
       "14         покупка жилой недвижимости  "
      ]
     },
     "execution_count": 3,
     "metadata": {},
     "output_type": "execute_result"
    }
   ],
   "source": [
    "credit = credit.rename(columns={'days_employed':'day', 'income_type':'type', 'total_income':'salary', 'dob_years': 'years', 'family_status': 'family'})\n",
    "credit.head(15)"
   ]
  },
  {
   "cell_type": "markdown",
   "metadata": {},
   "source": [
    "* *по выводу первых строк видно что есть пропуски, не все строки приведены к одному регистру, в колонке day есть и положительные и отрицательные числа*"
   ]
  },
  {
   "cell_type": "code",
   "execution_count": 4,
   "metadata": {
    "scrolled": true
   },
   "outputs": [
    {
     "name": "stdout",
     "output_type": "stream",
     "text": [
      "<class 'pandas.core.frame.DataFrame'>\n",
      "RangeIndex: 21525 entries, 0 to 21524\n",
      "Data columns (total 12 columns):\n",
      "children            21525 non-null int64\n",
      "day                 19351 non-null float64\n",
      "years               21525 non-null int64\n",
      "education           21525 non-null object\n",
      "education_id        21525 non-null int64\n",
      "family              21525 non-null object\n",
      "family_status_id    21525 non-null int64\n",
      "gender              21525 non-null object\n",
      "type                21525 non-null object\n",
      "debt                21525 non-null int64\n",
      "salary              19351 non-null float64\n",
      "purpose             21525 non-null object\n",
      "dtypes: float64(2), int64(5), object(5)\n",
      "memory usage: 2.0+ MB\n"
     ]
    }
   ],
   "source": [
    "credit.info()"
   ]
  },
  {
   "cell_type": "markdown",
   "metadata": {},
   "source": [
    "\n",
    "* *Наблюдение:в столбцах day и salary  указаны не все строки*"
   ]
  },
  {
   "cell_type": "code",
   "execution_count": 5,
   "metadata": {},
   "outputs": [
    {
     "data": {
      "text/html": [
       "<div>\n",
       "<style scoped>\n",
       "    .dataframe tbody tr th:only-of-type {\n",
       "        vertical-align: middle;\n",
       "    }\n",
       "\n",
       "    .dataframe tbody tr th {\n",
       "        vertical-align: top;\n",
       "    }\n",
       "\n",
       "    .dataframe thead th {\n",
       "        text-align: right;\n",
       "    }\n",
       "</style>\n",
       "<table border=\"1\" class=\"dataframe\">\n",
       "  <thead>\n",
       "    <tr style=\"text-align: right;\">\n",
       "      <th></th>\n",
       "      <th>children</th>\n",
       "      <th>day</th>\n",
       "      <th>years</th>\n",
       "      <th>education_id</th>\n",
       "      <th>family_status_id</th>\n",
       "      <th>debt</th>\n",
       "      <th>salary</th>\n",
       "    </tr>\n",
       "  </thead>\n",
       "  <tbody>\n",
       "    <tr>\n",
       "      <td>count</td>\n",
       "      <td>21525.000000</td>\n",
       "      <td>19351.000000</td>\n",
       "      <td>21525.000000</td>\n",
       "      <td>21525.000000</td>\n",
       "      <td>21525.000000</td>\n",
       "      <td>21525.000000</td>\n",
       "      <td>1.935100e+04</td>\n",
       "    </tr>\n",
       "    <tr>\n",
       "      <td>mean</td>\n",
       "      <td>0.538908</td>\n",
       "      <td>63046.497661</td>\n",
       "      <td>43.293380</td>\n",
       "      <td>0.817236</td>\n",
       "      <td>0.972544</td>\n",
       "      <td>0.080883</td>\n",
       "      <td>1.674223e+05</td>\n",
       "    </tr>\n",
       "    <tr>\n",
       "      <td>std</td>\n",
       "      <td>1.381587</td>\n",
       "      <td>140827.311974</td>\n",
       "      <td>12.574584</td>\n",
       "      <td>0.548138</td>\n",
       "      <td>1.420324</td>\n",
       "      <td>0.272661</td>\n",
       "      <td>1.029716e+05</td>\n",
       "    </tr>\n",
       "    <tr>\n",
       "      <td>min</td>\n",
       "      <td>-1.000000</td>\n",
       "      <td>-18388.949901</td>\n",
       "      <td>0.000000</td>\n",
       "      <td>0.000000</td>\n",
       "      <td>0.000000</td>\n",
       "      <td>0.000000</td>\n",
       "      <td>2.066726e+04</td>\n",
       "    </tr>\n",
       "    <tr>\n",
       "      <td>25%</td>\n",
       "      <td>0.000000</td>\n",
       "      <td>-2747.423625</td>\n",
       "      <td>33.000000</td>\n",
       "      <td>1.000000</td>\n",
       "      <td>0.000000</td>\n",
       "      <td>0.000000</td>\n",
       "      <td>1.030532e+05</td>\n",
       "    </tr>\n",
       "    <tr>\n",
       "      <td>50%</td>\n",
       "      <td>0.000000</td>\n",
       "      <td>-1203.369529</td>\n",
       "      <td>42.000000</td>\n",
       "      <td>1.000000</td>\n",
       "      <td>0.000000</td>\n",
       "      <td>0.000000</td>\n",
       "      <td>1.450179e+05</td>\n",
       "    </tr>\n",
       "    <tr>\n",
       "      <td>75%</td>\n",
       "      <td>1.000000</td>\n",
       "      <td>-291.095954</td>\n",
       "      <td>53.000000</td>\n",
       "      <td>1.000000</td>\n",
       "      <td>1.000000</td>\n",
       "      <td>0.000000</td>\n",
       "      <td>2.034351e+05</td>\n",
       "    </tr>\n",
       "    <tr>\n",
       "      <td>max</td>\n",
       "      <td>20.000000</td>\n",
       "      <td>401755.400475</td>\n",
       "      <td>75.000000</td>\n",
       "      <td>4.000000</td>\n",
       "      <td>4.000000</td>\n",
       "      <td>1.000000</td>\n",
       "      <td>2.265604e+06</td>\n",
       "    </tr>\n",
       "  </tbody>\n",
       "</table>\n",
       "</div>"
      ],
      "text/plain": [
       "           children            day         years  education_id  \\\n",
       "count  21525.000000   19351.000000  21525.000000  21525.000000   \n",
       "mean       0.538908   63046.497661     43.293380      0.817236   \n",
       "std        1.381587  140827.311974     12.574584      0.548138   \n",
       "min       -1.000000  -18388.949901      0.000000      0.000000   \n",
       "25%        0.000000   -2747.423625     33.000000      1.000000   \n",
       "50%        0.000000   -1203.369529     42.000000      1.000000   \n",
       "75%        1.000000    -291.095954     53.000000      1.000000   \n",
       "max       20.000000  401755.400475     75.000000      4.000000   \n",
       "\n",
       "       family_status_id          debt        salary  \n",
       "count      21525.000000  21525.000000  1.935100e+04  \n",
       "mean           0.972544      0.080883  1.674223e+05  \n",
       "std            1.420324      0.272661  1.029716e+05  \n",
       "min            0.000000      0.000000  2.066726e+04  \n",
       "25%            0.000000      0.000000  1.030532e+05  \n",
       "50%            0.000000      0.000000  1.450179e+05  \n",
       "75%            1.000000      0.000000  2.034351e+05  \n",
       "max            4.000000      1.000000  2.265604e+06  "
      ]
     },
     "execution_count": 5,
     "metadata": {},
     "output_type": "execute_result"
    }
   ],
   "source": [
    "credit.describe()"
   ]
  },
  {
   "cell_type": "markdown",
   "metadata": {},
   "source": [
    "* *Наблюдение: в колонке дети: min отрицательное число, как и max равное 20, что тоже маловероятно, скорее всего опечатка при занесение данныхю. В колонке day: и отрицательные числа и положительные, можно взять их по модулю. Также в этом столбце max равен практически 1100 лет, это ошибочные данные и они завышают как среднее, так и медиану столбца. В колонке years минимальное значение равно 0, что не может быть правдой В колонке salary: непонятное значение, можно округлить вещественные числа до целочисленных, такое же можно сделать и с колонкой day*"
   ]
  },
  {
   "cell_type": "markdown",
   "metadata": {},
   "source": [
    "## Шаг 2. Предобработка данных"
   ]
  },
  {
   "cell_type": "markdown",
   "metadata": {},
   "source": [
    "### Обработка пропусков"
   ]
  },
  {
   "cell_type": "code",
   "execution_count": 6,
   "metadata": {},
   "outputs": [
    {
     "name": "stdout",
     "output_type": "stream",
     "text": [
      "<class 'pandas.core.frame.DataFrame'>\n",
      "RangeIndex: 21525 entries, 0 to 21524\n",
      "Data columns (total 12 columns):\n",
      "children            21525 non-null int64\n",
      "day                 21525 non-null float64\n",
      "years               21525 non-null int64\n",
      "education           21525 non-null object\n",
      "education_id        21525 non-null int64\n",
      "family              21525 non-null object\n",
      "family_status_id    21525 non-null int64\n",
      "gender              21525 non-null object\n",
      "type                21525 non-null object\n",
      "debt                21525 non-null int64\n",
      "salary              21525 non-null float64\n",
      "purpose             21525 non-null object\n",
      "dtypes: float64(2), int64(5), object(5)\n",
      "memory usage: 2.0+ MB\n"
     ]
    },
    {
     "data": {
      "text/html": [
       "<div>\n",
       "<style scoped>\n",
       "    .dataframe tbody tr th:only-of-type {\n",
       "        vertical-align: middle;\n",
       "    }\n",
       "\n",
       "    .dataframe tbody tr th {\n",
       "        vertical-align: top;\n",
       "    }\n",
       "\n",
       "    .dataframe thead th {\n",
       "        text-align: right;\n",
       "    }\n",
       "</style>\n",
       "<table border=\"1\" class=\"dataframe\">\n",
       "  <thead>\n",
       "    <tr style=\"text-align: right;\">\n",
       "      <th></th>\n",
       "      <th>children</th>\n",
       "      <th>day</th>\n",
       "      <th>years</th>\n",
       "      <th>education</th>\n",
       "      <th>education_id</th>\n",
       "      <th>family</th>\n",
       "      <th>family_status_id</th>\n",
       "      <th>gender</th>\n",
       "      <th>type</th>\n",
       "      <th>debt</th>\n",
       "      <th>salary</th>\n",
       "      <th>purpose</th>\n",
       "    </tr>\n",
       "  </thead>\n",
       "  <tbody>\n",
       "    <tr>\n",
       "      <td>0</td>\n",
       "      <td>1</td>\n",
       "      <td>8437.673028</td>\n",
       "      <td>42</td>\n",
       "      <td>высшее</td>\n",
       "      <td>0</td>\n",
       "      <td>женат / замужем</td>\n",
       "      <td>0</td>\n",
       "      <td>F</td>\n",
       "      <td>сотрудник</td>\n",
       "      <td>0</td>\n",
       "      <td>253875.639453</td>\n",
       "      <td>покупка жилья</td>\n",
       "    </tr>\n",
       "    <tr>\n",
       "      <td>1</td>\n",
       "      <td>1</td>\n",
       "      <td>4024.803754</td>\n",
       "      <td>36</td>\n",
       "      <td>среднее</td>\n",
       "      <td>1</td>\n",
       "      <td>женат / замужем</td>\n",
       "      <td>0</td>\n",
       "      <td>F</td>\n",
       "      <td>сотрудник</td>\n",
       "      <td>0</td>\n",
       "      <td>112080.014102</td>\n",
       "      <td>приобретение автомобиля</td>\n",
       "    </tr>\n",
       "    <tr>\n",
       "      <td>2</td>\n",
       "      <td>0</td>\n",
       "      <td>5623.422610</td>\n",
       "      <td>33</td>\n",
       "      <td>Среднее</td>\n",
       "      <td>1</td>\n",
       "      <td>женат / замужем</td>\n",
       "      <td>0</td>\n",
       "      <td>M</td>\n",
       "      <td>сотрудник</td>\n",
       "      <td>0</td>\n",
       "      <td>145885.952297</td>\n",
       "      <td>покупка жилья</td>\n",
       "    </tr>\n",
       "    <tr>\n",
       "      <td>3</td>\n",
       "      <td>3</td>\n",
       "      <td>4124.747207</td>\n",
       "      <td>32</td>\n",
       "      <td>среднее</td>\n",
       "      <td>1</td>\n",
       "      <td>женат / замужем</td>\n",
       "      <td>0</td>\n",
       "      <td>M</td>\n",
       "      <td>сотрудник</td>\n",
       "      <td>0</td>\n",
       "      <td>267628.550329</td>\n",
       "      <td>дополнительное образование</td>\n",
       "    </tr>\n",
       "    <tr>\n",
       "      <td>4</td>\n",
       "      <td>0</td>\n",
       "      <td>340266.072047</td>\n",
       "      <td>53</td>\n",
       "      <td>среднее</td>\n",
       "      <td>1</td>\n",
       "      <td>гражданский брак</td>\n",
       "      <td>1</td>\n",
       "      <td>F</td>\n",
       "      <td>пенсионер</td>\n",
       "      <td>0</td>\n",
       "      <td>158616.077870</td>\n",
       "      <td>сыграть свадьбу</td>\n",
       "    </tr>\n",
       "    <tr>\n",
       "      <td>5</td>\n",
       "      <td>0</td>\n",
       "      <td>926.185831</td>\n",
       "      <td>27</td>\n",
       "      <td>высшее</td>\n",
       "      <td>0</td>\n",
       "      <td>гражданский брак</td>\n",
       "      <td>1</td>\n",
       "      <td>M</td>\n",
       "      <td>компаньон</td>\n",
       "      <td>0</td>\n",
       "      <td>255763.565419</td>\n",
       "      <td>покупка жилья</td>\n",
       "    </tr>\n",
       "    <tr>\n",
       "      <td>6</td>\n",
       "      <td>0</td>\n",
       "      <td>2879.202052</td>\n",
       "      <td>43</td>\n",
       "      <td>высшее</td>\n",
       "      <td>0</td>\n",
       "      <td>женат / замужем</td>\n",
       "      <td>0</td>\n",
       "      <td>F</td>\n",
       "      <td>компаньон</td>\n",
       "      <td>0</td>\n",
       "      <td>240525.971920</td>\n",
       "      <td>операции с жильем</td>\n",
       "    </tr>\n",
       "    <tr>\n",
       "      <td>7</td>\n",
       "      <td>0</td>\n",
       "      <td>152.779569</td>\n",
       "      <td>50</td>\n",
       "      <td>СРЕДНЕЕ</td>\n",
       "      <td>1</td>\n",
       "      <td>женат / замужем</td>\n",
       "      <td>0</td>\n",
       "      <td>M</td>\n",
       "      <td>сотрудник</td>\n",
       "      <td>0</td>\n",
       "      <td>135823.934197</td>\n",
       "      <td>образование</td>\n",
       "    </tr>\n",
       "    <tr>\n",
       "      <td>8</td>\n",
       "      <td>2</td>\n",
       "      <td>6929.865299</td>\n",
       "      <td>35</td>\n",
       "      <td>ВЫСШЕЕ</td>\n",
       "      <td>0</td>\n",
       "      <td>гражданский брак</td>\n",
       "      <td>1</td>\n",
       "      <td>F</td>\n",
       "      <td>сотрудник</td>\n",
       "      <td>0</td>\n",
       "      <td>95856.832424</td>\n",
       "      <td>на проведение свадьбы</td>\n",
       "    </tr>\n",
       "    <tr>\n",
       "      <td>9</td>\n",
       "      <td>0</td>\n",
       "      <td>2188.756445</td>\n",
       "      <td>41</td>\n",
       "      <td>среднее</td>\n",
       "      <td>1</td>\n",
       "      <td>женат / замужем</td>\n",
       "      <td>0</td>\n",
       "      <td>M</td>\n",
       "      <td>сотрудник</td>\n",
       "      <td>0</td>\n",
       "      <td>144425.938277</td>\n",
       "      <td>покупка жилья для семьи</td>\n",
       "    </tr>\n",
       "    <tr>\n",
       "      <td>10</td>\n",
       "      <td>2</td>\n",
       "      <td>4171.483647</td>\n",
       "      <td>36</td>\n",
       "      <td>высшее</td>\n",
       "      <td>0</td>\n",
       "      <td>женат / замужем</td>\n",
       "      <td>0</td>\n",
       "      <td>M</td>\n",
       "      <td>компаньон</td>\n",
       "      <td>0</td>\n",
       "      <td>113943.491460</td>\n",
       "      <td>покупка недвижимости</td>\n",
       "    </tr>\n",
       "    <tr>\n",
       "      <td>11</td>\n",
       "      <td>0</td>\n",
       "      <td>792.701887</td>\n",
       "      <td>40</td>\n",
       "      <td>среднее</td>\n",
       "      <td>1</td>\n",
       "      <td>женат / замужем</td>\n",
       "      <td>0</td>\n",
       "      <td>F</td>\n",
       "      <td>сотрудник</td>\n",
       "      <td>0</td>\n",
       "      <td>77069.234271</td>\n",
       "      <td>покупка коммерческой недвижимости</td>\n",
       "    </tr>\n",
       "    <tr>\n",
       "      <td>12</td>\n",
       "      <td>0</td>\n",
       "      <td>2194.220567</td>\n",
       "      <td>65</td>\n",
       "      <td>среднее</td>\n",
       "      <td>1</td>\n",
       "      <td>гражданский брак</td>\n",
       "      <td>1</td>\n",
       "      <td>M</td>\n",
       "      <td>пенсионер</td>\n",
       "      <td>0</td>\n",
       "      <td>145017.937533</td>\n",
       "      <td>сыграть свадьбу</td>\n",
       "    </tr>\n",
       "    <tr>\n",
       "      <td>13</td>\n",
       "      <td>0</td>\n",
       "      <td>1846.641941</td>\n",
       "      <td>54</td>\n",
       "      <td>неоконченное высшее</td>\n",
       "      <td>2</td>\n",
       "      <td>женат / замужем</td>\n",
       "      <td>0</td>\n",
       "      <td>F</td>\n",
       "      <td>сотрудник</td>\n",
       "      <td>0</td>\n",
       "      <td>130458.228857</td>\n",
       "      <td>приобретение автомобиля</td>\n",
       "    </tr>\n",
       "    <tr>\n",
       "      <td>14</td>\n",
       "      <td>0</td>\n",
       "      <td>1844.956182</td>\n",
       "      <td>56</td>\n",
       "      <td>высшее</td>\n",
       "      <td>0</td>\n",
       "      <td>гражданский брак</td>\n",
       "      <td>1</td>\n",
       "      <td>F</td>\n",
       "      <td>компаньон</td>\n",
       "      <td>1</td>\n",
       "      <td>165127.911772</td>\n",
       "      <td>покупка жилой недвижимости</td>\n",
       "    </tr>\n",
       "  </tbody>\n",
       "</table>\n",
       "</div>"
      ],
      "text/plain": [
       "    children            day  years            education  education_id  \\\n",
       "0          1    8437.673028     42               высшее             0   \n",
       "1          1    4024.803754     36              среднее             1   \n",
       "2          0    5623.422610     33              Среднее             1   \n",
       "3          3    4124.747207     32              среднее             1   \n",
       "4          0  340266.072047     53              среднее             1   \n",
       "5          0     926.185831     27               высшее             0   \n",
       "6          0    2879.202052     43               высшее             0   \n",
       "7          0     152.779569     50              СРЕДНЕЕ             1   \n",
       "8          2    6929.865299     35               ВЫСШЕЕ             0   \n",
       "9          0    2188.756445     41              среднее             1   \n",
       "10         2    4171.483647     36               высшее             0   \n",
       "11         0     792.701887     40              среднее             1   \n",
       "12         0    2194.220567     65              среднее             1   \n",
       "13         0    1846.641941     54  неоконченное высшее             2   \n",
       "14         0    1844.956182     56               высшее             0   \n",
       "\n",
       "              family  family_status_id gender       type  debt         salary  \\\n",
       "0    женат / замужем                 0      F  сотрудник     0  253875.639453   \n",
       "1    женат / замужем                 0      F  сотрудник     0  112080.014102   \n",
       "2    женат / замужем                 0      M  сотрудник     0  145885.952297   \n",
       "3    женат / замужем                 0      M  сотрудник     0  267628.550329   \n",
       "4   гражданский брак                 1      F  пенсионер     0  158616.077870   \n",
       "5   гражданский брак                 1      M  компаньон     0  255763.565419   \n",
       "6    женат / замужем                 0      F  компаньон     0  240525.971920   \n",
       "7    женат / замужем                 0      M  сотрудник     0  135823.934197   \n",
       "8   гражданский брак                 1      F  сотрудник     0   95856.832424   \n",
       "9    женат / замужем                 0      M  сотрудник     0  144425.938277   \n",
       "10   женат / замужем                 0      M  компаньон     0  113943.491460   \n",
       "11   женат / замужем                 0      F  сотрудник     0   77069.234271   \n",
       "12  гражданский брак                 1      M  пенсионер     0  145017.937533   \n",
       "13   женат / замужем                 0      F  сотрудник     0  130458.228857   \n",
       "14  гражданский брак                 1      F  компаньон     1  165127.911772   \n",
       "\n",
       "                              purpose  \n",
       "0                       покупка жилья  \n",
       "1             приобретение автомобиля  \n",
       "2                       покупка жилья  \n",
       "3          дополнительное образование  \n",
       "4                     сыграть свадьбу  \n",
       "5                       покупка жилья  \n",
       "6                   операции с жильем  \n",
       "7                         образование  \n",
       "8               на проведение свадьбы  \n",
       "9             покупка жилья для семьи  \n",
       "10               покупка недвижимости  \n",
       "11  покупка коммерческой недвижимости  \n",
       "12                    сыграть свадьбу  \n",
       "13            приобретение автомобиля  \n",
       "14         покупка жилой недвижимости  "
      ]
     },
     "execution_count": 6,
     "metadata": {},
     "output_type": "execute_result"
    }
   ],
   "source": [
    "credit['day'] = abs(credit['day'])\n",
    "credit['salary'] = abs(credit['salary'])\n",
    "credit['children'] = abs(credit['children'])\n",
    "credit['day'] = credit['day'].fillna(credit['day'].median())\n",
    "credit['salary'] = credit['salary'].fillna(credit['salary'].median())\n",
    "credit.info()\n",
    "credit.head(15)"
   ]
  },
  {
   "cell_type": "markdown",
   "metadata": {},
   "source": [
    "* *Для заполнения пропусков, взял значения столбцов day и salary, по модулю и заменил пропуски на медианные значения*"
   ]
  },
  {
   "cell_type": "markdown",
   "metadata": {},
   "source": [
    "### Замена типа данных"
   ]
  },
  {
   "cell_type": "code",
   "execution_count": 7,
   "metadata": {
    "scrolled": false
   },
   "outputs": [
    {
     "data": {
      "text/html": [
       "<div>\n",
       "<style scoped>\n",
       "    .dataframe tbody tr th:only-of-type {\n",
       "        vertical-align: middle;\n",
       "    }\n",
       "\n",
       "    .dataframe tbody tr th {\n",
       "        vertical-align: top;\n",
       "    }\n",
       "\n",
       "    .dataframe thead th {\n",
       "        text-align: right;\n",
       "    }\n",
       "</style>\n",
       "<table border=\"1\" class=\"dataframe\">\n",
       "  <thead>\n",
       "    <tr style=\"text-align: right;\">\n",
       "      <th></th>\n",
       "      <th>children</th>\n",
       "      <th>day</th>\n",
       "      <th>years</th>\n",
       "      <th>education</th>\n",
       "      <th>education_id</th>\n",
       "      <th>family</th>\n",
       "      <th>family_status_id</th>\n",
       "      <th>gender</th>\n",
       "      <th>type</th>\n",
       "      <th>debt</th>\n",
       "      <th>salary</th>\n",
       "      <th>purpose</th>\n",
       "    </tr>\n",
       "  </thead>\n",
       "  <tbody>\n",
       "    <tr>\n",
       "      <td>0</td>\n",
       "      <td>1</td>\n",
       "      <td>8437</td>\n",
       "      <td>42</td>\n",
       "      <td>высшее</td>\n",
       "      <td>0</td>\n",
       "      <td>женат / замужем</td>\n",
       "      <td>0</td>\n",
       "      <td>F</td>\n",
       "      <td>сотрудник</td>\n",
       "      <td>0</td>\n",
       "      <td>253875</td>\n",
       "      <td>покупка жилья</td>\n",
       "    </tr>\n",
       "    <tr>\n",
       "      <td>1</td>\n",
       "      <td>1</td>\n",
       "      <td>4024</td>\n",
       "      <td>36</td>\n",
       "      <td>среднее</td>\n",
       "      <td>1</td>\n",
       "      <td>женат / замужем</td>\n",
       "      <td>0</td>\n",
       "      <td>F</td>\n",
       "      <td>сотрудник</td>\n",
       "      <td>0</td>\n",
       "      <td>112080</td>\n",
       "      <td>приобретение автомобиля</td>\n",
       "    </tr>\n",
       "    <tr>\n",
       "      <td>2</td>\n",
       "      <td>0</td>\n",
       "      <td>5623</td>\n",
       "      <td>33</td>\n",
       "      <td>среднее</td>\n",
       "      <td>1</td>\n",
       "      <td>женат / замужем</td>\n",
       "      <td>0</td>\n",
       "      <td>M</td>\n",
       "      <td>сотрудник</td>\n",
       "      <td>0</td>\n",
       "      <td>145885</td>\n",
       "      <td>покупка жилья</td>\n",
       "    </tr>\n",
       "    <tr>\n",
       "      <td>3</td>\n",
       "      <td>3</td>\n",
       "      <td>4124</td>\n",
       "      <td>32</td>\n",
       "      <td>среднее</td>\n",
       "      <td>1</td>\n",
       "      <td>женат / замужем</td>\n",
       "      <td>0</td>\n",
       "      <td>M</td>\n",
       "      <td>сотрудник</td>\n",
       "      <td>0</td>\n",
       "      <td>267628</td>\n",
       "      <td>дополнительное образование</td>\n",
       "    </tr>\n",
       "    <tr>\n",
       "      <td>4</td>\n",
       "      <td>0</td>\n",
       "      <td>340266</td>\n",
       "      <td>53</td>\n",
       "      <td>среднее</td>\n",
       "      <td>1</td>\n",
       "      <td>гражданский брак</td>\n",
       "      <td>1</td>\n",
       "      <td>F</td>\n",
       "      <td>пенсионер</td>\n",
       "      <td>0</td>\n",
       "      <td>158616</td>\n",
       "      <td>сыграть свадьбу</td>\n",
       "    </tr>\n",
       "    <tr>\n",
       "      <td>5</td>\n",
       "      <td>0</td>\n",
       "      <td>926</td>\n",
       "      <td>27</td>\n",
       "      <td>высшее</td>\n",
       "      <td>0</td>\n",
       "      <td>гражданский брак</td>\n",
       "      <td>1</td>\n",
       "      <td>M</td>\n",
       "      <td>компаньон</td>\n",
       "      <td>0</td>\n",
       "      <td>255763</td>\n",
       "      <td>покупка жилья</td>\n",
       "    </tr>\n",
       "    <tr>\n",
       "      <td>6</td>\n",
       "      <td>0</td>\n",
       "      <td>2879</td>\n",
       "      <td>43</td>\n",
       "      <td>высшее</td>\n",
       "      <td>0</td>\n",
       "      <td>женат / замужем</td>\n",
       "      <td>0</td>\n",
       "      <td>F</td>\n",
       "      <td>компаньон</td>\n",
       "      <td>0</td>\n",
       "      <td>240525</td>\n",
       "      <td>операции с жильем</td>\n",
       "    </tr>\n",
       "    <tr>\n",
       "      <td>7</td>\n",
       "      <td>0</td>\n",
       "      <td>152</td>\n",
       "      <td>50</td>\n",
       "      <td>среднее</td>\n",
       "      <td>1</td>\n",
       "      <td>женат / замужем</td>\n",
       "      <td>0</td>\n",
       "      <td>M</td>\n",
       "      <td>сотрудник</td>\n",
       "      <td>0</td>\n",
       "      <td>135823</td>\n",
       "      <td>образование</td>\n",
       "    </tr>\n",
       "    <tr>\n",
       "      <td>8</td>\n",
       "      <td>2</td>\n",
       "      <td>6929</td>\n",
       "      <td>35</td>\n",
       "      <td>высшее</td>\n",
       "      <td>0</td>\n",
       "      <td>гражданский брак</td>\n",
       "      <td>1</td>\n",
       "      <td>F</td>\n",
       "      <td>сотрудник</td>\n",
       "      <td>0</td>\n",
       "      <td>95856</td>\n",
       "      <td>на проведение свадьбы</td>\n",
       "    </tr>\n",
       "    <tr>\n",
       "      <td>9</td>\n",
       "      <td>0</td>\n",
       "      <td>2188</td>\n",
       "      <td>41</td>\n",
       "      <td>среднее</td>\n",
       "      <td>1</td>\n",
       "      <td>женат / замужем</td>\n",
       "      <td>0</td>\n",
       "      <td>M</td>\n",
       "      <td>сотрудник</td>\n",
       "      <td>0</td>\n",
       "      <td>144425</td>\n",
       "      <td>покупка жилья для семьи</td>\n",
       "    </tr>\n",
       "    <tr>\n",
       "      <td>10</td>\n",
       "      <td>2</td>\n",
       "      <td>4171</td>\n",
       "      <td>36</td>\n",
       "      <td>высшее</td>\n",
       "      <td>0</td>\n",
       "      <td>женат / замужем</td>\n",
       "      <td>0</td>\n",
       "      <td>M</td>\n",
       "      <td>компаньон</td>\n",
       "      <td>0</td>\n",
       "      <td>113943</td>\n",
       "      <td>покупка недвижимости</td>\n",
       "    </tr>\n",
       "    <tr>\n",
       "      <td>11</td>\n",
       "      <td>0</td>\n",
       "      <td>792</td>\n",
       "      <td>40</td>\n",
       "      <td>среднее</td>\n",
       "      <td>1</td>\n",
       "      <td>женат / замужем</td>\n",
       "      <td>0</td>\n",
       "      <td>F</td>\n",
       "      <td>сотрудник</td>\n",
       "      <td>0</td>\n",
       "      <td>77069</td>\n",
       "      <td>покупка коммерческой недвижимости</td>\n",
       "    </tr>\n",
       "    <tr>\n",
       "      <td>12</td>\n",
       "      <td>0</td>\n",
       "      <td>2194</td>\n",
       "      <td>65</td>\n",
       "      <td>среднее</td>\n",
       "      <td>1</td>\n",
       "      <td>гражданский брак</td>\n",
       "      <td>1</td>\n",
       "      <td>M</td>\n",
       "      <td>пенсионер</td>\n",
       "      <td>0</td>\n",
       "      <td>145017</td>\n",
       "      <td>сыграть свадьбу</td>\n",
       "    </tr>\n",
       "    <tr>\n",
       "      <td>13</td>\n",
       "      <td>0</td>\n",
       "      <td>1846</td>\n",
       "      <td>54</td>\n",
       "      <td>неоконченное высшее</td>\n",
       "      <td>2</td>\n",
       "      <td>женат / замужем</td>\n",
       "      <td>0</td>\n",
       "      <td>F</td>\n",
       "      <td>сотрудник</td>\n",
       "      <td>0</td>\n",
       "      <td>130458</td>\n",
       "      <td>приобретение автомобиля</td>\n",
       "    </tr>\n",
       "    <tr>\n",
       "      <td>14</td>\n",
       "      <td>0</td>\n",
       "      <td>1844</td>\n",
       "      <td>56</td>\n",
       "      <td>высшее</td>\n",
       "      <td>0</td>\n",
       "      <td>гражданский брак</td>\n",
       "      <td>1</td>\n",
       "      <td>F</td>\n",
       "      <td>компаньон</td>\n",
       "      <td>1</td>\n",
       "      <td>165127</td>\n",
       "      <td>покупка жилой недвижимости</td>\n",
       "    </tr>\n",
       "  </tbody>\n",
       "</table>\n",
       "</div>"
      ],
      "text/plain": [
       "    children     day  years            education  education_id  \\\n",
       "0          1    8437     42               высшее             0   \n",
       "1          1    4024     36              среднее             1   \n",
       "2          0    5623     33              среднее             1   \n",
       "3          3    4124     32              среднее             1   \n",
       "4          0  340266     53              среднее             1   \n",
       "5          0     926     27               высшее             0   \n",
       "6          0    2879     43               высшее             0   \n",
       "7          0     152     50              среднее             1   \n",
       "8          2    6929     35               высшее             0   \n",
       "9          0    2188     41              среднее             1   \n",
       "10         2    4171     36               высшее             0   \n",
       "11         0     792     40              среднее             1   \n",
       "12         0    2194     65              среднее             1   \n",
       "13         0    1846     54  неоконченное высшее             2   \n",
       "14         0    1844     56               высшее             0   \n",
       "\n",
       "              family  family_status_id gender       type  debt  salary  \\\n",
       "0    женат / замужем                 0      F  сотрудник     0  253875   \n",
       "1    женат / замужем                 0      F  сотрудник     0  112080   \n",
       "2    женат / замужем                 0      M  сотрудник     0  145885   \n",
       "3    женат / замужем                 0      M  сотрудник     0  267628   \n",
       "4   гражданский брак                 1      F  пенсионер     0  158616   \n",
       "5   гражданский брак                 1      M  компаньон     0  255763   \n",
       "6    женат / замужем                 0      F  компаньон     0  240525   \n",
       "7    женат / замужем                 0      M  сотрудник     0  135823   \n",
       "8   гражданский брак                 1      F  сотрудник     0   95856   \n",
       "9    женат / замужем                 0      M  сотрудник     0  144425   \n",
       "10   женат / замужем                 0      M  компаньон     0  113943   \n",
       "11   женат / замужем                 0      F  сотрудник     0   77069   \n",
       "12  гражданский брак                 1      M  пенсионер     0  145017   \n",
       "13   женат / замужем                 0      F  сотрудник     0  130458   \n",
       "14  гражданский брак                 1      F  компаньон     1  165127   \n",
       "\n",
       "                              purpose  \n",
       "0                       покупка жилья  \n",
       "1             приобретение автомобиля  \n",
       "2                       покупка жилья  \n",
       "3          дополнительное образование  \n",
       "4                     сыграть свадьбу  \n",
       "5                       покупка жилья  \n",
       "6                   операции с жильем  \n",
       "7                         образование  \n",
       "8               на проведение свадьбы  \n",
       "9             покупка жилья для семьи  \n",
       "10               покупка недвижимости  \n",
       "11  покупка коммерческой недвижимости  \n",
       "12                    сыграть свадьбу  \n",
       "13            приобретение автомобиля  \n",
       "14         покупка жилой недвижимости  "
      ]
     },
     "execution_count": 7,
     "metadata": {},
     "output_type": "execute_result"
    }
   ],
   "source": [
    "credit['education'] = credit['education'].str.lower()\n",
    "credit['day'] = credit['day'].astype('int')\n",
    "credit['salary'] = credit['salary'].astype('int')\n",
    "credit.head(15)"
   ]
  },
  {
   "cell_type": "markdown",
   "metadata": {},
   "source": [
    "* *перевел столбец education в нижний регистр, столбцы  day и salary в целоисчислительный тип данных*"
   ]
  },
  {
   "cell_type": "markdown",
   "metadata": {},
   "source": [
    "### Обработка дубликатов"
   ]
  },
  {
   "cell_type": "code",
   "execution_count": 8,
   "metadata": {},
   "outputs": [
    {
     "data": {
      "text/plain": [
       "71"
      ]
     },
     "execution_count": 8,
     "metadata": {},
     "output_type": "execute_result"
    }
   ],
   "source": [
    "credit.duplicated().sum()"
   ]
  },
  {
   "cell_type": "code",
   "execution_count": 9,
   "metadata": {},
   "outputs": [
    {
     "name": "stdout",
     "output_type": "stream",
     "text": [
      "<class 'pandas.core.frame.DataFrame'>\n",
      "Int64Index: 21454 entries, 0 to 21524\n",
      "Data columns (total 12 columns):\n",
      "children            21454 non-null int64\n",
      "day                 21454 non-null int64\n",
      "years               21454 non-null int64\n",
      "education           21454 non-null object\n",
      "education_id        21454 non-null int64\n",
      "family              21454 non-null object\n",
      "family_status_id    21454 non-null int64\n",
      "gender              21454 non-null object\n",
      "type                21454 non-null object\n",
      "debt                21454 non-null int64\n",
      "salary              21454 non-null int64\n",
      "purpose             21454 non-null object\n",
      "dtypes: int64(7), object(5)\n",
      "memory usage: 2.1+ MB\n"
     ]
    }
   ],
   "source": [
    "credit = credit.drop_duplicates()\n",
    "credit.info()"
   ]
  },
  {
   "cell_type": "code",
   "execution_count": 10,
   "metadata": {},
   "outputs": [
    {
     "data": {
      "text/plain": [
       "0"
      ]
     },
     "execution_count": 10,
     "metadata": {},
     "output_type": "execute_result"
    }
   ],
   "source": [
    "credit.duplicated().sum()"
   ]
  },
  {
   "cell_type": "markdown",
   "metadata": {},
   "source": [
    "* *удалил полные дубликаты*"
   ]
  },
  {
   "cell_type": "code",
   "execution_count": 11,
   "metadata": {},
   "outputs": [
    {
     "data": {
      "text/plain": [
       "F      14174\n",
       "M       7279\n",
       "XNA        1\n",
       "Name: gender, dtype: int64"
      ]
     },
     "execution_count": 11,
     "metadata": {},
     "output_type": "execute_result"
    }
   ],
   "source": [
    "credit['gender'].value_counts()"
   ]
  },
  {
   "cell_type": "code",
   "execution_count": 12,
   "metadata": {},
   "outputs": [
    {
     "data": {
      "text/plain": [
       "35    616\n",
       "40    607\n",
       "41    605\n",
       "34    601\n",
       "38    597\n",
       "42    596\n",
       "33    581\n",
       "39    572\n",
       "31    559\n",
       "36    554\n",
       "44    545\n",
       "29    544\n",
       "30    537\n",
       "48    536\n",
       "37    536\n",
       "50    513\n",
       "43    512\n",
       "32    509\n",
       "49    508\n",
       "28    503\n",
       "45    496\n",
       "27    493\n",
       "52    484\n",
       "56    483\n",
       "47    477\n",
       "54    476\n",
       "46    472\n",
       "53    459\n",
       "57    456\n",
       "58    454\n",
       "51    446\n",
       "55    443\n",
       "59    443\n",
       "26    408\n",
       "60    374\n",
       "25    357\n",
       "61    354\n",
       "62    348\n",
       "63    269\n",
       "24    264\n",
       "64    260\n",
       "23    252\n",
       "65    193\n",
       "22    183\n",
       "66    182\n",
       "67    167\n",
       "21    111\n",
       "0     101\n",
       "68     99\n",
       "69     85\n",
       "70     65\n",
       "71     56\n",
       "20     51\n",
       "72     33\n",
       "19     14\n",
       "73      8\n",
       "74      6\n",
       "75      1\n",
       "Name: years, dtype: int64"
      ]
     },
     "execution_count": 12,
     "metadata": {},
     "output_type": "execute_result"
    }
   ],
   "source": [
    "credit['years'].value_counts()"
   ]
  },
  {
   "cell_type": "code",
   "execution_count": 13,
   "metadata": {},
   "outputs": [],
   "source": [
    "credit['years']=credit['years'].replace(0,credit['years'].median())"
   ]
  },
  {
   "cell_type": "code",
   "execution_count": 14,
   "metadata": {},
   "outputs": [
    {
     "data": {
      "text/plain": [
       "array([42, 36, 33, 32, 53, 27, 43, 50, 35, 41, 40, 65, 54, 56, 26, 48, 24,\n",
       "       21, 57, 67, 28, 63, 62, 47, 34, 68, 25, 31, 30, 20, 49, 37, 45, 61,\n",
       "       64, 44, 52, 46, 23, 38, 39, 51, 59, 29, 60, 55, 58, 71, 22, 73, 66,\n",
       "       69, 19, 72, 70, 74, 75])"
      ]
     },
     "execution_count": 14,
     "metadata": {},
     "output_type": "execute_result"
    }
   ],
   "source": [
    "credit['years'].unique()  "
   ]
  },
  {
   "cell_type": "markdown",
   "metadata": {},
   "source": [
    "### Лемматизация"
   ]
  },
  {
   "cell_type": "code",
   "execution_count": 15,
   "metadata": {},
   "outputs": [
    {
     "data": {
      "text/html": [
       "<div>\n",
       "<style scoped>\n",
       "    .dataframe tbody tr th:only-of-type {\n",
       "        vertical-align: middle;\n",
       "    }\n",
       "\n",
       "    .dataframe tbody tr th {\n",
       "        vertical-align: top;\n",
       "    }\n",
       "\n",
       "    .dataframe thead th {\n",
       "        text-align: right;\n",
       "    }\n",
       "</style>\n",
       "<table border=\"1\" class=\"dataframe\">\n",
       "  <thead>\n",
       "    <tr style=\"text-align: right;\">\n",
       "      <th></th>\n",
       "      <th>children</th>\n",
       "      <th>day</th>\n",
       "      <th>years</th>\n",
       "      <th>education</th>\n",
       "      <th>education_id</th>\n",
       "      <th>family</th>\n",
       "      <th>family_status_id</th>\n",
       "      <th>gender</th>\n",
       "      <th>type</th>\n",
       "      <th>debt</th>\n",
       "      <th>salary</th>\n",
       "      <th>purpose</th>\n",
       "      <th>purpose_lemmas</th>\n",
       "    </tr>\n",
       "  </thead>\n",
       "  <tbody>\n",
       "    <tr>\n",
       "      <td>0</td>\n",
       "      <td>1</td>\n",
       "      <td>8437</td>\n",
       "      <td>42</td>\n",
       "      <td>высшее</td>\n",
       "      <td>0</td>\n",
       "      <td>женат / замужем</td>\n",
       "      <td>0</td>\n",
       "      <td>F</td>\n",
       "      <td>сотрудник</td>\n",
       "      <td>0</td>\n",
       "      <td>253875</td>\n",
       "      <td>покупка жилья</td>\n",
       "      <td>[покупка,  , жилье, \\n]</td>\n",
       "    </tr>\n",
       "    <tr>\n",
       "      <td>1</td>\n",
       "      <td>1</td>\n",
       "      <td>4024</td>\n",
       "      <td>36</td>\n",
       "      <td>среднее</td>\n",
       "      <td>1</td>\n",
       "      <td>женат / замужем</td>\n",
       "      <td>0</td>\n",
       "      <td>F</td>\n",
       "      <td>сотрудник</td>\n",
       "      <td>0</td>\n",
       "      <td>112080</td>\n",
       "      <td>приобретение автомобиля</td>\n",
       "      <td>[приобретение,  , автомобиль, \\n]</td>\n",
       "    </tr>\n",
       "    <tr>\n",
       "      <td>2</td>\n",
       "      <td>0</td>\n",
       "      <td>5623</td>\n",
       "      <td>33</td>\n",
       "      <td>среднее</td>\n",
       "      <td>1</td>\n",
       "      <td>женат / замужем</td>\n",
       "      <td>0</td>\n",
       "      <td>M</td>\n",
       "      <td>сотрудник</td>\n",
       "      <td>0</td>\n",
       "      <td>145885</td>\n",
       "      <td>покупка жилья</td>\n",
       "      <td>[покупка,  , жилье, \\n]</td>\n",
       "    </tr>\n",
       "    <tr>\n",
       "      <td>3</td>\n",
       "      <td>3</td>\n",
       "      <td>4124</td>\n",
       "      <td>32</td>\n",
       "      <td>среднее</td>\n",
       "      <td>1</td>\n",
       "      <td>женат / замужем</td>\n",
       "      <td>0</td>\n",
       "      <td>M</td>\n",
       "      <td>сотрудник</td>\n",
       "      <td>0</td>\n",
       "      <td>267628</td>\n",
       "      <td>дополнительное образование</td>\n",
       "      <td>[дополнительный,  , образование, \\n]</td>\n",
       "    </tr>\n",
       "    <tr>\n",
       "      <td>4</td>\n",
       "      <td>0</td>\n",
       "      <td>340266</td>\n",
       "      <td>53</td>\n",
       "      <td>среднее</td>\n",
       "      <td>1</td>\n",
       "      <td>гражданский брак</td>\n",
       "      <td>1</td>\n",
       "      <td>F</td>\n",
       "      <td>пенсионер</td>\n",
       "      <td>0</td>\n",
       "      <td>158616</td>\n",
       "      <td>сыграть свадьбу</td>\n",
       "      <td>[сыграть,  , свадьба, \\n]</td>\n",
       "    </tr>\n",
       "    <tr>\n",
       "      <td>5</td>\n",
       "      <td>0</td>\n",
       "      <td>926</td>\n",
       "      <td>27</td>\n",
       "      <td>высшее</td>\n",
       "      <td>0</td>\n",
       "      <td>гражданский брак</td>\n",
       "      <td>1</td>\n",
       "      <td>M</td>\n",
       "      <td>компаньон</td>\n",
       "      <td>0</td>\n",
       "      <td>255763</td>\n",
       "      <td>покупка жилья</td>\n",
       "      <td>[покупка,  , жилье, \\n]</td>\n",
       "    </tr>\n",
       "    <tr>\n",
       "      <td>6</td>\n",
       "      <td>0</td>\n",
       "      <td>2879</td>\n",
       "      <td>43</td>\n",
       "      <td>высшее</td>\n",
       "      <td>0</td>\n",
       "      <td>женат / замужем</td>\n",
       "      <td>0</td>\n",
       "      <td>F</td>\n",
       "      <td>компаньон</td>\n",
       "      <td>0</td>\n",
       "      <td>240525</td>\n",
       "      <td>операции с жильем</td>\n",
       "      <td>[операция,  , с,  , жилье, \\n]</td>\n",
       "    </tr>\n",
       "    <tr>\n",
       "      <td>7</td>\n",
       "      <td>0</td>\n",
       "      <td>152</td>\n",
       "      <td>50</td>\n",
       "      <td>среднее</td>\n",
       "      <td>1</td>\n",
       "      <td>женат / замужем</td>\n",
       "      <td>0</td>\n",
       "      <td>M</td>\n",
       "      <td>сотрудник</td>\n",
       "      <td>0</td>\n",
       "      <td>135823</td>\n",
       "      <td>образование</td>\n",
       "      <td>[образование, \\n]</td>\n",
       "    </tr>\n",
       "    <tr>\n",
       "      <td>8</td>\n",
       "      <td>2</td>\n",
       "      <td>6929</td>\n",
       "      <td>35</td>\n",
       "      <td>высшее</td>\n",
       "      <td>0</td>\n",
       "      <td>гражданский брак</td>\n",
       "      <td>1</td>\n",
       "      <td>F</td>\n",
       "      <td>сотрудник</td>\n",
       "      <td>0</td>\n",
       "      <td>95856</td>\n",
       "      <td>на проведение свадьбы</td>\n",
       "      <td>[на,  , проведение,  , свадьба, \\n]</td>\n",
       "    </tr>\n",
       "    <tr>\n",
       "      <td>9</td>\n",
       "      <td>0</td>\n",
       "      <td>2188</td>\n",
       "      <td>41</td>\n",
       "      <td>среднее</td>\n",
       "      <td>1</td>\n",
       "      <td>женат / замужем</td>\n",
       "      <td>0</td>\n",
       "      <td>M</td>\n",
       "      <td>сотрудник</td>\n",
       "      <td>0</td>\n",
       "      <td>144425</td>\n",
       "      <td>покупка жилья для семьи</td>\n",
       "      <td>[покупка,  , жилье,  , для,  , семья, \\n]</td>\n",
       "    </tr>\n",
       "    <tr>\n",
       "      <td>10</td>\n",
       "      <td>2</td>\n",
       "      <td>4171</td>\n",
       "      <td>36</td>\n",
       "      <td>высшее</td>\n",
       "      <td>0</td>\n",
       "      <td>женат / замужем</td>\n",
       "      <td>0</td>\n",
       "      <td>M</td>\n",
       "      <td>компаньон</td>\n",
       "      <td>0</td>\n",
       "      <td>113943</td>\n",
       "      <td>покупка недвижимости</td>\n",
       "      <td>[покупка,  , недвижимость, \\n]</td>\n",
       "    </tr>\n",
       "    <tr>\n",
       "      <td>11</td>\n",
       "      <td>0</td>\n",
       "      <td>792</td>\n",
       "      <td>40</td>\n",
       "      <td>среднее</td>\n",
       "      <td>1</td>\n",
       "      <td>женат / замужем</td>\n",
       "      <td>0</td>\n",
       "      <td>F</td>\n",
       "      <td>сотрудник</td>\n",
       "      <td>0</td>\n",
       "      <td>77069</td>\n",
       "      <td>покупка коммерческой недвижимости</td>\n",
       "      <td>[покупка,  , коммерческий,  , недвижимость, \\n]</td>\n",
       "    </tr>\n",
       "    <tr>\n",
       "      <td>12</td>\n",
       "      <td>0</td>\n",
       "      <td>2194</td>\n",
       "      <td>65</td>\n",
       "      <td>среднее</td>\n",
       "      <td>1</td>\n",
       "      <td>гражданский брак</td>\n",
       "      <td>1</td>\n",
       "      <td>M</td>\n",
       "      <td>пенсионер</td>\n",
       "      <td>0</td>\n",
       "      <td>145017</td>\n",
       "      <td>сыграть свадьбу</td>\n",
       "      <td>[сыграть,  , свадьба, \\n]</td>\n",
       "    </tr>\n",
       "    <tr>\n",
       "      <td>13</td>\n",
       "      <td>0</td>\n",
       "      <td>1846</td>\n",
       "      <td>54</td>\n",
       "      <td>неоконченное высшее</td>\n",
       "      <td>2</td>\n",
       "      <td>женат / замужем</td>\n",
       "      <td>0</td>\n",
       "      <td>F</td>\n",
       "      <td>сотрудник</td>\n",
       "      <td>0</td>\n",
       "      <td>130458</td>\n",
       "      <td>приобретение автомобиля</td>\n",
       "      <td>[приобретение,  , автомобиль, \\n]</td>\n",
       "    </tr>\n",
       "    <tr>\n",
       "      <td>14</td>\n",
       "      <td>0</td>\n",
       "      <td>1844</td>\n",
       "      <td>56</td>\n",
       "      <td>высшее</td>\n",
       "      <td>0</td>\n",
       "      <td>гражданский брак</td>\n",
       "      <td>1</td>\n",
       "      <td>F</td>\n",
       "      <td>компаньон</td>\n",
       "      <td>1</td>\n",
       "      <td>165127</td>\n",
       "      <td>покупка жилой недвижимости</td>\n",
       "      <td>[покупка,  , жилой,  , недвижимость, \\n]</td>\n",
       "    </tr>\n",
       "  </tbody>\n",
       "</table>\n",
       "</div>"
      ],
      "text/plain": [
       "    children     day  years            education  education_id  \\\n",
       "0          1    8437     42               высшее             0   \n",
       "1          1    4024     36              среднее             1   \n",
       "2          0    5623     33              среднее             1   \n",
       "3          3    4124     32              среднее             1   \n",
       "4          0  340266     53              среднее             1   \n",
       "5          0     926     27               высшее             0   \n",
       "6          0    2879     43               высшее             0   \n",
       "7          0     152     50              среднее             1   \n",
       "8          2    6929     35               высшее             0   \n",
       "9          0    2188     41              среднее             1   \n",
       "10         2    4171     36               высшее             0   \n",
       "11         0     792     40              среднее             1   \n",
       "12         0    2194     65              среднее             1   \n",
       "13         0    1846     54  неоконченное высшее             2   \n",
       "14         0    1844     56               высшее             0   \n",
       "\n",
       "              family  family_status_id gender       type  debt  salary  \\\n",
       "0    женат / замужем                 0      F  сотрудник     0  253875   \n",
       "1    женат / замужем                 0      F  сотрудник     0  112080   \n",
       "2    женат / замужем                 0      M  сотрудник     0  145885   \n",
       "3    женат / замужем                 0      M  сотрудник     0  267628   \n",
       "4   гражданский брак                 1      F  пенсионер     0  158616   \n",
       "5   гражданский брак                 1      M  компаньон     0  255763   \n",
       "6    женат / замужем                 0      F  компаньон     0  240525   \n",
       "7    женат / замужем                 0      M  сотрудник     0  135823   \n",
       "8   гражданский брак                 1      F  сотрудник     0   95856   \n",
       "9    женат / замужем                 0      M  сотрудник     0  144425   \n",
       "10   женат / замужем                 0      M  компаньон     0  113943   \n",
       "11   женат / замужем                 0      F  сотрудник     0   77069   \n",
       "12  гражданский брак                 1      M  пенсионер     0  145017   \n",
       "13   женат / замужем                 0      F  сотрудник     0  130458   \n",
       "14  гражданский брак                 1      F  компаньон     1  165127   \n",
       "\n",
       "                              purpose  \\\n",
       "0                       покупка жилья   \n",
       "1             приобретение автомобиля   \n",
       "2                       покупка жилья   \n",
       "3          дополнительное образование   \n",
       "4                     сыграть свадьбу   \n",
       "5                       покупка жилья   \n",
       "6                   операции с жильем   \n",
       "7                         образование   \n",
       "8               на проведение свадьбы   \n",
       "9             покупка жилья для семьи   \n",
       "10               покупка недвижимости   \n",
       "11  покупка коммерческой недвижимости   \n",
       "12                    сыграть свадьбу   \n",
       "13            приобретение автомобиля   \n",
       "14         покупка жилой недвижимости   \n",
       "\n",
       "                                     purpose_lemmas  \n",
       "0                           [покупка,  , жилье, \\n]  \n",
       "1                 [приобретение,  , автомобиль, \\n]  \n",
       "2                           [покупка,  , жилье, \\n]  \n",
       "3              [дополнительный,  , образование, \\n]  \n",
       "4                         [сыграть,  , свадьба, \\n]  \n",
       "5                           [покупка,  , жилье, \\n]  \n",
       "6                    [операция,  , с,  , жилье, \\n]  \n",
       "7                                 [образование, \\n]  \n",
       "8               [на,  , проведение,  , свадьба, \\n]  \n",
       "9         [покупка,  , жилье,  , для,  , семья, \\n]  \n",
       "10                   [покупка,  , недвижимость, \\n]  \n",
       "11  [покупка,  , коммерческий,  , недвижимость, \\n]  \n",
       "12                        [сыграть,  , свадьба, \\n]  \n",
       "13                [приобретение,  , автомобиль, \\n]  \n",
       "14         [покупка,  , жилой,  , недвижимость, \\n]  "
      ]
     },
     "execution_count": 15,
     "metadata": {},
     "output_type": "execute_result"
    }
   ],
   "source": [
    "\n",
    "\n",
    "def lemm(i):\n",
    "    lemmas = m.lemmatize(i)                     \n",
    "    return lemmas\n",
    "\n",
    "credit['purpose_lemmas'] = credit['purpose'].apply(lemm)\n",
    "credit.head(15)"
   ]
  },
  {
   "cell_type": "markdown",
   "metadata": {},
   "source": [
    "* *применил лемматизацию к колонке purpose, создал новую колонку со значениями*"
   ]
  },
  {
   "cell_type": "markdown",
   "metadata": {},
   "source": [
    "### Категоризация данных"
   ]
  },
  {
   "cell_type": "code",
   "execution_count": 16,
   "metadata": {},
   "outputs": [
    {
     "data": {
      "text/plain": [
       "[автомобиль, \\n]                                          972\n",
       "[свадьба, \\n]                                             791\n",
       "[на,  , проведение,  , свадьба, \\n]                       768\n",
       "[сыграть,  , свадьба, \\n]                                 765\n",
       "[операция,  , с,  , недвижимость, \\n]                     675\n",
       "[покупка,  , коммерческий,  , недвижимость, \\n]           661\n",
       "[операция,  , с,  , жилье, \\n]                            652\n",
       "[покупка,  , жилье,  , для,  , сдача, \\n]                 651\n",
       "[операция,  , с,  , коммерческий,  , недвижимость, \\n]    650\n",
       "[покупка,  , жилье, \\n]                                   646\n",
       "[жилье, \\n]                                               646\n",
       "[покупка,  , жилье,  , для,  , семья, \\n]                 638\n",
       "[строительство,  , собственный,  , недвижимость, \\n]      635\n",
       "[недвижимость, \\n]                                        633\n",
       "[операция,  , со,  , свой,  , недвижимость, \\n]           627\n",
       "[строительство,  , жилой,  , недвижимость, \\n]            624\n",
       "[покупка,  , недвижимость, \\n]                            621\n",
       "[покупка,  , свой,  , жилье, \\n]                          620\n",
       "[строительство,  , недвижимость, \\n]                      619\n",
       "[ремонт,  , жилье, \\n]                                    607\n",
       "[покупка,  , жилой,  , недвижимость, \\n]                  606\n",
       "[на,  , покупка,  , свой,  , автомобиль, \\n]              505\n",
       "[заниматься,  , высокий,  , образование, \\n]              496\n",
       "[сделка,  , с,  , подержанный,  , автомобиль, \\n]         486\n",
       "[свой,  , автомобиль, \\n]                                 478\n",
       "[на,  , покупка,  , подержать,  , автомобиль, \\n]         478\n",
       "[на,  , покупка,  , автомобиль, \\n]                       471\n",
       "[приобретение,  , автомобиль, \\n]                         461\n",
       "[дополнительный,  , образование, \\n]                      460\n",
       "[сделка,  , с,  , автомобиль, \\n]                         455\n",
       "[высокий,  , образование, \\n]                             452\n",
       "[образование, \\n]                                         447\n",
       "[получение,  , дополнительный,  , образование, \\n]        446\n",
       "[получение,  , образование, \\n]                           442\n",
       "[профильный,  , образование, \\n]                          436\n",
       "[получение,  , высокий,  , образование, \\n]               426\n",
       "[заниматься,  , образование, \\n]                          408\n",
       "Name: purpose_lemmas, dtype: int64"
      ]
     },
     "execution_count": 16,
     "metadata": {},
     "output_type": "execute_result"
    }
   ],
   "source": [
    "credit['purpose_lemmas'].value_counts()"
   ]
  },
  {
   "cell_type": "code",
   "execution_count": 17,
   "metadata": {},
   "outputs": [
    {
     "data": {
      "text/html": [
       "<div>\n",
       "<style scoped>\n",
       "    .dataframe tbody tr th:only-of-type {\n",
       "        vertical-align: middle;\n",
       "    }\n",
       "\n",
       "    .dataframe tbody tr th {\n",
       "        vertical-align: top;\n",
       "    }\n",
       "\n",
       "    .dataframe thead th {\n",
       "        text-align: right;\n",
       "    }\n",
       "</style>\n",
       "<table border=\"1\" class=\"dataframe\">\n",
       "  <thead>\n",
       "    <tr style=\"text-align: right;\">\n",
       "      <th></th>\n",
       "      <th>children</th>\n",
       "      <th>day</th>\n",
       "      <th>years</th>\n",
       "      <th>education</th>\n",
       "      <th>education_id</th>\n",
       "      <th>family</th>\n",
       "      <th>family_status_id</th>\n",
       "      <th>gender</th>\n",
       "      <th>type</th>\n",
       "      <th>debt</th>\n",
       "      <th>salary</th>\n",
       "      <th>purpose</th>\n",
       "      <th>purpose_lemmas</th>\n",
       "      <th>purpose_id</th>\n",
       "      <th>salary_rang</th>\n",
       "    </tr>\n",
       "  </thead>\n",
       "  <tbody>\n",
       "    <tr>\n",
       "      <td>0</td>\n",
       "      <td>1</td>\n",
       "      <td>8437</td>\n",
       "      <td>42</td>\n",
       "      <td>высшее</td>\n",
       "      <td>0</td>\n",
       "      <td>женат / замужем</td>\n",
       "      <td>0</td>\n",
       "      <td>F</td>\n",
       "      <td>сотрудник</td>\n",
       "      <td>0</td>\n",
       "      <td>253875</td>\n",
       "      <td>покупка жилья</td>\n",
       "      <td>[покупка,  , жилье, \\n]</td>\n",
       "      <td>недвижимость</td>\n",
       "      <td>высокий</td>\n",
       "    </tr>\n",
       "    <tr>\n",
       "      <td>1</td>\n",
       "      <td>1</td>\n",
       "      <td>4024</td>\n",
       "      <td>36</td>\n",
       "      <td>среднее</td>\n",
       "      <td>1</td>\n",
       "      <td>женат / замужем</td>\n",
       "      <td>0</td>\n",
       "      <td>F</td>\n",
       "      <td>сотрудник</td>\n",
       "      <td>0</td>\n",
       "      <td>112080</td>\n",
       "      <td>приобретение автомобиля</td>\n",
       "      <td>[приобретение,  , автомобиль, \\n]</td>\n",
       "      <td>авто</td>\n",
       "      <td>средний</td>\n",
       "    </tr>\n",
       "    <tr>\n",
       "      <td>2</td>\n",
       "      <td>0</td>\n",
       "      <td>5623</td>\n",
       "      <td>33</td>\n",
       "      <td>среднее</td>\n",
       "      <td>1</td>\n",
       "      <td>женат / замужем</td>\n",
       "      <td>0</td>\n",
       "      <td>M</td>\n",
       "      <td>сотрудник</td>\n",
       "      <td>0</td>\n",
       "      <td>145885</td>\n",
       "      <td>покупка жилья</td>\n",
       "      <td>[покупка,  , жилье, \\n]</td>\n",
       "      <td>недвижимость</td>\n",
       "      <td>средний</td>\n",
       "    </tr>\n",
       "    <tr>\n",
       "      <td>3</td>\n",
       "      <td>3</td>\n",
       "      <td>4124</td>\n",
       "      <td>32</td>\n",
       "      <td>среднее</td>\n",
       "      <td>1</td>\n",
       "      <td>женат / замужем</td>\n",
       "      <td>0</td>\n",
       "      <td>M</td>\n",
       "      <td>сотрудник</td>\n",
       "      <td>0</td>\n",
       "      <td>267628</td>\n",
       "      <td>дополнительное образование</td>\n",
       "      <td>[дополнительный,  , образование, \\n]</td>\n",
       "      <td>образование</td>\n",
       "      <td>высокий</td>\n",
       "    </tr>\n",
       "    <tr>\n",
       "      <td>4</td>\n",
       "      <td>0</td>\n",
       "      <td>340266</td>\n",
       "      <td>53</td>\n",
       "      <td>среднее</td>\n",
       "      <td>1</td>\n",
       "      <td>гражданский брак</td>\n",
       "      <td>1</td>\n",
       "      <td>F</td>\n",
       "      <td>пенсионер</td>\n",
       "      <td>0</td>\n",
       "      <td>158616</td>\n",
       "      <td>сыграть свадьбу</td>\n",
       "      <td>[сыграть,  , свадьба, \\n]</td>\n",
       "      <td>свадьба</td>\n",
       "      <td>средний</td>\n",
       "    </tr>\n",
       "    <tr>\n",
       "      <td>5</td>\n",
       "      <td>0</td>\n",
       "      <td>926</td>\n",
       "      <td>27</td>\n",
       "      <td>высшее</td>\n",
       "      <td>0</td>\n",
       "      <td>гражданский брак</td>\n",
       "      <td>1</td>\n",
       "      <td>M</td>\n",
       "      <td>компаньон</td>\n",
       "      <td>0</td>\n",
       "      <td>255763</td>\n",
       "      <td>покупка жилья</td>\n",
       "      <td>[покупка,  , жилье, \\n]</td>\n",
       "      <td>недвижимость</td>\n",
       "      <td>высокий</td>\n",
       "    </tr>\n",
       "    <tr>\n",
       "      <td>6</td>\n",
       "      <td>0</td>\n",
       "      <td>2879</td>\n",
       "      <td>43</td>\n",
       "      <td>высшее</td>\n",
       "      <td>0</td>\n",
       "      <td>женат / замужем</td>\n",
       "      <td>0</td>\n",
       "      <td>F</td>\n",
       "      <td>компаньон</td>\n",
       "      <td>0</td>\n",
       "      <td>240525</td>\n",
       "      <td>операции с жильем</td>\n",
       "      <td>[операция,  , с,  , жилье, \\n]</td>\n",
       "      <td>недвижимость</td>\n",
       "      <td>высокий</td>\n",
       "    </tr>\n",
       "    <tr>\n",
       "      <td>7</td>\n",
       "      <td>0</td>\n",
       "      <td>152</td>\n",
       "      <td>50</td>\n",
       "      <td>среднее</td>\n",
       "      <td>1</td>\n",
       "      <td>женат / замужем</td>\n",
       "      <td>0</td>\n",
       "      <td>M</td>\n",
       "      <td>сотрудник</td>\n",
       "      <td>0</td>\n",
       "      <td>135823</td>\n",
       "      <td>образование</td>\n",
       "      <td>[образование, \\n]</td>\n",
       "      <td>образование</td>\n",
       "      <td>средний</td>\n",
       "    </tr>\n",
       "    <tr>\n",
       "      <td>8</td>\n",
       "      <td>2</td>\n",
       "      <td>6929</td>\n",
       "      <td>35</td>\n",
       "      <td>высшее</td>\n",
       "      <td>0</td>\n",
       "      <td>гражданский брак</td>\n",
       "      <td>1</td>\n",
       "      <td>F</td>\n",
       "      <td>сотрудник</td>\n",
       "      <td>0</td>\n",
       "      <td>95856</td>\n",
       "      <td>на проведение свадьбы</td>\n",
       "      <td>[на,  , проведение,  , свадьба, \\n]</td>\n",
       "      <td>свадьба</td>\n",
       "      <td>ниже среднего</td>\n",
       "    </tr>\n",
       "    <tr>\n",
       "      <td>9</td>\n",
       "      <td>0</td>\n",
       "      <td>2188</td>\n",
       "      <td>41</td>\n",
       "      <td>среднее</td>\n",
       "      <td>1</td>\n",
       "      <td>женат / замужем</td>\n",
       "      <td>0</td>\n",
       "      <td>M</td>\n",
       "      <td>сотрудник</td>\n",
       "      <td>0</td>\n",
       "      <td>144425</td>\n",
       "      <td>покупка жилья для семьи</td>\n",
       "      <td>[покупка,  , жилье,  , для,  , семья, \\n]</td>\n",
       "      <td>недвижимость</td>\n",
       "      <td>средний</td>\n",
       "    </tr>\n",
       "    <tr>\n",
       "      <td>10</td>\n",
       "      <td>2</td>\n",
       "      <td>4171</td>\n",
       "      <td>36</td>\n",
       "      <td>высшее</td>\n",
       "      <td>0</td>\n",
       "      <td>женат / замужем</td>\n",
       "      <td>0</td>\n",
       "      <td>M</td>\n",
       "      <td>компаньон</td>\n",
       "      <td>0</td>\n",
       "      <td>113943</td>\n",
       "      <td>покупка недвижимости</td>\n",
       "      <td>[покупка,  , недвижимость, \\n]</td>\n",
       "      <td>недвижимость</td>\n",
       "      <td>средний</td>\n",
       "    </tr>\n",
       "    <tr>\n",
       "      <td>11</td>\n",
       "      <td>0</td>\n",
       "      <td>792</td>\n",
       "      <td>40</td>\n",
       "      <td>среднее</td>\n",
       "      <td>1</td>\n",
       "      <td>женат / замужем</td>\n",
       "      <td>0</td>\n",
       "      <td>F</td>\n",
       "      <td>сотрудник</td>\n",
       "      <td>0</td>\n",
       "      <td>77069</td>\n",
       "      <td>покупка коммерческой недвижимости</td>\n",
       "      <td>[покупка,  , коммерческий,  , недвижимость, \\n]</td>\n",
       "      <td>недвижимость</td>\n",
       "      <td>ниже среднего</td>\n",
       "    </tr>\n",
       "    <tr>\n",
       "      <td>12</td>\n",
       "      <td>0</td>\n",
       "      <td>2194</td>\n",
       "      <td>65</td>\n",
       "      <td>среднее</td>\n",
       "      <td>1</td>\n",
       "      <td>гражданский брак</td>\n",
       "      <td>1</td>\n",
       "      <td>M</td>\n",
       "      <td>пенсионер</td>\n",
       "      <td>0</td>\n",
       "      <td>145017</td>\n",
       "      <td>сыграть свадьбу</td>\n",
       "      <td>[сыграть,  , свадьба, \\n]</td>\n",
       "      <td>свадьба</td>\n",
       "      <td>средний</td>\n",
       "    </tr>\n",
       "    <tr>\n",
       "      <td>13</td>\n",
       "      <td>0</td>\n",
       "      <td>1846</td>\n",
       "      <td>54</td>\n",
       "      <td>неоконченное высшее</td>\n",
       "      <td>2</td>\n",
       "      <td>женат / замужем</td>\n",
       "      <td>0</td>\n",
       "      <td>F</td>\n",
       "      <td>сотрудник</td>\n",
       "      <td>0</td>\n",
       "      <td>130458</td>\n",
       "      <td>приобретение автомобиля</td>\n",
       "      <td>[приобретение,  , автомобиль, \\n]</td>\n",
       "      <td>авто</td>\n",
       "      <td>средний</td>\n",
       "    </tr>\n",
       "    <tr>\n",
       "      <td>14</td>\n",
       "      <td>0</td>\n",
       "      <td>1844</td>\n",
       "      <td>56</td>\n",
       "      <td>высшее</td>\n",
       "      <td>0</td>\n",
       "      <td>гражданский брак</td>\n",
       "      <td>1</td>\n",
       "      <td>F</td>\n",
       "      <td>компаньон</td>\n",
       "      <td>1</td>\n",
       "      <td>165127</td>\n",
       "      <td>покупка жилой недвижимости</td>\n",
       "      <td>[покупка,  , жилой,  , недвижимость, \\n]</td>\n",
       "      <td>недвижимость</td>\n",
       "      <td>выше среднего</td>\n",
       "    </tr>\n",
       "  </tbody>\n",
       "</table>\n",
       "</div>"
      ],
      "text/plain": [
       "    children     day  years            education  education_id  \\\n",
       "0          1    8437     42               высшее             0   \n",
       "1          1    4024     36              среднее             1   \n",
       "2          0    5623     33              среднее             1   \n",
       "3          3    4124     32              среднее             1   \n",
       "4          0  340266     53              среднее             1   \n",
       "5          0     926     27               высшее             0   \n",
       "6          0    2879     43               высшее             0   \n",
       "7          0     152     50              среднее             1   \n",
       "8          2    6929     35               высшее             0   \n",
       "9          0    2188     41              среднее             1   \n",
       "10         2    4171     36               высшее             0   \n",
       "11         0     792     40              среднее             1   \n",
       "12         0    2194     65              среднее             1   \n",
       "13         0    1846     54  неоконченное высшее             2   \n",
       "14         0    1844     56               высшее             0   \n",
       "\n",
       "              family  family_status_id gender       type  debt  salary  \\\n",
       "0    женат / замужем                 0      F  сотрудник     0  253875   \n",
       "1    женат / замужем                 0      F  сотрудник     0  112080   \n",
       "2    женат / замужем                 0      M  сотрудник     0  145885   \n",
       "3    женат / замужем                 0      M  сотрудник     0  267628   \n",
       "4   гражданский брак                 1      F  пенсионер     0  158616   \n",
       "5   гражданский брак                 1      M  компаньон     0  255763   \n",
       "6    женат / замужем                 0      F  компаньон     0  240525   \n",
       "7    женат / замужем                 0      M  сотрудник     0  135823   \n",
       "8   гражданский брак                 1      F  сотрудник     0   95856   \n",
       "9    женат / замужем                 0      M  сотрудник     0  144425   \n",
       "10   женат / замужем                 0      M  компаньон     0  113943   \n",
       "11   женат / замужем                 0      F  сотрудник     0   77069   \n",
       "12  гражданский брак                 1      M  пенсионер     0  145017   \n",
       "13   женат / замужем                 0      F  сотрудник     0  130458   \n",
       "14  гражданский брак                 1      F  компаньон     1  165127   \n",
       "\n",
       "                              purpose  \\\n",
       "0                       покупка жилья   \n",
       "1             приобретение автомобиля   \n",
       "2                       покупка жилья   \n",
       "3          дополнительное образование   \n",
       "4                     сыграть свадьбу   \n",
       "5                       покупка жилья   \n",
       "6                   операции с жильем   \n",
       "7                         образование   \n",
       "8               на проведение свадьбы   \n",
       "9             покупка жилья для семьи   \n",
       "10               покупка недвижимости   \n",
       "11  покупка коммерческой недвижимости   \n",
       "12                    сыграть свадьбу   \n",
       "13            приобретение автомобиля   \n",
       "14         покупка жилой недвижимости   \n",
       "\n",
       "                                     purpose_lemmas    purpose_id  \\\n",
       "0                           [покупка,  , жилье, \\n]  недвижимость   \n",
       "1                 [приобретение,  , автомобиль, \\n]          авто   \n",
       "2                           [покупка,  , жилье, \\n]  недвижимость   \n",
       "3              [дополнительный,  , образование, \\n]   образование   \n",
       "4                         [сыграть,  , свадьба, \\n]       свадьба   \n",
       "5                           [покупка,  , жилье, \\n]  недвижимость   \n",
       "6                    [операция,  , с,  , жилье, \\n]  недвижимость   \n",
       "7                                 [образование, \\n]   образование   \n",
       "8               [на,  , проведение,  , свадьба, \\n]       свадьба   \n",
       "9         [покупка,  , жилье,  , для,  , семья, \\n]  недвижимость   \n",
       "10                   [покупка,  , недвижимость, \\n]  недвижимость   \n",
       "11  [покупка,  , коммерческий,  , недвижимость, \\n]  недвижимость   \n",
       "12                        [сыграть,  , свадьба, \\n]       свадьба   \n",
       "13                [приобретение,  , автомобиль, \\n]          авто   \n",
       "14         [покупка,  , жилой,  , недвижимость, \\n]  недвижимость   \n",
       "\n",
       "       salary_rang  \n",
       "0          высокий  \n",
       "1          средний  \n",
       "2          средний  \n",
       "3          высокий  \n",
       "4          средний  \n",
       "5          высокий  \n",
       "6          высокий  \n",
       "7          средний  \n",
       "8    ниже среднего  \n",
       "9          средний  \n",
       "10         средний  \n",
       "11   ниже среднего  \n",
       "12         средний  \n",
       "13         средний  \n",
       "14   выше среднего  "
      ]
     },
     "execution_count": 17,
     "metadata": {},
     "output_type": "execute_result"
    }
   ],
   "source": [
    "\n",
    "def target(i):\n",
    "    if 'свадьба' in i:\n",
    "        return 'свадьба'\n",
    "    elif 'автомобиль' in i or 'транспорт' in i:\n",
    "        return 'авто'\n",
    "    elif 'недвижимость' in i or 'жилье' in i:\n",
    "        return 'недвижимость'\n",
    "    elif 'образование' or 'профессия' in i:\n",
    "        return 'образование'\n",
    "    else:\n",
    "        return 5\n",
    "    \n",
    "credit['purpose_id'] = credit['purpose_lemmas'].apply(target)\n",
    "credit['purpose_id'].value_counts()\n",
    "\n",
    "\n",
    "\n",
    "def money(salary):\n",
    "    if salary <= 50000:\n",
    "        return 'низкий'\n",
    "    if 50000 < salary <=100000:\n",
    "        return ' ниже среднего'\n",
    "    if 100000 < salary <=160000:\n",
    "        return 'средний'\n",
    "    if 160000 < salary <=200000:\n",
    "        return 'выше среднего'\n",
    "    if salary > 200000:\n",
    "        return 'высокий'\n",
    "credit['salary_rang'] = credit['salary'].apply(money)    \n",
    "\n",
    "\n",
    "\n",
    "\n",
    "credit.head(15)"
   ]
  },
  {
   "cell_type": "markdown",
   "metadata": {},
   "source": [
    "* *Сделал категоризацию по цели кредита, а также по уровню дохода. Создал для них отдельные столбцы*"
   ]
  },
  {
   "cell_type": "markdown",
   "metadata": {},
   "source": [
    "## Шаг 3. Ответьте на вопросы"
   ]
  },
  {
   "cell_type": "markdown",
   "metadata": {},
   "source": [
    "- Есть ли зависимость между наличием детей и возвратом кредита в срок?"
   ]
  },
  {
   "cell_type": "code",
   "execution_count": 18,
   "metadata": {},
   "outputs": [
    {
     "data": {
      "text/html": [
       "<div>\n",
       "<style scoped>\n",
       "    .dataframe tbody tr th:only-of-type {\n",
       "        vertical-align: middle;\n",
       "    }\n",
       "\n",
       "    .dataframe tbody tr th {\n",
       "        vertical-align: top;\n",
       "    }\n",
       "\n",
       "    .dataframe thead th {\n",
       "        text-align: right;\n",
       "    }\n",
       "</style>\n",
       "<table border=\"1\" class=\"dataframe\">\n",
       "  <thead>\n",
       "    <tr style=\"text-align: right;\">\n",
       "      <th></th>\n",
       "      <th>count_children</th>\n",
       "      <th>sum_children</th>\n",
       "      <th>result_children</th>\n",
       "    </tr>\n",
       "    <tr>\n",
       "      <th>children</th>\n",
       "      <th></th>\n",
       "      <th></th>\n",
       "      <th></th>\n",
       "    </tr>\n",
       "  </thead>\n",
       "  <tbody>\n",
       "    <tr>\n",
       "      <td>4</td>\n",
       "      <td>41</td>\n",
       "      <td>4</td>\n",
       "      <td>9.76%</td>\n",
       "    </tr>\n",
       "    <tr>\n",
       "      <td>2</td>\n",
       "      <td>2052</td>\n",
       "      <td>194</td>\n",
       "      <td>9.45%</td>\n",
       "    </tr>\n",
       "    <tr>\n",
       "      <td>1</td>\n",
       "      <td>4855</td>\n",
       "      <td>445</td>\n",
       "      <td>9.17%</td>\n",
       "    </tr>\n",
       "    <tr>\n",
       "      <td>3</td>\n",
       "      <td>330</td>\n",
       "      <td>27</td>\n",
       "      <td>8.18%</td>\n",
       "    </tr>\n",
       "    <tr>\n",
       "      <td>0</td>\n",
       "      <td>14091</td>\n",
       "      <td>1063</td>\n",
       "      <td>7.54%</td>\n",
       "    </tr>\n",
       "    <tr>\n",
       "      <td>20</td>\n",
       "      <td>76</td>\n",
       "      <td>8</td>\n",
       "      <td>10.53%</td>\n",
       "    </tr>\n",
       "    <tr>\n",
       "      <td>5</td>\n",
       "      <td>9</td>\n",
       "      <td>0</td>\n",
       "      <td>0.00%</td>\n",
       "    </tr>\n",
       "  </tbody>\n",
       "</table>\n",
       "</div>"
      ],
      "text/plain": [
       "          count_children  sum_children result_children\n",
       "children                                              \n",
       "4                     41             4           9.76%\n",
       "2                   2052           194           9.45%\n",
       "1                   4855           445           9.17%\n",
       "3                    330            27           8.18%\n",
       "0                  14091          1063           7.54%\n",
       "20                    76             8          10.53%\n",
       "5                      9             0           0.00%"
      ]
     },
     "execution_count": 18,
     "metadata": {},
     "output_type": "execute_result"
    }
   ],
   "source": [
    "def conv_child(x):\n",
    "    return \"{0:.2%}\".format(x)\n",
    "\n",
    "debt_children = pd.DataFrame()\n",
    "\n",
    "debt_children['count_children'] = credit.groupby('children')['debt'].count()\n",
    "debt_children['sum_children'] = credit.groupby('children')['debt'].sum()\n",
    "debt_children['result_children'] = debt_children['sum_children'] / debt_children['count_children'] \n",
    "debt_children['result_children'] = debt_children['result_children'].apply(conv_child)\n",
    "debt_children.sort_values('result_children', ascending=False)"
   ]
  },
  {
   "cell_type": "markdown",
   "metadata": {},
   "source": [
    "* *Создал новый датафрейм для подсчета зависимости между наличием детей и возврата кредита в срок. Сначала сгруппировал столбцы задолженность и дети, посчитал общее количество, потом сумму должников по каждой категории. И затем нашел соотношение числа людей с просрочкой кредита к общему числу. Хоть и суммарное количество в категории людей без детей самое большое, но по процентному соотношению они самые надежные, в плане возврата кредита. Наверное, это связано с тем что у них дополнительных расходов на содержание ребенка, на втором месте, идут семьи с 3 детьми, они реже берут кредит, но и более ответственнены, чем семьи с 1-2 детьми, их процент просрочки примерно одинаков*\n"
   ]
  },
  {
   "cell_type": "markdown",
   "metadata": {},
   "source": [
    "- Есть ли зависимость между семейным положением и возвратом кредита в срок?"
   ]
  },
  {
   "cell_type": "code",
   "execution_count": 19,
   "metadata": {},
   "outputs": [
    {
     "data": {
      "text/html": [
       "<div>\n",
       "<style scoped>\n",
       "    .dataframe tbody tr th:only-of-type {\n",
       "        vertical-align: middle;\n",
       "    }\n",
       "\n",
       "    .dataframe tbody tr th {\n",
       "        vertical-align: top;\n",
       "    }\n",
       "\n",
       "    .dataframe thead th {\n",
       "        text-align: right;\n",
       "    }\n",
       "</style>\n",
       "<table border=\"1\" class=\"dataframe\">\n",
       "  <thead>\n",
       "    <tr style=\"text-align: right;\">\n",
       "      <th></th>\n",
       "      <th>count_family</th>\n",
       "      <th>sum_family</th>\n",
       "      <th>result_family</th>\n",
       "    </tr>\n",
       "    <tr>\n",
       "      <th>family</th>\n",
       "      <th></th>\n",
       "      <th></th>\n",
       "      <th></th>\n",
       "    </tr>\n",
       "  </thead>\n",
       "  <tbody>\n",
       "    <tr>\n",
       "      <td>Не женат / не замужем</td>\n",
       "      <td>2810</td>\n",
       "      <td>274</td>\n",
       "      <td>9.75%</td>\n",
       "    </tr>\n",
       "    <tr>\n",
       "      <td>гражданский брак</td>\n",
       "      <td>4151</td>\n",
       "      <td>388</td>\n",
       "      <td>9.35%</td>\n",
       "    </tr>\n",
       "    <tr>\n",
       "      <td>женат / замужем</td>\n",
       "      <td>12339</td>\n",
       "      <td>931</td>\n",
       "      <td>7.55%</td>\n",
       "    </tr>\n",
       "    <tr>\n",
       "      <td>в разводе</td>\n",
       "      <td>1195</td>\n",
       "      <td>85</td>\n",
       "      <td>7.11%</td>\n",
       "    </tr>\n",
       "    <tr>\n",
       "      <td>вдовец / вдова</td>\n",
       "      <td>959</td>\n",
       "      <td>63</td>\n",
       "      <td>6.57%</td>\n",
       "    </tr>\n",
       "  </tbody>\n",
       "</table>\n",
       "</div>"
      ],
      "text/plain": [
       "                       count_family  sum_family result_family\n",
       "family                                                       \n",
       "Не женат / не замужем          2810         274         9.75%\n",
       "гражданский брак               4151         388         9.35%\n",
       "женат / замужем               12339         931         7.55%\n",
       "в разводе                      1195          85         7.11%\n",
       "вдовец / вдова                  959          63         6.57%"
      ]
     },
     "execution_count": 19,
     "metadata": {},
     "output_type": "execute_result"
    }
   ],
   "source": [
    "def conv_fam(x):\n",
    "    return \"{0:.2%}\".format(x)\n",
    "\n",
    "debt_family = pd.DataFrame()\n",
    "debt_family['count_family'] = credit.groupby('family')['debt'].count()\n",
    "debt_family['sum_family'] = credit.groupby('family')['debt'].sum()\n",
    "debt_family['result_family'] = debt_family['sum_family'] / debt_family['count_family']\n",
    "debt_family['result_family'] = debt_family['result_family'].apply(conv_fam)\n",
    "debt_family.sort_values('result_family', ascending =False)"
   ]
  },
  {
   "cell_type": "markdown",
   "metadata": {},
   "source": [
    "* *Самые проблемные в плане возврата кредита, это холостые люди, либо состоящие в гражданском браке. Самые ответственные это потерявшие супруга/ги, что легко обьяснимо, они реже берут кредит, но если и берут, то здраво оценивают возможность возврата кредита.*"
   ]
  },
  {
   "cell_type": "markdown",
   "metadata": {},
   "source": [
    "- Есть ли зависимость между уровнем дохода и возвратом кредита в срок?"
   ]
  },
  {
   "cell_type": "code",
   "execution_count": 20,
   "metadata": {},
   "outputs": [
    {
     "data": {
      "text/html": [
       "<div>\n",
       "<style scoped>\n",
       "    .dataframe tbody tr th:only-of-type {\n",
       "        vertical-align: middle;\n",
       "    }\n",
       "\n",
       "    .dataframe tbody tr th {\n",
       "        vertical-align: top;\n",
       "    }\n",
       "\n",
       "    .dataframe thead th {\n",
       "        text-align: right;\n",
       "    }\n",
       "</style>\n",
       "<table border=\"1\" class=\"dataframe\">\n",
       "  <thead>\n",
       "    <tr style=\"text-align: right;\">\n",
       "      <th></th>\n",
       "      <th>count_salary</th>\n",
       "      <th>sum_salary</th>\n",
       "      <th>conversion_salary</th>\n",
       "    </tr>\n",
       "    <tr>\n",
       "      <th>salary_rang</th>\n",
       "      <th></th>\n",
       "      <th></th>\n",
       "      <th></th>\n",
       "    </tr>\n",
       "  </thead>\n",
       "  <tbody>\n",
       "    <tr>\n",
       "      <td>выше среднего</td>\n",
       "      <td>3152</td>\n",
       "      <td>280</td>\n",
       "      <td>8.88%</td>\n",
       "    </tr>\n",
       "    <tr>\n",
       "      <td>средний</td>\n",
       "      <td>8773</td>\n",
       "      <td>749</td>\n",
       "      <td>8.54%</td>\n",
       "    </tr>\n",
       "    <tr>\n",
       "      <td>ниже среднего</td>\n",
       "      <td>4091</td>\n",
       "      <td>331</td>\n",
       "      <td>8.09%</td>\n",
       "    </tr>\n",
       "    <tr>\n",
       "      <td>высокий</td>\n",
       "      <td>5066</td>\n",
       "      <td>358</td>\n",
       "      <td>7.07%</td>\n",
       "    </tr>\n",
       "    <tr>\n",
       "      <td>низкий</td>\n",
       "      <td>372</td>\n",
       "      <td>23</td>\n",
       "      <td>6.18%</td>\n",
       "    </tr>\n",
       "  </tbody>\n",
       "</table>\n",
       "</div>"
      ],
      "text/plain": [
       "                count_salary  sum_salary conversion_salary\n",
       "salary_rang                                               \n",
       "выше среднего           3152         280             8.88%\n",
       "средний                 8773         749             8.54%\n",
       " ниже среднего          4091         331             8.09%\n",
       "высокий                 5066         358             7.07%\n",
       "низкий                   372          23             6.18%"
      ]
     },
     "execution_count": 20,
     "metadata": {},
     "output_type": "execute_result"
    }
   ],
   "source": [
    "def conv_sal(x):\n",
    "    return \"{0:.2%}\".format(x)\n",
    "debt_salary = pd.DataFrame()\n",
    "debt_salary['count_salary'] = credit.groupby('salary_rang')['debt'].count()\n",
    "debt_salary['sum_salary'] = credit.groupby('salary_rang')['debt'].sum()\n",
    "debt_salary['conversion_salary'] = debt_salary['sum_salary'] / debt_salary['count_salary']\n",
    "debt_salary['conversion_salary'] = debt_salary['conversion_salary'].apply(conv_sal)\n",
    "debt_salary.sort_values('conversion_salary', ascending = False)\n"
   ]
  },
  {
   "cell_type": "markdown",
   "metadata": {},
   "source": [
    "* *По данному сравнению можно сделать вывод, что люди с низким и ниже среднего доходом, более ответственны к выплате, чем люди со средним, либо чуть выше среднего дохода. С высоким доходом, категория самая надежная в плане выдачи кредита*"
   ]
  },
  {
   "cell_type": "markdown",
   "metadata": {},
   "source": [
    "**Вывод**"
   ]
  },
  {
   "cell_type": "markdown",
   "metadata": {},
   "source": [
    "- Как разные цели кредита влияют на его возврат в срок?"
   ]
  },
  {
   "cell_type": "code",
   "execution_count": 21,
   "metadata": {},
   "outputs": [
    {
     "data": {
      "text/html": [
       "<div>\n",
       "<style scoped>\n",
       "    .dataframe tbody tr th:only-of-type {\n",
       "        vertical-align: middle;\n",
       "    }\n",
       "\n",
       "    .dataframe tbody tr th {\n",
       "        vertical-align: top;\n",
       "    }\n",
       "\n",
       "    .dataframe thead th {\n",
       "        text-align: right;\n",
       "    }\n",
       "</style>\n",
       "<table border=\"1\" class=\"dataframe\">\n",
       "  <thead>\n",
       "    <tr style=\"text-align: right;\">\n",
       "      <th></th>\n",
       "      <th>count_purpose</th>\n",
       "      <th>sum_purpose</th>\n",
       "      <th>conversion_purpose</th>\n",
       "    </tr>\n",
       "    <tr>\n",
       "      <th>purpose_id</th>\n",
       "      <th></th>\n",
       "      <th></th>\n",
       "      <th></th>\n",
       "    </tr>\n",
       "  </thead>\n",
       "  <tbody>\n",
       "    <tr>\n",
       "      <td>авто</td>\n",
       "      <td>4306</td>\n",
       "      <td>403</td>\n",
       "      <td>9.36%</td>\n",
       "    </tr>\n",
       "    <tr>\n",
       "      <td>образование</td>\n",
       "      <td>4013</td>\n",
       "      <td>370</td>\n",
       "      <td>9.22%</td>\n",
       "    </tr>\n",
       "    <tr>\n",
       "      <td>свадьба</td>\n",
       "      <td>2324</td>\n",
       "      <td>186</td>\n",
       "      <td>8.00%</td>\n",
       "    </tr>\n",
       "    <tr>\n",
       "      <td>недвижимость</td>\n",
       "      <td>10811</td>\n",
       "      <td>782</td>\n",
       "      <td>7.23%</td>\n",
       "    </tr>\n",
       "  </tbody>\n",
       "</table>\n",
       "</div>"
      ],
      "text/plain": [
       "              count_purpose  sum_purpose conversion_purpose\n",
       "purpose_id                                                 \n",
       "авто                   4306          403              9.36%\n",
       "образование            4013          370              9.22%\n",
       "свадьба                2324          186              8.00%\n",
       "недвижимость          10811          782              7.23%"
      ]
     },
     "execution_count": 21,
     "metadata": {},
     "output_type": "execute_result"
    }
   ],
   "source": [
    "def conv_sal(x):\n",
    "    return \"{0:.2%}\".format(x)\n",
    "debt_purpose = pd.DataFrame()\n",
    "debt_purpose['count_purpose'] = credit.groupby('purpose_id')['debt'].count()\n",
    "debt_purpose['sum_purpose'] = credit.groupby('purpose_id')['debt'].sum()\n",
    "debt_purpose['conversion_purpose'] = debt_purpose['sum_purpose'] / debt_purpose['count_purpose']\n",
    "debt_purpose['conversion_purpose'] = debt_purpose['conversion_purpose'].apply(conv_sal)\n",
    "debt_purpose.sort_values('conversion_purpose', ascending = False)\n"
   ]
  },
  {
   "cell_type": "markdown",
   "metadata": {},
   "source": [
    "* *По полученным данным, следует, что самой проблемной целью для получения кредита, является покупка авто, самое надежное это недвижимость, что также легко обьясняется, покупка недвижимости более ответственный шаг для человека, либо семьи, также покупка авто не учитывает, будущих расходов на содержание автомобиля, что упускают многие будущие владельцы*"
   ]
  },
  {
   "cell_type": "markdown",
   "metadata": {},
   "source": [
    "## Шаг 4. Общий вывод"
   ]
  },
  {
   "cell_type": "markdown",
   "metadata": {},
   "source": [
    "Подведем итог, из данной нам таблицы с клиентами, проведя категоризацию, выделили основные черты идеального клиента и его цели получения кредита. В категории наличия детей, лучшим, в плане возврата, является категория бездетных и семьи с 3 детьми, самыми проблемными семьи с 1-2 детьми. Выделив категорию семейного положения, мы узнали что самыми надежными являются вдовы/цы либо в разводе, а самые сложные это холостые, либо находящиеся в гражданском браке. По уровню дохода, люди, имеющие доход нижесреднего, наиболее надежные, а которые имеют средний и чуть вышесреднего доход,допускают больше всего просрочек по кредиту. Также проведя, лемматизацию, узнали 4 основных цели получения кредита: самой надежной целью является покупка недвижимости, на втором месте- свадьба, затем - образование, и на последнем месте покупка автомобиля. Мои рекомендации, что можно поправить, это в первую очередь, корректное заполнение колонок со стажем и доходом, почему то часть из них отрицательны. Во вторых, заполнять возраст, не оставляя нули в категории, что усложняет делать правильную категоризацию."
   ]
  }
 ],
 "metadata": {
  "ExecuteTimeLog": [
   {
    "duration": 860,
    "start_time": "2021-11-01T14:41:12.288Z"
   },
   {
    "duration": 43,
    "start_time": "2021-11-01T14:41:44.900Z"
   },
   {
    "duration": 16,
    "start_time": "2021-11-01T16:06:54.796Z"
   },
   {
    "duration": 23,
    "start_time": "2021-11-01T16:08:39.598Z"
   },
   {
    "duration": 14,
    "start_time": "2021-11-01T16:08:53.687Z"
   },
   {
    "duration": 9,
    "start_time": "2021-11-01T16:21:34.420Z"
   },
   {
    "duration": 28,
    "start_time": "2021-11-01T16:21:51.535Z"
   },
   {
    "duration": 25,
    "start_time": "2021-11-01T16:22:30.513Z"
   },
   {
    "duration": 14,
    "start_time": "2021-11-01T16:25:32.424Z"
   },
   {
    "duration": 48,
    "start_time": "2021-11-01T16:41:40.212Z"
   },
   {
    "duration": 334,
    "start_time": "2021-11-02T05:20:56.418Z"
   },
   {
    "duration": 625,
    "start_time": "2021-11-02T05:21:02.576Z"
   },
   {
    "duration": 20,
    "start_time": "2021-11-02T05:21:04.128Z"
   },
   {
    "duration": 19,
    "start_time": "2021-11-02T05:21:05.183Z"
   },
   {
    "duration": 13,
    "start_time": "2021-11-02T05:21:07.331Z"
   },
   {
    "duration": 30,
    "start_time": "2021-11-02T05:21:07.857Z"
   },
   {
    "duration": 818,
    "start_time": "2021-11-03T11:04:51.336Z"
   },
   {
    "duration": 43,
    "start_time": "2021-11-03T11:04:52.157Z"
   },
   {
    "duration": 26,
    "start_time": "2021-11-03T11:04:52.926Z"
   },
   {
    "duration": 16,
    "start_time": "2021-11-03T11:04:53.728Z"
   },
   {
    "duration": 59,
    "start_time": "2021-11-03T11:04:54.720Z"
   },
   {
    "duration": 70,
    "start_time": "2021-11-03T11:43:17.825Z"
   },
   {
    "duration": 23,
    "start_time": "2021-11-03T11:43:25.387Z"
   },
   {
    "duration": 26,
    "start_time": "2021-11-03T11:43:37.206Z"
   },
   {
    "duration": 15,
    "start_time": "2021-11-03T11:43:42.727Z"
   },
   {
    "duration": 45,
    "start_time": "2021-11-03T11:43:47.389Z"
   },
   {
    "duration": 8,
    "start_time": "2021-11-03T12:11:05.860Z"
   },
   {
    "duration": 6,
    "start_time": "2021-11-03T12:12:06.791Z"
   },
   {
    "duration": 9,
    "start_time": "2021-11-03T12:13:37.401Z"
   },
   {
    "duration": 19,
    "start_time": "2021-11-03T12:13:58.778Z"
   },
   {
    "duration": 7,
    "start_time": "2021-11-03T14:57:13.779Z"
   },
   {
    "duration": 19,
    "start_time": "2021-11-03T14:57:30.084Z"
   },
   {
    "duration": 24,
    "start_time": "2021-11-03T14:57:47.155Z"
   },
   {
    "duration": 62,
    "start_time": "2021-11-03T14:57:55.139Z"
   },
   {
    "duration": 21,
    "start_time": "2021-11-03T14:57:56.096Z"
   },
   {
    "duration": 28,
    "start_time": "2021-11-03T14:57:56.748Z"
   },
   {
    "duration": 16,
    "start_time": "2021-11-03T14:57:57.352Z"
   },
   {
    "duration": 47,
    "start_time": "2021-11-03T14:57:58.084Z"
   },
   {
    "duration": 18,
    "start_time": "2021-11-03T14:58:00.603Z"
   },
   {
    "duration": 23,
    "start_time": "2021-11-03T14:58:27.130Z"
   },
   {
    "duration": 25,
    "start_time": "2021-11-03T14:59:00.652Z"
   },
   {
    "duration": 24,
    "start_time": "2021-11-03T15:01:46.511Z"
   },
   {
    "duration": 61,
    "start_time": "2021-11-03T15:02:11.098Z"
   },
   {
    "duration": 23,
    "start_time": "2021-11-03T15:02:11.454Z"
   },
   {
    "duration": 27,
    "start_time": "2021-11-03T15:02:12.228Z"
   },
   {
    "duration": 15,
    "start_time": "2021-11-03T15:02:12.711Z"
   },
   {
    "duration": 47,
    "start_time": "2021-11-03T15:02:13.235Z"
   },
   {
    "duration": 23,
    "start_time": "2021-11-03T15:02:15.292Z"
   },
   {
    "duration": 28,
    "start_time": "2021-11-03T15:03:29.003Z"
   },
   {
    "duration": 20,
    "start_time": "2021-11-03T15:04:56.848Z"
   },
   {
    "duration": 37,
    "start_time": "2021-11-03T15:29:23.128Z"
   },
   {
    "duration": 17,
    "start_time": "2021-11-03T15:34:59.743Z"
   },
   {
    "duration": 19,
    "start_time": "2021-11-03T15:36:34.847Z"
   },
   {
    "duration": 37,
    "start_time": "2021-11-03T15:36:51.390Z"
   },
   {
    "duration": 41,
    "start_time": "2021-11-03T16:04:42.364Z"
   },
   {
    "duration": 4620,
    "start_time": "2021-11-03T16:10:56.982Z"
   },
   {
    "duration": 4624,
    "start_time": "2021-11-03T16:16:30.195Z"
   },
   {
    "duration": 96,
    "start_time": "2021-11-03T16:25:57.812Z"
   },
   {
    "duration": 22,
    "start_time": "2021-11-03T16:25:58.070Z"
   },
   {
    "duration": 26,
    "start_time": "2021-11-03T16:25:58.701Z"
   },
   {
    "duration": 16,
    "start_time": "2021-11-03T16:25:59.187Z"
   },
   {
    "duration": 47,
    "start_time": "2021-11-03T16:25:59.688Z"
   },
   {
    "duration": 38,
    "start_time": "2021-11-03T16:26:01.220Z"
   },
   {
    "duration": 36,
    "start_time": "2021-11-03T16:26:02.505Z"
   },
   {
    "duration": 40,
    "start_time": "2021-11-03T16:26:03.846Z"
   },
   {
    "duration": 4957,
    "start_time": "2021-11-03T16:26:05.796Z"
   },
   {
    "duration": 52,
    "start_time": "2021-11-03T16:37:07.745Z"
   },
   {
    "duration": 5,
    "start_time": "2021-11-03T16:37:53.493Z"
   },
   {
    "duration": 2757,
    "start_time": "2021-11-03T16:39:49.008Z"
   },
   {
    "duration": 2591,
    "start_time": "2021-11-03T16:40:06.914Z"
   },
   {
    "duration": 2641,
    "start_time": "2021-11-03T16:40:18.973Z"
   },
   {
    "duration": 29,
    "start_time": "2021-11-03T16:40:36.423Z"
   },
   {
    "duration": 46,
    "start_time": "2021-11-03T16:40:45.597Z"
   },
   {
    "duration": 50,
    "start_time": "2021-11-03T16:48:31.261Z"
   },
   {
    "duration": 877,
    "start_time": "2021-11-04T16:37:20.943Z"
   },
   {
    "duration": 33,
    "start_time": "2021-11-04T16:37:22.480Z"
   },
   {
    "duration": 27,
    "start_time": "2021-11-04T16:37:23.333Z"
   },
   {
    "duration": 16,
    "start_time": "2021-11-04T16:37:24.323Z"
   },
   {
    "duration": 51,
    "start_time": "2021-11-04T16:37:24.988Z"
   },
   {
    "duration": 40,
    "start_time": "2021-11-04T16:37:27.008Z"
   },
   {
    "duration": 38,
    "start_time": "2021-11-04T16:37:28.528Z"
   },
   {
    "duration": 38,
    "start_time": "2021-11-04T16:37:30.357Z"
   },
   {
    "duration": 4559,
    "start_time": "2021-11-04T16:37:31.773Z"
   },
   {
    "duration": 80,
    "start_time": "2021-11-04T16:37:36.334Z"
   },
   {
    "duration": 66,
    "start_time": "2021-11-04T16:38:01.217Z"
   },
   {
    "duration": 463,
    "start_time": "2021-11-04T16:46:34.265Z"
   },
   {
    "duration": 4679,
    "start_time": "2021-11-04T16:46:47.840Z"
   },
   {
    "duration": 414,
    "start_time": "2021-11-04T16:46:55.334Z"
   },
   {
    "duration": 135,
    "start_time": "2021-11-04T16:47:14.228Z"
   },
   {
    "duration": 7,
    "start_time": "2021-11-04T17:31:26.727Z"
   },
   {
    "duration": 10,
    "start_time": "2021-11-04T17:31:42.891Z"
   },
   {
    "duration": 23,
    "start_time": "2021-11-04T17:34:47.762Z"
   },
   {
    "duration": 10,
    "start_time": "2021-11-04T17:37:04.865Z"
   },
   {
    "duration": 7,
    "start_time": "2021-11-04T17:50:40.561Z"
   },
   {
    "duration": 12,
    "start_time": "2021-11-04T17:50:48.656Z"
   },
   {
    "duration": 10,
    "start_time": "2021-11-04T17:50:59.913Z"
   },
   {
    "duration": 280,
    "start_time": "2021-11-04T17:51:15.079Z"
   },
   {
    "duration": 10,
    "start_time": "2021-11-04T17:51:28.722Z"
   },
   {
    "duration": 12,
    "start_time": "2021-11-04T17:51:49.480Z"
   },
   {
    "duration": 8,
    "start_time": "2021-11-04T17:55:53.130Z"
   },
   {
    "duration": 9,
    "start_time": "2021-11-04T17:56:01.144Z"
   },
   {
    "duration": 12,
    "start_time": "2021-11-04T17:56:22.833Z"
   },
   {
    "duration": 11,
    "start_time": "2021-11-04T17:56:38.714Z"
   },
   {
    "duration": 324,
    "start_time": "2021-11-04T17:59:00.584Z"
   },
   {
    "duration": 27,
    "start_time": "2021-11-04T17:59:22.710Z"
   },
   {
    "duration": 15,
    "start_time": "2021-11-04T18:00:02.703Z"
   },
   {
    "duration": 20,
    "start_time": "2021-11-04T18:01:04.078Z"
   },
   {
    "duration": 22,
    "start_time": "2021-11-04T18:01:42.862Z"
   },
   {
    "duration": 16,
    "start_time": "2021-11-04T18:24:03.208Z"
   },
   {
    "duration": 38,
    "start_time": "2021-11-04T18:26:38.350Z"
   },
   {
    "duration": 320,
    "start_time": "2021-11-04T18:53:59.725Z"
   },
   {
    "duration": 24,
    "start_time": "2021-11-04T18:54:18.009Z"
   },
   {
    "duration": 24,
    "start_time": "2021-11-04T18:55:08.664Z"
   },
   {
    "duration": 848,
    "start_time": "2021-11-05T06:51:30.157Z"
   },
   {
    "duration": 31,
    "start_time": "2021-11-05T06:51:31.573Z"
   },
   {
    "duration": 26,
    "start_time": "2021-11-05T06:51:32.197Z"
   },
   {
    "duration": 15,
    "start_time": "2021-11-05T06:51:32.730Z"
   },
   {
    "duration": 44,
    "start_time": "2021-11-05T06:51:33.256Z"
   },
   {
    "duration": 36,
    "start_time": "2021-11-05T06:51:34.822Z"
   },
   {
    "duration": 33,
    "start_time": "2021-11-05T06:51:36.176Z"
   },
   {
    "duration": 38,
    "start_time": "2021-11-05T06:51:37.772Z"
   },
   {
    "duration": 4558,
    "start_time": "2021-11-05T06:51:39.309Z"
   },
   {
    "duration": 89,
    "start_time": "2021-11-05T06:51:43.870Z"
   },
   {
    "duration": 35,
    "start_time": "2021-11-05T06:51:45.569Z"
   },
   {
    "duration": 479,
    "start_time": "2021-11-05T06:51:48.261Z"
   },
   {
    "duration": 22,
    "start_time": "2021-11-05T06:52:03.579Z"
   },
   {
    "duration": 375,
    "start_time": "2021-11-05T06:56:44.064Z"
   },
   {
    "duration": 21,
    "start_time": "2021-11-05T06:56:54.364Z"
   },
   {
    "duration": 130,
    "start_time": "2021-11-05T07:29:07.210Z"
   },
   {
    "duration": 721,
    "start_time": "2021-11-05T07:29:19.059Z"
   },
   {
    "duration": 25,
    "start_time": "2021-11-05T07:31:01.165Z"
   },
   {
    "duration": 23,
    "start_time": "2021-11-05T07:31:45.083Z"
   },
   {
    "duration": 22,
    "start_time": "2021-11-05T07:33:38.434Z"
   },
   {
    "duration": 23,
    "start_time": "2021-11-05T07:33:42.423Z"
   },
   {
    "duration": 21,
    "start_time": "2021-11-05T07:36:24.494Z"
   },
   {
    "duration": 21,
    "start_time": "2021-11-05T07:36:32.497Z"
   },
   {
    "duration": 22,
    "start_time": "2021-11-05T07:37:00.287Z"
   },
   {
    "duration": 21,
    "start_time": "2021-11-05T07:37:08.839Z"
   },
   {
    "duration": 23,
    "start_time": "2021-11-05T07:37:58.088Z"
   },
   {
    "duration": 23,
    "start_time": "2021-11-05T07:38:13.326Z"
   },
   {
    "duration": 788,
    "start_time": "2021-11-05T07:46:33.493Z"
   },
   {
    "duration": 495,
    "start_time": "2021-11-05T07:47:33.555Z"
   },
   {
    "duration": 24,
    "start_time": "2021-11-05T07:47:59.566Z"
   },
   {
    "duration": 23,
    "start_time": "2021-11-05T07:50:02.330Z"
   },
   {
    "duration": 9818,
    "start_time": "2021-11-05T07:50:59.893Z"
   },
   {
    "duration": 9767,
    "start_time": "2021-11-05T07:51:12.440Z"
   },
   {
    "duration": 11188,
    "start_time": "2021-11-05T07:51:24.421Z"
   },
   {
    "duration": 23,
    "start_time": "2021-11-05T07:51:52.064Z"
   },
   {
    "duration": 65,
    "start_time": "2021-11-05T07:52:57.202Z"
   },
   {
    "duration": 21,
    "start_time": "2021-11-05T07:53:00.188Z"
   },
   {
    "duration": 26,
    "start_time": "2021-11-05T07:53:01.168Z"
   },
   {
    "duration": 23,
    "start_time": "2021-11-05T07:53:02.077Z"
   },
   {
    "duration": 9310,
    "start_time": "2021-11-05T07:56:52.300Z"
   },
   {
    "duration": 24,
    "start_time": "2021-11-05T07:57:16.765Z"
   },
   {
    "duration": 51,
    "start_time": "2021-11-05T08:23:22.853Z"
   },
   {
    "duration": 43,
    "start_time": "2021-11-05T08:23:25.608Z"
   },
   {
    "duration": 2617,
    "start_time": "2021-11-05T08:23:26.959Z"
   },
   {
    "duration": -96,
    "start_time": "2021-11-05T08:23:29.675Z"
   },
   {
    "duration": -98,
    "start_time": "2021-11-05T08:23:29.679Z"
   },
   {
    "duration": 22,
    "start_time": "2021-11-05T08:23:30.251Z"
   },
   {
    "duration": 24,
    "start_time": "2021-11-05T08:23:31.698Z"
   },
   {
    "duration": 25,
    "start_time": "2021-11-05T08:23:32.467Z"
   },
   {
    "duration": 24,
    "start_time": "2021-11-05T08:23:33.425Z"
   },
   {
    "duration": 87,
    "start_time": "2021-11-05T08:24:24.193Z"
   },
   {
    "duration": 22,
    "start_time": "2021-11-05T08:24:24.857Z"
   },
   {
    "duration": 26,
    "start_time": "2021-11-05T08:24:26.023Z"
   },
   {
    "duration": 20,
    "start_time": "2021-11-05T08:24:27.308Z"
   },
   {
    "duration": 51,
    "start_time": "2021-11-05T08:24:29.422Z"
   },
   {
    "duration": 38,
    "start_time": "2021-11-05T08:24:36.162Z"
   },
   {
    "duration": 35,
    "start_time": "2021-11-05T08:24:40.509Z"
   },
   {
    "duration": 36,
    "start_time": "2021-11-05T08:24:45.290Z"
   },
   {
    "duration": 4878,
    "start_time": "2021-11-05T08:24:49.585Z"
   },
   {
    "duration": 68,
    "start_time": "2021-11-05T08:24:57.499Z"
   },
   {
    "duration": 30,
    "start_time": "2021-11-05T08:24:59.788Z"
   },
   {
    "duration": 25,
    "start_time": "2021-11-05T08:25:01.093Z"
   },
   {
    "duration": 23,
    "start_time": "2021-11-05T08:25:02.218Z"
   },
   {
    "duration": 22,
    "start_time": "2021-11-05T08:25:03.592Z"
   },
   {
    "duration": 877,
    "start_time": "2021-11-05T10:25:32.951Z"
   },
   {
    "duration": 34,
    "start_time": "2021-11-05T10:25:33.831Z"
   },
   {
    "duration": 31,
    "start_time": "2021-11-05T10:25:33.868Z"
   },
   {
    "duration": 15,
    "start_time": "2021-11-05T10:25:33.902Z"
   },
   {
    "duration": 74,
    "start_time": "2021-11-05T10:25:33.919Z"
   },
   {
    "duration": 39,
    "start_time": "2021-11-05T10:25:33.996Z"
   },
   {
    "duration": 58,
    "start_time": "2021-11-05T10:25:34.037Z"
   },
   {
    "duration": 39,
    "start_time": "2021-11-05T10:25:34.098Z"
   },
   {
    "duration": 4532,
    "start_time": "2021-11-05T10:25:34.168Z"
   },
   {
    "duration": 79,
    "start_time": "2021-11-05T10:25:38.703Z"
   },
   {
    "duration": 38,
    "start_time": "2021-11-05T10:25:38.785Z"
   },
   {
    "duration": 45,
    "start_time": "2021-11-05T10:25:38.825Z"
   },
   {
    "duration": 24,
    "start_time": "2021-11-05T10:25:38.872Z"
   },
   {
    "duration": 23,
    "start_time": "2021-11-05T10:25:38.899Z"
   },
   {
    "duration": 164,
    "start_time": "2021-11-05T10:46:18.983Z"
   },
   {
    "duration": 128,
    "start_time": "2021-11-05T10:52:01.453Z"
   },
   {
    "duration": 10,
    "start_time": "2021-11-05T10:55:44.066Z"
   },
   {
    "duration": 811,
    "start_time": "2021-11-05T11:22:06.814Z"
   },
   {
    "duration": 31,
    "start_time": "2021-11-05T11:22:07.628Z"
   },
   {
    "duration": 31,
    "start_time": "2021-11-05T11:22:07.662Z"
   },
   {
    "duration": 17,
    "start_time": "2021-11-05T11:22:07.695Z"
   },
   {
    "duration": 83,
    "start_time": "2021-11-05T11:22:07.715Z"
   },
   {
    "duration": 42,
    "start_time": "2021-11-05T11:22:07.800Z"
   },
   {
    "duration": 57,
    "start_time": "2021-11-05T11:22:07.844Z"
   },
   {
    "duration": 39,
    "start_time": "2021-11-05T11:22:07.904Z"
   },
   {
    "duration": 4813,
    "start_time": "2021-11-05T11:22:07.945Z"
   },
   {
    "duration": 66,
    "start_time": "2021-11-05T11:22:12.767Z"
   },
   {
    "duration": 59,
    "start_time": "2021-11-05T11:22:12.835Z"
   },
   {
    "duration": 25,
    "start_time": "2021-11-05T11:22:12.896Z"
   },
   {
    "duration": 45,
    "start_time": "2021-11-05T11:22:12.924Z"
   },
   {
    "duration": 22,
    "start_time": "2021-11-05T11:22:12.971Z"
   },
   {
    "duration": 807,
    "start_time": "2021-11-05T12:28:21.607Z"
   },
   {
    "duration": 32,
    "start_time": "2021-11-05T12:28:22.416Z"
   },
   {
    "duration": 27,
    "start_time": "2021-11-05T12:28:23.445Z"
   },
   {
    "duration": 15,
    "start_time": "2021-11-05T12:28:25.061Z"
   },
   {
    "duration": 45,
    "start_time": "2021-11-05T12:28:26.852Z"
   },
   {
    "duration": 37,
    "start_time": "2021-11-05T12:28:29.948Z"
   },
   {
    "duration": 34,
    "start_time": "2021-11-05T12:28:32.099Z"
   },
   {
    "duration": 26,
    "start_time": "2021-11-05T12:28:33.876Z"
   },
   {
    "duration": 34,
    "start_time": "2021-11-05T12:28:38.920Z"
   },
   {
    "duration": 23,
    "start_time": "2021-11-05T12:28:55.778Z"
   },
   {
    "duration": 6886,
    "start_time": "2021-11-05T12:29:50.576Z"
   },
   {
    "duration": 7,
    "start_time": "2021-11-05T12:30:06.779Z"
   },
   {
    "duration": 10,
    "start_time": "2021-11-05T12:30:38.744Z"
   },
   {
    "duration": 9,
    "start_time": "2021-11-05T12:36:45.893Z"
   },
   {
    "duration": 7,
    "start_time": "2021-11-05T12:37:48.497Z"
   },
   {
    "duration": 9,
    "start_time": "2021-11-05T12:38:06.656Z"
   },
   {
    "duration": 7,
    "start_time": "2021-11-05T12:39:12.788Z"
   },
   {
    "duration": 11,
    "start_time": "2021-11-05T12:39:27.819Z"
   },
   {
    "duration": 936,
    "start_time": "2021-11-06T05:22:44.416Z"
   },
   {
    "duration": 35,
    "start_time": "2021-11-06T05:22:48.848Z"
   },
   {
    "duration": 25,
    "start_time": "2021-11-06T05:22:49.495Z"
   },
   {
    "duration": 14,
    "start_time": "2021-11-06T05:22:50.310Z"
   },
   {
    "duration": 47,
    "start_time": "2021-11-06T05:22:51.249Z"
   },
   {
    "duration": 40,
    "start_time": "2021-11-06T05:22:53.168Z"
   },
   {
    "duration": 36,
    "start_time": "2021-11-06T05:22:54.481Z"
   },
   {
    "duration": 26,
    "start_time": "2021-11-06T05:22:56.737Z"
   },
   {
    "duration": 37,
    "start_time": "2021-11-06T05:22:57.199Z"
   },
   {
    "duration": 24,
    "start_time": "2021-11-06T05:22:57.453Z"
   },
   {
    "duration": 10,
    "start_time": "2021-11-06T05:22:59.448Z"
   },
   {
    "duration": 8,
    "start_time": "2021-11-06T05:23:00.667Z"
   },
   {
    "duration": 6,
    "start_time": "2021-11-06T05:23:01.728Z"
   },
   {
    "duration": 8,
    "start_time": "2021-11-06T05:23:02.313Z"
   },
   {
    "duration": 4785,
    "start_time": "2021-11-06T05:23:03.820Z"
   },
   {
    "duration": 79,
    "start_time": "2021-11-06T05:23:08.607Z"
   },
   {
    "duration": 36,
    "start_time": "2021-11-06T05:23:08.689Z"
   },
   {
    "duration": 36,
    "start_time": "2021-11-06T05:23:08.727Z"
   },
   {
    "duration": 24,
    "start_time": "2021-11-06T05:23:08.765Z"
   },
   {
    "duration": 23,
    "start_time": "2021-11-06T05:23:09.301Z"
   },
   {
    "duration": 13,
    "start_time": "2021-11-06T05:27:58.907Z"
   },
   {
    "duration": 11,
    "start_time": "2021-11-06T05:28:04.386Z"
   },
   {
    "duration": 92,
    "start_time": "2021-11-06T05:29:25.522Z"
   },
   {
    "duration": 21,
    "start_time": "2021-11-06T05:29:25.788Z"
   },
   {
    "duration": 24,
    "start_time": "2021-11-06T05:29:26.490Z"
   },
   {
    "duration": 16,
    "start_time": "2021-11-06T05:29:27.560Z"
   },
   {
    "duration": 46,
    "start_time": "2021-11-06T05:29:28.750Z"
   },
   {
    "duration": 39,
    "start_time": "2021-11-06T05:29:30.492Z"
   },
   {
    "duration": 34,
    "start_time": "2021-11-06T05:29:33.485Z"
   },
   {
    "duration": 25,
    "start_time": "2021-11-06T05:29:35.555Z"
   },
   {
    "duration": 33,
    "start_time": "2021-11-06T05:29:35.925Z"
   },
   {
    "duration": 23,
    "start_time": "2021-11-06T05:29:36.446Z"
   },
   {
    "duration": 11,
    "start_time": "2021-11-06T05:29:37.986Z"
   },
   {
    "duration": 8,
    "start_time": "2021-11-06T05:29:39.605Z"
   },
   {
    "duration": 9,
    "start_time": "2021-11-06T05:29:41.813Z"
   },
   {
    "duration": 9,
    "start_time": "2021-11-06T05:29:42.522Z"
   },
   {
    "duration": 6,
    "start_time": "2021-11-06T05:30:15.119Z"
   },
   {
    "duration": 465,
    "start_time": "2021-11-06T05:30:35.971Z"
   },
   {
    "duration": 7,
    "start_time": "2021-11-06T05:30:36.515Z"
   },
   {
    "duration": 8,
    "start_time": "2021-11-06T05:30:45.603Z"
   },
   {
    "duration": 9,
    "start_time": "2021-11-06T05:30:57.853Z"
   },
   {
    "duration": 7,
    "start_time": "2021-11-06T05:30:58.293Z"
   },
   {
    "duration": 7,
    "start_time": "2021-11-06T05:34:26.300Z"
   },
   {
    "duration": 7,
    "start_time": "2021-11-06T05:34:27.180Z"
   },
   {
    "duration": 9,
    "start_time": "2021-11-06T05:34:42.950Z"
   },
   {
    "duration": 6,
    "start_time": "2021-11-06T05:34:44.674Z"
   },
   {
    "duration": 7,
    "start_time": "2021-11-06T05:34:47.240Z"
   },
   {
    "duration": 9068,
    "start_time": "2021-11-06T05:38:45.593Z"
   },
   {
    "duration": -1620,
    "start_time": "2021-11-06T05:38:56.285Z"
   },
   {
    "duration": 60,
    "start_time": "2021-11-06T05:39:21.376Z"
   },
   {
    "duration": 20,
    "start_time": "2021-11-06T05:39:21.694Z"
   },
   {
    "duration": 26,
    "start_time": "2021-11-06T05:39:22.464Z"
   },
   {
    "duration": 17,
    "start_time": "2021-11-06T05:39:23.488Z"
   },
   {
    "duration": 45,
    "start_time": "2021-11-06T05:39:24.535Z"
   },
   {
    "duration": 38,
    "start_time": "2021-11-06T05:39:26.727Z"
   },
   {
    "duration": 43,
    "start_time": "2021-11-06T05:39:27.939Z"
   },
   {
    "duration": 24,
    "start_time": "2021-11-06T05:39:29.583Z"
   },
   {
    "duration": 34,
    "start_time": "2021-11-06T05:39:30.023Z"
   },
   {
    "duration": 24,
    "start_time": "2021-11-06T05:39:30.337Z"
   },
   {
    "duration": 9,
    "start_time": "2021-11-06T05:39:31.614Z"
   },
   {
    "duration": 8,
    "start_time": "2021-11-06T05:39:32.384Z"
   },
   {
    "duration": 6,
    "start_time": "2021-11-06T05:39:33.049Z"
   },
   {
    "duration": 5,
    "start_time": "2021-11-06T05:39:33.629Z"
   },
   {
    "duration": 4513,
    "start_time": "2021-11-06T05:39:35.588Z"
   },
   {
    "duration": 35,
    "start_time": "2021-11-06T05:39:43.021Z"
   },
   {
    "duration": 65,
    "start_time": "2021-11-06T05:39:50.327Z"
   },
   {
    "duration": 27,
    "start_time": "2021-11-06T05:39:53.138Z"
   },
   {
    "duration": 23,
    "start_time": "2021-11-06T05:39:54.310Z"
   },
   {
    "duration": 23,
    "start_time": "2021-11-06T05:39:55.499Z"
   },
   {
    "duration": 23,
    "start_time": "2021-11-06T05:39:56.463Z"
   },
   {
    "duration": 891,
    "start_time": "2021-11-06T21:31:35.879Z"
   },
   {
    "duration": 31,
    "start_time": "2021-11-06T21:31:36.773Z"
   },
   {
    "duration": 27,
    "start_time": "2021-11-06T21:31:36.807Z"
   },
   {
    "duration": 15,
    "start_time": "2021-11-06T21:31:36.837Z"
   },
   {
    "duration": 81,
    "start_time": "2021-11-06T21:31:36.855Z"
   },
   {
    "duration": 39,
    "start_time": "2021-11-06T21:31:36.939Z"
   },
   {
    "duration": 52,
    "start_time": "2021-11-06T21:31:36.980Z"
   },
   {
    "duration": 25,
    "start_time": "2021-11-06T21:31:37.035Z"
   },
   {
    "duration": 68,
    "start_time": "2021-11-06T21:31:37.064Z"
   },
   {
    "duration": 23,
    "start_time": "2021-11-06T21:31:37.135Z"
   },
   {
    "duration": 10,
    "start_time": "2021-11-06T21:31:37.160Z"
   },
   {
    "duration": 9,
    "start_time": "2021-11-06T21:31:37.202Z"
   },
   {
    "duration": 9,
    "start_time": "2021-11-06T21:31:37.213Z"
   },
   {
    "duration": 9,
    "start_time": "2021-11-06T21:31:37.225Z"
   },
   {
    "duration": 4506,
    "start_time": "2021-11-06T21:31:37.236Z"
   },
   {
    "duration": 37,
    "start_time": "2021-11-06T21:31:41.744Z"
   },
   {
    "duration": 82,
    "start_time": "2021-11-06T21:31:41.784Z"
   },
   {
    "duration": 57,
    "start_time": "2021-11-06T21:31:41.869Z"
   },
   {
    "duration": 25,
    "start_time": "2021-11-06T21:31:41.928Z"
   },
   {
    "duration": 22,
    "start_time": "2021-11-06T21:31:41.956Z"
   },
   {
    "duration": 24,
    "start_time": "2021-11-06T21:31:42.000Z"
   },
   {
    "duration": 111,
    "start_time": "2021-11-06T21:34:07.629Z"
   },
   {
    "duration": 92,
    "start_time": "2021-11-06T21:35:41.028Z"
   }
  ],
  "kernelspec": {
   "display_name": "Python 3 (ipykernel)",
   "language": "python",
   "name": "python3"
  },
  "language_info": {
   "codemirror_mode": {
    "name": "ipython",
    "version": 3
   },
   "file_extension": ".py",
   "mimetype": "text/x-python",
   "name": "python",
   "nbconvert_exporter": "python",
   "pygments_lexer": "ipython3",
   "version": "3.9.5"
  },
  "toc": {
   "base_numbering": 1,
   "nav_menu": {},
   "number_sections": true,
   "sideBar": true,
   "skip_h1_title": true,
   "title_cell": "Table of Contents",
   "title_sidebar": "Contents",
   "toc_cell": false,
   "toc_position": {
    "height": "930px",
    "left": "32px",
    "top": "110.052px",
    "width": "304px"
   },
   "toc_section_display": true,
   "toc_window_display": true
  }
 },
 "nbformat": 4,
 "nbformat_minor": 2
}
