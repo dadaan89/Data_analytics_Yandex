{
 "cells": [
  {
   "cell_type": "code",
   "execution_count": 1,
   "id": "99203053",
   "metadata": {
    "tags": [
     "aa81075c-062f-4de0-b5fe-14c73dc7468e"
    ]
   },
   "outputs": [],
   "source": [
    "import pandas as pd\n",
    "import numpy as np\n",
    "\n",
    "from sqlalchemy import create_engine"
   ]
  },
  {
   "cell_type": "code",
   "execution_count": 2,
   "id": "c3c77ba8",
   "metadata": {},
   "outputs": [],
   "source": [
    "path_to_db = '/datasets/telecomm_csi.db'\n",
    "engine = create_engine(f'sqlite:///{path_to_db}', echo = False)"
   ]
  },
  {
   "cell_type": "code",
   "execution_count": 3,
   "id": "3ce7ed6c",
   "metadata": {},
   "outputs": [],
   "source": [
    "query = \"\"\"\n",
    "SELECT u.user_id,\n",
    "    u.lt_day,\n",
    "    case when u.lt_day > 365 then 'old' else 'new' end as is_new,\n",
    "    u.age,\n",
    "    case \n",
    "        when u.gender_segment = 1.0 then 'female'\n",
    "        when u.gender_segment = 0.0 then 'male'\n",
    "        else 'unknown' end as gender_segment,\n",
    "    u.os_name,\n",
    "    u.cpe_type_name,\n",
    "    l.country,\n",
    "    l.city,\n",
    "    substr(ag.title,4) as age_segment,\n",
    "    substr(ts.title,4) as traffic_segment,\n",
    "    case\n",
    "        when u.lt_day < 182 then '0-0.6'\n",
    "        when u.lt_day < 365 then '0.6-1'\n",
    "        when u.lt_day < 730 then '1-2'\n",
    "        when u.lt_day < 1095 then '2-3'\n",
    "        when u.lt_day < 1460 then '3-4'\n",
    "        else '5+' end as lifetime_segment,\n",
    "    u.nps_score,\n",
    "    case\n",
    "        when u.nps_score < 7 then 'критики'\n",
    "        when u.nps_score < 9 then 'нейтралы'\n",
    "        else 'cторонники' end as nps_group\n",
    "FROM user u join location l on u.location_id=l.location_id\n",
    "join age_segment ag on u.age_gr_id=ag.age_gr_id\n",
    "join traffic_segment ts on u.tr_gr_id=ts.tr_gr_id\n",
    "join lifetime_segment ls on u.lt_gr_id=ls.lt_gr_id;\n",
    "\"\"\""
   ]
  },
  {
   "cell_type": "code",
   "execution_count": 4,
   "id": "f5616743",
   "metadata": {},
   "outputs": [
    {
     "data": {
      "text/html": [
       "<div>\n",
       "<style scoped>\n",
       "    .dataframe tbody tr th:only-of-type {\n",
       "        vertical-align: middle;\n",
       "    }\n",
       "\n",
       "    .dataframe tbody tr th {\n",
       "        vertical-align: top;\n",
       "    }\n",
       "\n",
       "    .dataframe thead th {\n",
       "        text-align: right;\n",
       "    }\n",
       "</style>\n",
       "<table border=\"1\" class=\"dataframe\">\n",
       "  <thead>\n",
       "    <tr style=\"text-align: right;\">\n",
       "      <th></th>\n",
       "      <th>user_id</th>\n",
       "      <th>lt_day</th>\n",
       "      <th>is_new</th>\n",
       "      <th>age</th>\n",
       "      <th>gender_segment</th>\n",
       "      <th>os_name</th>\n",
       "      <th>cpe_type_name</th>\n",
       "      <th>country</th>\n",
       "      <th>city</th>\n",
       "      <th>age_segment</th>\n",
       "      <th>traffic_segment</th>\n",
       "      <th>lifetime_segment</th>\n",
       "      <th>nps_score</th>\n",
       "      <th>nps_group</th>\n",
       "    </tr>\n",
       "  </thead>\n",
       "  <tbody>\n",
       "    <tr>\n",
       "      <th>0</th>\n",
       "      <td>A001A2</td>\n",
       "      <td>2320</td>\n",
       "      <td>old</td>\n",
       "      <td>45.0</td>\n",
       "      <td>female</td>\n",
       "      <td>ANDROID</td>\n",
       "      <td>SMARTPHONE</td>\n",
       "      <td>Россия</td>\n",
       "      <td>Уфа</td>\n",
       "      <td>45-54</td>\n",
       "      <td>1-5</td>\n",
       "      <td>5+</td>\n",
       "      <td>10</td>\n",
       "      <td>cторонники</td>\n",
       "    </tr>\n",
       "    <tr>\n",
       "      <th>1</th>\n",
       "      <td>A001WF</td>\n",
       "      <td>2344</td>\n",
       "      <td>old</td>\n",
       "      <td>53.0</td>\n",
       "      <td>male</td>\n",
       "      <td>ANDROID</td>\n",
       "      <td>SMARTPHONE</td>\n",
       "      <td>Россия</td>\n",
       "      <td>Киров</td>\n",
       "      <td>45-54</td>\n",
       "      <td>1-5</td>\n",
       "      <td>5+</td>\n",
       "      <td>10</td>\n",
       "      <td>cторонники</td>\n",
       "    </tr>\n",
       "    <tr>\n",
       "      <th>2</th>\n",
       "      <td>A003Q7</td>\n",
       "      <td>467</td>\n",
       "      <td>old</td>\n",
       "      <td>57.0</td>\n",
       "      <td>male</td>\n",
       "      <td>ANDROID</td>\n",
       "      <td>SMARTPHONE</td>\n",
       "      <td>Россия</td>\n",
       "      <td>Москва</td>\n",
       "      <td>55-64</td>\n",
       "      <td>20-25</td>\n",
       "      <td>1-2</td>\n",
       "      <td>10</td>\n",
       "      <td>cторонники</td>\n",
       "    </tr>\n",
       "    <tr>\n",
       "      <th>3</th>\n",
       "      <td>A004TB</td>\n",
       "      <td>4190</td>\n",
       "      <td>old</td>\n",
       "      <td>44.0</td>\n",
       "      <td>female</td>\n",
       "      <td>IOS</td>\n",
       "      <td>SMARTPHONE</td>\n",
       "      <td>Россия</td>\n",
       "      <td>РостовнаДону</td>\n",
       "      <td>35-44</td>\n",
       "      <td>0.1-1</td>\n",
       "      <td>5+</td>\n",
       "      <td>10</td>\n",
       "      <td>cторонники</td>\n",
       "    </tr>\n",
       "    <tr>\n",
       "      <th>4</th>\n",
       "      <td>A004XT</td>\n",
       "      <td>1163</td>\n",
       "      <td>old</td>\n",
       "      <td>24.0</td>\n",
       "      <td>male</td>\n",
       "      <td>ANDROID</td>\n",
       "      <td>SMARTPHONE</td>\n",
       "      <td>Россия</td>\n",
       "      <td>Рязань</td>\n",
       "      <td>16-24</td>\n",
       "      <td>5-10</td>\n",
       "      <td>3-4</td>\n",
       "      <td>10</td>\n",
       "      <td>cторонники</td>\n",
       "    </tr>\n",
       "    <tr>\n",
       "      <th>5</th>\n",
       "      <td>A005O0</td>\n",
       "      <td>5501</td>\n",
       "      <td>old</td>\n",
       "      <td>42.0</td>\n",
       "      <td>female</td>\n",
       "      <td>ANDROID</td>\n",
       "      <td>SMARTPHONE</td>\n",
       "      <td>Россия</td>\n",
       "      <td>Омск</td>\n",
       "      <td>35-44</td>\n",
       "      <td>5-10</td>\n",
       "      <td>5+</td>\n",
       "      <td>6</td>\n",
       "      <td>критики</td>\n",
       "    </tr>\n",
       "    <tr>\n",
       "      <th>6</th>\n",
       "      <td>A0061R</td>\n",
       "      <td>1236</td>\n",
       "      <td>old</td>\n",
       "      <td>45.0</td>\n",
       "      <td>male</td>\n",
       "      <td>ANDROID</td>\n",
       "      <td>SMARTPHONE</td>\n",
       "      <td>Россия</td>\n",
       "      <td>Уфа</td>\n",
       "      <td>45-54</td>\n",
       "      <td>10-15</td>\n",
       "      <td>3-4</td>\n",
       "      <td>10</td>\n",
       "      <td>cторонники</td>\n",
       "    </tr>\n",
       "    <tr>\n",
       "      <th>7</th>\n",
       "      <td>A009KS</td>\n",
       "      <td>313</td>\n",
       "      <td>new</td>\n",
       "      <td>35.0</td>\n",
       "      <td>male</td>\n",
       "      <td>ANDROID</td>\n",
       "      <td>SMARTPHONE</td>\n",
       "      <td>Россия</td>\n",
       "      <td>Москва</td>\n",
       "      <td>35-44</td>\n",
       "      <td>45-50</td>\n",
       "      <td>0.6-1</td>\n",
       "      <td>10</td>\n",
       "      <td>cторонники</td>\n",
       "    </tr>\n",
       "    <tr>\n",
       "      <th>8</th>\n",
       "      <td>A00AES</td>\n",
       "      <td>3238</td>\n",
       "      <td>old</td>\n",
       "      <td>36.0</td>\n",
       "      <td>female</td>\n",
       "      <td>ANDROID</td>\n",
       "      <td>SMARTPHONE</td>\n",
       "      <td>Россия</td>\n",
       "      <td>СанктПетербург</td>\n",
       "      <td>35-44</td>\n",
       "      <td>1-5</td>\n",
       "      <td>5+</td>\n",
       "      <td>10</td>\n",
       "      <td>cторонники</td>\n",
       "    </tr>\n",
       "    <tr>\n",
       "      <th>9</th>\n",
       "      <td>A00F70</td>\n",
       "      <td>4479</td>\n",
       "      <td>old</td>\n",
       "      <td>54.0</td>\n",
       "      <td>female</td>\n",
       "      <td>ANDROID</td>\n",
       "      <td>SMARTPHONE</td>\n",
       "      <td>Россия</td>\n",
       "      <td>Волгоград</td>\n",
       "      <td>45-54</td>\n",
       "      <td>15-20</td>\n",
       "      <td>5+</td>\n",
       "      <td>9</td>\n",
       "      <td>cторонники</td>\n",
       "    </tr>\n",
       "  </tbody>\n",
       "</table>\n",
       "</div>"
      ],
      "text/plain": [
       "  user_id  lt_day is_new   age gender_segment  os_name cpe_type_name country  \\\n",
       "0  A001A2    2320    old  45.0         female  ANDROID    SMARTPHONE  Россия   \n",
       "1  A001WF    2344    old  53.0           male  ANDROID    SMARTPHONE  Россия   \n",
       "2  A003Q7     467    old  57.0           male  ANDROID    SMARTPHONE  Россия   \n",
       "3  A004TB    4190    old  44.0         female      IOS    SMARTPHONE  Россия   \n",
       "4  A004XT    1163    old  24.0           male  ANDROID    SMARTPHONE  Россия   \n",
       "5  A005O0    5501    old  42.0         female  ANDROID    SMARTPHONE  Россия   \n",
       "6  A0061R    1236    old  45.0           male  ANDROID    SMARTPHONE  Россия   \n",
       "7  A009KS     313    new  35.0           male  ANDROID    SMARTPHONE  Россия   \n",
       "8  A00AES    3238    old  36.0         female  ANDROID    SMARTPHONE  Россия   \n",
       "9  A00F70    4479    old  54.0         female  ANDROID    SMARTPHONE  Россия   \n",
       "\n",
       "             city age_segment traffic_segment lifetime_segment  nps_score  \\\n",
       "0             Уфа       45-54             1-5               5+         10   \n",
       "1           Киров       45-54             1-5               5+         10   \n",
       "2          Москва       55-64           20-25              1-2         10   \n",
       "3    РостовнаДону       35-44           0.1-1               5+         10   \n",
       "4          Рязань       16-24            5-10              3-4         10   \n",
       "5            Омск       35-44            5-10               5+          6   \n",
       "6             Уфа       45-54           10-15              3-4         10   \n",
       "7          Москва       35-44           45-50            0.6-1         10   \n",
       "8  СанктПетербург       35-44             1-5               5+         10   \n",
       "9       Волгоград       45-54           15-20               5+          9   \n",
       "\n",
       "    nps_group  \n",
       "0  cторонники  \n",
       "1  cторонники  \n",
       "2  cторонники  \n",
       "3  cторонники  \n",
       "4  cторонники  \n",
       "5     критики  \n",
       "6  cторонники  \n",
       "7  cторонники  \n",
       "8  cторонники  \n",
       "9  cторонники  "
      ]
     },
     "execution_count": 4,
     "metadata": {},
     "output_type": "execute_result"
    }
   ],
   "source": [
    "df = pd.read_sql(query, engine)\n",
    "df.head(10)"
   ]
  },
  {
   "cell_type": "code",
   "execution_count": 5,
   "id": "8cbb895a",
   "metadata": {},
   "outputs": [],
   "source": [
    "df.to_csv('telecomm_csi_tableau.csv', index=False)"
   ]
  },
  {
   "cell_type": "markdown",
   "id": "e870bc18",
   "metadata": {},
   "source": [
    "### Укажите ссылку на дашборд на сайте Tableau Public:"
   ]
  },
  {
   "cell_type": "markdown",
   "id": "913b77f0",
   "metadata": {},
   "source": [
    "https://public.tableau.com/app/profile/anton.dakalov/viz/project_16474454520280/Dashboard1?publish=yes"
   ]
  }
 ],
 "metadata": {
  "ExecuteTimeLog": [
   {
    "duration": 752,
    "start_time": "2021-10-03T17:40:52.731Z"
   },
   {
    "duration": 20,
    "start_time": "2021-10-03T17:40:53.486Z"
   },
   {
    "duration": 4,
    "start_time": "2021-10-03T17:41:04.638Z"
   },
   {
    "duration": 461,
    "start_time": "2021-10-03T17:41:04.912Z"
   },
   {
    "duration": 284,
    "start_time": "2021-10-03T17:41:05.376Z"
   },
   {
    "duration": 574,
    "start_time": "2021-10-06T07:55:05.029Z"
   },
   {
    "duration": 6,
    "start_time": "2021-10-06T07:55:05.605Z"
   },
   {
    "duration": 3,
    "start_time": "2021-10-06T07:55:14.685Z"
   },
   {
    "duration": 406,
    "start_time": "2021-10-06T07:55:15.522Z"
   },
   {
    "duration": 67,
    "start_time": "2021-10-06T07:55:15.929Z"
   },
   {
    "duration": 840,
    "start_time": "2021-10-07T07:54:04.647Z"
   },
   {
    "duration": 10,
    "start_time": "2021-10-07T07:54:05.490Z"
   },
   {
    "duration": 4,
    "start_time": "2021-10-07T07:54:05.544Z"
   },
   {
    "duration": 391,
    "start_time": "2021-10-07T07:54:06.237Z"
   },
   {
    "duration": 293,
    "start_time": "2021-10-07T07:54:06.654Z"
   },
   {
    "duration": 622,
    "start_time": "2022-03-11T10:26:23.107Z"
   },
   {
    "duration": 7,
    "start_time": "2022-03-11T10:26:26.301Z"
   },
   {
    "duration": 3,
    "start_time": "2022-03-11T10:26:27.371Z"
   },
   {
    "duration": 583,
    "start_time": "2022-03-11T10:26:28.260Z"
   },
   {
    "duration": 597,
    "start_time": "2022-03-11T17:54:08.949Z"
   },
   {
    "duration": 7,
    "start_time": "2022-03-11T17:54:10.363Z"
   },
   {
    "duration": 3,
    "start_time": "2022-03-11T17:54:11.133Z"
   },
   {
    "duration": 9780,
    "start_time": "2022-03-11T17:54:12.363Z"
   },
   {
    "duration": 2,
    "start_time": "2022-03-11T17:59:29.728Z"
   },
   {
    "duration": 927,
    "start_time": "2022-03-11T17:59:30.610Z"
   },
   {
    "duration": 2,
    "start_time": "2022-03-11T18:10:56.043Z"
   },
   {
    "duration": 879,
    "start_time": "2022-03-11T18:10:56.606Z"
   },
   {
    "duration": 2,
    "start_time": "2022-03-11T18:11:13.449Z"
   },
   {
    "duration": 871,
    "start_time": "2022-03-11T18:11:14.068Z"
   },
   {
    "duration": 3,
    "start_time": "2022-03-11T18:11:32.181Z"
   },
   {
    "duration": 2773,
    "start_time": "2022-03-11T18:11:33.767Z"
   },
   {
    "duration": 2,
    "start_time": "2022-03-11T18:15:59.414Z"
   },
   {
    "duration": 3,
    "start_time": "2022-03-11T18:16:52.599Z"
   },
   {
    "duration": 2780,
    "start_time": "2022-03-11T18:16:54.464Z"
   },
   {
    "duration": 3,
    "start_time": "2022-03-11T18:32:02.020Z"
   },
   {
    "duration": 3209,
    "start_time": "2022-03-11T18:32:03.500Z"
   },
   {
    "duration": 3,
    "start_time": "2022-03-11T18:39:19.701Z"
   },
   {
    "duration": 583,
    "start_time": "2022-03-11T18:39:21.435Z"
   },
   {
    "duration": 3,
    "start_time": "2022-03-11T18:40:19.464Z"
   },
   {
    "duration": 3035,
    "start_time": "2022-03-11T18:40:20.028Z"
   },
   {
    "duration": 2,
    "start_time": "2022-03-11T18:41:38.023Z"
   },
   {
    "duration": 599,
    "start_time": "2022-03-11T18:41:39.998Z"
   },
   {
    "duration": 3,
    "start_time": "2022-03-11T18:42:00.756Z"
   },
   {
    "duration": 4870,
    "start_time": "2022-03-11T18:42:01.381Z"
   },
   {
    "duration": 3,
    "start_time": "2022-03-11T18:42:29.585Z"
   },
   {
    "duration": 571,
    "start_time": "2022-03-11T18:42:31.027Z"
   },
   {
    "duration": 3,
    "start_time": "2022-03-11T18:43:35.028Z"
   },
   {
    "duration": 3445,
    "start_time": "2022-03-11T18:43:35.589Z"
   },
   {
    "duration": 3,
    "start_time": "2022-03-11T18:44:20.864Z"
   },
   {
    "duration": 3657,
    "start_time": "2022-03-11T18:44:21.540Z"
   },
   {
    "duration": 2,
    "start_time": "2022-03-11T18:44:52.987Z"
   },
   {
    "duration": 571,
    "start_time": "2022-03-11T18:44:54.458Z"
   },
   {
    "duration": 3,
    "start_time": "2022-03-11T18:49:26.220Z"
   },
   {
    "duration": 604,
    "start_time": "2022-03-11T18:49:27.170Z"
   },
   {
    "duration": 3,
    "start_time": "2022-03-11T18:49:30.808Z"
   },
   {
    "duration": 598,
    "start_time": "2022-03-11T18:49:31.600Z"
   },
   {
    "duration": 3,
    "start_time": "2022-03-11T18:49:57.299Z"
   },
   {
    "duration": 587,
    "start_time": "2022-03-11T18:49:58.843Z"
   },
   {
    "duration": 2,
    "start_time": "2022-03-11T18:50:15.839Z"
   },
   {
    "duration": 604,
    "start_time": "2022-03-11T18:50:16.656Z"
   },
   {
    "duration": 2,
    "start_time": "2022-03-11T18:51:04.596Z"
   },
   {
    "duration": 599,
    "start_time": "2022-03-11T18:51:05.253Z"
   },
   {
    "duration": 2,
    "start_time": "2022-03-11T18:51:38.350Z"
   },
   {
    "duration": 659,
    "start_time": "2022-03-11T18:51:38.923Z"
   },
   {
    "duration": 2,
    "start_time": "2022-03-11T18:53:10.563Z"
   },
   {
    "duration": 611,
    "start_time": "2022-03-11T18:53:11.249Z"
   },
   {
    "duration": 3,
    "start_time": "2022-03-11T18:55:00.385Z"
   },
   {
    "duration": 3232,
    "start_time": "2022-03-11T18:55:01.152Z"
   },
   {
    "duration": 3,
    "start_time": "2022-03-11T18:55:38.475Z"
   },
   {
    "duration": 603,
    "start_time": "2022-03-11T18:55:39.112Z"
   },
   {
    "duration": 3,
    "start_time": "2022-03-11T18:56:02.042Z"
   },
   {
    "duration": 650,
    "start_time": "2022-03-11T18:56:02.873Z"
   },
   {
    "duration": 3,
    "start_time": "2022-03-11T18:56:10.674Z"
   },
   {
    "duration": 891,
    "start_time": "2022-03-11T18:56:11.508Z"
   },
   {
    "duration": 3,
    "start_time": "2022-03-11T18:56:31.424Z"
   },
   {
    "duration": 3436,
    "start_time": "2022-03-11T18:56:32.132Z"
   },
   {
    "duration": 2,
    "start_time": "2022-03-11T18:57:01.527Z"
   },
   {
    "duration": 6415,
    "start_time": "2022-03-11T18:57:02.631Z"
   },
   {
    "duration": 3,
    "start_time": "2022-03-11T18:57:59.632Z"
   },
   {
    "duration": 586,
    "start_time": "2022-03-11T18:58:00.905Z"
   },
   {
    "duration": 3,
    "start_time": "2022-03-11T19:04:00.972Z"
   },
   {
    "duration": 649,
    "start_time": "2022-03-11T19:04:24.403Z"
   },
   {
    "duration": 7,
    "start_time": "2022-03-11T19:04:26.744Z"
   },
   {
    "duration": 3,
    "start_time": "2022-03-11T19:04:32.686Z"
   },
   {
    "duration": 3893,
    "start_time": "2022-03-11T19:04:34.052Z"
   },
   {
    "duration": 4324,
    "start_time": "2022-03-11T19:04:45.332Z"
   },
   {
    "duration": 3,
    "start_time": "2022-03-11T19:19:54.174Z"
   },
   {
    "duration": 4101,
    "start_time": "2022-03-11T19:19:57.269Z"
   },
   {
    "duration": 4,
    "start_time": "2022-03-11T19:27:30.523Z"
   },
   {
    "duration": 6550,
    "start_time": "2022-03-11T19:27:32.097Z"
   },
   {
    "duration": 2,
    "start_time": "2022-03-11T19:28:15.693Z"
   },
   {
    "duration": 3,
    "start_time": "2022-03-11T19:28:16.404Z"
   },
   {
    "duration": 4822,
    "start_time": "2022-03-11T19:28:17.518Z"
   },
   {
    "duration": 4523,
    "start_time": "2022-03-11T19:28:28.355Z"
   },
   {
    "duration": 515,
    "start_time": "2022-03-17T16:28:10.893Z"
   },
   {
    "duration": 9,
    "start_time": "2022-03-17T16:28:11.992Z"
   },
   {
    "duration": 3,
    "start_time": "2022-03-17T16:28:12.684Z"
   },
   {
    "duration": 7792,
    "start_time": "2022-03-17T16:28:13.248Z"
   },
   {
    "duration": 3697,
    "start_time": "2022-03-17T16:28:21.042Z"
   },
   {
    "duration": 512,
    "start_time": "2022-03-18T04:42:49.080Z"
   },
   {
    "duration": 10,
    "start_time": "2022-03-18T04:42:49.594Z"
   },
   {
    "duration": 3,
    "start_time": "2022-03-18T04:42:49.605Z"
   },
   {
    "duration": 5121,
    "start_time": "2022-03-18T04:42:49.610Z"
   },
   {
    "duration": 3389,
    "start_time": "2022-03-18T04:42:54.733Z"
   },
   {
    "duration": 635,
    "start_time": "2022-03-18T04:43:00.721Z"
   },
   {
    "duration": 4,
    "start_time": "2022-03-18T04:43:08.268Z"
   },
   {
    "duration": 726,
    "start_time": "2022-03-18T04:43:21.258Z"
   },
   {
    "duration": 571,
    "start_time": "2022-03-18T04:50:38.389Z"
   },
   {
    "duration": 563,
    "start_time": "2022-03-18T04:51:04.309Z"
   },
   {
    "duration": 4,
    "start_time": "2022-03-18T04:57:05.425Z"
   },
   {
    "duration": 694,
    "start_time": "2022-03-18T16:56:54.164Z"
   },
   {
    "duration": 24,
    "start_time": "2022-03-18T16:56:54.861Z"
   },
   {
    "duration": 4865,
    "start_time": "2022-03-18T16:58:10.475Z"
   },
   {
    "duration": 21,
    "start_time": "2022-03-18T16:58:29.831Z"
   },
   {
    "duration": 5,
    "start_time": "2022-03-18T17:06:32.769Z"
   },
   {
    "duration": 7936,
    "start_time": "2022-03-18T17:06:34.392Z"
   },
   {
    "duration": 10262,
    "start_time": "2022-03-18T17:07:13.869Z"
   },
   {
    "duration": 631,
    "start_time": "2022-03-18T17:09:46.330Z"
   },
   {
    "duration": 636,
    "start_time": "2022-03-18T17:10:18.869Z"
   },
   {
    "duration": 616,
    "start_time": "2022-03-18T17:10:37.676Z"
   },
   {
    "duration": 645,
    "start_time": "2022-03-18T17:11:12.744Z"
   },
   {
    "duration": 571,
    "start_time": "2022-03-18T17:15:38.325Z"
   },
   {
    "duration": 620,
    "start_time": "2022-03-18T17:17:59.562Z"
   },
   {
    "duration": 606,
    "start_time": "2022-03-18T17:18:59.231Z"
   },
   {
    "duration": 5,
    "start_time": "2022-03-18T17:19:17.218Z"
   },
   {
    "duration": 7914,
    "start_time": "2022-03-18T17:19:18.371Z"
   },
   {
    "duration": 6354,
    "start_time": "2022-03-18T17:19:40.293Z"
   },
   {
    "duration": 8386,
    "start_time": "2022-03-18T17:21:16.509Z"
   },
   {
    "duration": 4,
    "start_time": "2022-03-18T19:24:36.639Z"
   },
   {
    "duration": 4,
    "start_time": "2022-03-18T19:24:37.363Z"
   },
   {
    "duration": 4,
    "start_time": "2022-03-18T19:24:38.026Z"
   },
   {
    "duration": 7477,
    "start_time": "2022-03-18T19:24:38.935Z"
   },
   {
    "duration": 6209,
    "start_time": "2022-03-18T19:24:46.416Z"
   },
   {
    "duration": 596,
    "start_time": "2022-03-18T19:24:52.630Z"
   },
   {
    "duration": 504,
    "start_time": "2022-03-19T05:05:19.062Z"
   },
   {
    "duration": 9,
    "start_time": "2022-03-19T05:05:19.568Z"
   },
   {
    "duration": 3,
    "start_time": "2022-03-19T05:05:19.578Z"
   },
   {
    "duration": 5274,
    "start_time": "2022-03-19T05:05:19.583Z"
   },
   {
    "duration": 3028,
    "start_time": "2022-03-19T05:05:24.859Z"
   },
   {
    "duration": 175,
    "start_time": "2022-03-19T05:05:27.889Z"
   },
   {
    "duration": 19,
    "start_time": "2022-03-19T05:09:34.165Z"
   },
   {
    "duration": 1041,
    "start_time": "2022-03-19T05:10:38.054Z"
   },
   {
    "duration": 102,
    "start_time": "2022-03-19T05:10:51.638Z"
   },
   {
    "duration": 1014,
    "start_time": "2022-03-19T05:11:12.095Z"
   },
   {
    "duration": 469,
    "start_time": "2022-03-20T03:51:50.477Z"
   },
   {
    "duration": 9,
    "start_time": "2022-03-20T03:51:50.948Z"
   },
   {
    "duration": 5,
    "start_time": "2022-03-20T03:51:50.958Z"
   },
   {
    "duration": 5458,
    "start_time": "2022-03-20T03:51:50.965Z"
   },
   {
    "duration": 3044,
    "start_time": "2022-03-20T03:51:56.424Z"
   },
   {
    "duration": 185,
    "start_time": "2022-03-20T03:51:59.470Z"
   },
   {
    "duration": 2591,
    "start_time": "2022-03-20T03:51:59.657Z"
   },
   {
    "duration": 4,
    "start_time": "2022-03-20T03:59:19.582Z"
   }
  ],
  "kernelspec": {
   "display_name": "Python 3 (ipykernel)",
   "language": "python",
   "name": "python3"
  },
  "language_info": {
   "codemirror_mode": {
    "name": "ipython",
    "version": 3
   },
   "file_extension": ".py",
   "mimetype": "text/x-python",
   "name": "python",
   "nbconvert_exporter": "python",
   "pygments_lexer": "ipython3",
   "version": "3.9.5"
  },
  "toc": {
   "base_numbering": 1,
   "nav_menu": {},
   "number_sections": true,
   "sideBar": true,
   "skip_h1_title": true,
   "title_cell": "Table of Contents",
   "title_sidebar": "Contents",
   "toc_cell": false,
   "toc_position": {},
   "toc_section_display": true,
   "toc_window_display": false
  }
 },
 "nbformat": 4,
 "nbformat_minor": 5
}
