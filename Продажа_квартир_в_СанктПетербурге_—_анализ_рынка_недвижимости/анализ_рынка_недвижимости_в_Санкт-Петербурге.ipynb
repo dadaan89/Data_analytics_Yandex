{
 "cells": [
  {
   "cell_type": "markdown",
   "metadata": {
    "toc": true
   },
   "source": [
    "<h1>Содержание<span class=\"tocSkip\"></span></h1>\n",
    "<div class=\"toc\"><ul class=\"toc-item\"><li><ul class=\"toc-item\"><li><span><a href=\"#✔-Комментарий-реьюера-V.2\" data-toc-modified-id=\"✔-Комментарий-реьюера-V.2-0.1\"><span class=\"toc-item-num\">0.1&nbsp;&nbsp;</span>✔ Комментарий реьюера V.2</a></span></li></ul></li><li><span><a href=\"#-Комментарий-ревьюера\" data-toc-modified-id=\"-Комментарий-ревьюера-1\"><span class=\"toc-item-num\">1&nbsp;&nbsp;</span> Комментарий ревьюера</a></span><ul class=\"toc-item\"><li><span><a href=\"#✔-Комментарий-реьюера\" data-toc-modified-id=\"✔-Комментарий-реьюера-1.1\"><span class=\"toc-item-num\">1.1&nbsp;&nbsp;</span>✔ Комментарий реьюера</a></span></li><li><span><a href=\"#❗-Комментарий-реьюера\" data-toc-modified-id=\"❗-Комментарий-реьюера-1.2\"><span class=\"toc-item-num\">1.2&nbsp;&nbsp;</span>❗ Комментарий реьюера</a></span></li><li><span><a href=\"#❌Комментарий-реьюера\" data-toc-modified-id=\"❌Комментарий-реьюера-1.3\"><span class=\"toc-item-num\">1.3&nbsp;&nbsp;</span>❌Комментарий реьюера</a></span></li><li><span><a href=\"#Комментарий-студента\" data-toc-modified-id=\"Комментарий-студента-1.4\"><span class=\"toc-item-num\">1.4&nbsp;&nbsp;</span>Комментарий студента</a></span></li><li><span><a href=\"#Комментарий-студента-\" data-toc-modified-id=\"Комментарий-студента--1.5\"><span class=\"toc-item-num\">1.5&nbsp;&nbsp;</span>Комментарий студента </a></span></li></ul></li><li><span><a href=\"#Изучение-данных-из-файла\" data-toc-modified-id=\"Изучение-данных-из-файла-2\"><span class=\"toc-item-num\">2&nbsp;&nbsp;</span>Изучение данных из файла</a></span></li><li><span><a href=\"#Предобработка-данных\" data-toc-modified-id=\"Предобработка-данных-3\"><span class=\"toc-item-num\">3&nbsp;&nbsp;</span>Предобработка данных</a></span><ul class=\"toc-item\"><li><span><a href=\"#✔-Комментарий-реьюера-V.2\" data-toc-modified-id=\"✔-Комментарий-реьюера-V.2-3.1\"><span class=\"toc-item-num\">3.1&nbsp;&nbsp;</span>✔ Комментарий реьюера V.2</a></span></li><li><span><a href=\"#❌Комментарий-реьюера\" data-toc-modified-id=\"❌Комментарий-реьюера-3.2\"><span class=\"toc-item-num\">3.2&nbsp;&nbsp;</span>❌Комментарий реьюера</a></span></li><li><span><a href=\"#✔-Комментарий-реьюера-V.2\" data-toc-modified-id=\"✔-Комментарий-реьюера-V.2-3.3\"><span class=\"toc-item-num\">3.3&nbsp;&nbsp;</span>✔ Комментарий реьюера V.2</a></span></li><li><span><a href=\"#✔-Комментарий-реьюера-V.2\" data-toc-modified-id=\"✔-Комментарий-реьюера-V.2-3.4\"><span class=\"toc-item-num\">3.4&nbsp;&nbsp;</span>✔ Комментарий реьюера V.2</a></span></li><li><span><a href=\"#✔-Комментарий-реьюера-V.2\" data-toc-modified-id=\"✔-Комментарий-реьюера-V.2-3.5\"><span class=\"toc-item-num\">3.5&nbsp;&nbsp;</span>✔ Комментарий реьюера V.2</a></span></li></ul></li><li><span><a href=\"#Расчёты-и-добавление-результатов-в-таблицу\" data-toc-modified-id=\"Расчёты-и-добавление-результатов-в-таблицу-4\"><span class=\"toc-item-num\">4&nbsp;&nbsp;</span>Расчёты и добавление результатов в таблицу</a></span><ul class=\"toc-item\"><li><span><a href=\"#✔-Комментарий-реьюера\" data-toc-modified-id=\"✔-Комментарий-реьюера-4.1\"><span class=\"toc-item-num\">4.1&nbsp;&nbsp;</span>✔ Комментарий реьюера</a></span></li></ul></li><li><span><a href=\"#Исследовательский-анализ-данных\" data-toc-modified-id=\"Исследовательский-анализ-данных-5\"><span class=\"toc-item-num\">5&nbsp;&nbsp;</span>Исследовательский анализ данных</a></span><ul class=\"toc-item\"><li><span><a href=\"#✔-Комментарий-реьюера\" data-toc-modified-id=\"✔-Комментарий-реьюера-5.1\"><span class=\"toc-item-num\">5.1&nbsp;&nbsp;</span>✔ Комментарий реьюера</a></span></li><li><span><a href=\"#✔-Комментарий-реьюера\" data-toc-modified-id=\"✔-Комментарий-реьюера-5.2\"><span class=\"toc-item-num\">5.2&nbsp;&nbsp;</span>✔ Комментарий реьюера</a></span></li><li><span><a href=\"#✔-Комментарий-реьюера\" data-toc-modified-id=\"✔-Комментарий-реьюера-5.3\"><span class=\"toc-item-num\">5.3&nbsp;&nbsp;</span>✔ Комментарий реьюера</a></span></li><li><span><a href=\"#❌Комментарий-реьюера\" data-toc-modified-id=\"❌Комментарий-реьюера-5.4\"><span class=\"toc-item-num\">5.4&nbsp;&nbsp;</span>❌Комментарий реьюера</a></span></li><li><span><a href=\"#❌Комментарий-реьюера\" data-toc-modified-id=\"❌Комментарий-реьюера-5.5\"><span class=\"toc-item-num\">5.5&nbsp;&nbsp;</span>❌Комментарий реьюера</a></span></li><li><span><a href=\"#✔-Комментарий-реьюера-V.2\" data-toc-modified-id=\"✔-Комментарий-реьюера-V.2-5.6\"><span class=\"toc-item-num\">5.6&nbsp;&nbsp;</span>✔ Комментарий реьюера V.2</a></span></li><li><span><a href=\"#✔-Комментарий-реьюера\" data-toc-modified-id=\"✔-Комментарий-реьюера-5.7\"><span class=\"toc-item-num\">5.7&nbsp;&nbsp;</span>✔ Комментарий реьюера</a></span></li><li><span><a href=\"#✔-Комментарий-реьюера\" data-toc-modified-id=\"✔-Комментарий-реьюера-5.8\"><span class=\"toc-item-num\">5.8&nbsp;&nbsp;</span>✔ Комментарий реьюера</a></span></li><li><span><a href=\"#✔-Комментарий-реьюера\" data-toc-modified-id=\"✔-Комментарий-реьюера-5.9\"><span class=\"toc-item-num\">5.9&nbsp;&nbsp;</span>✔ Комментарий реьюера</a></span></li><li><span><a href=\"#✔-Комментарий-реьюера\" data-toc-modified-id=\"✔-Комментарий-реьюера-5.10\"><span class=\"toc-item-num\">5.10&nbsp;&nbsp;</span>✔ Комментарий реьюера</a></span></li><li><span><a href=\"#✔-Комментарий-реьюера-V.2\" data-toc-modified-id=\"✔-Комментарий-реьюера-V.2-5.11\"><span class=\"toc-item-num\">5.11&nbsp;&nbsp;</span>✔ Комментарий реьюера V.2</a></span></li><li><span><a href=\"#✔-Комментарий-реьюера\" data-toc-modified-id=\"✔-Комментарий-реьюера-5.12\"><span class=\"toc-item-num\">5.12&nbsp;&nbsp;</span>✔ Комментарий реьюера</a></span></li><li><span><a href=\"#✔-Комментарий-реьюера-V.2\" data-toc-modified-id=\"✔-Комментарий-реьюера-V.2-5.13\"><span class=\"toc-item-num\">5.13&nbsp;&nbsp;</span>✔ Комментарий реьюера V.2</a></span></li><li><span><a href=\"#✔-Комментарий-реьюера\" data-toc-modified-id=\"✔-Комментарий-реьюера-5.14\"><span class=\"toc-item-num\">5.14&nbsp;&nbsp;</span>✔ Комментарий реьюера</a></span></li></ul></li><li><span><a href=\"#Общий-вывод\" data-toc-modified-id=\"Общий-вывод-6\"><span class=\"toc-item-num\">6&nbsp;&nbsp;</span>Общий вывод</a></span><ul class=\"toc-item\"><li><span><a href=\"#✔-Комментарий-реьюера\" data-toc-modified-id=\"✔-Комментарий-реьюера-6.1\"><span class=\"toc-item-num\">6.1&nbsp;&nbsp;</span>✔ Комментарий реьюера</a></span></li></ul></li><li><span><a href=\"#Чек-лист-готовности-проекта\" data-toc-modified-id=\"Чек-лист-готовности-проекта-7\"><span class=\"toc-item-num\">7&nbsp;&nbsp;</span>Чек-лист готовности проекта</a></span></li></ul></div>"
   ]
  },
  {
   "cell_type": "markdown",
   "metadata": {},
   "source": [
    "Шаг 2. Предобработка данных\n",
    "* Определите и изучите пропущенные значения:\n",
    "* Для некоторых пропущенных значений можно предположить логичную замену. Например, если человек не указал число балконов — скорее всего, их нет. Такие пропуски правильно заменить на 0. Для других типов данных нет подходящего значения на замену. В этом случае правильно оставить эти значения пустыми. Отсутствие значения — тоже важный сигнал, который не нужно прятать.\n",
    "* Заполните пропуски, где это уместно. Опишите, почему вы решили заполнить пропуски именно в этих столбцах и как выбрали значения.\n",
    "* Укажите причины, которые могли привести к пропускам в данных.\n",
    "* Приведите данные к нужным типам:\n",
    "* Поясните, в каких столбцах нужно изменить тип данных и почему.\n",
    "* Шаг 3. Посчитайте и добавьте в таблицу\n",
    "* цену квадратного метра;\n",
    "* день недели, месяц и год публикации объявления;\n",
    "* этаж квартиры; варианты — первый, последний, другой;\n",
    "* соотношение жилой и общей площади, а также отношение площади кухни к общей.\n",
    "* Шаг 4. Проведите исследовательский анализ данных и выполните инструкции\n",
    "* Изучите следующие параметры: площадь, цена, число комнат, высота потолков. Постройте гистограммы для каждого параметра.\n",
    "* Изучите время продажи квартиры. Постройте гистограмму. Посчитайте среднее и медиану. Опишите, сколько обычно занимает * * продажа. Когда можно считать, что продажи прошли очень быстро, а когда необычно долго?\n",
    "* Уберите редкие и выбивающиеся значения. Опишите, какие особенности обнаружили.\n",
    "* Какие факторы больше всего влияют на стоимость квартиры? Изучите, зависит ли цена от площади, числа комнат, удалённости от центра. Изучите зависимость цены от того, на каком этаже расположена квартира: первом, последнем или другом. Также изучите зависимость от даты размещения: дня недели, месяца и года.\n",
    "* Выберите 10 населённых пунктов с наибольшим числом объявлений. Посчитайте среднюю цену квадратного метра в этих населённых пунктах. Выделите населённые пункты с самой высокой и низкой стоимостью жилья. Эти данные можно найти по имени в столбце locality_name.\n",
    "* Изучите предложения квартир: для каждой квартиры есть информация о расстоянии до центра. Выделите квартиры в Санкт-Петербурге (locality_name). Ваша задача — выяснить, какая область входит в центр. Создайте столбец с расстоянием до центра в километрах: округлите до целых значений. После этого посчитайте среднюю цену для каждого километра. Постройте график: он должен показывать, как цена зависит от удалённости от центра. Определите границу, где график сильно меняется, — это и будет центральная зона.\n",
    "* Выделите сегмент квартир в центре. Проанализируйте эту территорию и изучите следующие параметры: площадь, цена, число комнат, высота потолков. Также выделите факторы, которые влияют на стоимость квартиры (число комнат, этаж, удалённость от центра, дата размещения объявления). Сделайте выводы. Отличаются ли они от общих выводов по всему городу?"
   ]
  },
  {
   "cell_type": "markdown",
   "metadata": {},
   "source": [
    "# Исследование объявлений о продаже квартир\n",
    "\n",
    "В вашем распоряжении данные сервиса Яндекс.Недвижимость — архив объявлений о продаже квартир в Санкт-Петербурге и соседних населённых пунктах за несколько лет. Нужно научиться определять рыночную стоимость объектов недвижимости. Ваша задача — установить параметры. Это позволит построить автоматизированную систему: она отследит аномалии и мошенническую деятельность. \n",
    "\n",
    "По каждой квартире на продажу доступны два вида данных. Первые вписаны пользователем, вторые получены автоматически на основе картографических данных. Например, расстояние до центра, аэропорта, ближайшего парка и водоёма. "
   ]
  },
  {
   "cell_type": "markdown",
   "metadata": {},
   "source": [
    "Описание данных\n",
    "* airports_nearest — расстояние до ближайшего аэропорта в метрах (м)\n",
    "* balcony — число балконов\n",
    "* ceiling_height — высота потолков (м)\n",
    "* cityCenters_nearest — расстояние до центра города (м)\n",
    "* days_exposition — сколько дней было размещено объявление (от публикации до снятия)\n",
    "* first_day_exposition — дата публикации\n",
    "* floor — этаж\n",
    "* floors_total — всего этажей в доме\n",
    "* is_apartment — апартаменты (булев тип)\n",
    "* kitchen_area — площадь кухни в квадратных метрах (м²)\n",
    "* last_price — цена на момент снятия с публикации\n",
    "* living_area — жилая площадь в квадратных метрах (м²)\n",
    "* locality_name — название населённого пункта\n",
    "* open_plan — свободная планировка (булев тип)\n",
    "* parks_around3000 — число парков в радиусе 3 км\n",
    "* parks_nearest — расстояние до ближайшего парка (м)\n",
    "* ponds_around3000 — число водоёмов в радиусе 3 км\n",
    "* ponds_nearest — расстояние до ближайшего водоёма (м)\n",
    "* rooms — число комнат\n",
    "* studio — квартира-студия (булев тип)\n",
    "* total_area — площадь квартиры в квадратных метрах (м²)\n",
    "* total_images — число фотографий квартиры в объявлении"
   ]
  },
  {
   "cell_type": "markdown",
   "metadata": {},
   "source": [
    "## Изучение данных из файла"
   ]
  },
  {
   "cell_type": "code",
   "execution_count": 1,
   "metadata": {},
   "outputs": [],
   "source": [
    "import pandas as pd\n",
    "import matplotlib.pyplot as plt\n",
    "import numpy as np"
   ]
  },
  {
   "cell_type": "code",
   "execution_count": 2,
   "metadata": {},
   "outputs": [
    {
     "data": {
      "text/html": [
       "<div>\n",
       "<style scoped>\n",
       "    .dataframe tbody tr th:only-of-type {\n",
       "        vertical-align: middle;\n",
       "    }\n",
       "\n",
       "    .dataframe tbody tr th {\n",
       "        vertical-align: top;\n",
       "    }\n",
       "\n",
       "    .dataframe thead th {\n",
       "        text-align: right;\n",
       "    }\n",
       "</style>\n",
       "<table border=\"1\" class=\"dataframe\">\n",
       "  <thead>\n",
       "    <tr style=\"text-align: right;\">\n",
       "      <th></th>\n",
       "      <th>total_images</th>\n",
       "      <th>last_price</th>\n",
       "      <th>total_area</th>\n",
       "      <th>first_day_exposition</th>\n",
       "      <th>rooms</th>\n",
       "      <th>ceiling_height</th>\n",
       "      <th>floors_total</th>\n",
       "      <th>living_area</th>\n",
       "      <th>floor</th>\n",
       "      <th>is_apartment</th>\n",
       "      <th>...</th>\n",
       "      <th>kitchen_area</th>\n",
       "      <th>balcony</th>\n",
       "      <th>locality_name</th>\n",
       "      <th>airports_nearest</th>\n",
       "      <th>cityCenters_nearest</th>\n",
       "      <th>parks_around3000</th>\n",
       "      <th>parks_nearest</th>\n",
       "      <th>ponds_around3000</th>\n",
       "      <th>ponds_nearest</th>\n",
       "      <th>days_exposition</th>\n",
       "    </tr>\n",
       "  </thead>\n",
       "  <tbody>\n",
       "    <tr>\n",
       "      <td>0</td>\n",
       "      <td>20</td>\n",
       "      <td>13000000.0</td>\n",
       "      <td>108.00</td>\n",
       "      <td>2019-03-07T00:00:00</td>\n",
       "      <td>3</td>\n",
       "      <td>2.70</td>\n",
       "      <td>16.0</td>\n",
       "      <td>51.00</td>\n",
       "      <td>8</td>\n",
       "      <td>NaN</td>\n",
       "      <td>...</td>\n",
       "      <td>25.00</td>\n",
       "      <td>NaN</td>\n",
       "      <td>Санкт-Петербург</td>\n",
       "      <td>18863.0</td>\n",
       "      <td>16028.0</td>\n",
       "      <td>1.0</td>\n",
       "      <td>482.0</td>\n",
       "      <td>2.0</td>\n",
       "      <td>755.0</td>\n",
       "      <td>NaN</td>\n",
       "    </tr>\n",
       "    <tr>\n",
       "      <td>1</td>\n",
       "      <td>7</td>\n",
       "      <td>3350000.0</td>\n",
       "      <td>40.40</td>\n",
       "      <td>2018-12-04T00:00:00</td>\n",
       "      <td>1</td>\n",
       "      <td>NaN</td>\n",
       "      <td>11.0</td>\n",
       "      <td>18.60</td>\n",
       "      <td>1</td>\n",
       "      <td>NaN</td>\n",
       "      <td>...</td>\n",
       "      <td>11.00</td>\n",
       "      <td>2.0</td>\n",
       "      <td>посёлок Шушары</td>\n",
       "      <td>12817.0</td>\n",
       "      <td>18603.0</td>\n",
       "      <td>0.0</td>\n",
       "      <td>NaN</td>\n",
       "      <td>0.0</td>\n",
       "      <td>NaN</td>\n",
       "      <td>81.0</td>\n",
       "    </tr>\n",
       "    <tr>\n",
       "      <td>2</td>\n",
       "      <td>10</td>\n",
       "      <td>5196000.0</td>\n",
       "      <td>56.00</td>\n",
       "      <td>2015-08-20T00:00:00</td>\n",
       "      <td>2</td>\n",
       "      <td>NaN</td>\n",
       "      <td>5.0</td>\n",
       "      <td>34.30</td>\n",
       "      <td>4</td>\n",
       "      <td>NaN</td>\n",
       "      <td>...</td>\n",
       "      <td>8.30</td>\n",
       "      <td>0.0</td>\n",
       "      <td>Санкт-Петербург</td>\n",
       "      <td>21741.0</td>\n",
       "      <td>13933.0</td>\n",
       "      <td>1.0</td>\n",
       "      <td>90.0</td>\n",
       "      <td>2.0</td>\n",
       "      <td>574.0</td>\n",
       "      <td>558.0</td>\n",
       "    </tr>\n",
       "    <tr>\n",
       "      <td>3</td>\n",
       "      <td>0</td>\n",
       "      <td>64900000.0</td>\n",
       "      <td>159.00</td>\n",
       "      <td>2015-07-24T00:00:00</td>\n",
       "      <td>3</td>\n",
       "      <td>NaN</td>\n",
       "      <td>14.0</td>\n",
       "      <td>NaN</td>\n",
       "      <td>9</td>\n",
       "      <td>NaN</td>\n",
       "      <td>...</td>\n",
       "      <td>NaN</td>\n",
       "      <td>0.0</td>\n",
       "      <td>Санкт-Петербург</td>\n",
       "      <td>28098.0</td>\n",
       "      <td>6800.0</td>\n",
       "      <td>2.0</td>\n",
       "      <td>84.0</td>\n",
       "      <td>3.0</td>\n",
       "      <td>234.0</td>\n",
       "      <td>424.0</td>\n",
       "    </tr>\n",
       "    <tr>\n",
       "      <td>4</td>\n",
       "      <td>2</td>\n",
       "      <td>10000000.0</td>\n",
       "      <td>100.00</td>\n",
       "      <td>2018-06-19T00:00:00</td>\n",
       "      <td>2</td>\n",
       "      <td>3.03</td>\n",
       "      <td>14.0</td>\n",
       "      <td>32.00</td>\n",
       "      <td>13</td>\n",
       "      <td>NaN</td>\n",
       "      <td>...</td>\n",
       "      <td>41.00</td>\n",
       "      <td>NaN</td>\n",
       "      <td>Санкт-Петербург</td>\n",
       "      <td>31856.0</td>\n",
       "      <td>8098.0</td>\n",
       "      <td>2.0</td>\n",
       "      <td>112.0</td>\n",
       "      <td>1.0</td>\n",
       "      <td>48.0</td>\n",
       "      <td>121.0</td>\n",
       "    </tr>\n",
       "    <tr>\n",
       "      <td>5</td>\n",
       "      <td>10</td>\n",
       "      <td>2890000.0</td>\n",
       "      <td>30.40</td>\n",
       "      <td>2018-09-10T00:00:00</td>\n",
       "      <td>1</td>\n",
       "      <td>NaN</td>\n",
       "      <td>12.0</td>\n",
       "      <td>14.40</td>\n",
       "      <td>5</td>\n",
       "      <td>NaN</td>\n",
       "      <td>...</td>\n",
       "      <td>9.10</td>\n",
       "      <td>NaN</td>\n",
       "      <td>городской посёлок Янино-1</td>\n",
       "      <td>NaN</td>\n",
       "      <td>NaN</td>\n",
       "      <td>NaN</td>\n",
       "      <td>NaN</td>\n",
       "      <td>NaN</td>\n",
       "      <td>NaN</td>\n",
       "      <td>55.0</td>\n",
       "    </tr>\n",
       "    <tr>\n",
       "      <td>6</td>\n",
       "      <td>6</td>\n",
       "      <td>3700000.0</td>\n",
       "      <td>37.30</td>\n",
       "      <td>2017-11-02T00:00:00</td>\n",
       "      <td>1</td>\n",
       "      <td>NaN</td>\n",
       "      <td>26.0</td>\n",
       "      <td>10.60</td>\n",
       "      <td>6</td>\n",
       "      <td>NaN</td>\n",
       "      <td>...</td>\n",
       "      <td>14.40</td>\n",
       "      <td>1.0</td>\n",
       "      <td>посёлок Парголово</td>\n",
       "      <td>52996.0</td>\n",
       "      <td>19143.0</td>\n",
       "      <td>0.0</td>\n",
       "      <td>NaN</td>\n",
       "      <td>0.0</td>\n",
       "      <td>NaN</td>\n",
       "      <td>155.0</td>\n",
       "    </tr>\n",
       "    <tr>\n",
       "      <td>7</td>\n",
       "      <td>5</td>\n",
       "      <td>7915000.0</td>\n",
       "      <td>71.60</td>\n",
       "      <td>2019-04-18T00:00:00</td>\n",
       "      <td>2</td>\n",
       "      <td>NaN</td>\n",
       "      <td>24.0</td>\n",
       "      <td>NaN</td>\n",
       "      <td>22</td>\n",
       "      <td>NaN</td>\n",
       "      <td>...</td>\n",
       "      <td>18.90</td>\n",
       "      <td>2.0</td>\n",
       "      <td>Санкт-Петербург</td>\n",
       "      <td>23982.0</td>\n",
       "      <td>11634.0</td>\n",
       "      <td>0.0</td>\n",
       "      <td>NaN</td>\n",
       "      <td>0.0</td>\n",
       "      <td>NaN</td>\n",
       "      <td>NaN</td>\n",
       "    </tr>\n",
       "    <tr>\n",
       "      <td>8</td>\n",
       "      <td>20</td>\n",
       "      <td>2900000.0</td>\n",
       "      <td>33.16</td>\n",
       "      <td>2018-05-23T00:00:00</td>\n",
       "      <td>1</td>\n",
       "      <td>NaN</td>\n",
       "      <td>27.0</td>\n",
       "      <td>15.43</td>\n",
       "      <td>26</td>\n",
       "      <td>NaN</td>\n",
       "      <td>...</td>\n",
       "      <td>8.81</td>\n",
       "      <td>NaN</td>\n",
       "      <td>посёлок Мурино</td>\n",
       "      <td>NaN</td>\n",
       "      <td>NaN</td>\n",
       "      <td>NaN</td>\n",
       "      <td>NaN</td>\n",
       "      <td>NaN</td>\n",
       "      <td>NaN</td>\n",
       "      <td>189.0</td>\n",
       "    </tr>\n",
       "    <tr>\n",
       "      <td>9</td>\n",
       "      <td>18</td>\n",
       "      <td>5400000.0</td>\n",
       "      <td>61.00</td>\n",
       "      <td>2017-02-26T00:00:00</td>\n",
       "      <td>3</td>\n",
       "      <td>2.50</td>\n",
       "      <td>9.0</td>\n",
       "      <td>43.60</td>\n",
       "      <td>7</td>\n",
       "      <td>NaN</td>\n",
       "      <td>...</td>\n",
       "      <td>6.50</td>\n",
       "      <td>2.0</td>\n",
       "      <td>Санкт-Петербург</td>\n",
       "      <td>50898.0</td>\n",
       "      <td>15008.0</td>\n",
       "      <td>0.0</td>\n",
       "      <td>NaN</td>\n",
       "      <td>0.0</td>\n",
       "      <td>NaN</td>\n",
       "      <td>289.0</td>\n",
       "    </tr>\n",
       "    <tr>\n",
       "      <td>10</td>\n",
       "      <td>5</td>\n",
       "      <td>5050000.0</td>\n",
       "      <td>39.60</td>\n",
       "      <td>2017-11-16T00:00:00</td>\n",
       "      <td>1</td>\n",
       "      <td>2.67</td>\n",
       "      <td>12.0</td>\n",
       "      <td>20.30</td>\n",
       "      <td>3</td>\n",
       "      <td>NaN</td>\n",
       "      <td>...</td>\n",
       "      <td>8.50</td>\n",
       "      <td>NaN</td>\n",
       "      <td>Санкт-Петербург</td>\n",
       "      <td>38357.0</td>\n",
       "      <td>13878.0</td>\n",
       "      <td>1.0</td>\n",
       "      <td>310.0</td>\n",
       "      <td>2.0</td>\n",
       "      <td>553.0</td>\n",
       "      <td>137.0</td>\n",
       "    </tr>\n",
       "    <tr>\n",
       "      <td>11</td>\n",
       "      <td>9</td>\n",
       "      <td>3300000.0</td>\n",
       "      <td>44.00</td>\n",
       "      <td>2018-08-27T00:00:00</td>\n",
       "      <td>2</td>\n",
       "      <td>NaN</td>\n",
       "      <td>5.0</td>\n",
       "      <td>31.00</td>\n",
       "      <td>4</td>\n",
       "      <td>False</td>\n",
       "      <td>...</td>\n",
       "      <td>6.00</td>\n",
       "      <td>1.0</td>\n",
       "      <td>Ломоносов</td>\n",
       "      <td>48252.0</td>\n",
       "      <td>51677.0</td>\n",
       "      <td>0.0</td>\n",
       "      <td>NaN</td>\n",
       "      <td>0.0</td>\n",
       "      <td>NaN</td>\n",
       "      <td>7.0</td>\n",
       "    </tr>\n",
       "    <tr>\n",
       "      <td>12</td>\n",
       "      <td>10</td>\n",
       "      <td>3890000.0</td>\n",
       "      <td>54.00</td>\n",
       "      <td>2016-06-30T00:00:00</td>\n",
       "      <td>2</td>\n",
       "      <td>NaN</td>\n",
       "      <td>5.0</td>\n",
       "      <td>30.00</td>\n",
       "      <td>5</td>\n",
       "      <td>NaN</td>\n",
       "      <td>...</td>\n",
       "      <td>9.00</td>\n",
       "      <td>0.0</td>\n",
       "      <td>Сертолово</td>\n",
       "      <td>NaN</td>\n",
       "      <td>NaN</td>\n",
       "      <td>NaN</td>\n",
       "      <td>NaN</td>\n",
       "      <td>NaN</td>\n",
       "      <td>NaN</td>\n",
       "      <td>90.0</td>\n",
       "    </tr>\n",
       "    <tr>\n",
       "      <td>13</td>\n",
       "      <td>20</td>\n",
       "      <td>3550000.0</td>\n",
       "      <td>42.80</td>\n",
       "      <td>2017-07-01T00:00:00</td>\n",
       "      <td>2</td>\n",
       "      <td>2.56</td>\n",
       "      <td>5.0</td>\n",
       "      <td>27.00</td>\n",
       "      <td>5</td>\n",
       "      <td>NaN</td>\n",
       "      <td>...</td>\n",
       "      <td>5.20</td>\n",
       "      <td>1.0</td>\n",
       "      <td>Петергоф</td>\n",
       "      <td>37868.0</td>\n",
       "      <td>33058.0</td>\n",
       "      <td>1.0</td>\n",
       "      <td>294.0</td>\n",
       "      <td>3.0</td>\n",
       "      <td>298.0</td>\n",
       "      <td>366.0</td>\n",
       "    </tr>\n",
       "    <tr>\n",
       "      <td>14</td>\n",
       "      <td>1</td>\n",
       "      <td>4400000.0</td>\n",
       "      <td>36.00</td>\n",
       "      <td>2016-06-23T00:00:00</td>\n",
       "      <td>1</td>\n",
       "      <td>NaN</td>\n",
       "      <td>6.0</td>\n",
       "      <td>17.00</td>\n",
       "      <td>1</td>\n",
       "      <td>NaN</td>\n",
       "      <td>...</td>\n",
       "      <td>8.00</td>\n",
       "      <td>0.0</td>\n",
       "      <td>Пушкин</td>\n",
       "      <td>20782.0</td>\n",
       "      <td>30759.0</td>\n",
       "      <td>0.0</td>\n",
       "      <td>NaN</td>\n",
       "      <td>1.0</td>\n",
       "      <td>96.0</td>\n",
       "      <td>203.0</td>\n",
       "    </tr>\n",
       "  </tbody>\n",
       "</table>\n",
       "<p>15 rows × 22 columns</p>\n",
       "</div>"
      ],
      "text/plain": [
       "    total_images  last_price  total_area first_day_exposition  rooms  \\\n",
       "0             20  13000000.0      108.00  2019-03-07T00:00:00      3   \n",
       "1              7   3350000.0       40.40  2018-12-04T00:00:00      1   \n",
       "2             10   5196000.0       56.00  2015-08-20T00:00:00      2   \n",
       "3              0  64900000.0      159.00  2015-07-24T00:00:00      3   \n",
       "4              2  10000000.0      100.00  2018-06-19T00:00:00      2   \n",
       "5             10   2890000.0       30.40  2018-09-10T00:00:00      1   \n",
       "6              6   3700000.0       37.30  2017-11-02T00:00:00      1   \n",
       "7              5   7915000.0       71.60  2019-04-18T00:00:00      2   \n",
       "8             20   2900000.0       33.16  2018-05-23T00:00:00      1   \n",
       "9             18   5400000.0       61.00  2017-02-26T00:00:00      3   \n",
       "10             5   5050000.0       39.60  2017-11-16T00:00:00      1   \n",
       "11             9   3300000.0       44.00  2018-08-27T00:00:00      2   \n",
       "12            10   3890000.0       54.00  2016-06-30T00:00:00      2   \n",
       "13            20   3550000.0       42.80  2017-07-01T00:00:00      2   \n",
       "14             1   4400000.0       36.00  2016-06-23T00:00:00      1   \n",
       "\n",
       "    ceiling_height  floors_total  living_area  floor is_apartment  ...  \\\n",
       "0             2.70          16.0        51.00      8          NaN  ...   \n",
       "1              NaN          11.0        18.60      1          NaN  ...   \n",
       "2              NaN           5.0        34.30      4          NaN  ...   \n",
       "3              NaN          14.0          NaN      9          NaN  ...   \n",
       "4             3.03          14.0        32.00     13          NaN  ...   \n",
       "5              NaN          12.0        14.40      5          NaN  ...   \n",
       "6              NaN          26.0        10.60      6          NaN  ...   \n",
       "7              NaN          24.0          NaN     22          NaN  ...   \n",
       "8              NaN          27.0        15.43     26          NaN  ...   \n",
       "9             2.50           9.0        43.60      7          NaN  ...   \n",
       "10            2.67          12.0        20.30      3          NaN  ...   \n",
       "11             NaN           5.0        31.00      4        False  ...   \n",
       "12             NaN           5.0        30.00      5          NaN  ...   \n",
       "13            2.56           5.0        27.00      5          NaN  ...   \n",
       "14             NaN           6.0        17.00      1          NaN  ...   \n",
       "\n",
       "    kitchen_area  balcony              locality_name  airports_nearest  \\\n",
       "0          25.00      NaN            Санкт-Петербург           18863.0   \n",
       "1          11.00      2.0             посёлок Шушары           12817.0   \n",
       "2           8.30      0.0            Санкт-Петербург           21741.0   \n",
       "3            NaN      0.0            Санкт-Петербург           28098.0   \n",
       "4          41.00      NaN            Санкт-Петербург           31856.0   \n",
       "5           9.10      NaN  городской посёлок Янино-1               NaN   \n",
       "6          14.40      1.0          посёлок Парголово           52996.0   \n",
       "7          18.90      2.0            Санкт-Петербург           23982.0   \n",
       "8           8.81      NaN             посёлок Мурино               NaN   \n",
       "9           6.50      2.0            Санкт-Петербург           50898.0   \n",
       "10          8.50      NaN            Санкт-Петербург           38357.0   \n",
       "11          6.00      1.0                  Ломоносов           48252.0   \n",
       "12          9.00      0.0                  Сертолово               NaN   \n",
       "13          5.20      1.0                   Петергоф           37868.0   \n",
       "14          8.00      0.0                     Пушкин           20782.0   \n",
       "\n",
       "   cityCenters_nearest  parks_around3000  parks_nearest  ponds_around3000  \\\n",
       "0              16028.0               1.0          482.0               2.0   \n",
       "1              18603.0               0.0            NaN               0.0   \n",
       "2              13933.0               1.0           90.0               2.0   \n",
       "3               6800.0               2.0           84.0               3.0   \n",
       "4               8098.0               2.0          112.0               1.0   \n",
       "5                  NaN               NaN            NaN               NaN   \n",
       "6              19143.0               0.0            NaN               0.0   \n",
       "7              11634.0               0.0            NaN               0.0   \n",
       "8                  NaN               NaN            NaN               NaN   \n",
       "9              15008.0               0.0            NaN               0.0   \n",
       "10             13878.0               1.0          310.0               2.0   \n",
       "11             51677.0               0.0            NaN               0.0   \n",
       "12                 NaN               NaN            NaN               NaN   \n",
       "13             33058.0               1.0          294.0               3.0   \n",
       "14             30759.0               0.0            NaN               1.0   \n",
       "\n",
       "    ponds_nearest  days_exposition  \n",
       "0           755.0              NaN  \n",
       "1             NaN             81.0  \n",
       "2           574.0            558.0  \n",
       "3           234.0            424.0  \n",
       "4            48.0            121.0  \n",
       "5             NaN             55.0  \n",
       "6             NaN            155.0  \n",
       "7             NaN              NaN  \n",
       "8             NaN            189.0  \n",
       "9             NaN            289.0  \n",
       "10          553.0            137.0  \n",
       "11            NaN              7.0  \n",
       "12            NaN             90.0  \n",
       "13          298.0            366.0  \n",
       "14           96.0            203.0  \n",
       "\n",
       "[15 rows x 22 columns]"
      ]
     },
     "execution_count": 2,
     "metadata": {},
     "output_type": "execute_result"
    }
   ],
   "source": [
    "data = pd.read_csv('/datasets/real_estate_data.csv', sep='\\t')\n",
    "data.head(15)"
   ]
  },
  {
   "cell_type": "markdown",
   "metadata": {},
   "source": [
    "## Предобработка данных"
   ]
  },
  {
   "cell_type": "code",
   "execution_count": 3,
   "metadata": {},
   "outputs": [
    {
     "name": "stdout",
     "output_type": "stream",
     "text": [
      "<class 'pandas.core.frame.DataFrame'>\n",
      "RangeIndex: 23699 entries, 0 to 23698\n",
      "Data columns (total 22 columns):\n",
      "total_images            23699 non-null int64\n",
      "last_price              23699 non-null float64\n",
      "total_area              23699 non-null float64\n",
      "first_day_exposition    23699 non-null object\n",
      "rooms                   23699 non-null int64\n",
      "ceiling_height          14504 non-null float64\n",
      "floors_total            23613 non-null float64\n",
      "living_area             21796 non-null float64\n",
      "floor                   23699 non-null int64\n",
      "is_apartment            2775 non-null object\n",
      "studio                  23699 non-null bool\n",
      "open_plan               23699 non-null bool\n",
      "kitchen_area            21421 non-null float64\n",
      "balcony                 12180 non-null float64\n",
      "locality_name           23650 non-null object\n",
      "airports_nearest        18157 non-null float64\n",
      "cityCenters_nearest     18180 non-null float64\n",
      "parks_around3000        18181 non-null float64\n",
      "parks_nearest           8079 non-null float64\n",
      "ponds_around3000        18181 non-null float64\n",
      "ponds_nearest           9110 non-null float64\n",
      "days_exposition         20518 non-null float64\n",
      "dtypes: bool(2), float64(14), int64(3), object(3)\n",
      "memory usage: 3.7+ MB\n"
     ]
    }
   ],
   "source": [
    "data.info()"
   ]
  },
  {
   "cell_type": "code",
   "execution_count": 4,
   "metadata": {},
   "outputs": [
    {
     "data": {
      "text/plain": [
       "total_images                0\n",
       "last_price                  0\n",
       "total_area                  0\n",
       "first_day_exposition        0\n",
       "rooms                       0\n",
       "ceiling_height           9195\n",
       "floors_total               86\n",
       "living_area              1903\n",
       "floor                       0\n",
       "is_apartment            20924\n",
       "studio                      0\n",
       "open_plan                   0\n",
       "kitchen_area             2278\n",
       "balcony                 11519\n",
       "locality_name              49\n",
       "airports_nearest         5542\n",
       "cityCenters_nearest      5519\n",
       "parks_around3000         5518\n",
       "parks_nearest           15620\n",
       "ponds_around3000         5518\n",
       "ponds_nearest           14589\n",
       "days_exposition          3181\n",
       "dtype: int64"
      ]
     },
     "execution_count": 4,
     "metadata": {},
     "output_type": "execute_result"
    }
   ],
   "source": [
    "data.isna().sum()"
   ]
  },
  {
   "cell_type": "markdown",
   "metadata": {},
   "source": [
    "*по данному выводу видно что много пропусков в самых различных столбцах. Рассмотрим нужные столбцы и заменим в них пропуски*"
   ]
  },
  {
   "cell_type": "code",
   "execution_count": 5,
   "metadata": {},
   "outputs": [
    {
     "data": {
      "text/plain": [
       "0"
      ]
     },
     "execution_count": 5,
     "metadata": {},
     "output_type": "execute_result"
    }
   ],
   "source": [
    "data.duplicated().sum()"
   ]
  },
  {
   "cell_type": "markdown",
   "metadata": {},
   "source": [
    "*полных дубликатов в таблице нет*"
   ]
  },
  {
   "cell_type": "code",
   "execution_count": 6,
   "metadata": {},
   "outputs": [
    {
     "data": {
      "text/plain": [
       "0"
      ]
     },
     "execution_count": 6,
     "metadata": {},
     "output_type": "execute_result"
    }
   ],
   "source": [
    "data.dropna(subset=['locality_name'],inplace=True) \n",
    "data['locality_name'].isna().sum()"
   ]
  },
  {
   "cell_type": "markdown",
   "metadata": {},
   "source": [
    "*Так как пропусков всего 49 строк, можно удалить пропуски в locality_name*"
   ]
  },
  {
   "cell_type": "code",
   "execution_count": 7,
   "metadata": {},
   "outputs": [],
   "source": [
    "data.fillna( \n",
    "    value =     \n",
    "                {\n",
    "                 'balcony' : 0,     # заполняем пропуски балкона 0- нет балкона\n",
    "                 'floors_total' : data['floors_total'].median(),   #заменим пропуски в floors_total\n",
    "                 'living_area' : data['living_area'].median(),   # Заполним пропуски в столбце жилой и кухонной\n",
    "                 'kitchen_area' : data['kitchen_area'].median(), # площади на медианное значение\n",
    "                 'is_apartment' : False,                       # Заполним пропуски на False в столбце is_apartment                           \n",
    "                 },\n",
    "          \n",
    "                  inplace=True )"
   ]
  },
  {
   "cell_type": "code",
   "execution_count": 8,
   "metadata": {},
   "outputs": [],
   "source": [
    "def find_area(row):\n",
    "    if row['cityCenters_nearest'] < 2000:\n",
    "        return 'центр'\n",
    "    elif row['cityCenters_nearest'] < 7000:\n",
    "        return 'центральный район'\n",
    "    elif row['cityCenters_nearest'] < 15000:\n",
    "        return 'город'\n",
    "    else:\n",
    "        return 'область'"
   ]
  },
  {
   "cell_type": "code",
   "execution_count": 9,
   "metadata": {},
   "outputs": [
    {
     "data": {
      "text/html": [
       "<div>\n",
       "<style scoped>\n",
       "    .dataframe tbody tr th:only-of-type {\n",
       "        vertical-align: middle;\n",
       "    }\n",
       "\n",
       "    .dataframe tbody tr th {\n",
       "        vertical-align: top;\n",
       "    }\n",
       "\n",
       "    .dataframe thead th {\n",
       "        text-align: right;\n",
       "    }\n",
       "</style>\n",
       "<table border=\"1\" class=\"dataframe\">\n",
       "  <thead>\n",
       "    <tr style=\"text-align: right;\">\n",
       "      <th></th>\n",
       "      <th>locality_name</th>\n",
       "      <th>cityCenters_nearest</th>\n",
       "      <th>area_in_city</th>\n",
       "    </tr>\n",
       "  </thead>\n",
       "  <tbody>\n",
       "    <tr>\n",
       "      <td>0</td>\n",
       "      <td>Санкт-Петербург</td>\n",
       "      <td>16028.0</td>\n",
       "      <td>область</td>\n",
       "    </tr>\n",
       "    <tr>\n",
       "      <td>1</td>\n",
       "      <td>посёлок Шушары</td>\n",
       "      <td>18603.0</td>\n",
       "      <td>область</td>\n",
       "    </tr>\n",
       "    <tr>\n",
       "      <td>2</td>\n",
       "      <td>Санкт-Петербург</td>\n",
       "      <td>13933.0</td>\n",
       "      <td>город</td>\n",
       "    </tr>\n",
       "    <tr>\n",
       "      <td>3</td>\n",
       "      <td>Санкт-Петербург</td>\n",
       "      <td>6800.0</td>\n",
       "      <td>центральный район</td>\n",
       "    </tr>\n",
       "    <tr>\n",
       "      <td>4</td>\n",
       "      <td>Санкт-Петербург</td>\n",
       "      <td>8098.0</td>\n",
       "      <td>город</td>\n",
       "    </tr>\n",
       "  </tbody>\n",
       "</table>\n",
       "</div>"
      ],
      "text/plain": [
       "     locality_name  cityCenters_nearest       area_in_city\n",
       "0  Санкт-Петербург              16028.0            область\n",
       "1   посёлок Шушары              18603.0            область\n",
       "2  Санкт-Петербург              13933.0              город\n",
       "3  Санкт-Петербург               6800.0  центральный район\n",
       "4  Санкт-Петербург               8098.0              город"
      ]
     },
     "execution_count": 9,
     "metadata": {},
     "output_type": "execute_result"
    }
   ],
   "source": [
    "data['area_in_city'] = data.apply(find_area, axis=1)\n",
    "data[['locality_name', 'cityCenters_nearest', 'area_in_city']].head()"
   ]
  },
  {
   "cell_type": "code",
   "execution_count": 10,
   "metadata": {},
   "outputs": [
    {
     "data": {
      "text/plain": [
       "area_in_city\n",
       "центр                3.234779\n",
       "центральный район    3.124220\n",
       "город                2.730299\n",
       "область              2.688629\n",
       "Name: ceiling_height, dtype: float64"
      ]
     },
     "execution_count": 10,
     "metadata": {},
     "output_type": "execute_result"
    }
   ],
   "source": [
    "data.groupby('area_in_city')['ceiling_height'].mean().sort_values(ascending=False)"
   ]
  },
  {
   "cell_type": "code",
   "execution_count": 11,
   "metadata": {},
   "outputs": [],
   "source": [
    "list_of_area = ['центр', 'центральный район', 'город', 'область']\n",
    "for column in list_of_area:\n",
    "    value_for_filling = data.groupby('area_in_city')['ceiling_height'].mean().get(key=column)\n",
    "    data['ceiling_height'] = data.groupby('area_in_city')['ceiling_height'].apply(lambda x: x.fillna(x.mean()))\n"
   ]
  },
  {
   "cell_type": "code",
   "execution_count": 12,
   "metadata": {},
   "outputs": [
    {
     "data": {
      "text/html": [
       "<div>\n",
       "<style scoped>\n",
       "    .dataframe tbody tr th:only-of-type {\n",
       "        vertical-align: middle;\n",
       "    }\n",
       "\n",
       "    .dataframe tbody tr th {\n",
       "        vertical-align: top;\n",
       "    }\n",
       "\n",
       "    .dataframe thead th {\n",
       "        text-align: right;\n",
       "    }\n",
       "</style>\n",
       "<table border=\"1\" class=\"dataframe\">\n",
       "  <thead>\n",
       "    <tr style=\"text-align: right;\">\n",
       "      <th></th>\n",
       "      <th>total_images</th>\n",
       "      <th>last_price</th>\n",
       "      <th>total_area</th>\n",
       "      <th>first_day_exposition</th>\n",
       "      <th>rooms</th>\n",
       "      <th>ceiling_height</th>\n",
       "      <th>floors_total</th>\n",
       "      <th>living_area</th>\n",
       "      <th>floor</th>\n",
       "      <th>is_apartment</th>\n",
       "      <th>...</th>\n",
       "      <th>balcony</th>\n",
       "      <th>locality_name</th>\n",
       "      <th>airports_nearest</th>\n",
       "      <th>cityCenters_nearest</th>\n",
       "      <th>parks_around3000</th>\n",
       "      <th>parks_nearest</th>\n",
       "      <th>ponds_around3000</th>\n",
       "      <th>ponds_nearest</th>\n",
       "      <th>days_exposition</th>\n",
       "      <th>area_in_city</th>\n",
       "    </tr>\n",
       "  </thead>\n",
       "  <tbody>\n",
       "    <tr>\n",
       "      <td>0</td>\n",
       "      <td>20</td>\n",
       "      <td>13000000.0</td>\n",
       "      <td>108.00</td>\n",
       "      <td>2019-03-07T00:00:00</td>\n",
       "      <td>3</td>\n",
       "      <td>2.700000</td>\n",
       "      <td>16.0</td>\n",
       "      <td>51.00</td>\n",
       "      <td>8</td>\n",
       "      <td>False</td>\n",
       "      <td>...</td>\n",
       "      <td>0.0</td>\n",
       "      <td>Санкт-Петербург</td>\n",
       "      <td>18863.0</td>\n",
       "      <td>16028.0</td>\n",
       "      <td>1.0</td>\n",
       "      <td>482.0</td>\n",
       "      <td>2.0</td>\n",
       "      <td>755.0</td>\n",
       "      <td>NaN</td>\n",
       "      <td>область</td>\n",
       "    </tr>\n",
       "    <tr>\n",
       "      <td>1</td>\n",
       "      <td>7</td>\n",
       "      <td>3350000.0</td>\n",
       "      <td>40.40</td>\n",
       "      <td>2018-12-04T00:00:00</td>\n",
       "      <td>1</td>\n",
       "      <td>2.688629</td>\n",
       "      <td>11.0</td>\n",
       "      <td>18.60</td>\n",
       "      <td>1</td>\n",
       "      <td>False</td>\n",
       "      <td>...</td>\n",
       "      <td>2.0</td>\n",
       "      <td>посёлок Шушары</td>\n",
       "      <td>12817.0</td>\n",
       "      <td>18603.0</td>\n",
       "      <td>0.0</td>\n",
       "      <td>NaN</td>\n",
       "      <td>0.0</td>\n",
       "      <td>NaN</td>\n",
       "      <td>81.0</td>\n",
       "      <td>область</td>\n",
       "    </tr>\n",
       "    <tr>\n",
       "      <td>2</td>\n",
       "      <td>10</td>\n",
       "      <td>5196000.0</td>\n",
       "      <td>56.00</td>\n",
       "      <td>2015-08-20T00:00:00</td>\n",
       "      <td>2</td>\n",
       "      <td>2.730299</td>\n",
       "      <td>5.0</td>\n",
       "      <td>34.30</td>\n",
       "      <td>4</td>\n",
       "      <td>False</td>\n",
       "      <td>...</td>\n",
       "      <td>0.0</td>\n",
       "      <td>Санкт-Петербург</td>\n",
       "      <td>21741.0</td>\n",
       "      <td>13933.0</td>\n",
       "      <td>1.0</td>\n",
       "      <td>90.0</td>\n",
       "      <td>2.0</td>\n",
       "      <td>574.0</td>\n",
       "      <td>558.0</td>\n",
       "      <td>город</td>\n",
       "    </tr>\n",
       "    <tr>\n",
       "      <td>3</td>\n",
       "      <td>0</td>\n",
       "      <td>64900000.0</td>\n",
       "      <td>159.00</td>\n",
       "      <td>2015-07-24T00:00:00</td>\n",
       "      <td>3</td>\n",
       "      <td>3.124220</td>\n",
       "      <td>14.0</td>\n",
       "      <td>30.00</td>\n",
       "      <td>9</td>\n",
       "      <td>False</td>\n",
       "      <td>...</td>\n",
       "      <td>0.0</td>\n",
       "      <td>Санкт-Петербург</td>\n",
       "      <td>28098.0</td>\n",
       "      <td>6800.0</td>\n",
       "      <td>2.0</td>\n",
       "      <td>84.0</td>\n",
       "      <td>3.0</td>\n",
       "      <td>234.0</td>\n",
       "      <td>424.0</td>\n",
       "      <td>центральный район</td>\n",
       "    </tr>\n",
       "    <tr>\n",
       "      <td>4</td>\n",
       "      <td>2</td>\n",
       "      <td>10000000.0</td>\n",
       "      <td>100.00</td>\n",
       "      <td>2018-06-19T00:00:00</td>\n",
       "      <td>2</td>\n",
       "      <td>3.030000</td>\n",
       "      <td>14.0</td>\n",
       "      <td>32.00</td>\n",
       "      <td>13</td>\n",
       "      <td>False</td>\n",
       "      <td>...</td>\n",
       "      <td>0.0</td>\n",
       "      <td>Санкт-Петербург</td>\n",
       "      <td>31856.0</td>\n",
       "      <td>8098.0</td>\n",
       "      <td>2.0</td>\n",
       "      <td>112.0</td>\n",
       "      <td>1.0</td>\n",
       "      <td>48.0</td>\n",
       "      <td>121.0</td>\n",
       "      <td>город</td>\n",
       "    </tr>\n",
       "    <tr>\n",
       "      <td>5</td>\n",
       "      <td>10</td>\n",
       "      <td>2890000.0</td>\n",
       "      <td>30.40</td>\n",
       "      <td>2018-09-10T00:00:00</td>\n",
       "      <td>1</td>\n",
       "      <td>2.688629</td>\n",
       "      <td>12.0</td>\n",
       "      <td>14.40</td>\n",
       "      <td>5</td>\n",
       "      <td>False</td>\n",
       "      <td>...</td>\n",
       "      <td>0.0</td>\n",
       "      <td>городской посёлок Янино-1</td>\n",
       "      <td>NaN</td>\n",
       "      <td>NaN</td>\n",
       "      <td>NaN</td>\n",
       "      <td>NaN</td>\n",
       "      <td>NaN</td>\n",
       "      <td>NaN</td>\n",
       "      <td>55.0</td>\n",
       "      <td>область</td>\n",
       "    </tr>\n",
       "    <tr>\n",
       "      <td>6</td>\n",
       "      <td>6</td>\n",
       "      <td>3700000.0</td>\n",
       "      <td>37.30</td>\n",
       "      <td>2017-11-02T00:00:00</td>\n",
       "      <td>1</td>\n",
       "      <td>2.688629</td>\n",
       "      <td>26.0</td>\n",
       "      <td>10.60</td>\n",
       "      <td>6</td>\n",
       "      <td>False</td>\n",
       "      <td>...</td>\n",
       "      <td>1.0</td>\n",
       "      <td>посёлок Парголово</td>\n",
       "      <td>52996.0</td>\n",
       "      <td>19143.0</td>\n",
       "      <td>0.0</td>\n",
       "      <td>NaN</td>\n",
       "      <td>0.0</td>\n",
       "      <td>NaN</td>\n",
       "      <td>155.0</td>\n",
       "      <td>область</td>\n",
       "    </tr>\n",
       "    <tr>\n",
       "      <td>7</td>\n",
       "      <td>5</td>\n",
       "      <td>7915000.0</td>\n",
       "      <td>71.60</td>\n",
       "      <td>2019-04-18T00:00:00</td>\n",
       "      <td>2</td>\n",
       "      <td>2.730299</td>\n",
       "      <td>24.0</td>\n",
       "      <td>30.00</td>\n",
       "      <td>22</td>\n",
       "      <td>False</td>\n",
       "      <td>...</td>\n",
       "      <td>2.0</td>\n",
       "      <td>Санкт-Петербург</td>\n",
       "      <td>23982.0</td>\n",
       "      <td>11634.0</td>\n",
       "      <td>0.0</td>\n",
       "      <td>NaN</td>\n",
       "      <td>0.0</td>\n",
       "      <td>NaN</td>\n",
       "      <td>NaN</td>\n",
       "      <td>город</td>\n",
       "    </tr>\n",
       "    <tr>\n",
       "      <td>8</td>\n",
       "      <td>20</td>\n",
       "      <td>2900000.0</td>\n",
       "      <td>33.16</td>\n",
       "      <td>2018-05-23T00:00:00</td>\n",
       "      <td>1</td>\n",
       "      <td>2.688629</td>\n",
       "      <td>27.0</td>\n",
       "      <td>15.43</td>\n",
       "      <td>26</td>\n",
       "      <td>False</td>\n",
       "      <td>...</td>\n",
       "      <td>0.0</td>\n",
       "      <td>посёлок Мурино</td>\n",
       "      <td>NaN</td>\n",
       "      <td>NaN</td>\n",
       "      <td>NaN</td>\n",
       "      <td>NaN</td>\n",
       "      <td>NaN</td>\n",
       "      <td>NaN</td>\n",
       "      <td>189.0</td>\n",
       "      <td>область</td>\n",
       "    </tr>\n",
       "    <tr>\n",
       "      <td>9</td>\n",
       "      <td>18</td>\n",
       "      <td>5400000.0</td>\n",
       "      <td>61.00</td>\n",
       "      <td>2017-02-26T00:00:00</td>\n",
       "      <td>3</td>\n",
       "      <td>2.500000</td>\n",
       "      <td>9.0</td>\n",
       "      <td>43.60</td>\n",
       "      <td>7</td>\n",
       "      <td>False</td>\n",
       "      <td>...</td>\n",
       "      <td>2.0</td>\n",
       "      <td>Санкт-Петербург</td>\n",
       "      <td>50898.0</td>\n",
       "      <td>15008.0</td>\n",
       "      <td>0.0</td>\n",
       "      <td>NaN</td>\n",
       "      <td>0.0</td>\n",
       "      <td>NaN</td>\n",
       "      <td>289.0</td>\n",
       "      <td>область</td>\n",
       "    </tr>\n",
       "  </tbody>\n",
       "</table>\n",
       "<p>10 rows × 23 columns</p>\n",
       "</div>"
      ],
      "text/plain": [
       "   total_images  last_price  total_area first_day_exposition  rooms  \\\n",
       "0            20  13000000.0      108.00  2019-03-07T00:00:00      3   \n",
       "1             7   3350000.0       40.40  2018-12-04T00:00:00      1   \n",
       "2            10   5196000.0       56.00  2015-08-20T00:00:00      2   \n",
       "3             0  64900000.0      159.00  2015-07-24T00:00:00      3   \n",
       "4             2  10000000.0      100.00  2018-06-19T00:00:00      2   \n",
       "5            10   2890000.0       30.40  2018-09-10T00:00:00      1   \n",
       "6             6   3700000.0       37.30  2017-11-02T00:00:00      1   \n",
       "7             5   7915000.0       71.60  2019-04-18T00:00:00      2   \n",
       "8            20   2900000.0       33.16  2018-05-23T00:00:00      1   \n",
       "9            18   5400000.0       61.00  2017-02-26T00:00:00      3   \n",
       "\n",
       "   ceiling_height  floors_total  living_area  floor  is_apartment  ...  \\\n",
       "0        2.700000          16.0        51.00      8         False  ...   \n",
       "1        2.688629          11.0        18.60      1         False  ...   \n",
       "2        2.730299           5.0        34.30      4         False  ...   \n",
       "3        3.124220          14.0        30.00      9         False  ...   \n",
       "4        3.030000          14.0        32.00     13         False  ...   \n",
       "5        2.688629          12.0        14.40      5         False  ...   \n",
       "6        2.688629          26.0        10.60      6         False  ...   \n",
       "7        2.730299          24.0        30.00     22         False  ...   \n",
       "8        2.688629          27.0        15.43     26         False  ...   \n",
       "9        2.500000           9.0        43.60      7         False  ...   \n",
       "\n",
       "   balcony              locality_name  airports_nearest  cityCenters_nearest  \\\n",
       "0      0.0            Санкт-Петербург           18863.0              16028.0   \n",
       "1      2.0             посёлок Шушары           12817.0              18603.0   \n",
       "2      0.0            Санкт-Петербург           21741.0              13933.0   \n",
       "3      0.0            Санкт-Петербург           28098.0               6800.0   \n",
       "4      0.0            Санкт-Петербург           31856.0               8098.0   \n",
       "5      0.0  городской посёлок Янино-1               NaN                  NaN   \n",
       "6      1.0          посёлок Парголово           52996.0              19143.0   \n",
       "7      2.0            Санкт-Петербург           23982.0              11634.0   \n",
       "8      0.0             посёлок Мурино               NaN                  NaN   \n",
       "9      2.0            Санкт-Петербург           50898.0              15008.0   \n",
       "\n",
       "  parks_around3000  parks_nearest  ponds_around3000  ponds_nearest  \\\n",
       "0              1.0          482.0               2.0          755.0   \n",
       "1              0.0            NaN               0.0            NaN   \n",
       "2              1.0           90.0               2.0          574.0   \n",
       "3              2.0           84.0               3.0          234.0   \n",
       "4              2.0          112.0               1.0           48.0   \n",
       "5              NaN            NaN               NaN            NaN   \n",
       "6              0.0            NaN               0.0            NaN   \n",
       "7              0.0            NaN               0.0            NaN   \n",
       "8              NaN            NaN               NaN            NaN   \n",
       "9              0.0            NaN               0.0            NaN   \n",
       "\n",
       "   days_exposition       area_in_city  \n",
       "0              NaN            область  \n",
       "1             81.0            область  \n",
       "2            558.0              город  \n",
       "3            424.0  центральный район  \n",
       "4            121.0              город  \n",
       "5             55.0            область  \n",
       "6            155.0            область  \n",
       "7              NaN              город  \n",
       "8            189.0            область  \n",
       "9            289.0            область  \n",
       "\n",
       "[10 rows x 23 columns]"
      ]
     },
     "execution_count": 12,
     "metadata": {},
     "output_type": "execute_result"
    }
   ],
   "source": [
    "data.head(10)"
   ]
  },
  {
   "cell_type": "code",
   "execution_count": 55,
   "metadata": {},
   "outputs": [
    {
     "data": {
      "image/png": "[encoded data removed]",
      "text/plain": [
       "<Figure size 720x720 with 2 Axes>"
      ]
     },
     "metadata": {
      "needs_background": "light"
     },
     "output_type": "display_data"
    }
   ],
   "source": [
    "# Код ревьюера\n",
    "\n",
    "from pandas.plotting import register_matplotlib_converters\n",
    "register_matplotlib_converters()\n",
    "\n",
    "data['first_day_exposition'] = pd.to_datetime(data['first_day_exposition'])\n",
    "\n",
    "fig, axes = plt.subplots(2,1,figsize=(10,10))\n",
    "data[data['days_exposition'].isna()]['first_day_exposition'].hist(ax=axes[0], bins=30, density=True)\n",
    "data[data['days_exposition'].notna()]['first_day_exposition'].hist(ax=axes[1], bins=30, density=True)\n",
    "\n",
    "axes[0].set_title('Распределение дат публикаций объявлений для строк с пропусками в `days_exposition`')\n",
    "axes[1].set_title('Распределение дат публикаций объявлений для строк без пропусков в `days_exposition`')\n",
    "\n",
    "plt.show()"
   ]
  },
  {
   "cell_type": "code",
   "execution_count": 14,
   "metadata": {},
   "outputs": [
    {
     "data": {
      "image/png": "[encoded data removed]",
      "text/plain": [
       "<Figure size 432x720 with 1 Axes>"
      ]
     },
     "metadata": {
      "needs_background": "light"
     },
     "output_type": "display_data"
    }
   ],
   "source": [
    "data.boxplot(['last_price'], figsize=(6,10))\n",
    "plt.ylabel(\"Стоимость\", fontsize=9)\n",
    "plt.show()\n",
    "#Большой хвост у боксплота, удалим вбросы"
   ]
  },
  {
   "cell_type": "code",
   "execution_count": 15,
   "metadata": {},
   "outputs": [],
   "source": [
    "data.drop(data[data.last_price > 20000000].index, inplace=True)\n",
    "data.drop(data[data.last_price < 500000].index, inplace=True)\n",
    "#удалил стоимость квартир выше 20млн и ниже 500 тысяч рублей"
   ]
  },
  {
   "cell_type": "code",
   "execution_count": 16,
   "metadata": {},
   "outputs": [
    {
     "data": {
      "image/png": "[encoded data removed]",
      "text/plain": [
       "<Figure size 360x576 with 1 Axes>"
      ]
     },
     "metadata": {
      "needs_background": "light"
     },
     "output_type": "display_data"
    }
   ],
   "source": [
    "data.boxplot(['last_price'], figsize=(5,8))\n",
    "plt.ylabel(\"Стоимость\", fontsize=6)\n",
    "plt.show()\n",
    "#более презентативная выборка с медианой в 4 млн рублей"
   ]
  },
  {
   "cell_type": "code",
   "execution_count": 17,
   "metadata": {},
   "outputs": [
    {
     "data": {
      "image/png": "[encoded data removed]",
      "text/plain": [
       "<Figure size 288x432 with 1 Axes>"
      ]
     },
     "metadata": {
      "needs_background": "light"
     },
     "output_type": "display_data"
    }
   ],
   "source": [
    "data.boxplot(['total_area'], figsize=(4,6))\n",
    "plt.ylabel(\"Площадь квартир\", fontsize=15)\n",
    "plt.show()\n",
    "# Большие хвосы у боксплота, удалим аномальные результаты"
   ]
  },
  {
   "cell_type": "code",
   "execution_count": 18,
   "metadata": {},
   "outputs": [],
   "source": [
    "data.drop(data[data.total_area > 150].index, inplace=True)\n",
    "data.drop(data[data.total_area < 20].index, inplace=True)"
   ]
  },
  {
   "cell_type": "code",
   "execution_count": 19,
   "metadata": {},
   "outputs": [
    {
     "data": {
      "image/png": "[encoded data removed]",
      "text/plain": [
       "<Figure size 216x360 with 1 Axes>"
      ]
     },
     "metadata": {
      "needs_background": "light"
     },
     "output_type": "display_data"
    }
   ],
   "source": [
    "data.boxplot(['total_area'], figsize=(3,5))\n",
    "plt.ylabel(\"Площадь квартир\", fontsize=10)\n",
    "plt.show()\n",
    "#боксплот с медианой в 50 кв метров"
   ]
  },
  {
   "cell_type": "code",
   "execution_count": 20,
   "metadata": {},
   "outputs": [
    {
     "name": "stdout",
     "output_type": "stream",
     "text": [
      "<class 'pandas.core.frame.DataFrame'>\n",
      "Int64Index: 22714 entries, 0 to 23698\n",
      "Data columns (total 23 columns):\n",
      "total_images            22714 non-null int64\n",
      "last_price              22714 non-null float64\n",
      "total_area              22714 non-null float64\n",
      "first_day_exposition    22714 non-null datetime64[ns]\n",
      "rooms                   22714 non-null int64\n",
      "ceiling_height          22714 non-null float64\n",
      "floors_total            22714 non-null float64\n",
      "living_area             22714 non-null float64\n",
      "floor                   22714 non-null int64\n",
      "is_apartment            22714 non-null bool\n",
      "studio                  22714 non-null bool\n",
      "open_plan               22714 non-null bool\n",
      "kitchen_area            22714 non-null float64\n",
      "balcony                 22714 non-null float64\n",
      "locality_name           22714 non-null object\n",
      "airports_nearest        17229 non-null float64\n",
      "cityCenters_nearest     17246 non-null float64\n",
      "parks_around3000        17247 non-null float64\n",
      "parks_nearest           7438 non-null float64\n",
      "ponds_around3000        17247 non-null float64\n",
      "ponds_nearest           8438 non-null float64\n",
      "days_exposition         19775 non-null float64\n",
      "area_in_city            22714 non-null object\n",
      "dtypes: bool(3), datetime64[ns](1), float64(14), int64(3), object(2)\n",
      "memory usage: 3.7+ MB\n"
     ]
    }
   ],
   "source": [
    "data.info() #оставшиеся пропуски в столбцах не учавствуют в анализе, поэтому их можно оставить "
   ]
  },
  {
   "cell_type": "code",
   "execution_count": 21,
   "metadata": {
    "scrolled": true
   },
   "outputs": [],
   "source": [
    "data['last_price'] = data['last_price'].astype(int)  \n",
    "data['floors_total'] = data['floors_total'].astype(float)\n",
    "data['floors_total'] = data['floors_total'].astype(int)\n",
    "data['balcony']=data['balcony'].astype(float)\n",
    "data['balcony']=data['balcony'].astype(int)  \n",
    "data['first_day_exposition'] = pd.to_datetime(data['first_day_exposition'], format='%Y-%m-%dT%H:%M:%S') "
   ]
  },
  {
   "cell_type": "markdown",
   "metadata": {},
   "source": [
    "*заменяем типы данных на целоисчисляемые и меняем формат столбца на формат даты*"
   ]
  },
  {
   "cell_type": "code",
   "execution_count": 22,
   "metadata": {},
   "outputs": [
    {
     "name": "stdout",
     "output_type": "stream",
     "text": [
      "<class 'pandas.core.frame.DataFrame'>\n",
      "Int64Index: 22714 entries, 0 to 23698\n",
      "Data columns (total 23 columns):\n",
      "total_images            22714 non-null int64\n",
      "last_price              22714 non-null int64\n",
      "total_area              22714 non-null float64\n",
      "first_day_exposition    22714 non-null datetime64[ns]\n",
      "rooms                   22714 non-null int64\n",
      "ceiling_height          22714 non-null float64\n",
      "floors_total            22714 non-null int64\n",
      "living_area             22714 non-null float64\n",
      "floor                   22714 non-null int64\n",
      "is_apartment            22714 non-null bool\n",
      "studio                  22714 non-null bool\n",
      "open_plan               22714 non-null bool\n",
      "kitchen_area            22714 non-null float64\n",
      "balcony                 22714 non-null int64\n",
      "locality_name           22714 non-null object\n",
      "airports_nearest        17229 non-null float64\n",
      "cityCenters_nearest     17246 non-null float64\n",
      "parks_around3000        17247 non-null float64\n",
      "parks_nearest           7438 non-null float64\n",
      "ponds_around3000        17247 non-null float64\n",
      "ponds_nearest           8438 non-null float64\n",
      "days_exposition         19775 non-null float64\n",
      "area_in_city            22714 non-null object\n",
      "dtypes: bool(3), datetime64[ns](1), float64(11), int64(6), object(2)\n",
      "memory usage: 3.7+ MB\n"
     ]
    }
   ],
   "source": [
    "data.info() "
   ]
  },
  {
   "cell_type": "markdown",
   "metadata": {},
   "source": [
    "*Вывод: подготовил таблицу к анализу, заменил пропуски и перевел столбцы в верный тип данных.*"
   ]
  },
  {
   "cell_type": "markdown",
   "metadata": {},
   "source": [
    "## Расчёты и добавление результатов в таблицу"
   ]
  },
  {
   "cell_type": "code",
   "execution_count": 23,
   "metadata": {},
   "outputs": [],
   "source": [
    "data['price_for_metr'] = data['last_price'] / data['total_area'] #находим стоимость одного квадратного метра и создаем новую колонку"
   ]
  },
  {
   "cell_type": "code",
   "execution_count": 24,
   "metadata": {},
   "outputs": [],
   "source": [
    "data['weekday'] = data['first_day_exposition'].dt.weekday # создаем колонки отдельно для дня, месяца и года публикации обьявления\n",
    "data['month'] = data['first_day_exposition'].dt.month\n",
    "data['year'] = data['first_day_exposition'].dt.year"
   ]
  },
  {
   "cell_type": "code",
   "execution_count": 25,
   "metadata": {},
   "outputs": [],
   "source": [
    "data['living_to_total'] = data.living_area / data.total_area #создаем 2 колонки с отношением жилого и кухонного помещения к жилой\n",
    "data['kitchen_to_total'] = data.kitchen_area / data.total_area"
   ]
  },
  {
   "cell_type": "code",
   "execution_count": 26,
   "metadata": {},
   "outputs": [
    {
     "data": {
      "text/plain": [
       "другой       16737\n",
       "последний     3134\n",
       "первый        2843\n",
       "Name: floor_category, dtype: int64"
      ]
     },
     "execution_count": 26,
     "metadata": {},
     "output_type": "execute_result"
    }
   ],
   "source": [
    "def find_floor(row):\n",
    "    if row['floor'] == 1:\n",
    "        return 'первый'\n",
    "    elif row['floor'] == row['floors_total']:\n",
    "        return 'последний'\n",
    "    else:\n",
    "        return 'другой'\n",
    "data['floor_category'] = data.apply(find_floor, axis=1)\n",
    "data['floor_category'].value_counts()"
   ]
  },
  {
   "cell_type": "markdown",
   "metadata": {},
   "source": [
    "*Вывод вычислил стоимость одного квадратного метра, соотношение кухни и жилого помещения к общей, добавил новые колонки с днями, месяцем, годом, а также разбил этажи на первый, последний и другой*"
   ]
  },
  {
   "cell_type": "markdown",
   "metadata": {},
   "source": [
    "## Исследовательский анализ данных"
   ]
  },
  {
   "cell_type": "markdown",
   "metadata": {},
   "source": [
    "4.1 Строим гистограммы по колонкам площадь, цена, число комнат, высота потолков и срок продажи жилья"
   ]
  },
  {
   "cell_type": "code",
   "execution_count": 27,
   "metadata": {},
   "outputs": [
    {
     "data": {
      "text/plain": [
       "<function matplotlib.pyplot.show(*args, **kw)>"
      ]
     },
     "execution_count": 27,
     "metadata": {},
     "output_type": "execute_result"
    },
    {
     "data": {
      "image/png": "[encoded data removed]",
      "text/plain": [
       "<Figure size 432x288 with 1 Axes>"
      ]
     },
     "metadata": {
      "needs_background": "light"
     },
     "output_type": "display_data"
    }
   ],
   "source": [
    "data['last_price'].hist(bins=100,range=(1000000,15000000))\n",
    "plt.title(\"Стоимость жилья\")\n",
    "plt.xlabel(\"цена в миллионах\")\n",
    "plt.show"
   ]
  },
  {
   "cell_type": "code",
   "execution_count": 28,
   "metadata": {},
   "outputs": [
    {
     "data": {
      "text/plain": [
       "<function matplotlib.pyplot.show(*args, **kw)>"
      ]
     },
     "execution_count": 28,
     "metadata": {},
     "output_type": "execute_result"
    },
    {
     "data": {
      "image/png": "[encoded data removed]",
      "text/plain": [
       "<Figure size 432x288 with 1 Axes>"
      ]
     },
     "metadata": {
      "needs_background": "light"
     },
     "output_type": "display_data"
    }
   ],
   "source": [
    "data['total_area'].hist(bins=100,range=(0,200))\n",
    "plt.title(\"Площадь жилья\")\n",
    "plt.xlabel(\"площадь в квадратных метрах\")\n",
    "plt.show"
   ]
  },
  {
   "cell_type": "code",
   "execution_count": 29,
   "metadata": {},
   "outputs": [
    {
     "data": {
      "text/plain": [
       "<function matplotlib.pyplot.show(*args, **kw)>"
      ]
     },
     "execution_count": 29,
     "metadata": {},
     "output_type": "execute_result"
    },
    {
     "data": {
      "image/png": "[encoded data removed]",
      "text/plain": [
       "<Figure size 432x288 with 1 Axes>"
      ]
     },
     "metadata": {
      "needs_background": "light"
     },
     "output_type": "display_data"
    }
   ],
   "source": [
    "data['rooms'].hist(bins=50,range=(0,7))\n",
    "plt.title(\"Количество комнат\")\n",
    "plt.show"
   ]
  },
  {
   "cell_type": "code",
   "execution_count": 30,
   "metadata": {},
   "outputs": [
    {
     "data": {
      "text/plain": [
       "<function matplotlib.pyplot.show(*args, **kw)>"
      ]
     },
     "execution_count": 30,
     "metadata": {},
     "output_type": "execute_result"
    },
    {
     "data": {
      "image/png": "[encoded data removed]",
      "text/plain": [
       "<Figure size 432x288 with 1 Axes>"
      ]
     },
     "metadata": {
      "needs_background": "light"
     },
     "output_type": "display_data"
    }
   ],
   "source": [
    "data['ceiling_height'].hist(bins=100,range=(2,4))\n",
    "plt.title(\"Высота потолков\")\n",
    "plt.xlabel(\"высота в метрах\")\n",
    "plt.show"
   ]
  },
  {
   "cell_type": "code",
   "execution_count": 31,
   "metadata": {},
   "outputs": [
    {
     "data": {
      "text/plain": [
       "<function matplotlib.pyplot.show(*args, **kw)>"
      ]
     },
     "execution_count": 31,
     "metadata": {},
     "output_type": "execute_result"
    },
    {
     "data": {
      "image/png": "[encoded data removed]",
      "text/plain": [
       "<Figure size 432x288 with 1 Axes>"
      ]
     },
     "metadata": {
      "needs_background": "light"
     },
     "output_type": "display_data"
    }
   ],
   "source": [
    "data['days_exposition'].hist(bins=30,range=(0,1500))\n",
    "plt.title(\"Количество дней до продажи\")\n",
    "plt.show"
   ]
  },
  {
   "cell_type": "markdown",
   "metadata": {},
   "source": [
    "выводы по графикам:\n",
    "* *пик цены примерно на 4 млн рублей*\n",
    "* *в колонке с площадью жилья, пик приходится на отметку примерно 45 кв. метров*\n",
    "* *в колонке с количеством комнат, лидируют примерно с одинаковыми результатами одно и двухкомнатные квартиры*\n",
    "* *обычная высота потолков состовляет 2.65, что подтверждается на данном графике*\n",
    "* *пик продаж квартир приходится на 90-100 дней с момента публикации, что также вполне сответствует логике*"
   ]
  },
  {
   "cell_type": "code",
   "execution_count": 32,
   "metadata": {},
   "outputs": [
    {
     "data": {
      "text/plain": [
       "count    19775.000000\n",
       "mean       177.129001\n",
       "std        215.955528\n",
       "min          1.000000\n",
       "25%         44.000000\n",
       "50%         93.000000\n",
       "75%        225.000000\n",
       "max       1580.000000\n",
       "Name: days_exposition, dtype: float64"
      ]
     },
     "execution_count": 32,
     "metadata": {},
     "output_type": "execute_result"
    }
   ],
   "source": [
    "data['days_exposition'].describe() #среднее и медиана очень сильно отличаются, что говорит о больших вбросах"
   ]
  },
  {
   "cell_type": "code",
   "execution_count": 33,
   "metadata": {},
   "outputs": [
    {
     "data": {
      "text/plain": [
       "18843    1580.0\n",
       "9553     1553.0\n",
       "1885     1513.0\n",
       "20969    1512.0\n",
       "6691     1512.0\n",
       "14093    1497.0\n",
       "15313    1489.0\n",
       "19123    1485.0\n",
       "11955    1484.0\n",
       "4736     1477.0\n",
       "Name: days_exposition, dtype: float64"
      ]
     },
     "execution_count": 33,
     "metadata": {},
     "output_type": "execute_result"
    }
   ],
   "source": [
    "data['days_exposition'].sort_values(ascending=False).head(10) #много строк со сроком продажи больше 4 лет, что наврятли является правдой, остсортируем колонку, избавимся от вбросов и снова построим гистограмму"
   ]
  },
  {
   "cell_type": "code",
   "execution_count": 34,
   "metadata": {},
   "outputs": [
    {
     "data": {
      "text/plain": [
       "<function matplotlib.pyplot.show(*args, **kw)>"
      ]
     },
     "execution_count": 34,
     "metadata": {},
     "output_type": "execute_result"
    },
    {
     "data": {
      "image/png": "[encoded data removed]",
      "text/plain": [
       "<Figure size 432x288 with 1 Axes>"
      ]
     },
     "metadata": {
      "needs_background": "light"
     },
     "output_type": "display_data"
    }
   ],
   "source": [
    "days_exposition_true = data.query('days_exposition<365')\n",
    "days_exposition_true['days_exposition'].hist(bins=30,range=(0,365))\n",
    "plt.title(\"Среднее время продажи квартиры\")\n",
    "\n",
    "plt.show"
   ]
  },
  {
   "cell_type": "markdown",
   "metadata": {},
   "source": [
    "*быстрыми продажами можно считать все значения которые лежат до второго пика в 45 дней, все что после 100 дней уже можно считать долгими продажами*"
   ]
  },
  {
   "cell_type": "markdown",
   "metadata": {},
   "source": [
    "**4.2 Факторы зависимости стоимости квартиры.   \n",
    "Какие факторы больше всего влияют на стоимость квартиры? Изучите, зависит ли цена от площади, числа комнат, удалённости от центра. Изучите зависимость цены от того, на каком этаже расположена квартира: первом, последнем или другом. Также изучите зависимость от даты размещения: дня недели, месяца и года.**"
   ]
  },
  {
   "cell_type": "code",
   "execution_count": 35,
   "metadata": {},
   "outputs": [
    {
     "data": {
      "text/html": [
       "<div>\n",
       "<style scoped>\n",
       "    .dataframe tbody tr th:only-of-type {\n",
       "        vertical-align: middle;\n",
       "    }\n",
       "\n",
       "    .dataframe tbody tr th {\n",
       "        vertical-align: top;\n",
       "    }\n",
       "\n",
       "    .dataframe thead th {\n",
       "        text-align: right;\n",
       "    }\n",
       "</style>\n",
       "<table border=\"1\" class=\"dataframe\">\n",
       "  <thead>\n",
       "    <tr style=\"text-align: right;\">\n",
       "      <th></th>\n",
       "      <th>last_price</th>\n",
       "      <th>total_area</th>\n",
       "      <th>cityCenters_nearest</th>\n",
       "      <th>rooms</th>\n",
       "    </tr>\n",
       "  </thead>\n",
       "  <tbody>\n",
       "    <tr>\n",
       "      <td>last_price</td>\n",
       "      <td>1.000000</td>\n",
       "      <td>0.761628</td>\n",
       "      <td>-0.358579</td>\n",
       "      <td>0.476873</td>\n",
       "    </tr>\n",
       "    <tr>\n",
       "      <td>total_area</td>\n",
       "      <td>0.761628</td>\n",
       "      <td>1.000000</td>\n",
       "      <td>-0.197900</td>\n",
       "      <td>0.797405</td>\n",
       "    </tr>\n",
       "    <tr>\n",
       "      <td>cityCenters_nearest</td>\n",
       "      <td>-0.358579</td>\n",
       "      <td>-0.197900</td>\n",
       "      <td>1.000000</td>\n",
       "      <td>-0.127887</td>\n",
       "    </tr>\n",
       "    <tr>\n",
       "      <td>rooms</td>\n",
       "      <td>0.476873</td>\n",
       "      <td>0.797405</td>\n",
       "      <td>-0.127887</td>\n",
       "      <td>1.000000</td>\n",
       "    </tr>\n",
       "  </tbody>\n",
       "</table>\n",
       "</div>"
      ],
      "text/plain": [
       "                     last_price  total_area  cityCenters_nearest     rooms\n",
       "last_price             1.000000    0.761628            -0.358579  0.476873\n",
       "total_area             0.761628    1.000000            -0.197900  0.797405\n",
       "cityCenters_nearest   -0.358579   -0.197900             1.000000 -0.127887\n",
       "rooms                  0.476873    0.797405            -0.127887  1.000000"
      ]
     },
     "execution_count": 35,
     "metadata": {},
     "output_type": "execute_result"
    }
   ],
   "source": [
    "data[['last_price','total_area','cityCenters_nearest','rooms']].corr()"
   ]
  },
  {
   "cell_type": "code",
   "execution_count": 36,
   "metadata": {},
   "outputs": [
    {
     "data": {
      "text/plain": [
       "<function matplotlib.pyplot.show(*args, **kw)>"
      ]
     },
     "execution_count": 36,
     "metadata": {},
     "output_type": "execute_result"
    },
    {
     "data": {
      "image/png": "[encoded data removed]",
      "text/plain": [
       "<Figure size 1080x360 with 1 Axes>"
      ]
     },
     "metadata": {
      "needs_background": "light"
     },
     "output_type": "display_data"
    },
    {
     "data": {
      "image/png": "[encoded data removed]",
      "text/plain": [
       "<Figure size 432x288 with 1 Axes>"
      ]
     },
     "metadata": {
      "needs_background": "light"
     },
     "output_type": "display_data"
    },
    {
     "data": {
      "image/png": "[encoded data removed]",
      "text/plain": [
       "<Figure size 1080x360 with 1 Axes>"
      ]
     },
     "metadata": {
      "needs_background": "light"
     },
     "output_type": "display_data"
    }
   ],
   "source": [
    "data.plot(x = 'total_area', y = 'last_price',style='o',grid=True, figsize=(15,5))\n",
    "plt.show\n",
    "data.plot(x = 'cityCenters_nearest', y = 'last_price',style='o',grid=True)\n",
    "plt.show\n",
    "data.plot(x = 'rooms', y = 'last_price',style='o',grid=True, figsize=(15,5))\n",
    "plt.show\n"
   ]
  },
  {
   "cell_type": "markdown",
   "metadata": {},
   "source": [
    "*по данным графикам видно, что цена на жилье на прямую зависит от площади квартиры, корреляция 0.653743, с удалением от центра устойчивое снижение цены корреляция -0.20688*"
   ]
  },
  {
   "cell_type": "code",
   "execution_count": 37,
   "metadata": {},
   "outputs": [
    {
     "data": {
      "text/plain": [
       "<function matplotlib.pyplot.show(*args, **kw)>"
      ]
     },
     "execution_count": 37,
     "metadata": {},
     "output_type": "execute_result"
    },
    {
     "data": {
      "image/png": "[encoded data removed]",
      "text/plain": [
       "<Figure size 432x288 with 1 Axes>"
      ]
     },
     "metadata": {
      "needs_background": "light"
     },
     "output_type": "display_data"
    }
   ],
   "source": [
    "data.groupby('weekday')['last_price'].count().plot(x='month',y='last_price',kind='bar')\n",
    "plt.title(\"Количество продаж по дням недели\")\n",
    "plt.show\n"
   ]
  },
  {
   "cell_type": "code",
   "execution_count": 38,
   "metadata": {},
   "outputs": [
    {
     "data": {
      "text/plain": [
       "<function matplotlib.pyplot.show(*args, **kw)>"
      ]
     },
     "execution_count": 38,
     "metadata": {},
     "output_type": "execute_result"
    },
    {
     "data": {
      "image/png": "[encoded data removed]",
      "text/plain": [
       "<Figure size 432x288 with 1 Axes>"
      ]
     },
     "metadata": {
      "needs_background": "light"
     },
     "output_type": "display_data"
    }
   ],
   "source": [
    "data.groupby('month')['last_price'].count().plot(x='month',y='last_price',kind='bar')\n",
    "plt.title(\"Количество продаж по месяцам\")\n",
    "plt.show"
   ]
  },
  {
   "cell_type": "code",
   "execution_count": 39,
   "metadata": {},
   "outputs": [
    {
     "data": {
      "text/plain": [
       "<function matplotlib.pyplot.show(*args, **kw)>"
      ]
     },
     "execution_count": 39,
     "metadata": {},
     "output_type": "execute_result"
    },
    {
     "data": {
      "image/png": "[encoded data removed]",
      "text/plain": [
       "<Figure size 432x288 with 1 Axes>"
      ]
     },
     "metadata": {
      "needs_background": "light"
     },
     "output_type": "display_data"
    }
   ],
   "source": [
    "data.groupby('year')['last_price'].count().plot(x='year',y='last_price',kind='bar')\n",
    "plt.title(\"Количество продаж по годам\")\n",
    "plt.show"
   ]
  },
  {
   "cell_type": "code",
   "execution_count": 40,
   "metadata": {},
   "outputs": [
    {
     "data": {
      "image/png": "[encoded data removed]",
      "text/plain": [
       "<Figure size 432x288 with 1 Axes>"
      ]
     },
     "metadata": {
      "needs_background": "light"
     },
     "output_type": "display_data"
    }
   ],
   "source": [
    "#добавил график зависимотси цены от этажности, по всему региону\n",
    "data.groupby('floor_category')['last_price'].median().plot(x='floor_category',y='last_price',kind='bar')\n",
    "plt.title(\"Этаж\")\n",
    "plt.xlabel(\"Стоимость\")\n",
    "plt.show()"
   ]
  },
  {
   "cell_type": "markdown",
   "metadata": {},
   "source": [
    "* *меньше всего продаж в выходные дни, а самые продуктивные это вторник и четверг*\n",
    "* *в разбивке по месяцам меньше всего продаж в декабре, январе и мае, что наверняка связано с длинными праздничными днями, самые продуктивные месяца это февраль и март*\n",
    "* *в 2014 и 2015 годах маленькие показатели продаж квартир, что связано было с кризисом, а 2017 и 2018 пик продаж*"
   ]
  },
  {
   "cell_type": "code",
   "execution_count": 41,
   "metadata": {},
   "outputs": [
    {
     "data": {
      "text/html": [
       "<div>\n",
       "<style scoped>\n",
       "    .dataframe tbody tr th:only-of-type {\n",
       "        vertical-align: middle;\n",
       "    }\n",
       "\n",
       "    .dataframe tbody tr th {\n",
       "        vertical-align: top;\n",
       "    }\n",
       "\n",
       "    .dataframe thead th {\n",
       "        text-align: right;\n",
       "    }\n",
       "</style>\n",
       "<table border=\"1\" class=\"dataframe\">\n",
       "  <thead>\n",
       "    <tr style=\"text-align: right;\">\n",
       "      <th></th>\n",
       "      <th>count</th>\n",
       "      <th>median</th>\n",
       "    </tr>\n",
       "    <tr>\n",
       "      <th>locality_name</th>\n",
       "      <th></th>\n",
       "      <th></th>\n",
       "    </tr>\n",
       "  </thead>\n",
       "  <tbody>\n",
       "    <tr>\n",
       "      <td>Санкт-Петербург</td>\n",
       "      <td>14847</td>\n",
       "      <td>103669.724771</td>\n",
       "    </tr>\n",
       "    <tr>\n",
       "      <td>посёлок Мурино</td>\n",
       "      <td>522</td>\n",
       "      <td>85878.462169</td>\n",
       "    </tr>\n",
       "    <tr>\n",
       "      <td>посёлок Шушары</td>\n",
       "      <td>439</td>\n",
       "      <td>76829.268293</td>\n",
       "    </tr>\n",
       "    <tr>\n",
       "      <td>Всеволожск</td>\n",
       "      <td>396</td>\n",
       "      <td>65789.473684</td>\n",
       "    </tr>\n",
       "    <tr>\n",
       "      <td>Пушкин</td>\n",
       "      <td>355</td>\n",
       "      <td>99650.349650</td>\n",
       "    </tr>\n",
       "    <tr>\n",
       "      <td>Колпино</td>\n",
       "      <td>337</td>\n",
       "      <td>74722.222222</td>\n",
       "    </tr>\n",
       "    <tr>\n",
       "      <td>посёлок Парголово</td>\n",
       "      <td>326</td>\n",
       "      <td>91780.224134</td>\n",
       "    </tr>\n",
       "    <tr>\n",
       "      <td>Гатчина</td>\n",
       "      <td>307</td>\n",
       "      <td>67796.610169</td>\n",
       "    </tr>\n",
       "    <tr>\n",
       "      <td>деревня Кудрово</td>\n",
       "      <td>299</td>\n",
       "      <td>91860.465116</td>\n",
       "    </tr>\n",
       "    <tr>\n",
       "      <td>Выборг</td>\n",
       "      <td>235</td>\n",
       "      <td>58158.319871</td>\n",
       "    </tr>\n",
       "  </tbody>\n",
       "</table>\n",
       "</div>"
      ],
      "text/plain": [
       "                   count         median\n",
       "locality_name                          \n",
       "Санкт-Петербург    14847  103669.724771\n",
       "посёлок Мурино       522   85878.462169\n",
       "посёлок Шушары       439   76829.268293\n",
       "Всеволожск           396   65789.473684\n",
       "Пушкин               355   99650.349650\n",
       "Колпино              337   74722.222222\n",
       "посёлок Парголово    326   91780.224134\n",
       "Гатчина              307   67796.610169\n",
       "деревня Кудрово      299   91860.465116\n",
       "Выборг               235   58158.319871"
      ]
     },
     "execution_count": 41,
     "metadata": {},
     "output_type": "execute_result"
    }
   ],
   "source": [
    "top_ten_city=data.pivot_table(index='locality_name',values='price_for_metr',aggfunc=('count','median'))\n",
    "top_ten_city.sort_values(by='count',ascending=False).head(10)\n"
   ]
  },
  {
   "cell_type": "markdown",
   "metadata": {},
   "source": [
    "*больше всего обьявлений из Санкт-Петербурга, меньше всего из Выборга*"
   ]
  },
  {
   "cell_type": "code",
   "execution_count": 42,
   "metadata": {},
   "outputs": [],
   "source": [
    "data['city_Centers'] = (data['cityCenters_nearest'] / 1000).round(0)"
   ]
  },
  {
   "cell_type": "code",
   "execution_count": 43,
   "metadata": {},
   "outputs": [],
   "source": [
    "price_to_km = data.query('locality_name==\"Санкт-Петербург\"').pivot_table(index = 'city_Centers',values = 'price_for_metr',aggfunc = 'median')"
   ]
  },
  {
   "cell_type": "code",
   "execution_count": 44,
   "metadata": {},
   "outputs": [
    {
     "data": {
      "text/plain": [
       "<function matplotlib.pyplot.show(*args, **kw)>"
      ]
     },
     "execution_count": 44,
     "metadata": {},
     "output_type": "execute_result"
    },
    {
     "data": {
      "image/png": "[encoded data removed]",
      "text/plain": [
       "<Figure size 1440x576 with 1 Axes>"
      ]
     },
     "metadata": {
      "needs_background": "light"
     },
     "output_type": "display_data"
    }
   ],
   "source": [
    "price_to_km.plot(kind = 'bar',figsize = (20, 8),grid=True)\n",
    "plt.title(\"Расстояние от центра в км\")\n",
    "plt.show"
   ]
  },
  {
   "cell_type": "markdown",
   "metadata": {},
   "source": [
    "*есть снижение цены в пределах 3км, потом рост цен до расстояния в 8км, на мой взгляд это и есть граница центра Санкт-Петербурга*"
   ]
  },
  {
   "cell_type": "code",
   "execution_count": 45,
   "metadata": {},
   "outputs": [],
   "source": [
    "spb_center = data.query('locality_name==\"Санкт-Петербург\" and city_Centers<=8')"
   ]
  },
  {
   "cell_type": "code",
   "execution_count": 46,
   "metadata": {},
   "outputs": [
    {
     "data": {
      "image/png": "[encoded data removed]",
      "text/plain": [
       "<Figure size 720x432 with 1 Axes>"
      ]
     },
     "metadata": {
      "needs_background": "light"
     },
     "output_type": "display_data"
    },
    {
     "data": {
      "image/png": "[encoded data removed]",
      "text/plain": [
       "<Figure size 720x432 with 1 Axes>"
      ]
     },
     "metadata": {
      "needs_background": "light"
     },
     "output_type": "display_data"
    },
    {
     "data": {
      "image/png": "[encoded data removed]",
      "text/plain": [
       "<Figure size 720x432 with 1 Axes>"
      ]
     },
     "metadata": {
      "needs_background": "light"
     },
     "output_type": "display_data"
    },
    {
     "data": {
      "image/png": "[encoded data removed]",
      "text/plain": [
       "<Figure size 720x432 with 1 Axes>"
      ]
     },
     "metadata": {
      "needs_background": "light"
     },
     "output_type": "display_data"
    }
   ],
   "source": [
    "spb_center.plot(y='total_area', kind='hist', bins=50, xlim=(0,300), figsize=(10,6), title='Общая площадь')\n",
    "spb_center.plot(y='last_price', kind='hist', bins=200, xlim=(12190,40000000.0), figsize=(10,6), title='Стоимость')\n",
    "spb_center.plot(y='rooms', kind='hist', bins=10, range=(0, 10), figsize=(10,6), title='Число комнат')\n",
    "spb_center.plot(y='ceiling_height', kind='hist', bins=50, range=(2, 5),  figsize=(10,6), title='Высота потолков')\n",
    "plt.show()"
   ]
  },
  {
   "cell_type": "markdown",
   "metadata": {},
   "source": [
    "* *в центре площадь квартир в среднем 60-80 кв.метров*\n",
    "* *комнат в квартирах в среднем 2-3*\n"
   ]
  },
  {
   "cell_type": "code",
   "execution_count": 47,
   "metadata": {
    "scrolled": true
   },
   "outputs": [
    {
     "data": {
      "text/plain": [
       "<function matplotlib.pyplot.show(*args, **kw)>"
      ]
     },
     "execution_count": 47,
     "metadata": {},
     "output_type": "execute_result"
    },
    {
     "data": {
      "image/png": "[encoded data removed]",
      "text/plain": [
       "<Figure size 1080x360 with 1 Axes>"
      ]
     },
     "metadata": {
      "needs_background": "light"
     },
     "output_type": "display_data"
    },
    {
     "data": {
      "image/png": "[encoded data removed]",
      "text/plain": [
       "<Figure size 432x288 with 1 Axes>"
      ]
     },
     "metadata": {
      "needs_background": "light"
     },
     "output_type": "display_data"
    },
    {
     "data": {
      "image/png": "[encoded data removed]",
      "text/plain": [
       "<Figure size 864x360 with 1 Axes>"
      ]
     },
     "metadata": {
      "needs_background": "light"
     },
     "output_type": "display_data"
    },
    {
     "data": {
      "image/png": "[encoded data removed]",
      "text/plain": [
       "<Figure size 432x288 with 1 Axes>"
      ]
     },
     "metadata": {
      "needs_background": "light"
     },
     "output_type": "display_data"
    }
   ],
   "source": [
    "spb_center.plot(x = 'total_area', y = 'last_price',style='o',grid=True, figsize=(15,5))\n",
    "plt.title(\"Площадь жилья\")\n",
    "plt.xlabel(\"Стоимость\")\n",
    "plt.show\n",
    "spb_center.plot(x = 'cityCenters_nearest', y = 'last_price',style='o',grid=True)\n",
    "plt.title(\"расстояние до центра\")\n",
    "plt.xlabel(\"Стоимость\")\n",
    "plt.show\n",
    "spb_center.plot(x = 'rooms', y = 'last_price',style='o',grid=True, figsize=(12,5))\n",
    "plt.title(\"Количество комнат\")\n",
    "plt.xlabel(\"Стоимость\")\n",
    "plt.show\n",
    "\n",
    "spb_center.plot(x='ceiling_height', y='last_price', style='o', grid=True)\n",
    "plt.title(\"Высота потолков\")\n",
    "plt.xlabel(\"Стоимость\")\n",
    "plt.show\n"
   ]
  },
  {
   "cell_type": "markdown",
   "metadata": {},
   "source": [
    "* *зависимость цены от площади сохраняется, чем больше площадь, тем дороже*\n",
    "* *по расстоянию от центра, цена примерно одинаковая*\n",
    "* *по гистограмме комнаты-цена, видно что в центре преобладают многокомнатные квартиры(от 3 и выше комнат)*"
   ]
  },
  {
   "cell_type": "code",
   "execution_count": 48,
   "metadata": {},
   "outputs": [
    {
     "data": {
      "text/html": [
       "<div>\n",
       "<style scoped>\n",
       "    .dataframe tbody tr th:only-of-type {\n",
       "        vertical-align: middle;\n",
       "    }\n",
       "\n",
       "    .dataframe tbody tr th {\n",
       "        vertical-align: top;\n",
       "    }\n",
       "\n",
       "    .dataframe thead th {\n",
       "        text-align: right;\n",
       "    }\n",
       "</style>\n",
       "<table border=\"1\" class=\"dataframe\">\n",
       "  <thead>\n",
       "    <tr style=\"text-align: right;\">\n",
       "      <th></th>\n",
       "      <th>last_price</th>\n",
       "      <th>total_area</th>\n",
       "      <th>cityCenters_nearest</th>\n",
       "      <th>rooms</th>\n",
       "    </tr>\n",
       "  </thead>\n",
       "  <tbody>\n",
       "    <tr>\n",
       "      <td>last_price</td>\n",
       "      <td>1.000000</td>\n",
       "      <td>0.721117</td>\n",
       "      <td>-0.164609</td>\n",
       "      <td>0.451021</td>\n",
       "    </tr>\n",
       "    <tr>\n",
       "      <td>total_area</td>\n",
       "      <td>0.721117</td>\n",
       "      <td>1.000000</td>\n",
       "      <td>-0.219037</td>\n",
       "      <td>0.792019</td>\n",
       "    </tr>\n",
       "    <tr>\n",
       "      <td>cityCenters_nearest</td>\n",
       "      <td>-0.164609</td>\n",
       "      <td>-0.219037</td>\n",
       "      <td>1.000000</td>\n",
       "      <td>-0.219962</td>\n",
       "    </tr>\n",
       "    <tr>\n",
       "      <td>rooms</td>\n",
       "      <td>0.451021</td>\n",
       "      <td>0.792019</td>\n",
       "      <td>-0.219962</td>\n",
       "      <td>1.000000</td>\n",
       "    </tr>\n",
       "  </tbody>\n",
       "</table>\n",
       "</div>"
      ],
      "text/plain": [
       "                     last_price  total_area  cityCenters_nearest     rooms\n",
       "last_price             1.000000    0.721117            -0.164609  0.451021\n",
       "total_area             0.721117    1.000000            -0.219037  0.792019\n",
       "cityCenters_nearest   -0.164609   -0.219037             1.000000 -0.219962\n",
       "rooms                  0.451021    0.792019            -0.219962  1.000000"
      ]
     },
     "execution_count": 48,
     "metadata": {},
     "output_type": "execute_result"
    }
   ],
   "source": [
    "spb_center[['last_price','total_area','cityCenters_nearest','rooms']].corr()"
   ]
  },
  {
   "cell_type": "markdown",
   "metadata": {},
   "source": [
    "**4.3 Зависимость от этажа, дня, месяца и года продажи квартир**"
   ]
  },
  {
   "cell_type": "code",
   "execution_count": 49,
   "metadata": {},
   "outputs": [
    {
     "data": {
      "image/png": "[encoded data removed]",
      "text/plain": [
       "<Figure size 720x360 with 1 Axes>"
      ]
     },
     "metadata": {
      "needs_background": "light"
     },
     "output_type": "display_data"
    }
   ],
   "source": [
    "floor_in_center = ( spb_center[['floor_category', 'last_price']].groupby('floor_category').median()\n",
    "                      .sort_values('last_price') )\n",
    "plt.figure(figsize=(10,5))\n",
    "plt.bar( floor_in_center.index, floor_in_center['last_price'] )\n",
    "plt.title(\"Этаж\")\n",
    "plt.xlabel(\"Стоимость\")\n",
    "plt.show()"
   ]
  },
  {
   "cell_type": "markdown",
   "metadata": {},
   "source": [
    "*Разница между первым этажом и другими примерно в 1.5 млн рублей*"
   ]
  },
  {
   "cell_type": "code",
   "execution_count": 50,
   "metadata": {},
   "outputs": [
    {
     "data": {
      "image/png": "[encoded data removed]",
      "text/plain": [
       "<Figure size 864x360 with 1 Axes>"
      ]
     },
     "metadata": {
      "needs_background": "light"
     },
     "output_type": "display_data"
    }
   ],
   "source": [
    "weekday_for_center = spb_center[['weekday', 'last_price']].groupby(['weekday']).median().sort_index()\n",
    "weekday_for_center.index = [\"понедельник\", \"вторник\", \"среда\", \"четверг\", \"пятница\", \"суббота\", \"воскресенье\"]\n",
    "plt.figure(figsize=(12,5))\n",
    "plt.plot( weekday_for_center.index, weekday_for_center['last_price'])\n",
    "plt.ylabel(\"Стоимость\")\n",
    "plt.title(\"Стоимость квартиры в зависимости от дня недели\")\n",
    "plt.show()"
   ]
  },
  {
   "cell_type": "code",
   "execution_count": 51,
   "metadata": {},
   "outputs": [
    {
     "data": {
      "image/png": "[encoded data removed]",
      "text/plain": [
       "<Figure size 864x360 with 1 Axes>"
      ]
     },
     "metadata": {
      "needs_background": "light"
     },
     "output_type": "display_data"
    }
   ],
   "source": [
    "month_for_center = spb_center[['month', 'last_price']].groupby(['month']).median().sort_index()\n",
    "month_for_center.index = [\"январь\", \"февраль\", \"март\", \"апрель\", \"май\", \"июнь\", \"июль\", \"август\", \"сентябрь\", \"октябрь\", \"ноябрь\", \"декабрь\"]\n",
    "plt.figure(figsize=(12,5))\n",
    "plt.plot( month_for_center.index, month_for_center['last_price'])\n",
    "plt.ylabel(\"Стоимость\")\n",
    "plt.title(\"Стоимость квартиры в зависимости от месяца\")\n",
    "plt.show()"
   ]
  },
  {
   "cell_type": "code",
   "execution_count": 52,
   "metadata": {},
   "outputs": [
    {
     "data": {
      "image/png": "[encoded data removed]",
      "text/plain": [
       "<Figure size 864x360 with 1 Axes>"
      ]
     },
     "metadata": {
      "needs_background": "light"
     },
     "output_type": "display_data"
    }
   ],
   "source": [
    "year_for_center = spb_center[['year', 'last_price']].groupby(['year']).median().sort_index()\n",
    "year_for_center.index = [\"2014\", \"2015\", \"2016\", \"2017\", \"2018\", \"2019\"]\n",
    "plt.figure(figsize=(12,5))\n",
    "plt.plot( year_for_center.index, year_for_center['last_price'])\n",
    "plt.ylabel(\"Стоимость\")\n",
    "plt.title(\"Стоимость квартиры в зависимости от года\")\n",
    "plt.show()"
   ]
  },
  {
   "cell_type": "markdown",
   "metadata": {},
   "source": [
    " * *по графику видно что самые лучшие цены в конце недели*\n",
    " * *в сентябре цена на квартиру достигала пика, а в декабре наоборот минимум*\n",
    " * *по годам видна тенденция к снижению цены за жилье в центре*"
   ]
  },
  {
   "cell_type": "markdown",
   "metadata": {},
   "source": [
    "## Общий вывод"
   ]
  },
  {
   "cell_type": "markdown",
   "metadata": {},
   "source": [
    "В ходе исследования обьявлений о продаже квартир, выяснилось что стоимость квартиры напрямую зависит от площади и количества комнат в квартире.\n",
    "На первом этаже квартиры стоят примерно на 1.5 млн дешевле чем на других этажах.\n",
    "Также цена отличается по дням недели: к концу недели она дешевле, а пик в понедельник. В декабре недвижимость дешевле, а в сентябре пик.\n",
    "С 2014 года идет снижение стоимости жилья.\n",
    "Самые дорогие квартиры находятся в Санкт-Петербурге,  а самые недорогие в Выборге.\n",
    "Граница центра Санкт-Петербурга примерно находится в пределах 8км, там цены на недвижимость выше, также в центре преобладают двух-трехкомнатные квартиры, в отличие от других районов, где больше всего однокомнатных квартир.\n"
   ]
  }
 ],
 "metadata": {
  "ExecuteTimeLog": [
   {
    "duration": 830,
    "start_time": "2021-11-22T13:49:49.403Z"
   },
   {
    "duration": 76,
    "start_time": "2021-11-22T13:50:51.811Z"
   },
   {
    "duration": 27,
    "start_time": "2021-11-22T13:50:55.960Z"
   },
   {
    "duration": 77,
    "start_time": "2021-11-22T13:51:18.510Z"
   },
   {
    "duration": 11,
    "start_time": "2021-11-22T13:51:19.993Z"
   },
   {
    "duration": 72,
    "start_time": "2021-11-22T13:51:31.972Z"
   },
   {
    "duration": 13,
    "start_time": "2021-11-22T13:51:32.858Z"
   },
   {
    "duration": 114,
    "start_time": "2021-11-22T13:51:43.348Z"
   },
   {
    "duration": 12,
    "start_time": "2021-11-22T13:51:46.126Z"
   },
   {
    "duration": 69,
    "start_time": "2021-11-22T13:51:51.772Z"
   },
   {
    "duration": 84,
    "start_time": "2021-11-22T13:52:32.009Z"
   },
   {
    "duration": 62,
    "start_time": "2021-11-22T13:52:33.243Z"
   },
   {
    "duration": 15,
    "start_time": "2021-11-22T15:12:37.091Z"
   },
   {
    "duration": 2279,
    "start_time": "2021-11-23T11:56:05.697Z"
   },
   {
    "duration": 837,
    "start_time": "2021-11-23T11:56:11.936Z"
   },
   {
    "duration": 88,
    "start_time": "2021-11-23T11:56:12.775Z"
   },
   {
    "duration": 466,
    "start_time": "2021-11-23T11:56:12.866Z"
   },
   {
    "duration": 21,
    "start_time": "2021-11-23T11:56:23.607Z"
   },
   {
    "duration": 18,
    "start_time": "2021-11-23T13:44:56.238Z"
   },
   {
    "duration": 13,
    "start_time": "2021-11-23T13:45:27.237Z"
   },
   {
    "duration": 39,
    "start_time": "2021-11-23T13:48:55.772Z"
   },
   {
    "duration": 37,
    "start_time": "2021-11-23T13:49:19.510Z"
   },
   {
    "duration": 9,
    "start_time": "2021-11-23T13:52:44.035Z"
   },
   {
    "duration": 6,
    "start_time": "2021-11-23T13:53:01.563Z"
   },
   {
    "duration": 7,
    "start_time": "2021-11-23T13:53:17.189Z"
   },
   {
    "duration": 6,
    "start_time": "2021-11-23T13:53:40.392Z"
   },
   {
    "duration": 12,
    "start_time": "2021-11-23T13:53:44.609Z"
   },
   {
    "duration": 41,
    "start_time": "2021-11-23T13:53:45.488Z"
   },
   {
    "duration": 6,
    "start_time": "2021-11-23T13:53:46.658Z"
   },
   {
    "duration": 9,
    "start_time": "2021-11-23T13:54:10.328Z"
   },
   {
    "duration": 7,
    "start_time": "2021-11-23T13:54:24.440Z"
   },
   {
    "duration": 3,
    "start_time": "2021-11-23T13:54:42.685Z"
   },
   {
    "duration": 81,
    "start_time": "2021-11-23T13:54:43.544Z"
   },
   {
    "duration": 15,
    "start_time": "2021-11-23T13:54:44.573Z"
   },
   {
    "duration": 12,
    "start_time": "2021-11-23T13:54:48.114Z"
   },
   {
    "duration": 35,
    "start_time": "2021-11-23T13:54:49.106Z"
   },
   {
    "duration": 8,
    "start_time": "2021-11-23T13:54:50.794Z"
   },
   {
    "duration": 127,
    "start_time": "2021-11-23T13:55:31.314Z"
   },
   {
    "duration": 11,
    "start_time": "2021-11-23T13:57:46.054Z"
   },
   {
    "duration": 8,
    "start_time": "2021-11-23T13:59:02.556Z"
   },
   {
    "duration": 489,
    "start_time": "2021-11-23T13:59:44.967Z"
   },
   {
    "duration": 418,
    "start_time": "2021-11-23T14:00:03.050Z"
   },
   {
    "duration": 722,
    "start_time": "2021-11-23T14:00:14.264Z"
   },
   {
    "duration": 8,
    "start_time": "2021-11-23T14:00:27.809Z"
   },
   {
    "duration": 462,
    "start_time": "2021-11-23T14:00:33.892Z"
   },
   {
    "duration": 8,
    "start_time": "2021-11-23T14:00:50.968Z"
   },
   {
    "duration": 407,
    "start_time": "2021-11-23T14:00:55.081Z"
   },
   {
    "duration": 394,
    "start_time": "2021-11-23T14:01:29.507Z"
   },
   {
    "duration": 450,
    "start_time": "2021-11-23T14:01:38.722Z"
   },
   {
    "duration": 410,
    "start_time": "2021-11-23T14:02:12.589Z"
   },
   {
    "duration": 447,
    "start_time": "2021-11-23T14:02:31.179Z"
   },
   {
    "duration": 9,
    "start_time": "2021-11-23T14:02:41.848Z"
   },
   {
    "duration": 407,
    "start_time": "2021-11-23T14:03:43.419Z"
   },
   {
    "duration": 7,
    "start_time": "2021-11-23T14:05:40.489Z"
   },
   {
    "duration": 8,
    "start_time": "2021-11-23T14:05:57.592Z"
   },
   {
    "duration": 5,
    "start_time": "2021-11-23T14:06:26.151Z"
   },
   {
    "duration": 9,
    "start_time": "2021-11-23T14:06:34.491Z"
   },
   {
    "duration": 6,
    "start_time": "2021-11-23T14:06:43.670Z"
   },
   {
    "duration": 7,
    "start_time": "2021-11-23T14:22:36.011Z"
   },
   {
    "duration": 78,
    "start_time": "2021-11-23T14:25:04.171Z"
   },
   {
    "duration": 17,
    "start_time": "2021-11-23T14:25:56.076Z"
   },
   {
    "duration": 16,
    "start_time": "2021-11-23T14:29:24.431Z"
   },
   {
    "duration": 18,
    "start_time": "2021-11-23T14:29:41.756Z"
   },
   {
    "duration": 15,
    "start_time": "2021-11-23T14:32:12.480Z"
   },
   {
    "duration": 123,
    "start_time": "2021-11-23T14:38:46.516Z"
   },
   {
    "duration": 372,
    "start_time": "2021-11-23T14:39:06.243Z"
   },
   {
    "duration": 953,
    "start_time": "2021-11-23T14:39:14.780Z"
   },
   {
    "duration": 12,
    "start_time": "2021-11-23T14:39:28.509Z"
   },
   {
    "duration": 15,
    "start_time": "2021-11-23T14:39:40.198Z"
   },
   {
    "duration": 10,
    "start_time": "2021-11-23T14:44:07.366Z"
   },
   {
    "duration": 13,
    "start_time": "2021-11-23T14:44:09.659Z"
   },
   {
    "duration": 13,
    "start_time": "2021-11-23T14:45:20.758Z"
   },
   {
    "duration": 9,
    "start_time": "2021-11-23T14:46:10.182Z"
   },
   {
    "duration": 11,
    "start_time": "2021-11-23T14:50:16.956Z"
   },
   {
    "duration": 35,
    "start_time": "2021-11-23T14:50:17.823Z"
   },
   {
    "duration": 15,
    "start_time": "2021-11-23T14:50:20.756Z"
   },
   {
    "duration": 11,
    "start_time": "2021-11-23T14:50:22.180Z"
   },
   {
    "duration": 14,
    "start_time": "2021-11-23T14:50:23.654Z"
   },
   {
    "duration": 4,
    "start_time": "2021-11-23T14:50:36.704Z"
   },
   {
    "duration": 118,
    "start_time": "2021-11-23T14:50:37.188Z"
   },
   {
    "duration": 15,
    "start_time": "2021-11-23T14:50:38.699Z"
   },
   {
    "duration": 12,
    "start_time": "2021-11-23T14:50:39.959Z"
   },
   {
    "duration": 37,
    "start_time": "2021-11-23T14:50:46.532Z"
   },
   {
    "duration": 15,
    "start_time": "2021-11-23T14:50:47.984Z"
   },
   {
    "duration": 14,
    "start_time": "2021-11-23T14:50:52.092Z"
   },
   {
    "duration": 15,
    "start_time": "2021-11-23T14:50:53.126Z"
   },
   {
    "duration": 394,
    "start_time": "2021-11-23T14:57:44.302Z"
   },
   {
    "duration": 391,
    "start_time": "2021-11-23T14:58:47.724Z"
   },
   {
    "duration": 520,
    "start_time": "2021-11-23T14:59:58.389Z"
   },
   {
    "duration": 414,
    "start_time": "2021-11-23T15:01:24.984Z"
   },
   {
    "duration": 552,
    "start_time": "2021-11-23T15:02:12.059Z"
   },
   {
    "duration": 6,
    "start_time": "2021-11-23T15:02:25.792Z"
   },
   {
    "duration": 390,
    "start_time": "2021-11-23T15:02:32.078Z"
   },
   {
    "duration": 4,
    "start_time": "2021-11-23T15:02:47.220Z"
   },
   {
    "duration": 411,
    "start_time": "2021-11-23T15:03:10.787Z"
   },
   {
    "duration": 7,
    "start_time": "2021-11-23T15:03:53.297Z"
   },
   {
    "duration": 408,
    "start_time": "2021-11-23T15:05:02.656Z"
   },
   {
    "duration": 8,
    "start_time": "2021-11-23T15:05:16.045Z"
   },
   {
    "duration": 9,
    "start_time": "2021-11-23T15:05:24.809Z"
   },
   {
    "duration": 389,
    "start_time": "2021-11-23T15:05:36.432Z"
   },
   {
    "duration": 408,
    "start_time": "2021-11-23T15:06:04.420Z"
   },
   {
    "duration": 450,
    "start_time": "2021-11-23T15:06:12.281Z"
   },
   {
    "duration": 437,
    "start_time": "2021-11-23T15:07:00.878Z"
   },
   {
    "duration": 453,
    "start_time": "2021-11-23T15:13:18.546Z"
   },
   {
    "duration": 8,
    "start_time": "2021-11-23T15:13:32.017Z"
   },
   {
    "duration": 15,
    "start_time": "2021-11-23T15:13:43.398Z"
   },
   {
    "duration": 11,
    "start_time": "2021-11-23T15:15:22.246Z"
   },
   {
    "duration": 13,
    "start_time": "2021-11-23T15:15:23.192Z"
   },
   {
    "duration": 8,
    "start_time": "2021-11-23T15:15:25.412Z"
   },
   {
    "duration": 10,
    "start_time": "2021-11-23T15:15:31.566Z"
   },
   {
    "duration": 15,
    "start_time": "2021-11-23T15:15:32.535Z"
   },
   {
    "duration": 397,
    "start_time": "2021-11-23T15:16:15.546Z"
   },
   {
    "duration": 26,
    "start_time": "2021-11-23T15:16:29.557Z"
   },
   {
    "duration": 14,
    "start_time": "2021-11-23T15:16:35.310Z"
   },
   {
    "duration": 13,
    "start_time": "2021-11-23T15:21:06.108Z"
   },
   {
    "duration": 15,
    "start_time": "2021-11-23T15:21:08.638Z"
   },
   {
    "duration": 11,
    "start_time": "2021-11-23T16:53:58.691Z"
   },
   {
    "duration": 18,
    "start_time": "2021-11-23T16:53:59.479Z"
   },
   {
    "duration": 59,
    "start_time": "2021-11-23T16:54:09.066Z"
   },
   {
    "duration": 4,
    "start_time": "2021-11-23T16:57:39.138Z"
   },
   {
    "duration": 16,
    "start_time": "2021-11-23T16:58:23.779Z"
   },
   {
    "duration": 460,
    "start_time": "2021-11-23T16:58:46.374Z"
   },
   {
    "duration": 7,
    "start_time": "2021-11-23T16:59:30.556Z"
   },
   {
    "duration": 63,
    "start_time": "2021-11-23T16:59:41.646Z"
   },
   {
    "duration": 6,
    "start_time": "2021-11-23T17:00:52.491Z"
   },
   {
    "duration": 65,
    "start_time": "2021-11-23T17:00:55.189Z"
   },
   {
    "duration": 933,
    "start_time": "2021-11-23T17:06:52.231Z"
   },
   {
    "duration": 56,
    "start_time": "2021-11-23T17:06:57.273Z"
   },
   {
    "duration": 927,
    "start_time": "2021-11-23T17:07:26.698Z"
   },
   {
    "duration": 851,
    "start_time": "2021-11-24T12:53:11.961Z"
   },
   {
    "duration": 137,
    "start_time": "2021-11-24T12:53:13.745Z"
   },
   {
    "duration": 16,
    "start_time": "2021-11-24T12:53:14.677Z"
   },
   {
    "duration": 12,
    "start_time": "2021-11-24T12:53:15.154Z"
   },
   {
    "duration": 39,
    "start_time": "2021-11-24T12:53:15.586Z"
   },
   {
    "duration": 17,
    "start_time": "2021-11-24T12:53:16.146Z"
   },
   {
    "duration": 15,
    "start_time": "2021-11-24T12:53:16.482Z"
   },
   {
    "duration": 16,
    "start_time": "2021-11-24T12:53:16.836Z"
   },
   {
    "duration": 21,
    "start_time": "2021-11-24T12:53:17.204Z"
   },
   {
    "duration": 15,
    "start_time": "2021-11-24T12:53:17.602Z"
   },
   {
    "duration": 10,
    "start_time": "2021-11-24T12:53:18.873Z"
   },
   {
    "duration": 17,
    "start_time": "2021-11-24T12:53:19.371Z"
   },
   {
    "duration": 7,
    "start_time": "2021-11-24T12:53:19.804Z"
   },
   {
    "duration": 999,
    "start_time": "2021-11-24T12:53:20.324Z"
   },
   {
    "duration": 437,
    "start_time": "2021-11-24T12:53:22.959Z"
   },
   {
    "duration": 2391,
    "start_time": "2021-11-24T12:54:22.500Z"
   },
   {
    "duration": 3,
    "start_time": "2021-11-24T12:55:59.608Z"
   },
   {
    "duration": 127,
    "start_time": "2021-11-24T12:56:01.418Z"
   },
   {
    "duration": 15,
    "start_time": "2021-11-24T12:56:01.998Z"
   },
   {
    "duration": 12,
    "start_time": "2021-11-24T12:56:02.266Z"
   },
   {
    "duration": 37,
    "start_time": "2021-11-24T12:56:02.515Z"
   },
   {
    "duration": 20,
    "start_time": "2021-11-24T12:56:02.764Z"
   },
   {
    "duration": 16,
    "start_time": "2021-11-24T12:56:03.060Z"
   },
   {
    "duration": 16,
    "start_time": "2021-11-24T12:56:03.349Z"
   },
   {
    "duration": 22,
    "start_time": "2021-11-24T12:56:03.788Z"
   },
   {
    "duration": 14,
    "start_time": "2021-11-24T12:56:04.036Z"
   },
   {
    "duration": 5,
    "start_time": "2021-11-24T12:56:04.910Z"
   },
   {
    "duration": 19,
    "start_time": "2021-11-24T12:56:05.263Z"
   },
   {
    "duration": 7,
    "start_time": "2021-11-24T12:56:05.550Z"
   },
   {
    "duration": 980,
    "start_time": "2021-11-24T12:56:05.821Z"
   },
   {
    "duration": 1866,
    "start_time": "2021-11-24T12:56:06.839Z"
   },
   {
    "duration": 815,
    "start_time": "2021-11-24T12:59:48.979Z"
   },
   {
    "duration": 548,
    "start_time": "2021-11-24T12:59:55.930Z"
   },
   {
    "duration": 530,
    "start_time": "2021-11-24T13:00:06.240Z"
   },
   {
    "duration": 540,
    "start_time": "2021-11-24T13:00:13.315Z"
   },
   {
    "duration": 549,
    "start_time": "2021-11-24T13:00:40.651Z"
   },
   {
    "duration": 625,
    "start_time": "2021-11-24T13:00:56.615Z"
   },
   {
    "duration": 576,
    "start_time": "2021-11-24T13:04:34.447Z"
   },
   {
    "duration": 550,
    "start_time": "2021-11-24T13:04:56.477Z"
   },
   {
    "duration": 595,
    "start_time": "2021-11-24T13:05:03.392Z"
   },
   {
    "duration": 565,
    "start_time": "2021-11-24T13:06:23.254Z"
   },
   {
    "duration": 451,
    "start_time": "2021-11-24T13:06:46.682Z"
   },
   {
    "duration": 425,
    "start_time": "2021-11-24T13:07:58.265Z"
   },
   {
    "duration": 639,
    "start_time": "2021-11-24T13:08:28.282Z"
   },
   {
    "duration": 537,
    "start_time": "2021-11-24T13:08:40.980Z"
   },
   {
    "duration": 649,
    "start_time": "2021-11-24T13:08:47.485Z"
   },
   {
    "duration": 577,
    "start_time": "2021-11-24T13:09:51.726Z"
   },
   {
    "duration": 356,
    "start_time": "2021-11-24T13:39:32.190Z"
   },
   {
    "duration": 13,
    "start_time": "2021-11-24T13:47:56.347Z"
   },
   {
    "duration": 16,
    "start_time": "2021-11-24T13:47:57.190Z"
   },
   {
    "duration": 12,
    "start_time": "2021-11-24T13:47:57.666Z"
   },
   {
    "duration": 25,
    "start_time": "2021-11-24T13:47:57.877Z"
   },
   {
    "duration": 5,
    "start_time": "2021-11-24T13:47:58.799Z"
   },
   {
    "duration": 17,
    "start_time": "2021-11-24T13:47:59.075Z"
   },
   {
    "duration": 6,
    "start_time": "2021-11-24T13:47:59.303Z"
   },
   {
    "duration": 1120,
    "start_time": "2021-11-24T13:47:59.532Z"
   },
   {
    "duration": 599,
    "start_time": "2021-11-24T13:48:00.736Z"
   },
   {
    "duration": 993,
    "start_time": "2021-11-24T13:48:01.339Z"
   },
   {
    "duration": 799,
    "start_time": "2021-11-24T13:48:02.336Z"
   },
   {
    "duration": 607,
    "start_time": "2021-11-24T13:48:03.138Z"
   },
   {
    "duration": 383,
    "start_time": "2021-11-24T13:48:03.748Z"
   },
   {
    "duration": 608,
    "start_time": "2021-11-24T13:48:09.136Z"
   },
   {
    "duration": 4,
    "start_time": "2021-11-24T13:50:52.700Z"
   },
   {
    "duration": 215,
    "start_time": "2021-11-24T13:50:53.249Z"
   },
   {
    "duration": 29,
    "start_time": "2021-11-24T13:50:54.934Z"
   },
   {
    "duration": 19,
    "start_time": "2021-11-24T13:50:56.399Z"
   },
   {
    "duration": 59,
    "start_time": "2021-11-24T13:50:57.399Z"
   },
   {
    "duration": 16,
    "start_time": "2021-11-24T13:50:58.081Z"
   },
   {
    "duration": 18,
    "start_time": "2021-11-24T13:51:00.194Z"
   },
   {
    "duration": 15,
    "start_time": "2021-11-24T13:51:00.819Z"
   },
   {
    "duration": 18,
    "start_time": "2021-11-24T13:51:01.358Z"
   },
   {
    "duration": 16,
    "start_time": "2021-11-24T13:51:01.832Z"
   },
   {
    "duration": 7,
    "start_time": "2021-11-24T13:51:02.932Z"
   },
   {
    "duration": 20,
    "start_time": "2021-11-24T13:51:03.323Z"
   },
   {
    "duration": 8,
    "start_time": "2021-11-24T13:51:03.900Z"
   },
   {
    "duration": 1463,
    "start_time": "2021-11-24T13:51:05.744Z"
   },
   {
    "duration": 603,
    "start_time": "2021-11-24T13:51:07.584Z"
   },
   {
    "duration": 703,
    "start_time": "2021-11-24T13:51:08.190Z"
   },
   {
    "duration": 422,
    "start_time": "2021-11-24T13:51:09.141Z"
   },
   {
    "duration": 627,
    "start_time": "2021-11-24T13:51:10.385Z"
   },
   {
    "duration": 359,
    "start_time": "2021-11-24T13:51:11.195Z"
   },
   {
    "duration": 344,
    "start_time": "2021-11-24T13:53:04.372Z"
   },
   {
    "duration": 12,
    "start_time": "2021-11-24T14:03:22.707Z"
   },
   {
    "duration": 15,
    "start_time": "2021-11-24T14:07:58.824Z"
   },
   {
    "duration": 361,
    "start_time": "2021-11-24T14:09:52.949Z"
   },
   {
    "duration": 16,
    "start_time": "2021-11-24T14:10:08.709Z"
   },
   {
    "duration": 12,
    "start_time": "2021-11-24T14:10:47.945Z"
   },
   {
    "duration": 11,
    "start_time": "2021-11-24T14:12:30.487Z"
   },
   {
    "duration": 396,
    "start_time": "2021-11-24T14:13:24.670Z"
   },
   {
    "duration": 14,
    "start_time": "2021-11-24T14:13:42.130Z"
   },
   {
    "duration": 6906,
    "start_time": "2021-11-24T14:14:28.501Z"
   },
   {
    "duration": 384,
    "start_time": "2021-11-24T14:15:21.062Z"
   },
   {
    "duration": 387,
    "start_time": "2021-11-24T14:17:30.383Z"
   },
   {
    "duration": 17,
    "start_time": "2021-11-24T14:21:46.813Z"
   },
   {
    "duration": 19,
    "start_time": "2021-11-24T14:27:19.334Z"
   },
   {
    "duration": 27,
    "start_time": "2021-11-24T14:27:36.159Z"
   },
   {
    "duration": 1071,
    "start_time": "2021-11-24T14:35:45.909Z"
   },
   {
    "duration": 1629,
    "start_time": "2021-11-24T14:35:56.057Z"
   },
   {
    "duration": 4,
    "start_time": "2021-11-24T14:36:31.304Z"
   },
   {
    "duration": 137,
    "start_time": "2021-11-24T14:36:31.928Z"
   },
   {
    "duration": 16,
    "start_time": "2021-11-24T14:36:32.595Z"
   },
   {
    "duration": 12,
    "start_time": "2021-11-24T14:36:32.887Z"
   },
   {
    "duration": 39,
    "start_time": "2021-11-24T14:36:33.159Z"
   },
   {
    "duration": 18,
    "start_time": "2021-11-24T14:36:33.429Z"
   },
   {
    "duration": 17,
    "start_time": "2021-11-24T14:36:33.986Z"
   },
   {
    "duration": 17,
    "start_time": "2021-11-24T14:36:34.006Z"
   },
   {
    "duration": 26,
    "start_time": "2021-11-24T14:36:34.207Z"
   },
   {
    "duration": 16,
    "start_time": "2021-11-24T14:36:34.455Z"
   },
   {
    "duration": 6,
    "start_time": "2021-11-24T14:36:35.283Z"
   },
   {
    "duration": 19,
    "start_time": "2021-11-24T14:36:35.514Z"
   },
   {
    "duration": 6,
    "start_time": "2021-11-24T14:36:35.783Z"
   },
   {
    "duration": 1089,
    "start_time": "2021-11-24T14:36:36.055Z"
   },
   {
    "duration": 569,
    "start_time": "2021-11-24T14:36:37.240Z"
   },
   {
    "duration": 591,
    "start_time": "2021-11-24T14:36:37.812Z"
   },
   {
    "duration": 436,
    "start_time": "2021-11-24T14:36:38.406Z"
   },
   {
    "duration": 806,
    "start_time": "2021-11-24T14:36:38.844Z"
   },
   {
    "duration": 382,
    "start_time": "2021-11-24T14:36:39.653Z"
   },
   {
    "duration": 12,
    "start_time": "2021-11-24T14:36:40.038Z"
   },
   {
    "duration": 10,
    "start_time": "2021-11-24T14:36:40.052Z"
   },
   {
    "duration": 436,
    "start_time": "2021-11-24T14:36:40.064Z"
   },
   {
    "duration": 18,
    "start_time": "2021-11-24T14:36:40.800Z"
   },
   {
    "duration": 1634,
    "start_time": "2021-11-24T14:36:41.245Z"
   },
   {
    "duration": 1802,
    "start_time": "2021-11-24T14:36:52.562Z"
   },
   {
    "duration": 1709,
    "start_time": "2021-11-24T14:41:00.004Z"
   },
   {
    "duration": -291,
    "start_time": "2021-11-24T14:43:26.840Z"
   },
   {
    "duration": 224173,
    "start_time": "2021-11-24T14:43:31.964Z"
   },
   {
    "duration": 442,
    "start_time": "2021-11-24T16:15:18.181Z"
   },
   {
    "duration": 466,
    "start_time": "2021-11-24T16:16:21.810Z"
   },
   {
    "duration": 931,
    "start_time": "2021-11-24T16:18:11.762Z"
   },
   {
    "duration": 836,
    "start_time": "2021-11-24T16:18:20.118Z"
   },
   {
    "duration": 609,
    "start_time": "2021-11-24T16:19:19.349Z"
   },
   {
    "duration": 383,
    "start_time": "2021-11-24T16:19:35.160Z"
   },
   {
    "duration": 548,
    "start_time": "2021-11-24T16:19:40.900Z"
   },
   {
    "duration": 447,
    "start_time": "2021-11-24T16:19:46.495Z"
   },
   {
    "duration": 650,
    "start_time": "2021-11-24T16:20:07.426Z"
   },
   {
    "duration": 590,
    "start_time": "2021-11-24T16:20:19.582Z"
   },
   {
    "duration": 1668,
    "start_time": "2021-11-24T16:26:35.378Z"
   },
   {
    "duration": 1534,
    "start_time": "2021-11-24T16:27:05.298Z"
   },
   {
    "duration": 1397,
    "start_time": "2021-11-24T16:27:15.220Z"
   },
   {
    "duration": 1448,
    "start_time": "2021-11-24T16:27:44.365Z"
   },
   {
    "duration": 1421,
    "start_time": "2021-11-24T16:28:01.871Z"
   },
   {
    "duration": 1576,
    "start_time": "2021-11-24T16:28:09.597Z"
   },
   {
    "duration": 1443,
    "start_time": "2021-11-24T16:28:29.312Z"
   },
   {
    "duration": 1395,
    "start_time": "2021-11-24T16:28:36.658Z"
   },
   {
    "duration": 1353,
    "start_time": "2021-11-24T16:34:28.723Z"
   },
   {
    "duration": 1433,
    "start_time": "2021-11-24T16:34:41.725Z"
   },
   {
    "duration": 243907,
    "start_time": "2021-11-24T16:41:00.674Z"
   },
   {
    "duration": 1430,
    "start_time": "2021-11-24T16:45:04.584Z"
   },
   {
    "duration": 4,
    "start_time": "2021-11-24T16:45:28.506Z"
   },
   {
    "duration": 122,
    "start_time": "2021-11-24T16:45:29.032Z"
   },
   {
    "duration": 16,
    "start_time": "2021-11-24T16:45:29.958Z"
   },
   {
    "duration": 12,
    "start_time": "2021-11-24T16:45:30.230Z"
   },
   {
    "duration": 37,
    "start_time": "2021-11-24T16:45:30.662Z"
   },
   {
    "duration": 16,
    "start_time": "2021-11-24T16:45:30.894Z"
   },
   {
    "duration": 18,
    "start_time": "2021-11-24T16:45:31.125Z"
   },
   {
    "duration": 17,
    "start_time": "2021-11-24T16:45:31.373Z"
   },
   {
    "duration": 18,
    "start_time": "2021-11-24T16:45:31.603Z"
   },
   {
    "duration": 15,
    "start_time": "2021-11-24T16:45:31.832Z"
   },
   {
    "duration": 6,
    "start_time": "2021-11-24T16:45:32.516Z"
   },
   {
    "duration": 17,
    "start_time": "2021-11-24T16:45:32.745Z"
   },
   {
    "duration": 8,
    "start_time": "2021-11-24T16:45:32.975Z"
   },
   {
    "duration": 1025,
    "start_time": "2021-11-24T16:45:33.202Z"
   },
   {
    "duration": 4451,
    "start_time": "2021-11-24T16:45:35.008Z"
   },
   {
    "duration": 645,
    "start_time": "2021-11-24T16:45:39.462Z"
   },
   {
    "duration": 593,
    "start_time": "2021-11-24T16:45:40.112Z"
   },
   {
    "duration": 836,
    "start_time": "2021-11-24T16:45:40.709Z"
   },
   {
    "duration": 405,
    "start_time": "2021-11-24T16:45:41.548Z"
   },
   {
    "duration": 15,
    "start_time": "2021-11-24T16:45:41.956Z"
   },
   {
    "duration": 36,
    "start_time": "2021-11-24T16:45:41.974Z"
   },
   {
    "duration": 417,
    "start_time": "2021-11-24T16:45:42.013Z"
   },
   {
    "duration": 17,
    "start_time": "2021-11-24T16:45:42.433Z"
   },
   {
    "duration": 1494,
    "start_time": "2021-11-24T16:45:42.453Z"
   },
   {
    "duration": 414,
    "start_time": "2021-11-24T16:46:43.640Z"
   },
   {
    "duration": 1780,
    "start_time": "2021-11-24T16:46:53.282Z"
   },
   {
    "duration": 128,
    "start_time": "2021-11-24T16:48:50.297Z"
   },
   {
    "duration": 208,
    "start_time": "2021-11-24T16:49:09.312Z"
   },
   {
    "duration": 282,
    "start_time": "2021-11-24T16:49:16.184Z"
   },
   {
    "duration": 339,
    "start_time": "2021-11-24T16:50:12.953Z"
   },
   {
    "duration": 332,
    "start_time": "2021-11-24T16:50:49.650Z"
   },
   {
    "duration": 235,
    "start_time": "2021-11-24T16:51:12.922Z"
   },
   {
    "duration": 281,
    "start_time": "2021-11-24T16:51:14.407Z"
   },
   {
    "duration": 285,
    "start_time": "2021-11-24T16:51:16.596Z"
   },
   {
    "duration": 278,
    "start_time": "2021-11-24T16:51:25.892Z"
   },
   {
    "duration": 238,
    "start_time": "2021-11-24T16:53:54.564Z"
   },
   {
    "duration": 276,
    "start_time": "2021-11-24T16:55:29.619Z"
   },
   {
    "duration": 250,
    "start_time": "2021-11-24T16:59:18.888Z"
   },
   {
    "duration": 33,
    "start_time": "2021-11-24T17:37:13.798Z"
   },
   {
    "duration": 9560,
    "start_time": "2021-11-24T17:38:28.764Z"
   },
   {
    "duration": -272,
    "start_time": "2021-11-24T17:39:25.278Z"
   },
   {
    "duration": 266,
    "start_time": "2021-11-24T17:40:11.699Z"
   },
   {
    "duration": 9295,
    "start_time": "2021-11-24T17:40:19.325Z"
   },
   {
    "duration": 32,
    "start_time": "2021-11-24T17:40:49.271Z"
   },
   {
    "duration": 9326,
    "start_time": "2021-11-24T17:41:27.105Z"
   },
   {
    "duration": 39,
    "start_time": "2021-11-24T17:43:02.291Z"
   },
   {
    "duration": 8700,
    "start_time": "2021-11-24T17:58:12.380Z"
   },
   {
    "duration": 385,
    "start_time": "2021-11-24T17:58:42.107Z"
   },
   {
    "duration": 402,
    "start_time": "2021-11-24T17:58:49.721Z"
   },
   {
    "duration": 5,
    "start_time": "2021-11-24T17:58:56.517Z"
   },
   {
    "duration": 353,
    "start_time": "2021-11-24T18:01:13.228Z"
   },
   {
    "duration": 22,
    "start_time": "2021-11-24T18:01:43.292Z"
   },
   {
    "duration": 12,
    "start_time": "2021-11-24T18:01:52.885Z"
   },
   {
    "duration": 502,
    "start_time": "2021-11-24T18:02:29.466Z"
   },
   {
    "duration": 796,
    "start_time": "2021-11-24T18:02:40.968Z"
   },
   {
    "duration": 863,
    "start_time": "2021-11-24T18:03:03.455Z"
   },
   {
    "duration": 859,
    "start_time": "2021-11-24T18:03:23.446Z"
   },
   {
    "duration": 119,
    "start_time": "2021-11-24T18:04:08.170Z"
   },
   {
    "duration": 120,
    "start_time": "2021-11-24T18:04:20.913Z"
   },
   {
    "duration": 118,
    "start_time": "2021-11-24T18:04:29.653Z"
   },
   {
    "duration": 20,
    "start_time": "2021-11-24T18:04:36.689Z"
   },
   {
    "duration": 153,
    "start_time": "2021-11-24T18:05:18.544Z"
   },
   {
    "duration": 115,
    "start_time": "2021-11-24T18:05:27.643Z"
   },
   {
    "duration": 20,
    "start_time": "2021-11-24T18:05:40.145Z"
   },
   {
    "duration": 23,
    "start_time": "2021-11-24T18:06:10.227Z"
   },
   {
    "duration": 753,
    "start_time": "2021-11-24T18:06:11.214Z"
   },
   {
    "duration": 766,
    "start_time": "2021-11-24T18:07:48.645Z"
   },
   {
    "duration": 780,
    "start_time": "2021-11-24T18:08:05.410Z"
   },
   {
    "duration": 12,
    "start_time": "2021-11-24T18:15:44.812Z"
   },
   {
    "duration": 57,
    "start_time": "2021-11-24T18:15:53.273Z"
   },
   {
    "duration": 16,
    "start_time": "2021-11-24T18:18:17.272Z"
   },
   {
    "duration": 1336,
    "start_time": "2021-11-24T18:19:16.604Z"
   },
   {
    "duration": 445,
    "start_time": "2021-11-24T18:22:10.372Z"
   },
   {
    "duration": 12,
    "start_time": "2021-11-24T18:22:17.731Z"
   },
   {
    "duration": 355,
    "start_time": "2021-11-24T18:22:18.209Z"
   },
   {
    "duration": 12274,
    "start_time": "2021-11-24T18:22:23.362Z"
   },
   {
    "duration": 444,
    "start_time": "2021-11-24T18:22:52.064Z"
   },
   {
    "duration": 11,
    "start_time": "2021-11-24T18:23:13.559Z"
   },
   {
    "duration": 917,
    "start_time": "2021-11-25T12:14:41.820Z"
   },
   {
    "duration": 131,
    "start_time": "2021-11-25T12:14:45.521Z"
   },
   {
    "duration": 18,
    "start_time": "2021-11-25T12:14:46.476Z"
   },
   {
    "duration": 12,
    "start_time": "2021-11-25T12:14:46.829Z"
   },
   {
    "duration": 41,
    "start_time": "2021-11-25T12:14:47.353Z"
   },
   {
    "duration": 18,
    "start_time": "2021-11-25T12:14:47.783Z"
   },
   {
    "duration": 17,
    "start_time": "2021-11-25T12:14:48.204Z"
   },
   {
    "duration": 16,
    "start_time": "2021-11-25T12:14:48.910Z"
   },
   {
    "duration": 21,
    "start_time": "2021-11-25T12:14:49.224Z"
   },
   {
    "duration": 14,
    "start_time": "2021-11-25T12:14:49.599Z"
   },
   {
    "duration": 12,
    "start_time": "2021-11-25T12:14:50.513Z"
   },
   {
    "duration": 23,
    "start_time": "2021-11-25T12:14:50.846Z"
   },
   {
    "duration": 8,
    "start_time": "2021-11-25T12:14:51.181Z"
   },
   {
    "duration": 996,
    "start_time": "2021-11-25T12:14:51.460Z"
   },
   {
    "duration": 663,
    "start_time": "2021-11-25T12:14:54.335Z"
   },
   {
    "duration": 609,
    "start_time": "2021-11-25T12:14:55.000Z"
   },
   {
    "duration": 473,
    "start_time": "2021-11-25T12:14:55.612Z"
   },
   {
    "duration": 579,
    "start_time": "2021-11-25T12:14:56.088Z"
   },
   {
    "duration": 352,
    "start_time": "2021-11-25T12:14:56.669Z"
   },
   {
    "duration": 12,
    "start_time": "2021-11-25T12:14:57.188Z"
   },
   {
    "duration": 11,
    "start_time": "2021-11-25T12:14:57.934Z"
   },
   {
    "duration": 387,
    "start_time": "2021-11-25T12:14:58.552Z"
   },
   {
    "duration": 17,
    "start_time": "2021-11-25T12:14:59.758Z"
   },
   {
    "duration": 103,
    "start_time": "2021-11-25T12:15:00.977Z"
   },
   {
    "duration": 1472,
    "start_time": "2021-11-25T12:15:11.763Z"
   },
   {
    "duration": 257,
    "start_time": "2021-11-25T12:15:13.238Z"
   },
   {
    "duration": 358,
    "start_time": "2021-11-25T12:15:14.082Z"
   },
   {
    "duration": 247,
    "start_time": "2021-11-25T12:15:14.843Z"
   },
   {
    "duration": 32,
    "start_time": "2021-11-25T12:15:15.444Z"
   },
   {
    "duration": 7,
    "start_time": "2021-11-25T12:15:16.044Z"
   },
   {
    "duration": 24,
    "start_time": "2021-11-25T12:15:16.632Z"
   },
   {
    "duration": 785,
    "start_time": "2021-11-25T12:15:17.173Z"
   },
   {
    "duration": 13,
    "start_time": "2021-11-25T12:15:19.071Z"
   },
   {
    "duration": 1187,
    "start_time": "2021-11-25T12:15:21.839Z"
   },
   {
    "duration": 1186,
    "start_time": "2021-11-25T12:19:53.943Z"
   },
   {
    "duration": 2017,
    "start_time": "2021-11-25T12:21:43.187Z"
   },
   {
    "duration": 1654,
    "start_time": "2021-11-25T12:21:53.590Z"
   },
   {
    "duration": -81,
    "start_time": "2021-11-25T12:24:36.247Z"
   },
   {
    "duration": 1487,
    "start_time": "2021-11-25T12:24:38.980Z"
   },
   {
    "duration": 1626,
    "start_time": "2021-11-25T12:27:28.551Z"
   },
   {
    "duration": 1496,
    "start_time": "2021-11-25T12:27:46.742Z"
   },
   {
    "duration": 1501,
    "start_time": "2021-11-25T12:28:15.235Z"
   },
   {
    "duration": 1498,
    "start_time": "2021-11-25T12:29:12.607Z"
   },
   {
    "duration": 1498,
    "start_time": "2021-11-25T12:29:24.559Z"
   },
   {
    "duration": 1318,
    "start_time": "2021-11-25T12:31:22.952Z"
   },
   {
    "duration": 1387,
    "start_time": "2021-11-25T12:32:04.612Z"
   },
   {
    "duration": 1438,
    "start_time": "2021-11-25T12:32:28.969Z"
   },
   {
    "duration": 1238,
    "start_time": "2021-11-25T12:32:42.025Z"
   },
   {
    "duration": 1275,
    "start_time": "2021-11-25T12:33:00.934Z"
   },
   {
    "duration": 1260,
    "start_time": "2021-11-25T12:33:46.867Z"
   },
   {
    "duration": 1857,
    "start_time": "2021-11-25T12:34:13.117Z"
   },
   {
    "duration": 1196,
    "start_time": "2021-11-25T12:34:36.566Z"
   },
   {
    "duration": 3664,
    "start_time": "2021-11-25T12:36:15.347Z"
   },
   {
    "duration": 1517,
    "start_time": "2021-11-25T12:37:53.535Z"
   },
   {
    "duration": 1531,
    "start_time": "2021-11-25T12:38:08.371Z"
   },
   {
    "duration": 1473,
    "start_time": "2021-11-25T12:38:27.245Z"
   },
   {
    "duration": 1513,
    "start_time": "2021-11-25T12:38:41.056Z"
   },
   {
    "duration": 12,
    "start_time": "2021-11-25T12:43:08.125Z"
   },
   {
    "duration": 2296,
    "start_time": "2021-11-25T12:43:56.971Z"
   },
   {
    "duration": 2436,
    "start_time": "2021-11-25T12:44:31.684Z"
   },
   {
    "duration": 3205,
    "start_time": "2021-11-25T12:45:04.897Z"
   },
   {
    "duration": 2371,
    "start_time": "2021-11-25T12:45:19.901Z"
   },
   {
    "duration": 2437,
    "start_time": "2021-11-25T12:45:34.489Z"
   },
   {
    "duration": 2380,
    "start_time": "2021-11-25T12:49:10.380Z"
   },
   {
    "duration": 2777,
    "start_time": "2021-11-25T12:49:31.721Z"
   },
   {
    "duration": 2497,
    "start_time": "2021-11-25T12:50:44.835Z"
   },
   {
    "duration": 13,
    "start_time": "2021-11-25T12:53:34.835Z"
   },
   {
    "duration": 45,
    "start_time": "2021-11-25T12:53:59.907Z"
   },
   {
    "duration": 17,
    "start_time": "2021-11-25T12:54:33.105Z"
   },
   {
    "duration": 13,
    "start_time": "2021-11-25T12:55:31.568Z"
   },
   {
    "duration": 18,
    "start_time": "2021-11-25T12:55:32.720Z"
   },
   {
    "duration": 599,
    "start_time": "2021-11-25T12:59:02.907Z"
   },
   {
    "duration": 704,
    "start_time": "2021-11-25T12:59:03.723Z"
   },
   {
    "duration": 454,
    "start_time": "2021-11-25T12:59:04.430Z"
   },
   {
    "duration": 593,
    "start_time": "2021-11-25T12:59:04.886Z"
   },
   {
    "duration": 376,
    "start_time": "2021-11-25T12:59:05.482Z"
   },
   {
    "duration": 401,
    "start_time": "2021-11-25T13:00:02.726Z"
   },
   {
    "duration": 236,
    "start_time": "2021-11-25T13:03:47.395Z"
   },
   {
    "duration": 279,
    "start_time": "2021-11-25T13:03:48.605Z"
   },
   {
    "duration": 274,
    "start_time": "2021-11-25T13:03:49.159Z"
   },
   {
    "duration": 33,
    "start_time": "2021-11-25T13:04:27.833Z"
   },
   {
    "duration": 776,
    "start_time": "2021-11-25T13:04:57.252Z"
   },
   {
    "duration": 263,
    "start_time": "2021-11-25T14:01:43.668Z"
   },
   {
    "duration": 260,
    "start_time": "2021-11-25T14:01:51.157Z"
   },
   {
    "duration": 1506,
    "start_time": "2021-11-25T14:05:45.882Z"
   },
   {
    "duration": 341,
    "start_time": "2021-11-25T14:09:47.506Z"
   },
   {
    "duration": 258,
    "start_time": "2021-11-25T14:10:21.811Z"
   },
   {
    "duration": 268,
    "start_time": "2021-11-25T14:10:23.197Z"
   },
   {
    "duration": 251,
    "start_time": "2021-11-25T14:10:24.189Z"
   },
   {
    "duration": 111,
    "start_time": "2021-11-25T14:11:30.734Z"
   },
   {
    "duration": 1534,
    "start_time": "2021-11-25T14:11:49.937Z"
   },
   {
    "duration": 315,
    "start_time": "2021-11-25T14:14:49.127Z"
   },
   {
    "duration": 329,
    "start_time": "2021-11-25T14:15:08.394Z"
   },
   {
    "duration": 352,
    "start_time": "2021-11-25T14:18:08.547Z"
   },
   {
    "duration": 1193,
    "start_time": "2021-11-25T14:27:19.180Z"
   },
   {
    "duration": 299,
    "start_time": "2021-11-25T14:27:37.659Z"
   },
   {
    "duration": 107,
    "start_time": "2021-11-25T15:07:00.868Z"
   },
   {
    "duration": 4,
    "start_time": "2021-11-25T15:09:03.437Z"
   },
   {
    "duration": 126,
    "start_time": "2021-11-25T15:09:04.541Z"
   },
   {
    "duration": 17,
    "start_time": "2021-11-25T15:09:05.439Z"
   },
   {
    "duration": 13,
    "start_time": "2021-11-25T15:09:05.946Z"
   },
   {
    "duration": 38,
    "start_time": "2021-11-25T15:09:06.782Z"
   },
   {
    "duration": 16,
    "start_time": "2021-11-25T15:09:07.571Z"
   },
   {
    "duration": 16,
    "start_time": "2021-11-25T15:09:08.403Z"
   },
   {
    "duration": 16,
    "start_time": "2021-11-25T15:09:08.737Z"
   },
   {
    "duration": 18,
    "start_time": "2021-11-25T15:09:09.150Z"
   },
   {
    "duration": 15,
    "start_time": "2021-11-25T15:09:09.978Z"
   },
   {
    "duration": 6,
    "start_time": "2021-11-25T15:09:11.149Z"
   },
   {
    "duration": 18,
    "start_time": "2021-11-25T15:09:11.646Z"
   },
   {
    "duration": 9,
    "start_time": "2021-11-25T15:09:12.039Z"
   },
   {
    "duration": 1064,
    "start_time": "2021-11-25T15:09:12.397Z"
   },
   {
    "duration": 611,
    "start_time": "2021-11-25T15:09:16.276Z"
   },
   {
    "duration": 616,
    "start_time": "2021-11-25T15:09:16.890Z"
   },
   {
    "duration": 499,
    "start_time": "2021-11-25T15:09:19.167Z"
   },
   {
    "duration": 630,
    "start_time": "2021-11-25T15:09:19.669Z"
   },
   {
    "duration": 370,
    "start_time": "2021-11-25T15:09:20.302Z"
   },
   {
    "duration": 12,
    "start_time": "2021-11-25T15:09:22.002Z"
   },
   {
    "duration": 15,
    "start_time": "2021-11-25T15:09:22.606Z"
   },
   {
    "duration": 391,
    "start_time": "2021-11-25T15:09:23.037Z"
   },
   {
    "duration": 25,
    "start_time": "2021-11-25T15:09:24.410Z"
   },
   {
    "duration": 2135,
    "start_time": "2021-11-25T15:09:24.976Z"
   },
   {
    "duration": 239,
    "start_time": "2021-11-25T15:09:27.653Z"
   },
   {
    "duration": 291,
    "start_time": "2021-11-25T15:09:28.068Z"
   },
   {
    "duration": 253,
    "start_time": "2021-11-25T15:09:28.501Z"
   },
   {
    "duration": 32,
    "start_time": "2021-11-25T15:09:29.522Z"
   },
   {
    "duration": 6,
    "start_time": "2021-11-25T15:09:30.353Z"
   },
   {
    "duration": 25,
    "start_time": "2021-11-25T15:09:30.746Z"
   },
   {
    "duration": 863,
    "start_time": "2021-11-25T15:09:31.142Z"
   },
   {
    "duration": 13,
    "start_time": "2021-11-25T15:09:32.138Z"
   },
   {
    "duration": 2556,
    "start_time": "2021-11-25T15:09:32.556Z"
   },
   {
    "duration": 1544,
    "start_time": "2021-11-25T15:09:35.115Z"
   },
   {
    "duration": 279,
    "start_time": "2021-11-25T15:09:36.667Z"
   },
   {
    "duration": 337,
    "start_time": "2021-11-25T15:09:36.948Z"
   },
   {
    "duration": 374,
    "start_time": "2021-11-25T15:09:37.287Z"
   },
   {
    "duration": 291,
    "start_time": "2021-11-25T15:09:37.668Z"
   },
   {
    "duration": 93,
    "start_time": "2021-11-26T11:09:42.369Z"
   },
   {
    "duration": 842,
    "start_time": "2021-11-26T11:09:58.461Z"
   },
   {
    "duration": 131,
    "start_time": "2021-11-26T11:10:00.380Z"
   },
   {
    "duration": 16,
    "start_time": "2021-11-26T11:10:01.160Z"
   },
   {
    "duration": 12,
    "start_time": "2021-11-26T11:10:01.452Z"
   },
   {
    "duration": 39,
    "start_time": "2021-11-26T11:10:01.970Z"
   },
   {
    "duration": 16,
    "start_time": "2021-11-26T11:10:02.468Z"
   },
   {
    "duration": 16,
    "start_time": "2021-11-26T11:10:03.013Z"
   },
   {
    "duration": 15,
    "start_time": "2021-11-26T11:10:03.510Z"
   },
   {
    "duration": 22,
    "start_time": "2021-11-26T11:10:03.926Z"
   },
   {
    "duration": 15,
    "start_time": "2021-11-26T11:10:04.446Z"
   },
   {
    "duration": 10,
    "start_time": "2021-11-26T11:10:05.302Z"
   },
   {
    "duration": 18,
    "start_time": "2021-11-26T11:10:05.574Z"
   },
   {
    "duration": 8,
    "start_time": "2021-11-26T11:10:05.822Z"
   },
   {
    "duration": 935,
    "start_time": "2021-11-26T11:10:06.358Z"
   },
   {
    "duration": 608,
    "start_time": "2021-11-26T11:10:07.756Z"
   },
   {
    "duration": 623,
    "start_time": "2021-11-26T11:10:08.367Z"
   },
   {
    "duration": 441,
    "start_time": "2021-11-26T11:10:08.993Z"
   },
   {
    "duration": 620,
    "start_time": "2021-11-26T11:10:09.437Z"
   },
   {
    "duration": 353,
    "start_time": "2021-11-26T11:10:10.060Z"
   },
   {
    "duration": 12,
    "start_time": "2021-11-26T11:10:11.184Z"
   },
   {
    "duration": 11,
    "start_time": "2021-11-26T11:10:11.677Z"
   },
   {
    "duration": 375,
    "start_time": "2021-11-26T11:10:12.178Z"
   },
   {
    "duration": 18,
    "start_time": "2021-11-26T11:10:13.856Z"
   },
   {
    "duration": 1416,
    "start_time": "2021-11-26T11:10:14.475Z"
   },
   {
    "duration": 246,
    "start_time": "2021-11-26T11:10:15.893Z"
   },
   {
    "duration": 349,
    "start_time": "2021-11-26T11:10:16.142Z"
   },
   {
    "duration": 260,
    "start_time": "2021-11-26T11:10:17.169Z"
   },
   {
    "duration": 383,
    "start_time": "2021-11-26T11:10:20.032Z"
   },
   {
    "duration": 77758,
    "start_time": "2021-11-26T11:10:42.627Z"
   },
   {
    "duration": 784,
    "start_time": "2021-11-26T11:12:57.075Z"
   },
   {
    "duration": 222,
    "start_time": "2021-11-26T11:15:34.416Z"
   },
   {
    "duration": 102,
    "start_time": "2021-11-26T11:16:15.830Z"
   },
   {
    "duration": 235,
    "start_time": "2021-11-26T11:16:31.618Z"
   },
   {
    "duration": 218,
    "start_time": "2021-11-26T11:21:06.296Z"
   },
   {
    "duration": 250,
    "start_time": "2021-11-26T11:31:12.243Z"
   },
   {
    "duration": 975,
    "start_time": "2021-11-26T11:31:24.152Z"
   },
   {
    "duration": 567,
    "start_time": "2021-11-26T11:31:51.066Z"
   },
   {
    "duration": 271,
    "start_time": "2021-11-26T11:35:25.546Z"
   },
   {
    "duration": 293,
    "start_time": "2021-11-26T11:35:38.979Z"
   },
   {
    "duration": 373,
    "start_time": "2021-11-26T11:36:22.234Z"
   },
   {
    "duration": 3573,
    "start_time": "2021-11-26T11:36:32.841Z"
   },
   {
    "duration": 371,
    "start_time": "2021-11-26T11:37:32.309Z"
   },
   {
    "duration": 13,
    "start_time": "2021-11-26T11:43:28.097Z"
   },
   {
    "duration": 381,
    "start_time": "2021-11-26T11:43:47.826Z"
   },
   {
    "duration": 13,
    "start_time": "2021-11-26T11:44:22.111Z"
   },
   {
    "duration": 239,
    "start_time": "2021-11-26T11:44:22.723Z"
   },
   {
    "duration": 9,
    "start_time": "2021-11-26T11:47:20.541Z"
   },
   {
    "duration": 305,
    "start_time": "2021-11-26T11:47:21.021Z"
   },
   {
    "duration": 9,
    "start_time": "2021-11-26T11:47:32.369Z"
   },
   {
    "duration": 368,
    "start_time": "2021-11-26T11:47:33.154Z"
   },
   {
    "duration": 10,
    "start_time": "2021-11-26T11:52:06.691Z"
   },
   {
    "duration": 276,
    "start_time": "2021-11-26T11:52:07.698Z"
   },
   {
    "duration": 618,
    "start_time": "2021-11-26T11:52:23.430Z"
   },
   {
    "duration": 63,
    "start_time": "2021-11-26T11:53:07.209Z"
   },
   {
    "duration": 78,
    "start_time": "2021-11-26T11:54:21.105Z"
   },
   {
    "duration": 379,
    "start_time": "2021-11-26T11:54:26.638Z"
   },
   {
    "duration": 77,
    "start_time": "2021-11-26T11:54:52.447Z"
   },
   {
    "duration": 395,
    "start_time": "2021-11-26T11:54:55.705Z"
   },
   {
    "duration": 8,
    "start_time": "2021-11-26T11:55:42.560Z"
   },
   {
    "duration": 379,
    "start_time": "2021-11-26T11:58:34.800Z"
   },
   {
    "duration": 62,
    "start_time": "2021-11-26T11:59:49.553Z"
   },
   {
    "duration": 16,
    "start_time": "2021-11-26T12:04:12.739Z"
   },
   {
    "duration": 4,
    "start_time": "2021-11-26T12:04:41.897Z"
   },
   {
    "duration": 114,
    "start_time": "2021-11-26T12:04:42.817Z"
   },
   {
    "duration": 15,
    "start_time": "2021-11-26T12:04:48.881Z"
   },
   {
    "duration": 16,
    "start_time": "2021-11-26T12:04:52.905Z"
   },
   {
    "duration": 37,
    "start_time": "2021-11-26T12:04:54.411Z"
   },
   {
    "duration": 21,
    "start_time": "2021-11-26T12:04:55.849Z"
   },
   {
    "duration": 18,
    "start_time": "2021-11-26T12:04:57.100Z"
   },
   {
    "duration": 403,
    "start_time": "2021-11-26T12:04:59.483Z"
   },
   {
    "duration": 66,
    "start_time": "2021-11-26T12:05:07.037Z"
   },
   {
    "duration": 382,
    "start_time": "2021-11-26T12:05:08.947Z"
   },
   {
    "duration": 10,
    "start_time": "2021-11-26T12:05:40.820Z"
   },
   {
    "duration": 488,
    "start_time": "2021-11-26T12:05:45.244Z"
   },
   {
    "duration": 4,
    "start_time": "2021-11-26T12:06:02.083Z"
   },
   {
    "duration": 124,
    "start_time": "2021-11-26T12:06:02.833Z"
   },
   {
    "duration": 15,
    "start_time": "2021-11-26T12:06:04.785Z"
   },
   {
    "duration": 13,
    "start_time": "2021-11-26T12:06:05.406Z"
   },
   {
    "duration": 36,
    "start_time": "2021-11-26T12:06:09.963Z"
   },
   {
    "duration": 16,
    "start_time": "2021-11-26T12:06:21.293Z"
   },
   {
    "duration": 16,
    "start_time": "2021-11-26T12:06:22.617Z"
   },
   {
    "duration": 469,
    "start_time": "2021-11-26T12:06:28.852Z"
   },
   {
    "duration": 67,
    "start_time": "2021-11-26T12:08:28.874Z"
   },
   {
    "duration": 362,
    "start_time": "2021-11-26T12:08:33.207Z"
   },
   {
    "duration": 372,
    "start_time": "2021-11-26T12:08:40.989Z"
   },
   {
    "duration": 364,
    "start_time": "2021-11-26T12:08:50.244Z"
   },
   {
    "duration": 66,
    "start_time": "2021-11-26T12:08:52.102Z"
   },
   {
    "duration": 367,
    "start_time": "2021-11-26T12:09:33.814Z"
   },
   {
    "duration": 15,
    "start_time": "2021-11-26T12:09:35.139Z"
   },
   {
    "duration": 3,
    "start_time": "2021-11-26T12:12:16.060Z"
   },
   {
    "duration": 125,
    "start_time": "2021-11-26T12:12:16.310Z"
   },
   {
    "duration": 16,
    "start_time": "2021-11-26T12:12:16.855Z"
   },
   {
    "duration": 13,
    "start_time": "2021-11-26T12:12:17.107Z"
   },
   {
    "duration": 46,
    "start_time": "2021-11-26T12:12:19.722Z"
   },
   {
    "duration": 16,
    "start_time": "2021-11-26T12:12:20.200Z"
   },
   {
    "duration": 17,
    "start_time": "2021-11-26T12:12:20.782Z"
   },
   {
    "duration": 15,
    "start_time": "2021-11-26T12:12:21.340Z"
   },
   {
    "duration": 19,
    "start_time": "2021-11-26T12:12:21.941Z"
   },
   {
    "duration": 23,
    "start_time": "2021-11-26T12:12:22.444Z"
   },
   {
    "duration": 6,
    "start_time": "2021-11-26T12:12:23.297Z"
   },
   {
    "duration": 27,
    "start_time": "2021-11-26T12:12:23.532Z"
   },
   {
    "duration": 7,
    "start_time": "2021-11-26T12:12:23.799Z"
   },
   {
    "duration": 1022,
    "start_time": "2021-11-26T12:12:24.157Z"
   },
   {
    "duration": 585,
    "start_time": "2021-11-26T12:12:25.318Z"
   },
   {
    "duration": 707,
    "start_time": "2021-11-26T12:12:25.905Z"
   },
   {
    "duration": 670,
    "start_time": "2021-11-26T12:12:26.615Z"
   },
   {
    "duration": 716,
    "start_time": "2021-11-26T12:12:27.289Z"
   },
   {
    "duration": 372,
    "start_time": "2021-11-26T12:12:28.008Z"
   },
   {
    "duration": 11,
    "start_time": "2021-11-26T12:12:28.384Z"
   },
   {
    "duration": 32,
    "start_time": "2021-11-26T12:12:28.398Z"
   },
   {
    "duration": 400,
    "start_time": "2021-11-26T12:12:28.432Z"
   },
   {
    "duration": 17,
    "start_time": "2021-11-26T12:12:28.897Z"
   },
   {
    "duration": 1435,
    "start_time": "2021-11-26T12:12:29.178Z"
   },
   {
    "duration": 252,
    "start_time": "2021-11-26T12:12:30.616Z"
   },
   {
    "duration": 294,
    "start_time": "2021-11-26T12:12:30.871Z"
   },
   {
    "duration": 283,
    "start_time": "2021-11-26T12:12:31.168Z"
   },
   {
    "duration": 238,
    "start_time": "2021-11-26T12:12:31.453Z"
   },
   {
    "duration": 33,
    "start_time": "2021-11-26T12:12:32.081Z"
   },
   {
    "duration": 6,
    "start_time": "2021-11-26T12:12:32.927Z"
   },
   {
    "duration": 24,
    "start_time": "2021-11-26T12:12:33.216Z"
   },
   {
    "duration": 740,
    "start_time": "2021-11-26T12:12:33.677Z"
   },
   {
    "duration": 19,
    "start_time": "2021-11-26T12:12:34.419Z"
   },
   {
    "duration": 3733,
    "start_time": "2021-11-26T12:12:34.633Z"
   },
   {
    "duration": 1803,
    "start_time": "2021-11-26T12:12:38.370Z"
   },
   {
    "duration": 261,
    "start_time": "2021-11-26T12:12:40.175Z"
   },
   {
    "duration": 339,
    "start_time": "2021-11-26T12:12:40.439Z"
   },
   {
    "duration": 368,
    "start_time": "2021-11-26T12:12:40.781Z"
   },
   {
    "duration": 270,
    "start_time": "2021-11-26T12:12:41.151Z"
   },
   {
    "duration": 11,
    "start_time": "2021-11-26T12:13:17.742Z"
   },
   {
    "duration": 15,
    "start_time": "2021-11-26T12:13:20.737Z"
   },
   {
    "duration": 556,
    "start_time": "2021-11-26T12:13:32.796Z"
   },
   {
    "duration": 550,
    "start_time": "2021-11-26T12:14:12.955Z"
   },
   {
    "duration": 466,
    "start_time": "2021-11-26T12:14:44.224Z"
   },
   {
    "duration": 500,
    "start_time": "2021-11-26T12:16:23.206Z"
   },
   {
    "duration": 106,
    "start_time": "2021-11-26T12:27:51.761Z"
   },
   {
    "duration": 1570,
    "start_time": "2021-11-26T12:28:28.090Z"
   },
   {
    "duration": 262,
    "start_time": "2021-11-26T12:30:30.560Z"
   },
   {
    "duration": 15,
    "start_time": "2021-11-26T12:30:59.660Z"
   },
   {
    "duration": 11,
    "start_time": "2021-11-26T12:31:04.994Z"
   },
   {
    "duration": 15,
    "start_time": "2021-11-26T12:31:34.785Z"
   },
   {
    "duration": 11,
    "start_time": "2021-11-26T12:31:35.346Z"
   },
   {
    "duration": 14,
    "start_time": "2021-11-26T12:31:48.355Z"
   },
   {
    "duration": 15,
    "start_time": "2021-11-26T12:31:49.958Z"
   },
   {
    "duration": 8,
    "start_time": "2021-11-26T12:36:43.061Z"
   },
   {
    "duration": 16,
    "start_time": "2021-11-26T12:38:32.701Z"
   },
   {
    "duration": 11,
    "start_time": "2021-11-26T12:38:34.318Z"
   },
   {
    "duration": 13,
    "start_time": "2021-11-26T12:38:45.029Z"
   },
   {
    "duration": 11,
    "start_time": "2021-11-26T12:38:52.864Z"
   },
   {
    "duration": 10,
    "start_time": "2021-11-26T14:57:04.326Z"
   },
   {
    "duration": 20,
    "start_time": "2021-11-26T14:57:05.480Z"
   },
   {
    "duration": 5,
    "start_time": "2021-11-26T16:17:39.477Z"
   },
   {
    "duration": 1568,
    "start_time": "2021-11-26T16:18:14.925Z"
   },
   {
    "duration": 959,
    "start_time": "2021-11-26T16:18:29.470Z"
   },
   {
    "duration": 13,
    "start_time": "2021-11-26T16:18:50.047Z"
   },
   {
    "duration": 5,
    "start_time": "2021-11-26T16:19:16.049Z"
   },
   {
    "duration": 943,
    "start_time": "2021-11-26T16:19:16.687Z"
   },
   {
    "duration": 12,
    "start_time": "2021-11-26T16:19:19.512Z"
   },
   {
    "duration": 53,
    "start_time": "2021-11-26T16:19:43.917Z"
   },
   {
    "duration": 16,
    "start_time": "2021-11-26T16:22:07.238Z"
   },
   {
    "duration": 54,
    "start_time": "2021-11-26T16:22:27.728Z"
   },
   {
    "duration": 81,
    "start_time": "2021-11-26T16:22:34.713Z"
   },
   {
    "duration": 63,
    "start_time": "2021-11-26T16:23:08.340Z"
   },
   {
    "duration": 17,
    "start_time": "2021-11-26T16:23:18.733Z"
   },
   {
    "duration": 12,
    "start_time": "2021-11-26T16:23:32.203Z"
   },
   {
    "duration": 21,
    "start_time": "2021-11-26T16:23:33.066Z"
   },
   {
    "duration": 4,
    "start_time": "2021-11-26T16:23:34.344Z"
   },
   {
    "duration": 16,
    "start_time": "2021-11-26T16:23:41.898Z"
   },
   {
    "duration": 6,
    "start_time": "2021-11-26T16:23:42.236Z"
   },
   {
    "duration": 1077,
    "start_time": "2021-11-26T16:23:42.712Z"
   },
   {
    "duration": 673,
    "start_time": "2021-11-26T16:23:45.156Z"
   },
   {
    "duration": 569,
    "start_time": "2021-11-26T16:23:46.345Z"
   },
   {
    "duration": 447,
    "start_time": "2021-11-26T16:23:46.917Z"
   },
   {
    "duration": 544,
    "start_time": "2021-11-26T16:23:47.767Z"
   },
   {
    "duration": 381,
    "start_time": "2021-11-26T16:23:48.688Z"
   },
   {
    "duration": 384,
    "start_time": "2021-11-26T16:23:59.936Z"
   },
   {
    "duration": 13,
    "start_time": "2021-11-26T16:24:04.511Z"
   },
   {
    "duration": 11,
    "start_time": "2021-11-26T16:24:04.936Z"
   },
   {
    "duration": 469,
    "start_time": "2021-11-26T16:24:05.252Z"
   },
   {
    "duration": 17,
    "start_time": "2021-11-26T16:24:07.680Z"
   },
   {
    "duration": 1678,
    "start_time": "2021-11-26T16:24:08.339Z"
   },
   {
    "duration": 268,
    "start_time": "2021-11-26T16:24:10.020Z"
   },
   {
    "duration": 429,
    "start_time": "2021-11-26T16:24:10.291Z"
   },
   {
    "duration": 379,
    "start_time": "2021-11-26T16:24:10.723Z"
   },
   {
    "duration": 236,
    "start_time": "2021-11-26T16:24:11.105Z"
   },
   {
    "duration": 32,
    "start_time": "2021-11-26T16:24:14.451Z"
   },
   {
    "duration": 5,
    "start_time": "2021-11-26T16:24:15.842Z"
   },
   {
    "duration": 22,
    "start_time": "2021-11-26T16:24:16.531Z"
   },
   {
    "duration": 735,
    "start_time": "2021-11-26T16:24:16.973Z"
   },
   {
    "duration": 12,
    "start_time": "2021-11-26T16:24:19.309Z"
   },
   {
    "duration": 2405,
    "start_time": "2021-11-26T16:24:20.820Z"
   },
   {
    "duration": 4,
    "start_time": "2021-11-26T16:24:51.707Z"
   },
   {
    "duration": 129,
    "start_time": "2021-11-26T16:24:52.526Z"
   },
   {
    "duration": 17,
    "start_time": "2021-11-26T16:24:53.995Z"
   },
   {
    "duration": 18,
    "start_time": "2021-11-26T16:24:54.326Z"
   },
   {
    "duration": 53,
    "start_time": "2021-11-26T16:24:55.265Z"
   },
   {
    "duration": 20,
    "start_time": "2021-11-26T16:24:56.332Z"
   },
   {
    "duration": 19,
    "start_time": "2021-11-26T16:24:57.583Z"
   },
   {
    "duration": 6,
    "start_time": "2021-11-26T16:24:58.520Z"
   },
   {
    "duration": 848,
    "start_time": "2021-11-26T16:25:04.608Z"
   },
   {
    "duration": 12,
    "start_time": "2021-11-26T16:25:05.522Z"
   },
   {
    "duration": 59,
    "start_time": "2021-11-26T16:25:07.777Z"
   },
   {
    "duration": 46,
    "start_time": "2021-11-26T16:25:08.610Z"
   },
   {
    "duration": 56,
    "start_time": "2021-11-26T16:25:28.692Z"
   },
   {
    "duration": 67,
    "start_time": "2021-11-26T16:25:29.423Z"
   },
   {
    "duration": 15,
    "start_time": "2021-11-26T16:25:38.397Z"
   },
   {
    "duration": 16,
    "start_time": "2021-11-26T16:25:42.603Z"
   },
   {
    "duration": 15,
    "start_time": "2021-11-26T16:25:42.937Z"
   },
   {
    "duration": 39,
    "start_time": "2021-11-26T16:25:43.589Z"
   },
   {
    "duration": 17,
    "start_time": "2021-11-26T16:25:44.442Z"
   },
   {
    "duration": 12,
    "start_time": "2021-11-26T16:25:45.198Z"
   },
   {
    "duration": 6,
    "start_time": "2021-11-26T16:25:45.657Z"
   },
   {
    "duration": 859,
    "start_time": "2021-11-26T16:25:46.426Z"
   },
   {
    "duration": 12,
    "start_time": "2021-11-26T16:25:47.504Z"
   },
   {
    "duration": 52,
    "start_time": "2021-11-26T16:25:48.444Z"
   },
   {
    "duration": 45,
    "start_time": "2021-11-26T16:25:49.534Z"
   },
   {
    "duration": 16,
    "start_time": "2021-11-26T16:25:51.778Z"
   },
   {
    "duration": 18,
    "start_time": "2021-11-26T16:25:52.235Z"
   },
   {
    "duration": 17,
    "start_time": "2021-11-26T16:25:52.929Z"
   },
   {
    "duration": 6,
    "start_time": "2021-11-26T16:25:54.225Z"
   },
   {
    "duration": 17,
    "start_time": "2021-11-26T16:25:54.621Z"
   },
   {
    "duration": 7,
    "start_time": "2021-11-26T16:25:55.081Z"
   },
   {
    "duration": 1267,
    "start_time": "2021-11-26T16:25:55.522Z"
   },
   {
    "duration": 582,
    "start_time": "2021-11-26T16:26:02.078Z"
   },
   {
    "duration": 565,
    "start_time": "2021-11-26T16:26:05.139Z"
   },
   {
    "duration": 445,
    "start_time": "2021-11-26T16:26:05.706Z"
   },
   {
    "duration": 554,
    "start_time": "2021-11-26T16:26:06.208Z"
   },
   {
    "duration": 390,
    "start_time": "2021-11-26T16:26:06.765Z"
   },
   {
    "duration": 12,
    "start_time": "2021-11-26T16:26:09.357Z"
   },
   {
    "duration": 11,
    "start_time": "2021-11-26T16:26:10.175Z"
   },
   {
    "duration": 366,
    "start_time": "2021-11-26T16:26:10.762Z"
   },
   {
    "duration": 17,
    "start_time": "2021-11-26T16:26:23.792Z"
   },
   {
    "duration": 1437,
    "start_time": "2021-11-26T16:26:31.215Z"
   },
   {
    "duration": 240,
    "start_time": "2021-11-26T16:26:38.489Z"
   },
   {
    "duration": 271,
    "start_time": "2021-11-26T16:26:39.495Z"
   },
   {
    "duration": 248,
    "start_time": "2021-11-26T16:26:40.059Z"
   },
   {
    "duration": 223,
    "start_time": "2021-11-26T16:26:42.380Z"
   },
   {
    "duration": 33,
    "start_time": "2021-11-26T16:26:47.998Z"
   },
   {
    "duration": 6,
    "start_time": "2021-11-26T16:26:50.606Z"
   },
   {
    "duration": 24,
    "start_time": "2021-11-26T16:26:52.292Z"
   },
   {
    "duration": 733,
    "start_time": "2021-11-26T16:26:53.465Z"
   },
   {
    "duration": 13,
    "start_time": "2021-11-26T16:26:56.853Z"
   },
   {
    "duration": 2677,
    "start_time": "2021-11-26T16:27:04.278Z"
   },
   {
    "duration": 1482,
    "start_time": "2021-11-26T16:27:57.892Z"
   },
   {
    "duration": 42,
    "start_time": "2021-11-26T16:45:28.296Z"
   },
   {
    "duration": 971,
    "start_time": "2021-11-26T16:58:49.292Z"
   },
   {
    "duration": 949,
    "start_time": "2021-11-26T16:59:04.884Z"
   },
   {
    "duration": 633,
    "start_time": "2021-11-26T17:01:47.763Z"
   },
   {
    "duration": 797,
    "start_time": "2021-11-26T17:02:18.414Z"
   },
   {
    "duration": 614,
    "start_time": "2021-11-26T17:03:09.942Z"
   },
   {
    "duration": 422,
    "start_time": "2021-11-26T17:03:37.249Z"
   },
   {
    "duration": 811,
    "start_time": "2021-11-26T17:04:05.888Z"
   },
   {
    "duration": 372,
    "start_time": "2021-11-26T17:04:55.685Z"
   },
   {
    "duration": 393,
    "start_time": "2021-11-26T17:05:43.452Z"
   },
   {
    "duration": 1453,
    "start_time": "2021-11-26T17:06:56.810Z"
   },
   {
    "duration": 245,
    "start_time": "2021-11-26T17:23:28.895Z"
   },
   {
    "duration": 383,
    "start_time": "2021-11-26T17:23:40.618Z"
   },
   {
    "duration": 379,
    "start_time": "2021-11-26T17:23:54.930Z"
   },
   {
    "duration": 1100,
    "start_time": "2021-11-26T17:25:26.975Z"
   },
   {
    "duration": 10,
    "start_time": "2021-11-26T17:34:00.456Z"
   },
   {
    "duration": 5,
    "start_time": "2021-11-26T17:34:01.624Z"
   },
   {
    "duration": 959,
    "start_time": "2021-11-26T17:34:03.011Z"
   },
   {
    "duration": 11,
    "start_time": "2021-11-26T17:34:05.194Z"
   },
   {
    "duration": 51,
    "start_time": "2021-11-26T17:34:05.717Z"
   },
   {
    "duration": 40,
    "start_time": "2021-11-26T17:34:06.292Z"
   },
   {
    "duration": 19,
    "start_time": "2021-11-26T17:34:07.639Z"
   },
   {
    "duration": 13,
    "start_time": "2021-11-26T17:34:08.078Z"
   },
   {
    "duration": 20,
    "start_time": "2021-11-26T17:34:08.916Z"
   },
   {
    "duration": 5,
    "start_time": "2021-11-26T17:34:10.056Z"
   },
   {
    "duration": 16,
    "start_time": "2021-11-26T17:34:10.397Z"
   },
   {
    "duration": 6,
    "start_time": "2021-11-26T17:34:10.736Z"
   },
   {
    "duration": 1151,
    "start_time": "2021-11-26T17:34:11.074Z"
   },
   {
    "duration": 577,
    "start_time": "2021-11-26T17:34:13.021Z"
   },
   {
    "duration": 584,
    "start_time": "2021-11-26T17:34:14.432Z"
   },
   {
    "duration": 453,
    "start_time": "2021-11-26T17:34:15.019Z"
   },
   {
    "duration": 580,
    "start_time": "2021-11-26T17:34:15.613Z"
   },
   {
    "duration": 363,
    "start_time": "2021-11-26T17:34:21.048Z"
   },
   {
    "duration": 11,
    "start_time": "2021-11-26T17:34:24.636Z"
   },
   {
    "duration": 11,
    "start_time": "2021-11-26T17:34:27.073Z"
   },
   {
    "duration": 390,
    "start_time": "2021-11-26T17:34:34.225Z"
   },
   {
    "duration": 17,
    "start_time": "2021-11-26T17:34:44.231Z"
   },
   {
    "duration": 1419,
    "start_time": "2021-11-26T17:34:45.051Z"
   },
   {
    "duration": 236,
    "start_time": "2021-11-26T17:34:47.876Z"
   },
   {
    "duration": 284,
    "start_time": "2021-11-26T17:34:49.311Z"
   },
   {
    "duration": 267,
    "start_time": "2021-11-26T17:34:54.230Z"
   },
   {
    "duration": 216,
    "start_time": "2021-11-26T17:34:55.262Z"
   },
   {
    "duration": 33,
    "start_time": "2021-11-26T17:34:59.529Z"
   },
   {
    "duration": 5,
    "start_time": "2021-11-26T17:35:01.108Z"
   },
   {
    "duration": 22,
    "start_time": "2021-11-26T17:35:01.595Z"
   },
   {
    "duration": 754,
    "start_time": "2021-11-26T17:35:02.314Z"
   },
   {
    "duration": 12,
    "start_time": "2021-11-26T17:35:04.572Z"
   },
   {
    "duration": 2628,
    "start_time": "2021-11-26T17:35:05.748Z"
   },
   {
    "duration": 1491,
    "start_time": "2021-11-26T17:35:13.227Z"
   },
   {
    "duration": 239,
    "start_time": "2021-11-26T17:35:17.587Z"
   },
   {
    "duration": 324,
    "start_time": "2021-11-26T17:35:19.016Z"
   },
   {
    "duration": 349,
    "start_time": "2021-11-26T17:35:20.253Z"
   },
   {
    "duration": 265,
    "start_time": "2021-11-26T17:35:20.845Z"
   },
   {
    "duration": 15,
    "start_time": "2021-11-26T17:36:48.174Z"
   },
   {
    "duration": 3,
    "start_time": "2021-11-26T17:45:32.709Z"
   },
   {
    "duration": 117,
    "start_time": "2021-11-26T17:45:33.556Z"
   },
   {
    "duration": 15,
    "start_time": "2021-11-26T17:45:35.276Z"
   },
   {
    "duration": 94,
    "start_time": "2021-11-26T18:03:25.585Z"
   },
   {
    "duration": 293,
    "start_time": "2021-11-26T18:08:41.949Z"
   },
   {
    "duration": 287,
    "start_time": "2021-11-26T18:09:49.365Z"
   },
   {
    "duration": 17,
    "start_time": "2021-11-26T18:10:08.226Z"
   },
   {
    "duration": 18,
    "start_time": "2021-11-26T18:10:56.402Z"
   },
   {
    "duration": 263,
    "start_time": "2021-11-26T18:10:58.664Z"
   },
   {
    "duration": 276,
    "start_time": "2021-11-26T18:11:35.631Z"
   },
   {
    "duration": 211,
    "start_time": "2021-11-26T18:15:51.603Z"
   },
   {
    "duration": 19,
    "start_time": "2021-11-26T18:16:02.725Z"
   },
   {
    "duration": 204,
    "start_time": "2021-11-26T18:16:15.064Z"
   },
   {
    "duration": 241,
    "start_time": "2021-11-26T18:18:03.009Z"
   },
   {
    "duration": 207,
    "start_time": "2021-11-26T18:19:32.067Z"
   },
   {
    "duration": 304,
    "start_time": "2021-11-26T18:23:42.130Z"
   },
   {
    "duration": 19,
    "start_time": "2021-11-26T18:23:42.436Z"
   },
   {
    "duration": 265,
    "start_time": "2021-11-26T18:23:42.689Z"
   },
   {
    "duration": 231,
    "start_time": "2021-11-26T18:23:42.961Z"
   },
   {
    "duration": 19,
    "start_time": "2021-11-26T18:23:43.276Z"
   },
   {
    "duration": 207,
    "start_time": "2021-11-26T18:23:43.609Z"
   },
   {
    "duration": 17,
    "start_time": "2021-11-26T18:23:45.652Z"
   },
   {
    "duration": 289,
    "start_time": "2021-11-26T18:23:45.927Z"
   },
   {
    "duration": 17,
    "start_time": "2021-11-26T18:23:46.534Z"
   },
   {
    "duration": 6,
    "start_time": "2021-11-26T18:23:47.517Z"
   },
   {
    "duration": 309,
    "start_time": "2021-11-26T18:23:47.786Z"
   },
   {
    "duration": 171,
    "start_time": "2021-11-26T18:23:47.927Z"
   },
   {
    "duration": 801,
    "start_time": "2021-11-26T18:23:48.310Z"
   },
   {
    "duration": 4,
    "start_time": "2021-11-26T18:24:28.673Z"
   },
   {
    "duration": 118,
    "start_time": "2021-11-26T18:24:29.305Z"
   },
   {
    "duration": 16,
    "start_time": "2021-11-26T18:24:30.381Z"
   },
   {
    "duration": 13,
    "start_time": "2021-11-26T18:24:30.884Z"
   },
   {
    "duration": 37,
    "start_time": "2021-11-26T18:24:31.738Z"
   },
   {
    "duration": 17,
    "start_time": "2021-11-26T18:24:32.638Z"
   },
   {
    "duration": 14,
    "start_time": "2021-11-26T18:24:33.489Z"
   },
   {
    "duration": 5,
    "start_time": "2021-11-26T18:24:33.903Z"
   },
   {
    "duration": 838,
    "start_time": "2021-11-26T18:24:34.323Z"
   },
   {
    "duration": 11,
    "start_time": "2021-11-26T18:24:35.798Z"
   },
   {
    "duration": 51,
    "start_time": "2021-11-26T18:24:35.985Z"
   },
   {
    "duration": 39,
    "start_time": "2021-11-26T18:24:37.722Z"
   },
   {
    "duration": 293,
    "start_time": "2021-11-26T18:24:40.085Z"
   },
   {
    "duration": 18,
    "start_time": "2021-11-26T18:24:40.939Z"
   },
   {
    "duration": 256,
    "start_time": "2021-11-26T18:24:41.314Z"
   },
   {
    "duration": 481,
    "start_time": "2021-11-26T18:24:41.794Z"
   },
   {
    "duration": 17,
    "start_time": "2021-11-26T18:24:42.440Z"
   },
   {
    "duration": 204,
    "start_time": "2021-11-26T18:24:43.127Z"
   },
   {
    "duration": 16,
    "start_time": "2021-11-26T18:24:46.902Z"
   },
   {
    "duration": 17,
    "start_time": "2021-11-26T18:24:47.731Z"
   },
   {
    "duration": 16,
    "start_time": "2021-11-26T18:24:48.913Z"
   },
   {
    "duration": 6,
    "start_time": "2021-11-26T18:24:50.494Z"
   },
   {
    "duration": 17,
    "start_time": "2021-11-26T18:24:51.305Z"
   },
   {
    "duration": 7,
    "start_time": "2021-11-26T18:24:52.607Z"
   },
   {
    "duration": 888,
    "start_time": "2021-11-26T18:24:53.711Z"
   },
   {
    "duration": 570,
    "start_time": "2021-11-26T18:24:57.311Z"
   },
   {
    "duration": 586,
    "start_time": "2021-11-26T18:24:59.374Z"
   },
   {
    "duration": 542,
    "start_time": "2021-11-26T18:25:00.178Z"
   },
   {
    "duration": 568,
    "start_time": "2021-11-26T18:25:02.550Z"
   },
   {
    "duration": 390,
    "start_time": "2021-11-26T18:25:04.228Z"
   },
   {
    "duration": 12,
    "start_time": "2021-11-26T18:25:06.141Z"
   },
   {
    "duration": 11,
    "start_time": "2021-11-26T18:25:06.870Z"
   },
   {
    "duration": 395,
    "start_time": "2021-11-26T18:25:07.428Z"
   },
   {
    "duration": 17,
    "start_time": "2021-11-26T18:25:10.029Z"
   },
   {
    "duration": 1471,
    "start_time": "2021-11-26T18:25:11.626Z"
   },
   {
    "duration": 285,
    "start_time": "2021-11-26T18:25:13.100Z"
   },
   {
    "duration": 297,
    "start_time": "2021-11-26T18:25:13.388Z"
   },
   {
    "duration": 255,
    "start_time": "2021-11-26T18:25:13.949Z"
   },
   {
    "duration": 213,
    "start_time": "2021-11-26T18:25:15.073Z"
   },
   {
    "duration": 35,
    "start_time": "2021-11-26T18:25:21.060Z"
   },
   {
    "duration": 6,
    "start_time": "2021-11-26T18:25:27.127Z"
   },
   {
    "duration": 24,
    "start_time": "2021-11-26T18:25:27.583Z"
   },
   {
    "duration": 1001,
    "start_time": "2021-11-26T18:25:28.174Z"
   },
   {
    "duration": 13,
    "start_time": "2021-11-26T18:25:31.780Z"
   },
   {
    "duration": 2412,
    "start_time": "2021-11-26T18:25:33.090Z"
   },
   {
    "duration": 1640,
    "start_time": "2021-11-26T18:25:35.504Z"
   },
   {
    "duration": 20,
    "start_time": "2021-11-26T18:25:38.543Z"
   },
   {
    "duration": 276,
    "start_time": "2021-11-26T18:25:43.486Z"
   },
   {
    "duration": 341,
    "start_time": "2021-11-26T18:25:44.830Z"
   },
   {
    "duration": 349,
    "start_time": "2021-11-26T18:25:45.432Z"
   },
   {
    "duration": 290,
    "start_time": "2021-11-26T18:25:46.057Z"
   },
   {
    "duration": 914,
    "start_time": "2021-11-27T11:33:09.695Z"
   },
   {
    "duration": 142,
    "start_time": "2021-11-27T11:33:10.612Z"
   },
   {
    "duration": 23,
    "start_time": "2021-11-27T11:33:10.757Z"
   },
   {
    "duration": 13,
    "start_time": "2021-11-27T11:33:10.782Z"
   },
   {
    "duration": 71,
    "start_time": "2021-11-27T11:33:10.798Z"
   },
   {
    "duration": 16,
    "start_time": "2021-11-27T11:33:10.872Z"
   },
   {
    "duration": 14,
    "start_time": "2021-11-27T11:33:10.890Z"
   },
   {
    "duration": 5,
    "start_time": "2021-11-27T11:33:10.909Z"
   },
   {
    "duration": 973,
    "start_time": "2021-11-27T11:33:10.918Z"
   },
   {
    "duration": 11,
    "start_time": "2021-11-27T11:33:11.894Z"
   },
   {
    "duration": 172,
    "start_time": "2021-11-27T11:33:11.908Z"
   },
   {
    "duration": 89,
    "start_time": "2021-11-27T11:33:12.082Z"
   },
   {
    "duration": 1163,
    "start_time": "2021-11-27T11:33:12.173Z"
   },
   {
    "duration": 314,
    "start_time": "2021-11-27T11:33:13.339Z"
   },
   {
    "duration": 30,
    "start_time": "2021-11-27T11:33:13.656Z"
   },
   {
    "duration": 290,
    "start_time": "2021-11-27T11:33:13.688Z"
   },
   {
    "duration": 280,
    "start_time": "2021-11-27T11:33:13.980Z"
   },
   {
    "duration": 17,
    "start_time": "2021-11-27T11:33:14.263Z"
   },
   {
    "duration": 238,
    "start_time": "2021-11-27T11:33:14.282Z"
   },
   {
    "duration": 16,
    "start_time": "2021-11-27T11:33:14.522Z"
   },
   {
    "duration": 30,
    "start_time": "2021-11-27T11:33:14.540Z"
   },
   {
    "duration": 16,
    "start_time": "2021-11-27T11:33:14.572Z"
   },
   {
    "duration": 11,
    "start_time": "2021-11-27T11:33:14.593Z"
   },
   {
    "duration": 23,
    "start_time": "2021-11-27T11:33:14.607Z"
   },
   {
    "duration": 38,
    "start_time": "2021-11-27T11:33:14.633Z"
   },
   {
    "duration": 959,
    "start_time": "2021-11-27T11:33:14.673Z"
   },
   {
    "duration": 604,
    "start_time": "2021-11-27T11:33:15.635Z"
   },
   {
    "duration": 619,
    "start_time": "2021-11-27T11:33:16.242Z"
   },
   {
    "duration": 464,
    "start_time": "2021-11-27T11:33:16.867Z"
   },
   {
    "duration": 664,
    "start_time": "2021-11-27T11:33:17.333Z"
   },
   {
    "duration": 412,
    "start_time": "2021-11-27T11:33:18.000Z"
   },
   {
    "duration": 14,
    "start_time": "2021-11-27T11:33:18.415Z"
   },
   {
    "duration": 36,
    "start_time": "2021-11-27T11:33:18.431Z"
   },
   {
    "duration": 410,
    "start_time": "2021-11-27T11:33:18.470Z"
   },
   {
    "duration": 16,
    "start_time": "2021-11-27T11:33:18.883Z"
   },
   {
    "duration": 1570,
    "start_time": "2021-11-27T11:33:18.902Z"
   },
   {
    "duration": 292,
    "start_time": "2021-11-27T11:33:20.474Z"
   },
   {
    "duration": 308,
    "start_time": "2021-11-27T11:33:20.769Z"
   },
   {
    "duration": 287,
    "start_time": "2021-11-27T11:33:21.080Z"
   },
   {
    "duration": 233,
    "start_time": "2021-11-27T11:33:21.370Z"
   },
   {
    "duration": 34,
    "start_time": "2021-11-27T11:33:21.607Z"
   },
   {
    "duration": 27,
    "start_time": "2021-11-27T11:33:21.644Z"
   },
   {
    "duration": 33,
    "start_time": "2021-11-27T11:33:21.673Z"
   },
   {
    "duration": 797,
    "start_time": "2021-11-27T11:33:21.708Z"
   },
   {
    "duration": 13,
    "start_time": "2021-11-27T11:33:22.507Z"
   },
   {
    "duration": 2634,
    "start_time": "2021-11-27T11:33:22.523Z"
   },
   {
    "duration": 1578,
    "start_time": "2021-11-27T11:33:25.167Z"
   },
   {
    "duration": 27,
    "start_time": "2021-11-27T11:33:26.747Z"
   },
   {
    "duration": 294,
    "start_time": "2021-11-27T11:33:26.776Z"
   },
   {
    "duration": 344,
    "start_time": "2021-11-27T11:33:27.072Z"
   },
   {
    "duration": 452,
    "start_time": "2021-11-27T11:33:27.418Z"
   },
   {
    "duration": 324,
    "start_time": "2021-11-27T11:33:27.872Z"
   },
   {
    "duration": 859,
    "start_time": "2021-11-27T11:33:34.974Z"
   },
   {
    "duration": 957,
    "start_time": "2021-11-27T11:33:50.439Z"
   },
   {
    "duration": 993,
    "start_time": "2021-11-27T11:36:02.797Z"
   }
  ],
  "kernelspec": {
   "display_name": "Python 3 (ipykernel)",
   "language": "python",
   "name": "python3"
  },
  "language_info": {
   "codemirror_mode": {
    "name": "ipython",
    "version": 3
   },
   "file_extension": ".py",
   "mimetype": "text/x-python",
   "name": "python",
   "nbconvert_exporter": "python",
   "pygments_lexer": "ipython3",
   "version": "3.9.5"
  },
  "toc": {
   "base_numbering": 1,
   "nav_menu": {},
   "number_sections": true,
   "sideBar": true,
   "skip_h1_title": true,
   "title_cell": "Содержание",
   "title_sidebar": "Contents",
   "toc_cell": true,
   "toc_position": {
    "height": "calc(100% - 180px)",
    "left": "10px",
    "top": "150px",
    "width": "347.391px"
   },
   "toc_section_display": true,
   "toc_window_display": true
  }
 },
 "nbformat": 4,
 "nbformat_minor": 2
}
